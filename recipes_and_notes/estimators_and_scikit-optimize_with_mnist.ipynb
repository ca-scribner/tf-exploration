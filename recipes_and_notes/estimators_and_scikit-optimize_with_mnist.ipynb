{
 "cells": [
  {
   "cell_type": "markdown",
   "metadata": {},
   "source": [
    "# Summary\n",
    "\n",
    "Demonstrates using tensorflow_datasets to access mnist data and build a premade TF DNN Estimator to do image classification\n",
    "\n",
    "Most of this works, but I didn't quite figure out all the details regarding how to invoke a saved and served Estimator. Based on guidance [here](https://medium.com/tensorflow/standardizing-on-keras-guidance-on-high-level-apis-in-tensorflow-2-0-bad2b04c819a), I stopped banging at this and pivoted to figuring out how to use a tf.keras version of the same idea, as it seemed a little more approachable for what I wanted.  Notes below discuss where I left off if I come back to this..."
   ]
  },
  {
   "cell_type": "code",
   "execution_count": 77,
   "metadata": {},
   "outputs": [],
   "source": [
    "import tensorflow as tf\n",
    "import tensorflow_datasets as tfds\n",
    "import tempfile\n",
    "\n",
    "import matplotlib.pyplot as plt\n",
    "\n",
    "# Avoid double error messages from the tf logger\n",
    "tf.get_logger().propagate=False\n",
    "\n",
    "from skopt import Optimizer\n",
    "from skopt.space import Real, Integer\n",
    "from skopt.utils import use_named_args\n",
    "from skopt import gp_minimize\n",
    "from skopt.plots import plot_convergence, plot_evaluations, plot_objective, plot_regret"
   ]
  },
  {
   "cell_type": "markdown",
   "metadata": {},
   "source": [
    "## Load Data\n",
    "\n",
    "tf.Estimator wants an input_fn that provides:\n",
    "````\n",
    "(dict_of_feature_tensors, label_tensor)\n",
    "````\n",
    "where the dict_of_feature_tensors is of format:\n",
    "````\n",
    "feature_dict = {\n",
    "    feature0_name: feature0_tensor,\n",
    "    feature1_name: feature1_tensor, \n",
    "    ...\n",
    "}\n",
    "````\n",
    "Each entry in the feature_dict can be a single feature's tensor, or could be (I think?) a group of similar tensors (eg: tensors that are of the same type, such as all numerical tensors).  We see this sort of grouping when using tfds.load(\"iris\"), where, the four numerical features can all be in a single \"features\" entry (with four columns).\n",
    "\n",
    "When feeding data to a tf.Estimator through the input_fn, the fn must either provide a batch of data in the tuple format above, or must be a dataset that contains data in that format.\n",
    "\n",
    "tfds.load() returns data in a dataset formatted slightly different from above.  If `as_supervised==True` then it has data of format:\n",
    "````\n",
    "(features_tensor, label_tensor)\n",
    "````\n",
    "Where all features (in the case of mnist, the 28x28 image) are in a single tensor rather than a dict of tensors.  If `as_supervised==False` then data is of format:\n",
    "````\n",
    "dict_of_tensors\n",
    "````\n",
    "where the dict of tensors is similar to features_dict with features optionally under their own key, but includes en entry for the labels as well `{label\":label_tensor}`\n",
    "\n",
    "In both cases, we need to remap the dataset to provide the desired input format for an Estimator."
   ]
  },
  {
   "cell_type": "code",
   "execution_count": 2,
   "metadata": {},
   "outputs": [],
   "source": [
    "FEATURES_NAME = \"image\"\n",
    "LABELS_NAME = \"label\"\n",
    "CLASS_NAMES = ['zero', 'one', 'two', 'three', 'four', 'five', 'six', 'seven', 'eight', 'nine']"
   ]
  },
  {
   "cell_type": "code",
   "execution_count": 17,
   "metadata": {},
   "outputs": [],
   "source": [
    "def input_fn(split=\"train\", as_supervised=True, batch_size=32, shuffle_buffer_size=256):\n",
    "    ds = tfds.load(\"mnist\", split=split, as_supervised=as_supervised)\n",
    "    \n",
    "    if as_supervised:\n",
    "        def parse_record(features, labels):\n",
    "            return ({FEATURES_NAME: features}, labels)\n",
    "    else:\n",
    "        def parse_record(record):\n",
    "                return ({FEATURES_NAME: record[FEATURES_NAME]}, record[LABELS_NAME])\n",
    "    \n",
    "    ds = ds.map(parse_record)\n",
    "    ds = ds.shuffle(shuffle_buffer_size)\n",
    "    # Could add additional ops, or do them on our own\n",
    "#     ds = ds.repeat(n_repeats_of_data)\n",
    "    ds = ds.batch(batch_size)  # Batch after shuffling so your batches are non-homogenius.\n",
    "    return ds"
   ]
  },
  {
   "cell_type": "markdown",
   "metadata": {},
   "source": [
    "To inspect data in the dataset, you can iterate through it.  \n",
    "Each \"row\" will be a tuple of the format mentioned above for Estimators\n",
    "Use batch_size=1 here to count the total number of images  \n",
    "**Is there a better way?**"
   ]
  },
  {
   "cell_type": "code",
   "execution_count": 39,
   "metadata": {},
   "outputs": [
    {
     "name": "stdout",
     "output_type": "stream",
     "text": [
      "Total number of images: 60000\n",
      "labels for last image batch (which is just a single image as batchsize=1)\n",
      "tf.Tensor([0], shape=(1,), dtype=int64)\n"
     ]
    }
   ],
   "source": [
    "ds = input_fn(split=\"train\", batch_size=1)\n",
    "\n",
    "for i, x in enumerate(ds):\n",
    "    # printing each row is a lot of 28x28 integer arrays.  \n",
    "    # Lets just pretend and then look at the last one...\n",
    "    pass\n",
    "print(f\"Total number of images: {i+1}\")\n",
    "# print(\"features_dict for last image batch (which is just a single image as batchsize=1)\")\n",
    "# print(x[0])  # prints features dict, but it is long and bad for a notebook\n",
    "print(\"labels for last image batch (which is just a single image as batchsize=1)\")\n",
    "print(x[1])"
   ]
  },
  {
   "cell_type": "markdown",
   "metadata": {},
   "source": [
    "We can also .take() from the dataset, but that returns a batch as a dataset(?) so we still need to loop through it or convert it to something we can use"
   ]
  },
  {
   "cell_type": "code",
   "execution_count": 34,
   "metadata": {},
   "outputs": [
    {
     "name": "stdout",
     "output_type": "stream",
     "text": [
      "Labels from a batch:\n",
      "[0 4 5 9 4]\n"
     ]
    }
   ],
   "source": [
    "ds = input_fn(batch_size=5)\n",
    "batch = ds.take(1)\n",
    "batch_as_tuple = list(batch.as_numpy_iterator())[0]\n",
    "features_as_np = batch_as_tuple[0]\n",
    "labels_as_np = batch_as_tuple[1]\n",
    "print(\"Labels from a batch:\")\n",
    "print(labels_as_np)"
   ]
  },
  {
   "cell_type": "markdown",
   "metadata": {},
   "source": [
    "## Building the Estimator"
   ]
  },
  {
   "cell_type": "markdown",
   "metadata": {},
   "source": [
    "Define all features as feature_columns of their particular type, with names matching the names/shapes used in the feature_dict from the input_fn"
   ]
  },
  {
   "cell_type": "code",
   "execution_count": 4,
   "metadata": {},
   "outputs": [],
   "source": [
    "# Define input feature\n",
    "feature_columns = []\n",
    "feature_columns.append(tf.feature_column.numeric_column(\"image\", shape=(28, 28)))"
   ]
  },
  {
   "cell_type": "markdown",
   "metadata": {},
   "source": [
    "Checkpoints and persistent state of the model are stored in a temporary directory (should really use this in with block or at least clean up the dir later)"
   ]
  },
  {
   "cell_type": "code",
   "execution_count": 13,
   "metadata": {},
   "outputs": [
    {
     "name": "stdout",
     "output_type": "stream",
     "text": [
      "Most recent tmpdir: ./tmp4wk8inr5\n",
      "INFO:tensorflow:Using default config.\n"
     ]
    },
    {
     "name": "stderr",
     "output_type": "stream",
     "text": [
      "INFO:tensorflow:Using default config.\n"
     ]
    },
    {
     "name": "stdout",
     "output_type": "stream",
     "text": [
      "INFO:tensorflow:Using config: {'_model_dir': './tmp4wk8inr5', '_tf_random_seed': None, '_save_summary_steps': 100, '_save_checkpoints_steps': None, '_save_checkpoints_secs': 600, '_session_config': allow_soft_placement: true\n",
      "graph_options {\n",
      "  rewrite_options {\n",
      "    meta_optimizer_iterations: ONE\n",
      "  }\n",
      "}\n",
      ", '_keep_checkpoint_max': 5, '_keep_checkpoint_every_n_hours': 10000, '_log_step_count_steps': 100, '_train_distribute': None, '_device_fn': None, '_protocol': None, '_eval_distribute': None, '_experimental_distribute': None, '_experimental_max_worker_delay_secs': None, '_session_creation_timeout_secs': 7200, '_service': None, '_cluster_spec': ClusterSpec({}), '_task_type': 'worker', '_task_id': 0, '_global_id_in_cluster': 0, '_master': '', '_evaluation_master': '', '_is_chief': True, '_num_ps_replicas': 0, '_num_worker_replicas': 1}\n"
     ]
    },
    {
     "name": "stderr",
     "output_type": "stream",
     "text": [
      "INFO:tensorflow:Using config: {'_model_dir': './tmp4wk8inr5', '_tf_random_seed': None, '_save_summary_steps': 100, '_save_checkpoints_steps': None, '_save_checkpoints_secs': 600, '_session_config': allow_soft_placement: true\n",
      "graph_options {\n",
      "  rewrite_options {\n",
      "    meta_optimizer_iterations: ONE\n",
      "  }\n",
      "}\n",
      ", '_keep_checkpoint_max': 5, '_keep_checkpoint_every_n_hours': 10000, '_log_step_count_steps': 100, '_train_distribute': None, '_device_fn': None, '_protocol': None, '_eval_distribute': None, '_experimental_distribute': None, '_experimental_max_worker_delay_secs': None, '_session_creation_timeout_secs': 7200, '_service': None, '_cluster_spec': ClusterSpec({}), '_task_type': 'worker', '_task_id': 0, '_global_id_in_cluster': 0, '_master': '', '_evaluation_master': '', '_is_chief': True, '_num_ps_replicas': 0, '_num_worker_replicas': 1}\n"
     ]
    }
   ],
   "source": [
    "# dir for checkpoints\n",
    "# (do this whenever rebuilding model as model structure change means we need a new tempdir)\n",
    "tmpdir = tempfile.TemporaryDirectory(dir=\"./\")\n",
    "print(f\"Most recent tmpdir: {tmpdir.name}\")\n",
    "model_dir = tmpdir.name\n",
    "\n",
    "# Using a premade classifier also sets things like the model_fn's scoring methods.  Like below when we do model.evaluate we get accuracy and loss\n",
    "\n",
    "model = tf.estimator.DNNClassifier(\n",
    "    [256, 128, 64], # layers\n",
    "    feature_columns=feature_columns,\n",
    "    model_dir=model_dir,\n",
    "    n_classes=10,  # Can this be inferred somehow?\n",
    "    dropout=0.1,\n",
    "    # If labels were string vocabulary, can include that here\n",
    "    #     label_vocabulary=CLASS_NAMES\n",
    ")"
   ]
  },
  {
   "cell_type": "markdown",
   "metadata": {},
   "source": [
    "## Train and evaluate the model"
   ]
  },
  {
   "cell_type": "markdown",
   "metadata": {},
   "source": [
    "Use a simple training loop to show things are working ok.  Train/test split from mnist used as a train/validate split just to keep things easy"
   ]
  },
  {
   "cell_type": "markdown",
   "metadata": {},
   "source": [
    "Model before any training (sanity check - should have accuracy ~0.1 from random chance):"
   ]
  },
  {
   "cell_type": "code",
   "execution_count": 14,
   "metadata": {},
   "outputs": [
    {
     "name": "stdout",
     "output_type": "stream",
     "text": [
      "INFO:tensorflow:Could not find trained model in model_dir: ./tmp4wk8inr5, running initialization to evaluate.\n"
     ]
    },
    {
     "name": "stderr",
     "output_type": "stream",
     "text": [
      "INFO:tensorflow:Could not find trained model in model_dir: ./tmp4wk8inr5, running initialization to evaluate.\n"
     ]
    },
    {
     "name": "stdout",
     "output_type": "stream",
     "text": [
      "INFO:tensorflow:Calling model_fn.\n"
     ]
    },
    {
     "name": "stderr",
     "output_type": "stream",
     "text": [
      "INFO:tensorflow:Calling model_fn.\n"
     ]
    },
    {
     "name": "stdout",
     "output_type": "stream",
     "text": [
      "INFO:tensorflow:Done calling model_fn.\n"
     ]
    },
    {
     "name": "stderr",
     "output_type": "stream",
     "text": [
      "INFO:tensorflow:Done calling model_fn.\n"
     ]
    },
    {
     "name": "stdout",
     "output_type": "stream",
     "text": [
      "INFO:tensorflow:Starting evaluation at 2020-03-30T11:02:44Z\n"
     ]
    },
    {
     "name": "stderr",
     "output_type": "stream",
     "text": [
      "INFO:tensorflow:Starting evaluation at 2020-03-30T11:02:44Z\n"
     ]
    },
    {
     "name": "stdout",
     "output_type": "stream",
     "text": [
      "INFO:tensorflow:Graph was finalized.\n"
     ]
    },
    {
     "name": "stderr",
     "output_type": "stream",
     "text": [
      "INFO:tensorflow:Graph was finalized.\n"
     ]
    },
    {
     "name": "stdout",
     "output_type": "stream",
     "text": [
      "INFO:tensorflow:Running local_init_op.\n"
     ]
    },
    {
     "name": "stderr",
     "output_type": "stream",
     "text": [
      "INFO:tensorflow:Running local_init_op.\n"
     ]
    },
    {
     "name": "stdout",
     "output_type": "stream",
     "text": [
      "INFO:tensorflow:Done running local_init_op.\n"
     ]
    },
    {
     "name": "stderr",
     "output_type": "stream",
     "text": [
      "INFO:tensorflow:Done running local_init_op.\n"
     ]
    },
    {
     "name": "stdout",
     "output_type": "stream",
     "text": [
      "INFO:tensorflow:Inference Time : 1.25500s\n"
     ]
    },
    {
     "name": "stderr",
     "output_type": "stream",
     "text": [
      "INFO:tensorflow:Inference Time : 1.25500s\n"
     ]
    },
    {
     "name": "stdout",
     "output_type": "stream",
     "text": [
      "INFO:tensorflow:Finished evaluation at 2020-03-30-11:02:45\n"
     ]
    },
    {
     "name": "stderr",
     "output_type": "stream",
     "text": [
      "INFO:tensorflow:Finished evaluation at 2020-03-30-11:02:45\n"
     ]
    },
    {
     "name": "stdout",
     "output_type": "stream",
     "text": [
      "INFO:tensorflow:Saving dict for global step 0: accuracy = 0.1, average_loss = 112.242966, global_step = 0, loss = 112.24496\n"
     ]
    },
    {
     "name": "stderr",
     "output_type": "stream",
     "text": [
      "INFO:tensorflow:Saving dict for global step 0: accuracy = 0.1, average_loss = 112.242966, global_step = 0, loss = 112.24496\n"
     ]
    },
    {
     "name": "stdout",
     "output_type": "stream",
     "text": [
      "{'accuracy': 0.1, 'average_loss': 112.242966, 'loss': 112.24496, 'global_step': 0}\n"
     ]
    }
   ],
   "source": [
    "result = model.evaluate(input_fn=lambda: input_fn(split=\"test\"))\n",
    "print(result)"
   ]
  },
  {
   "cell_type": "markdown",
   "metadata": {},
   "source": [
    "Train, evaluating after each training pass for interest\n",
    "\n",
    "Each training loop will pass through the input_fn data exactly once (eg: until it notifies it is out of elements).  Each element step in this case is a batch of size specified in the input_fn builder.  We should have 60000/32=1875 steps per training epoch\n",
    "\n",
    "There's no epoch arg for model.train() (?) and no arg to define how many passes you take through the given data.  Instead, you define epochs through these:\n",
    "* set ds.repeat(number_of_passes_per_epoch) to have multiple passes through data in an epoch\n",
    "* loop on train for multiple epochs\n",
    "* setting max_steps sets the maximum global number of steps taken across all epochs.  So if you have a dataset with 1000 batches (steps) and we set max_steps=100, the first iteration of training will train 100 steps and future iterations will train an additional 0 times\n",
    "* setting steps sets the maximum number of steps taken across this epoch.  If ds has 1000 batches and steps=100, the first call to .train will do 100 steps, as will all subsequent calls to .train.\n",
    "* **For both max_steps and steps, training within a .train() call will always stop if ds hits `OutOfRange` or `StopIteration`**.  But subsequent calls to .train() will again work like normal (up to the max number of steps in the dataset).  So if ds has 1000 steps and train(steps=1500), each call to .train will train for 1000 steps."
   ]
  },
  {
   "cell_type": "code",
   "execution_count": 15,
   "metadata": {
    "collapsed": true,
    "jupyter": {
     "outputs_hidden": true
    }
   },
   "outputs": [
    {
     "name": "stdout",
     "output_type": "stream",
     "text": [
      "INFO:tensorflow:Calling model_fn.\n"
     ]
    },
    {
     "name": "stderr",
     "output_type": "stream",
     "text": [
      "INFO:tensorflow:Calling model_fn.\n"
     ]
    },
    {
     "name": "stdout",
     "output_type": "stream",
     "text": [
      "INFO:tensorflow:Done calling model_fn.\n"
     ]
    },
    {
     "name": "stderr",
     "output_type": "stream",
     "text": [
      "INFO:tensorflow:Done calling model_fn.\n"
     ]
    },
    {
     "name": "stdout",
     "output_type": "stream",
     "text": [
      "INFO:tensorflow:Create CheckpointSaverHook.\n"
     ]
    },
    {
     "name": "stderr",
     "output_type": "stream",
     "text": [
      "INFO:tensorflow:Create CheckpointSaverHook.\n"
     ]
    },
    {
     "name": "stdout",
     "output_type": "stream",
     "text": [
      "INFO:tensorflow:Graph was finalized.\n"
     ]
    },
    {
     "name": "stderr",
     "output_type": "stream",
     "text": [
      "INFO:tensorflow:Graph was finalized.\n"
     ]
    },
    {
     "name": "stdout",
     "output_type": "stream",
     "text": [
      "INFO:tensorflow:Running local_init_op.\n"
     ]
    },
    {
     "name": "stderr",
     "output_type": "stream",
     "text": [
      "INFO:tensorflow:Running local_init_op.\n"
     ]
    },
    {
     "name": "stdout",
     "output_type": "stream",
     "text": [
      "INFO:tensorflow:Done running local_init_op.\n"
     ]
    },
    {
     "name": "stderr",
     "output_type": "stream",
     "text": [
      "INFO:tensorflow:Done running local_init_op.\n"
     ]
    },
    {
     "name": "stdout",
     "output_type": "stream",
     "text": [
      "INFO:tensorflow:Saving checkpoints for 0 into ./tmp4wk8inr5/model.ckpt.\n"
     ]
    },
    {
     "name": "stderr",
     "output_type": "stream",
     "text": [
      "INFO:tensorflow:Saving checkpoints for 0 into ./tmp4wk8inr5/model.ckpt.\n"
     ]
    },
    {
     "name": "stdout",
     "output_type": "stream",
     "text": [
      "INFO:tensorflow:loss = 133.96095, step = 0\n"
     ]
    },
    {
     "name": "stderr",
     "output_type": "stream",
     "text": [
      "INFO:tensorflow:loss = 133.96095, step = 0\n"
     ]
    },
    {
     "name": "stdout",
     "output_type": "stream",
     "text": [
      "INFO:tensorflow:global_step/sec: 175.134\n"
     ]
    },
    {
     "name": "stderr",
     "output_type": "stream",
     "text": [
      "INFO:tensorflow:global_step/sec: 175.134\n"
     ]
    },
    {
     "name": "stdout",
     "output_type": "stream",
     "text": [
      "INFO:tensorflow:loss = 14.554617, step = 100 (0.572 sec)\n"
     ]
    },
    {
     "name": "stderr",
     "output_type": "stream",
     "text": [
      "INFO:tensorflow:loss = 14.554617, step = 100 (0.572 sec)\n"
     ]
    },
    {
     "name": "stdout",
     "output_type": "stream",
     "text": [
      "INFO:tensorflow:global_step/sec: 220.787\n"
     ]
    },
    {
     "name": "stderr",
     "output_type": "stream",
     "text": [
      "INFO:tensorflow:global_step/sec: 220.787\n"
     ]
    },
    {
     "name": "stdout",
     "output_type": "stream",
     "text": [
      "INFO:tensorflow:loss = 8.574042, step = 200 (0.453 sec)\n"
     ]
    },
    {
     "name": "stderr",
     "output_type": "stream",
     "text": [
      "INFO:tensorflow:loss = 8.574042, step = 200 (0.453 sec)\n"
     ]
    },
    {
     "name": "stdout",
     "output_type": "stream",
     "text": [
      "WARNING:tensorflow:It seems that global step (tf.train.get_global_step) has not been increased. Current value (could be stable): 267 vs previous value: 267. You could increase the global step by passing tf.train.get_global_step() to Optimizer.apply_gradients or Optimizer.minimize.\n"
     ]
    },
    {
     "name": "stderr",
     "output_type": "stream",
     "text": [
      "WARNING:tensorflow:It seems that global step (tf.train.get_global_step) has not been increased. Current value (could be stable): 267 vs previous value: 267. You could increase the global step by passing tf.train.get_global_step() to Optimizer.apply_gradients or Optimizer.minimize.\n"
     ]
    },
    {
     "name": "stdout",
     "output_type": "stream",
     "text": [
      "INFO:tensorflow:global_step/sec: 243.71\n"
     ]
    },
    {
     "name": "stderr",
     "output_type": "stream",
     "text": [
      "INFO:tensorflow:global_step/sec: 243.71\n"
     ]
    },
    {
     "name": "stdout",
     "output_type": "stream",
     "text": [
      "INFO:tensorflow:loss = 7.0536275, step = 300 (0.411 sec)\n"
     ]
    },
    {
     "name": "stderr",
     "output_type": "stream",
     "text": [
      "INFO:tensorflow:loss = 7.0536275, step = 300 (0.411 sec)\n"
     ]
    },
    {
     "name": "stdout",
     "output_type": "stream",
     "text": [
      "INFO:tensorflow:global_step/sec: 219.854\n"
     ]
    },
    {
     "name": "stderr",
     "output_type": "stream",
     "text": [
      "INFO:tensorflow:global_step/sec: 219.854\n"
     ]
    },
    {
     "name": "stdout",
     "output_type": "stream",
     "text": [
      "INFO:tensorflow:loss = 9.305372, step = 400 (0.454 sec)\n"
     ]
    },
    {
     "name": "stderr",
     "output_type": "stream",
     "text": [
      "INFO:tensorflow:loss = 9.305372, step = 400 (0.454 sec)\n"
     ]
    },
    {
     "name": "stdout",
     "output_type": "stream",
     "text": [
      "INFO:tensorflow:global_step/sec: 272.49\n"
     ]
    },
    {
     "name": "stderr",
     "output_type": "stream",
     "text": [
      "INFO:tensorflow:global_step/sec: 272.49\n"
     ]
    },
    {
     "name": "stdout",
     "output_type": "stream",
     "text": [
      "INFO:tensorflow:loss = 6.164937, step = 500 (0.369 sec)\n"
     ]
    },
    {
     "name": "stderr",
     "output_type": "stream",
     "text": [
      "INFO:tensorflow:loss = 6.164937, step = 500 (0.369 sec)\n"
     ]
    },
    {
     "name": "stdout",
     "output_type": "stream",
     "text": [
      "INFO:tensorflow:global_step/sec: 218.425\n"
     ]
    },
    {
     "name": "stderr",
     "output_type": "stream",
     "text": [
      "INFO:tensorflow:global_step/sec: 218.425\n"
     ]
    },
    {
     "name": "stdout",
     "output_type": "stream",
     "text": [
      "INFO:tensorflow:loss = 4.7126884, step = 600 (0.456 sec)\n"
     ]
    },
    {
     "name": "stderr",
     "output_type": "stream",
     "text": [
      "INFO:tensorflow:loss = 4.7126884, step = 600 (0.456 sec)\n"
     ]
    },
    {
     "name": "stdout",
     "output_type": "stream",
     "text": [
      "INFO:tensorflow:global_step/sec: 219.524\n"
     ]
    },
    {
     "name": "stderr",
     "output_type": "stream",
     "text": [
      "INFO:tensorflow:global_step/sec: 219.524\n"
     ]
    },
    {
     "name": "stdout",
     "output_type": "stream",
     "text": [
      "INFO:tensorflow:loss = 4.406117, step = 700 (0.458 sec)\n"
     ]
    },
    {
     "name": "stderr",
     "output_type": "stream",
     "text": [
      "INFO:tensorflow:loss = 4.406117, step = 700 (0.458 sec)\n"
     ]
    },
    {
     "name": "stdout",
     "output_type": "stream",
     "text": [
      "INFO:tensorflow:global_step/sec: 218.292\n"
     ]
    },
    {
     "name": "stderr",
     "output_type": "stream",
     "text": [
      "INFO:tensorflow:global_step/sec: 218.292\n"
     ]
    },
    {
     "name": "stdout",
     "output_type": "stream",
     "text": [
      "INFO:tensorflow:loss = 2.7839346, step = 800 (0.458 sec)\n"
     ]
    },
    {
     "name": "stderr",
     "output_type": "stream",
     "text": [
      "INFO:tensorflow:loss = 2.7839346, step = 800 (0.458 sec)\n"
     ]
    },
    {
     "name": "stdout",
     "output_type": "stream",
     "text": [
      "INFO:tensorflow:global_step/sec: 185.939\n"
     ]
    },
    {
     "name": "stderr",
     "output_type": "stream",
     "text": [
      "INFO:tensorflow:global_step/sec: 185.939\n"
     ]
    },
    {
     "name": "stdout",
     "output_type": "stream",
     "text": [
      "INFO:tensorflow:loss = 3.2127845, step = 900 (0.536 sec)\n"
     ]
    },
    {
     "name": "stderr",
     "output_type": "stream",
     "text": [
      "INFO:tensorflow:loss = 3.2127845, step = 900 (0.536 sec)\n"
     ]
    },
    {
     "name": "stdout",
     "output_type": "stream",
     "text": [
      "INFO:tensorflow:global_step/sec: 239.998\n"
     ]
    },
    {
     "name": "stderr",
     "output_type": "stream",
     "text": [
      "INFO:tensorflow:global_step/sec: 239.998\n"
     ]
    },
    {
     "name": "stdout",
     "output_type": "stream",
     "text": [
      "INFO:tensorflow:loss = 4.95199, step = 1000 (0.418 sec)\n"
     ]
    },
    {
     "name": "stderr",
     "output_type": "stream",
     "text": [
      "INFO:tensorflow:loss = 4.95199, step = 1000 (0.418 sec)\n"
     ]
    },
    {
     "name": "stdout",
     "output_type": "stream",
     "text": [
      "INFO:tensorflow:global_step/sec: 235.257\n"
     ]
    },
    {
     "name": "stderr",
     "output_type": "stream",
     "text": [
      "INFO:tensorflow:global_step/sec: 235.257\n"
     ]
    },
    {
     "name": "stdout",
     "output_type": "stream",
     "text": [
      "INFO:tensorflow:loss = 3.782969, step = 1100 (0.424 sec)\n"
     ]
    },
    {
     "name": "stderr",
     "output_type": "stream",
     "text": [
      "INFO:tensorflow:loss = 3.782969, step = 1100 (0.424 sec)\n"
     ]
    },
    {
     "name": "stdout",
     "output_type": "stream",
     "text": [
      "INFO:tensorflow:global_step/sec: 243.599\n"
     ]
    },
    {
     "name": "stderr",
     "output_type": "stream",
     "text": [
      "INFO:tensorflow:global_step/sec: 243.599\n"
     ]
    },
    {
     "name": "stdout",
     "output_type": "stream",
     "text": [
      "INFO:tensorflow:loss = 2.6496818, step = 1200 (0.411 sec)\n"
     ]
    },
    {
     "name": "stderr",
     "output_type": "stream",
     "text": [
      "INFO:tensorflow:loss = 2.6496818, step = 1200 (0.411 sec)\n"
     ]
    },
    {
     "name": "stdout",
     "output_type": "stream",
     "text": [
      "INFO:tensorflow:global_step/sec: 265.559\n"
     ]
    },
    {
     "name": "stderr",
     "output_type": "stream",
     "text": [
      "INFO:tensorflow:global_step/sec: 265.559\n"
     ]
    },
    {
     "name": "stdout",
     "output_type": "stream",
     "text": [
      "INFO:tensorflow:loss = 5.6381283, step = 1300 (0.376 sec)\n"
     ]
    },
    {
     "name": "stderr",
     "output_type": "stream",
     "text": [
      "INFO:tensorflow:loss = 5.6381283, step = 1300 (0.376 sec)\n"
     ]
    },
    {
     "name": "stdout",
     "output_type": "stream",
     "text": [
      "INFO:tensorflow:global_step/sec: 248.861\n"
     ]
    },
    {
     "name": "stderr",
     "output_type": "stream",
     "text": [
      "INFO:tensorflow:global_step/sec: 248.861\n"
     ]
    },
    {
     "name": "stdout",
     "output_type": "stream",
     "text": [
      "INFO:tensorflow:loss = 2.806899, step = 1400 (0.402 sec)\n"
     ]
    },
    {
     "name": "stderr",
     "output_type": "stream",
     "text": [
      "INFO:tensorflow:loss = 2.806899, step = 1400 (0.402 sec)\n"
     ]
    },
    {
     "name": "stdout",
     "output_type": "stream",
     "text": [
      "INFO:tensorflow:global_step/sec: 219.39\n"
     ]
    },
    {
     "name": "stderr",
     "output_type": "stream",
     "text": [
      "INFO:tensorflow:global_step/sec: 219.39\n"
     ]
    },
    {
     "name": "stdout",
     "output_type": "stream",
     "text": [
      "INFO:tensorflow:loss = 4.3286014, step = 1500 (0.456 sec)\n"
     ]
    },
    {
     "name": "stderr",
     "output_type": "stream",
     "text": [
      "INFO:tensorflow:loss = 4.3286014, step = 1500 (0.456 sec)\n"
     ]
    },
    {
     "name": "stdout",
     "output_type": "stream",
     "text": [
      "WARNING:tensorflow:It seems that global step (tf.train.get_global_step) has not been increased. Current value (could be stable): 1532 vs previous value: 1532. You could increase the global step by passing tf.train.get_global_step() to Optimizer.apply_gradients or Optimizer.minimize.\n"
     ]
    },
    {
     "name": "stderr",
     "output_type": "stream",
     "text": [
      "WARNING:tensorflow:It seems that global step (tf.train.get_global_step) has not been increased. Current value (could be stable): 1532 vs previous value: 1532. You could increase the global step by passing tf.train.get_global_step() to Optimizer.apply_gradients or Optimizer.minimize.\n"
     ]
    },
    {
     "name": "stdout",
     "output_type": "stream",
     "text": [
      "INFO:tensorflow:global_step/sec: 244.642\n"
     ]
    },
    {
     "name": "stderr",
     "output_type": "stream",
     "text": [
      "INFO:tensorflow:global_step/sec: 244.642\n"
     ]
    },
    {
     "name": "stdout",
     "output_type": "stream",
     "text": [
      "INFO:tensorflow:loss = 5.3008757, step = 1600 (0.408 sec)\n"
     ]
    },
    {
     "name": "stderr",
     "output_type": "stream",
     "text": [
      "INFO:tensorflow:loss = 5.3008757, step = 1600 (0.408 sec)\n"
     ]
    },
    {
     "name": "stdout",
     "output_type": "stream",
     "text": [
      "INFO:tensorflow:global_step/sec: 295.763\n"
     ]
    },
    {
     "name": "stderr",
     "output_type": "stream",
     "text": [
      "INFO:tensorflow:global_step/sec: 295.763\n"
     ]
    },
    {
     "name": "stdout",
     "output_type": "stream",
     "text": [
      "INFO:tensorflow:loss = 2.3897753, step = 1700 (0.342 sec)\n"
     ]
    },
    {
     "name": "stderr",
     "output_type": "stream",
     "text": [
      "INFO:tensorflow:loss = 2.3897753, step = 1700 (0.342 sec)\n"
     ]
    },
    {
     "name": "stdout",
     "output_type": "stream",
     "text": [
      "INFO:tensorflow:global_step/sec: 262.375\n"
     ]
    },
    {
     "name": "stderr",
     "output_type": "stream",
     "text": [
      "INFO:tensorflow:global_step/sec: 262.375\n"
     ]
    },
    {
     "name": "stdout",
     "output_type": "stream",
     "text": [
      "INFO:tensorflow:loss = 3.8205645, step = 1800 (0.378 sec)\n"
     ]
    },
    {
     "name": "stderr",
     "output_type": "stream",
     "text": [
      "INFO:tensorflow:loss = 3.8205645, step = 1800 (0.378 sec)\n"
     ]
    },
    {
     "name": "stdout",
     "output_type": "stream",
     "text": [
      "INFO:tensorflow:Saving checkpoints for 1875 into ./tmp4wk8inr5/model.ckpt.\n"
     ]
    },
    {
     "name": "stderr",
     "output_type": "stream",
     "text": [
      "INFO:tensorflow:Saving checkpoints for 1875 into ./tmp4wk8inr5/model.ckpt.\n"
     ]
    },
    {
     "name": "stdout",
     "output_type": "stream",
     "text": [
      "INFO:tensorflow:Loss for final step: 2.917343.\n"
     ]
    },
    {
     "name": "stderr",
     "output_type": "stream",
     "text": [
      "INFO:tensorflow:Loss for final step: 2.917343.\n"
     ]
    },
    {
     "name": "stdout",
     "output_type": "stream",
     "text": [
      "Evaluation after epoch:\n",
      "INFO:tensorflow:Calling model_fn.\n"
     ]
    },
    {
     "name": "stderr",
     "output_type": "stream",
     "text": [
      "INFO:tensorflow:Calling model_fn.\n"
     ]
    },
    {
     "name": "stdout",
     "output_type": "stream",
     "text": [
      "INFO:tensorflow:Done calling model_fn.\n"
     ]
    },
    {
     "name": "stderr",
     "output_type": "stream",
     "text": [
      "INFO:tensorflow:Done calling model_fn.\n"
     ]
    },
    {
     "name": "stdout",
     "output_type": "stream",
     "text": [
      "INFO:tensorflow:Starting evaluation at 2020-03-30T11:03:16Z\n"
     ]
    },
    {
     "name": "stderr",
     "output_type": "stream",
     "text": [
      "INFO:tensorflow:Starting evaluation at 2020-03-30T11:03:16Z\n"
     ]
    },
    {
     "name": "stdout",
     "output_type": "stream",
     "text": [
      "INFO:tensorflow:Graph was finalized.\n"
     ]
    },
    {
     "name": "stderr",
     "output_type": "stream",
     "text": [
      "INFO:tensorflow:Graph was finalized.\n"
     ]
    },
    {
     "name": "stdout",
     "output_type": "stream",
     "text": [
      "INFO:tensorflow:Restoring parameters from ./tmp4wk8inr5/model.ckpt-1875\n"
     ]
    },
    {
     "name": "stderr",
     "output_type": "stream",
     "text": [
      "INFO:tensorflow:Restoring parameters from ./tmp4wk8inr5/model.ckpt-1875\n"
     ]
    },
    {
     "name": "stdout",
     "output_type": "stream",
     "text": [
      "INFO:tensorflow:Running local_init_op.\n"
     ]
    },
    {
     "name": "stderr",
     "output_type": "stream",
     "text": [
      "INFO:tensorflow:Running local_init_op.\n"
     ]
    },
    {
     "name": "stdout",
     "output_type": "stream",
     "text": [
      "INFO:tensorflow:Done running local_init_op.\n"
     ]
    },
    {
     "name": "stderr",
     "output_type": "stream",
     "text": [
      "INFO:tensorflow:Done running local_init_op.\n"
     ]
    },
    {
     "name": "stdout",
     "output_type": "stream",
     "text": [
      "INFO:tensorflow:Inference Time : 5.45262s\n"
     ]
    },
    {
     "name": "stderr",
     "output_type": "stream",
     "text": [
      "INFO:tensorflow:Inference Time : 5.45262s\n"
     ]
    },
    {
     "name": "stdout",
     "output_type": "stream",
     "text": [
      "INFO:tensorflow:Finished evaluation at 2020-03-30-11:03:22\n"
     ]
    },
    {
     "name": "stderr",
     "output_type": "stream",
     "text": [
      "INFO:tensorflow:Finished evaluation at 2020-03-30-11:03:22\n"
     ]
    },
    {
     "name": "stdout",
     "output_type": "stream",
     "text": [
      "INFO:tensorflow:Saving dict for global step 1875: accuracy = 0.8193833, average_loss = 1.2767372, global_step = 1875, loss = 1.2767372\n"
     ]
    },
    {
     "name": "stderr",
     "output_type": "stream",
     "text": [
      "INFO:tensorflow:Saving dict for global step 1875: accuracy = 0.8193833, average_loss = 1.2767372, global_step = 1875, loss = 1.2767372\n"
     ]
    },
    {
     "name": "stdout",
     "output_type": "stream",
     "text": [
      "INFO:tensorflow:Saving 'checkpoint_path' summary for global step 1875: ./tmp4wk8inr5/model.ckpt-1875\n"
     ]
    },
    {
     "name": "stderr",
     "output_type": "stream",
     "text": [
      "INFO:tensorflow:Saving 'checkpoint_path' summary for global step 1875: ./tmp4wk8inr5/model.ckpt-1875\n"
     ]
    },
    {
     "name": "stdout",
     "output_type": "stream",
     "text": [
      "{'accuracy': 0.8193833, 'average_loss': 1.2767372, 'loss': 1.2767372, 'global_step': 1875}\n",
      "INFO:tensorflow:Calling model_fn.\n"
     ]
    },
    {
     "name": "stderr",
     "output_type": "stream",
     "text": [
      "INFO:tensorflow:Calling model_fn.\n"
     ]
    },
    {
     "name": "stdout",
     "output_type": "stream",
     "text": [
      "INFO:tensorflow:Done calling model_fn.\n"
     ]
    },
    {
     "name": "stderr",
     "output_type": "stream",
     "text": [
      "INFO:tensorflow:Done calling model_fn.\n"
     ]
    },
    {
     "name": "stdout",
     "output_type": "stream",
     "text": [
      "INFO:tensorflow:Starting evaluation at 2020-03-30T11:03:22Z\n"
     ]
    },
    {
     "name": "stderr",
     "output_type": "stream",
     "text": [
      "INFO:tensorflow:Starting evaluation at 2020-03-30T11:03:22Z\n"
     ]
    },
    {
     "name": "stdout",
     "output_type": "stream",
     "text": [
      "INFO:tensorflow:Graph was finalized.\n"
     ]
    },
    {
     "name": "stderr",
     "output_type": "stream",
     "text": [
      "INFO:tensorflow:Graph was finalized.\n"
     ]
    },
    {
     "name": "stdout",
     "output_type": "stream",
     "text": [
      "INFO:tensorflow:Restoring parameters from ./tmp4wk8inr5/model.ckpt-1875\n"
     ]
    },
    {
     "name": "stderr",
     "output_type": "stream",
     "text": [
      "INFO:tensorflow:Restoring parameters from ./tmp4wk8inr5/model.ckpt-1875\n"
     ]
    },
    {
     "name": "stdout",
     "output_type": "stream",
     "text": [
      "INFO:tensorflow:Running local_init_op.\n"
     ]
    },
    {
     "name": "stderr",
     "output_type": "stream",
     "text": [
      "INFO:tensorflow:Running local_init_op.\n"
     ]
    },
    {
     "name": "stdout",
     "output_type": "stream",
     "text": [
      "INFO:tensorflow:Done running local_init_op.\n"
     ]
    },
    {
     "name": "stderr",
     "output_type": "stream",
     "text": [
      "INFO:tensorflow:Done running local_init_op.\n"
     ]
    },
    {
     "name": "stdout",
     "output_type": "stream",
     "text": [
      "INFO:tensorflow:Inference Time : 1.23446s\n"
     ]
    },
    {
     "name": "stderr",
     "output_type": "stream",
     "text": [
      "INFO:tensorflow:Inference Time : 1.23446s\n"
     ]
    },
    {
     "name": "stdout",
     "output_type": "stream",
     "text": [
      "INFO:tensorflow:Finished evaluation at 2020-03-30-11:03:24\n"
     ]
    },
    {
     "name": "stderr",
     "output_type": "stream",
     "text": [
      "INFO:tensorflow:Finished evaluation at 2020-03-30-11:03:24\n"
     ]
    },
    {
     "name": "stdout",
     "output_type": "stream",
     "text": [
      "INFO:tensorflow:Saving dict for global step 1875: accuracy = 0.8176, average_loss = 1.3036213, global_step = 1875, loss = 1.3038851\n"
     ]
    },
    {
     "name": "stderr",
     "output_type": "stream",
     "text": [
      "INFO:tensorflow:Saving dict for global step 1875: accuracy = 0.8176, average_loss = 1.3036213, global_step = 1875, loss = 1.3038851\n"
     ]
    },
    {
     "name": "stdout",
     "output_type": "stream",
     "text": [
      "INFO:tensorflow:Saving 'checkpoint_path' summary for global step 1875: ./tmp4wk8inr5/model.ckpt-1875\n"
     ]
    },
    {
     "name": "stderr",
     "output_type": "stream",
     "text": [
      "INFO:tensorflow:Saving 'checkpoint_path' summary for global step 1875: ./tmp4wk8inr5/model.ckpt-1875\n"
     ]
    },
    {
     "name": "stdout",
     "output_type": "stream",
     "text": [
      "{'accuracy': 0.8176, 'average_loss': 1.3036213, 'loss': 1.3038851, 'global_step': 1875}\n",
      "INFO:tensorflow:Calling model_fn.\n"
     ]
    },
    {
     "name": "stderr",
     "output_type": "stream",
     "text": [
      "INFO:tensorflow:Calling model_fn.\n"
     ]
    },
    {
     "name": "stdout",
     "output_type": "stream",
     "text": [
      "INFO:tensorflow:Done calling model_fn.\n"
     ]
    },
    {
     "name": "stderr",
     "output_type": "stream",
     "text": [
      "INFO:tensorflow:Done calling model_fn.\n"
     ]
    },
    {
     "name": "stdout",
     "output_type": "stream",
     "text": [
      "INFO:tensorflow:Create CheckpointSaverHook.\n"
     ]
    },
    {
     "name": "stderr",
     "output_type": "stream",
     "text": [
      "INFO:tensorflow:Create CheckpointSaverHook.\n"
     ]
    },
    {
     "name": "stdout",
     "output_type": "stream",
     "text": [
      "INFO:tensorflow:Graph was finalized.\n"
     ]
    },
    {
     "name": "stderr",
     "output_type": "stream",
     "text": [
      "INFO:tensorflow:Graph was finalized.\n"
     ]
    },
    {
     "name": "stdout",
     "output_type": "stream",
     "text": [
      "INFO:tensorflow:Restoring parameters from ./tmp4wk8inr5/model.ckpt-1875\n"
     ]
    },
    {
     "name": "stderr",
     "output_type": "stream",
     "text": [
      "INFO:tensorflow:Restoring parameters from ./tmp4wk8inr5/model.ckpt-1875\n"
     ]
    },
    {
     "name": "stdout",
     "output_type": "stream",
     "text": [
      "WARNING:tensorflow:From /home/scribs/code_not_git/tf_estimators/venv/lib/python3.7/site-packages/tensorflow_core/python/training/saver.py:1069: get_checkpoint_mtimes (from tensorflow.python.training.checkpoint_management) is deprecated and will be removed in a future version.\n",
      "Instructions for updating:\n",
      "Use standard file utilities to get mtimes.\n"
     ]
    },
    {
     "name": "stderr",
     "output_type": "stream",
     "text": [
      "WARNING:tensorflow:From /home/scribs/code_not_git/tf_estimators/venv/lib/python3.7/site-packages/tensorflow_core/python/training/saver.py:1069: get_checkpoint_mtimes (from tensorflow.python.training.checkpoint_management) is deprecated and will be removed in a future version.\n",
      "Instructions for updating:\n",
      "Use standard file utilities to get mtimes.\n"
     ]
    },
    {
     "name": "stdout",
     "output_type": "stream",
     "text": [
      "INFO:tensorflow:Running local_init_op.\n"
     ]
    },
    {
     "name": "stderr",
     "output_type": "stream",
     "text": [
      "INFO:tensorflow:Running local_init_op.\n"
     ]
    },
    {
     "name": "stdout",
     "output_type": "stream",
     "text": [
      "INFO:tensorflow:Done running local_init_op.\n"
     ]
    },
    {
     "name": "stderr",
     "output_type": "stream",
     "text": [
      "INFO:tensorflow:Done running local_init_op.\n"
     ]
    },
    {
     "name": "stdout",
     "output_type": "stream",
     "text": [
      "INFO:tensorflow:Saving checkpoints for 1875 into ./tmp4wk8inr5/model.ckpt.\n"
     ]
    },
    {
     "name": "stderr",
     "output_type": "stream",
     "text": [
      "INFO:tensorflow:Saving checkpoints for 1875 into ./tmp4wk8inr5/model.ckpt.\n"
     ]
    },
    {
     "name": "stdout",
     "output_type": "stream",
     "text": [
      "INFO:tensorflow:loss = 1.5553693, step = 1875\n"
     ]
    },
    {
     "name": "stderr",
     "output_type": "stream",
     "text": [
      "INFO:tensorflow:loss = 1.5553693, step = 1875\n"
     ]
    },
    {
     "name": "stdout",
     "output_type": "stream",
     "text": [
      "INFO:tensorflow:global_step/sec: 221.869\n"
     ]
    },
    {
     "name": "stderr",
     "output_type": "stream",
     "text": [
      "INFO:tensorflow:global_step/sec: 221.869\n"
     ]
    },
    {
     "name": "stdout",
     "output_type": "stream",
     "text": [
      "INFO:tensorflow:loss = 2.529224, step = 1975 (0.452 sec)\n"
     ]
    },
    {
     "name": "stderr",
     "output_type": "stream",
     "text": [
      "INFO:tensorflow:loss = 2.529224, step = 1975 (0.452 sec)\n"
     ]
    },
    {
     "name": "stdout",
     "output_type": "stream",
     "text": [
      "INFO:tensorflow:global_step/sec: 274.292\n"
     ]
    },
    {
     "name": "stderr",
     "output_type": "stream",
     "text": [
      "INFO:tensorflow:global_step/sec: 274.292\n"
     ]
    },
    {
     "name": "stdout",
     "output_type": "stream",
     "text": [
      "INFO:tensorflow:loss = 1.7217591, step = 2075 (0.365 sec)\n"
     ]
    },
    {
     "name": "stderr",
     "output_type": "stream",
     "text": [
      "INFO:tensorflow:loss = 1.7217591, step = 2075 (0.365 sec)\n"
     ]
    },
    {
     "name": "stdout",
     "output_type": "stream",
     "text": [
      "INFO:tensorflow:global_step/sec: 275.351\n"
     ]
    },
    {
     "name": "stderr",
     "output_type": "stream",
     "text": [
      "INFO:tensorflow:global_step/sec: 275.351\n"
     ]
    },
    {
     "name": "stdout",
     "output_type": "stream",
     "text": [
      "INFO:tensorflow:loss = 1.1965301, step = 2175 (0.364 sec)\n"
     ]
    },
    {
     "name": "stderr",
     "output_type": "stream",
     "text": [
      "INFO:tensorflow:loss = 1.1965301, step = 2175 (0.364 sec)\n"
     ]
    },
    {
     "name": "stdout",
     "output_type": "stream",
     "text": [
      "INFO:tensorflow:global_step/sec: 226.126\n"
     ]
    },
    {
     "name": "stderr",
     "output_type": "stream",
     "text": [
      "INFO:tensorflow:global_step/sec: 226.126\n"
     ]
    },
    {
     "name": "stdout",
     "output_type": "stream",
     "text": [
      "INFO:tensorflow:loss = 4.447563, step = 2275 (0.443 sec)\n"
     ]
    },
    {
     "name": "stderr",
     "output_type": "stream",
     "text": [
      "INFO:tensorflow:loss = 4.447563, step = 2275 (0.443 sec)\n"
     ]
    },
    {
     "name": "stdout",
     "output_type": "stream",
     "text": [
      "INFO:tensorflow:global_step/sec: 235.057\n"
     ]
    },
    {
     "name": "stderr",
     "output_type": "stream",
     "text": [
      "INFO:tensorflow:global_step/sec: 235.057\n"
     ]
    },
    {
     "name": "stdout",
     "output_type": "stream",
     "text": [
      "INFO:tensorflow:loss = 2.75456, step = 2375 (0.425 sec)\n"
     ]
    },
    {
     "name": "stderr",
     "output_type": "stream",
     "text": [
      "INFO:tensorflow:loss = 2.75456, step = 2375 (0.425 sec)\n"
     ]
    },
    {
     "name": "stdout",
     "output_type": "stream",
     "text": [
      "INFO:tensorflow:global_step/sec: 237.303\n"
     ]
    },
    {
     "name": "stderr",
     "output_type": "stream",
     "text": [
      "INFO:tensorflow:global_step/sec: 237.303\n"
     ]
    },
    {
     "name": "stdout",
     "output_type": "stream",
     "text": [
      "INFO:tensorflow:loss = 2.4929218, step = 2475 (0.422 sec)\n"
     ]
    },
    {
     "name": "stderr",
     "output_type": "stream",
     "text": [
      "INFO:tensorflow:loss = 2.4929218, step = 2475 (0.422 sec)\n"
     ]
    },
    {
     "name": "stdout",
     "output_type": "stream",
     "text": [
      "INFO:tensorflow:global_step/sec: 265.649\n"
     ]
    },
    {
     "name": "stderr",
     "output_type": "stream",
     "text": [
      "INFO:tensorflow:global_step/sec: 265.649\n"
     ]
    },
    {
     "name": "stdout",
     "output_type": "stream",
     "text": [
      "INFO:tensorflow:loss = 1.9001911, step = 2575 (0.378 sec)\n"
     ]
    },
    {
     "name": "stderr",
     "output_type": "stream",
     "text": [
      "INFO:tensorflow:loss = 1.9001911, step = 2575 (0.378 sec)\n"
     ]
    },
    {
     "name": "stdout",
     "output_type": "stream",
     "text": [
      "INFO:tensorflow:global_step/sec: 265.619\n"
     ]
    },
    {
     "name": "stderr",
     "output_type": "stream",
     "text": [
      "INFO:tensorflow:global_step/sec: 265.619\n"
     ]
    },
    {
     "name": "stdout",
     "output_type": "stream",
     "text": [
      "INFO:tensorflow:loss = 3.3697684, step = 2675 (0.374 sec)\n"
     ]
    },
    {
     "name": "stderr",
     "output_type": "stream",
     "text": [
      "INFO:tensorflow:loss = 3.3697684, step = 2675 (0.374 sec)\n"
     ]
    },
    {
     "name": "stdout",
     "output_type": "stream",
     "text": [
      "INFO:tensorflow:global_step/sec: 258.886\n"
     ]
    },
    {
     "name": "stderr",
     "output_type": "stream",
     "text": [
      "INFO:tensorflow:global_step/sec: 258.886\n"
     ]
    },
    {
     "name": "stdout",
     "output_type": "stream",
     "text": [
      "INFO:tensorflow:loss = 1.3926294, step = 2775 (0.386 sec)\n"
     ]
    },
    {
     "name": "stderr",
     "output_type": "stream",
     "text": [
      "INFO:tensorflow:loss = 1.3926294, step = 2775 (0.386 sec)\n"
     ]
    },
    {
     "name": "stdout",
     "output_type": "stream",
     "text": [
      "INFO:tensorflow:global_step/sec: 287.258\n"
     ]
    },
    {
     "name": "stderr",
     "output_type": "stream",
     "text": [
      "INFO:tensorflow:global_step/sec: 287.258\n"
     ]
    },
    {
     "name": "stdout",
     "output_type": "stream",
     "text": [
      "INFO:tensorflow:loss = 2.021469, step = 2875 (0.350 sec)\n"
     ]
    },
    {
     "name": "stderr",
     "output_type": "stream",
     "text": [
      "INFO:tensorflow:loss = 2.021469, step = 2875 (0.350 sec)\n"
     ]
    },
    {
     "name": "stdout",
     "output_type": "stream",
     "text": [
      "INFO:tensorflow:global_step/sec: 240.796\n"
     ]
    },
    {
     "name": "stderr",
     "output_type": "stream",
     "text": [
      "INFO:tensorflow:global_step/sec: 240.796\n"
     ]
    },
    {
     "name": "stdout",
     "output_type": "stream",
     "text": [
      "INFO:tensorflow:loss = 3.4074337, step = 2975 (0.414 sec)\n"
     ]
    },
    {
     "name": "stderr",
     "output_type": "stream",
     "text": [
      "INFO:tensorflow:loss = 3.4074337, step = 2975 (0.414 sec)\n"
     ]
    },
    {
     "name": "stdout",
     "output_type": "stream",
     "text": [
      "INFO:tensorflow:global_step/sec: 265.242\n"
     ]
    },
    {
     "name": "stderr",
     "output_type": "stream",
     "text": [
      "INFO:tensorflow:global_step/sec: 265.242\n"
     ]
    },
    {
     "name": "stdout",
     "output_type": "stream",
     "text": [
      "INFO:tensorflow:loss = 1.0642657, step = 3075 (0.377 sec)\n"
     ]
    },
    {
     "name": "stderr",
     "output_type": "stream",
     "text": [
      "INFO:tensorflow:loss = 1.0642657, step = 3075 (0.377 sec)\n"
     ]
    },
    {
     "name": "stdout",
     "output_type": "stream",
     "text": [
      "INFO:tensorflow:global_step/sec: 263.921\n"
     ]
    },
    {
     "name": "stderr",
     "output_type": "stream",
     "text": [
      "INFO:tensorflow:global_step/sec: 263.921\n"
     ]
    },
    {
     "name": "stdout",
     "output_type": "stream",
     "text": [
      "INFO:tensorflow:loss = 1.7535229, step = 3175 (0.378 sec)\n"
     ]
    },
    {
     "name": "stderr",
     "output_type": "stream",
     "text": [
      "INFO:tensorflow:loss = 1.7535229, step = 3175 (0.378 sec)\n"
     ]
    },
    {
     "name": "stdout",
     "output_type": "stream",
     "text": [
      "INFO:tensorflow:global_step/sec: 268.035\n"
     ]
    },
    {
     "name": "stderr",
     "output_type": "stream",
     "text": [
      "INFO:tensorflow:global_step/sec: 268.035\n"
     ]
    },
    {
     "name": "stdout",
     "output_type": "stream",
     "text": [
      "INFO:tensorflow:loss = 2.5606194, step = 3275 (0.373 sec)\n"
     ]
    },
    {
     "name": "stderr",
     "output_type": "stream",
     "text": [
      "INFO:tensorflow:loss = 2.5606194, step = 3275 (0.373 sec)\n"
     ]
    },
    {
     "name": "stdout",
     "output_type": "stream",
     "text": [
      "INFO:tensorflow:global_step/sec: 262.978\n"
     ]
    },
    {
     "name": "stderr",
     "output_type": "stream",
     "text": [
      "INFO:tensorflow:global_step/sec: 262.978\n"
     ]
    },
    {
     "name": "stdout",
     "output_type": "stream",
     "text": [
      "INFO:tensorflow:loss = 2.3658793, step = 3375 (0.380 sec)\n"
     ]
    },
    {
     "name": "stderr",
     "output_type": "stream",
     "text": [
      "INFO:tensorflow:loss = 2.3658793, step = 3375 (0.380 sec)\n"
     ]
    },
    {
     "name": "stdout",
     "output_type": "stream",
     "text": [
      "INFO:tensorflow:global_step/sec: 273.282\n"
     ]
    },
    {
     "name": "stderr",
     "output_type": "stream",
     "text": [
      "INFO:tensorflow:global_step/sec: 273.282\n"
     ]
    },
    {
     "name": "stdout",
     "output_type": "stream",
     "text": [
      "INFO:tensorflow:loss = 4.3303137, step = 3475 (0.371 sec)\n"
     ]
    },
    {
     "name": "stderr",
     "output_type": "stream",
     "text": [
      "INFO:tensorflow:loss = 4.3303137, step = 3475 (0.371 sec)\n"
     ]
    },
    {
     "name": "stdout",
     "output_type": "stream",
     "text": [
      "INFO:tensorflow:global_step/sec: 236.319\n"
     ]
    },
    {
     "name": "stderr",
     "output_type": "stream",
     "text": [
      "INFO:tensorflow:global_step/sec: 236.319\n"
     ]
    },
    {
     "name": "stdout",
     "output_type": "stream",
     "text": [
      "INFO:tensorflow:loss = 2.5365791, step = 3575 (0.418 sec)\n"
     ]
    },
    {
     "name": "stderr",
     "output_type": "stream",
     "text": [
      "INFO:tensorflow:loss = 2.5365791, step = 3575 (0.418 sec)\n"
     ]
    },
    {
     "name": "stdout",
     "output_type": "stream",
     "text": [
      "INFO:tensorflow:global_step/sec: 268.443\n"
     ]
    },
    {
     "name": "stderr",
     "output_type": "stream",
     "text": [
      "INFO:tensorflow:global_step/sec: 268.443\n"
     ]
    },
    {
     "name": "stdout",
     "output_type": "stream",
     "text": [
      "INFO:tensorflow:loss = 2.195749, step = 3675 (0.373 sec)\n"
     ]
    },
    {
     "name": "stderr",
     "output_type": "stream",
     "text": [
      "INFO:tensorflow:loss = 2.195749, step = 3675 (0.373 sec)\n"
     ]
    },
    {
     "name": "stdout",
     "output_type": "stream",
     "text": [
      "INFO:tensorflow:Saving checkpoints for 3750 into ./tmp4wk8inr5/model.ckpt.\n"
     ]
    },
    {
     "name": "stderr",
     "output_type": "stream",
     "text": [
      "INFO:tensorflow:Saving checkpoints for 3750 into ./tmp4wk8inr5/model.ckpt.\n"
     ]
    },
    {
     "name": "stdout",
     "output_type": "stream",
     "text": [
      "INFO:tensorflow:Loss for final step: 1.1883334.\n"
     ]
    },
    {
     "name": "stderr",
     "output_type": "stream",
     "text": [
      "INFO:tensorflow:Loss for final step: 1.1883334.\n"
     ]
    },
    {
     "name": "stdout",
     "output_type": "stream",
     "text": [
      "Evaluation after epoch:\n",
      "INFO:tensorflow:Calling model_fn.\n"
     ]
    },
    {
     "name": "stderr",
     "output_type": "stream",
     "text": [
      "INFO:tensorflow:Calling model_fn.\n"
     ]
    },
    {
     "name": "stdout",
     "output_type": "stream",
     "text": [
      "INFO:tensorflow:Done calling model_fn.\n"
     ]
    },
    {
     "name": "stderr",
     "output_type": "stream",
     "text": [
      "INFO:tensorflow:Done calling model_fn.\n"
     ]
    },
    {
     "name": "stdout",
     "output_type": "stream",
     "text": [
      "INFO:tensorflow:Starting evaluation at 2020-03-30T11:03:33Z\n"
     ]
    },
    {
     "name": "stderr",
     "output_type": "stream",
     "text": [
      "INFO:tensorflow:Starting evaluation at 2020-03-30T11:03:33Z\n"
     ]
    },
    {
     "name": "stdout",
     "output_type": "stream",
     "text": [
      "INFO:tensorflow:Graph was finalized.\n"
     ]
    },
    {
     "name": "stderr",
     "output_type": "stream",
     "text": [
      "INFO:tensorflow:Graph was finalized.\n"
     ]
    },
    {
     "name": "stdout",
     "output_type": "stream",
     "text": [
      "INFO:tensorflow:Restoring parameters from ./tmp4wk8inr5/model.ckpt-3750\n"
     ]
    },
    {
     "name": "stderr",
     "output_type": "stream",
     "text": [
      "INFO:tensorflow:Restoring parameters from ./tmp4wk8inr5/model.ckpt-3750\n"
     ]
    },
    {
     "name": "stdout",
     "output_type": "stream",
     "text": [
      "INFO:tensorflow:Running local_init_op.\n"
     ]
    },
    {
     "name": "stderr",
     "output_type": "stream",
     "text": [
      "INFO:tensorflow:Running local_init_op.\n"
     ]
    },
    {
     "name": "stdout",
     "output_type": "stream",
     "text": [
      "INFO:tensorflow:Done running local_init_op.\n"
     ]
    },
    {
     "name": "stderr",
     "output_type": "stream",
     "text": [
      "INFO:tensorflow:Done running local_init_op.\n"
     ]
    },
    {
     "name": "stdout",
     "output_type": "stream",
     "text": [
      "INFO:tensorflow:Inference Time : 6.26931s\n"
     ]
    },
    {
     "name": "stderr",
     "output_type": "stream",
     "text": [
      "INFO:tensorflow:Inference Time : 6.26931s\n"
     ]
    },
    {
     "name": "stdout",
     "output_type": "stream",
     "text": [
      "INFO:tensorflow:Finished evaluation at 2020-03-30-11:03:39\n"
     ]
    },
    {
     "name": "stderr",
     "output_type": "stream",
     "text": [
      "INFO:tensorflow:Finished evaluation at 2020-03-30-11:03:39\n"
     ]
    },
    {
     "name": "stdout",
     "output_type": "stream",
     "text": [
      "INFO:tensorflow:Saving dict for global step 3750: accuracy = 0.8452, average_loss = 0.89032143, global_step = 3750, loss = 0.89032143\n"
     ]
    },
    {
     "name": "stderr",
     "output_type": "stream",
     "text": [
      "INFO:tensorflow:Saving dict for global step 3750: accuracy = 0.8452, average_loss = 0.89032143, global_step = 3750, loss = 0.89032143\n"
     ]
    },
    {
     "name": "stdout",
     "output_type": "stream",
     "text": [
      "INFO:tensorflow:Saving 'checkpoint_path' summary for global step 3750: ./tmp4wk8inr5/model.ckpt-3750\n"
     ]
    },
    {
     "name": "stderr",
     "output_type": "stream",
     "text": [
      "INFO:tensorflow:Saving 'checkpoint_path' summary for global step 3750: ./tmp4wk8inr5/model.ckpt-3750\n"
     ]
    },
    {
     "name": "stdout",
     "output_type": "stream",
     "text": [
      "{'accuracy': 0.8452, 'average_loss': 0.89032143, 'loss': 0.89032143, 'global_step': 3750}\n",
      "INFO:tensorflow:Calling model_fn.\n"
     ]
    },
    {
     "name": "stderr",
     "output_type": "stream",
     "text": [
      "INFO:tensorflow:Calling model_fn.\n"
     ]
    },
    {
     "name": "stdout",
     "output_type": "stream",
     "text": [
      "INFO:tensorflow:Done calling model_fn.\n"
     ]
    },
    {
     "name": "stderr",
     "output_type": "stream",
     "text": [
      "INFO:tensorflow:Done calling model_fn.\n"
     ]
    },
    {
     "name": "stdout",
     "output_type": "stream",
     "text": [
      "INFO:tensorflow:Starting evaluation at 2020-03-30T11:03:39Z\n"
     ]
    },
    {
     "name": "stderr",
     "output_type": "stream",
     "text": [
      "INFO:tensorflow:Starting evaluation at 2020-03-30T11:03:39Z\n"
     ]
    },
    {
     "name": "stdout",
     "output_type": "stream",
     "text": [
      "INFO:tensorflow:Graph was finalized.\n"
     ]
    },
    {
     "name": "stderr",
     "output_type": "stream",
     "text": [
      "INFO:tensorflow:Graph was finalized.\n"
     ]
    },
    {
     "name": "stdout",
     "output_type": "stream",
     "text": [
      "INFO:tensorflow:Restoring parameters from ./tmp4wk8inr5/model.ckpt-3750\n"
     ]
    },
    {
     "name": "stderr",
     "output_type": "stream",
     "text": [
      "INFO:tensorflow:Restoring parameters from ./tmp4wk8inr5/model.ckpt-3750\n"
     ]
    },
    {
     "name": "stdout",
     "output_type": "stream",
     "text": [
      "INFO:tensorflow:Running local_init_op.\n"
     ]
    },
    {
     "name": "stderr",
     "output_type": "stream",
     "text": [
      "INFO:tensorflow:Running local_init_op.\n"
     ]
    },
    {
     "name": "stdout",
     "output_type": "stream",
     "text": [
      "INFO:tensorflow:Done running local_init_op.\n"
     ]
    },
    {
     "name": "stderr",
     "output_type": "stream",
     "text": [
      "INFO:tensorflow:Done running local_init_op.\n"
     ]
    },
    {
     "name": "stdout",
     "output_type": "stream",
     "text": [
      "INFO:tensorflow:Inference Time : 1.53688s\n"
     ]
    },
    {
     "name": "stderr",
     "output_type": "stream",
     "text": [
      "INFO:tensorflow:Inference Time : 1.53688s\n"
     ]
    },
    {
     "name": "stdout",
     "output_type": "stream",
     "text": [
      "INFO:tensorflow:Finished evaluation at 2020-03-30-11:03:41\n"
     ]
    },
    {
     "name": "stderr",
     "output_type": "stream",
     "text": [
      "INFO:tensorflow:Finished evaluation at 2020-03-30-11:03:41\n"
     ]
    },
    {
     "name": "stdout",
     "output_type": "stream",
     "text": [
      "INFO:tensorflow:Saving dict for global step 3750: accuracy = 0.8477, average_loss = 0.9183925, global_step = 3750, loss = 0.91932935\n"
     ]
    },
    {
     "name": "stderr",
     "output_type": "stream",
     "text": [
      "INFO:tensorflow:Saving dict for global step 3750: accuracy = 0.8477, average_loss = 0.9183925, global_step = 3750, loss = 0.91932935\n"
     ]
    },
    {
     "name": "stdout",
     "output_type": "stream",
     "text": [
      "INFO:tensorflow:Saving 'checkpoint_path' summary for global step 3750: ./tmp4wk8inr5/model.ckpt-3750\n"
     ]
    },
    {
     "name": "stderr",
     "output_type": "stream",
     "text": [
      "INFO:tensorflow:Saving 'checkpoint_path' summary for global step 3750: ./tmp4wk8inr5/model.ckpt-3750\n"
     ]
    },
    {
     "name": "stdout",
     "output_type": "stream",
     "text": [
      "{'accuracy': 0.8477, 'average_loss': 0.9183925, 'loss': 0.91932935, 'global_step': 3750}\n",
      "INFO:tensorflow:Calling model_fn.\n"
     ]
    },
    {
     "name": "stderr",
     "output_type": "stream",
     "text": [
      "INFO:tensorflow:Calling model_fn.\n"
     ]
    },
    {
     "name": "stdout",
     "output_type": "stream",
     "text": [
      "INFO:tensorflow:Done calling model_fn.\n"
     ]
    },
    {
     "name": "stderr",
     "output_type": "stream",
     "text": [
      "INFO:tensorflow:Done calling model_fn.\n"
     ]
    },
    {
     "name": "stdout",
     "output_type": "stream",
     "text": [
      "INFO:tensorflow:Create CheckpointSaverHook.\n"
     ]
    },
    {
     "name": "stderr",
     "output_type": "stream",
     "text": [
      "INFO:tensorflow:Create CheckpointSaverHook.\n"
     ]
    },
    {
     "name": "stdout",
     "output_type": "stream",
     "text": [
      "INFO:tensorflow:Graph was finalized.\n"
     ]
    },
    {
     "name": "stderr",
     "output_type": "stream",
     "text": [
      "INFO:tensorflow:Graph was finalized.\n"
     ]
    },
    {
     "name": "stdout",
     "output_type": "stream",
     "text": [
      "INFO:tensorflow:Restoring parameters from ./tmp4wk8inr5/model.ckpt-3750\n"
     ]
    },
    {
     "name": "stderr",
     "output_type": "stream",
     "text": [
      "INFO:tensorflow:Restoring parameters from ./tmp4wk8inr5/model.ckpt-3750\n"
     ]
    },
    {
     "name": "stdout",
     "output_type": "stream",
     "text": [
      "INFO:tensorflow:Running local_init_op.\n"
     ]
    },
    {
     "name": "stderr",
     "output_type": "stream",
     "text": [
      "INFO:tensorflow:Running local_init_op.\n"
     ]
    },
    {
     "name": "stdout",
     "output_type": "stream",
     "text": [
      "INFO:tensorflow:Done running local_init_op.\n"
     ]
    },
    {
     "name": "stderr",
     "output_type": "stream",
     "text": [
      "INFO:tensorflow:Done running local_init_op.\n"
     ]
    },
    {
     "name": "stdout",
     "output_type": "stream",
     "text": [
      "INFO:tensorflow:Saving checkpoints for 3750 into ./tmp4wk8inr5/model.ckpt.\n"
     ]
    },
    {
     "name": "stderr",
     "output_type": "stream",
     "text": [
      "INFO:tensorflow:Saving checkpoints for 3750 into ./tmp4wk8inr5/model.ckpt.\n"
     ]
    },
    {
     "name": "stdout",
     "output_type": "stream",
     "text": [
      "INFO:tensorflow:loss = 1.491953, step = 3750\n"
     ]
    },
    {
     "name": "stderr",
     "output_type": "stream",
     "text": [
      "INFO:tensorflow:loss = 1.491953, step = 3750\n"
     ]
    },
    {
     "name": "stdout",
     "output_type": "stream",
     "text": [
      "INFO:tensorflow:global_step/sec: 184.283\n"
     ]
    },
    {
     "name": "stderr",
     "output_type": "stream",
     "text": [
      "INFO:tensorflow:global_step/sec: 184.283\n"
     ]
    },
    {
     "name": "stdout",
     "output_type": "stream",
     "text": [
      "INFO:tensorflow:loss = 2.1905367, step = 3850 (0.544 sec)\n"
     ]
    },
    {
     "name": "stderr",
     "output_type": "stream",
     "text": [
      "INFO:tensorflow:loss = 2.1905367, step = 3850 (0.544 sec)\n"
     ]
    },
    {
     "name": "stdout",
     "output_type": "stream",
     "text": [
      "INFO:tensorflow:global_step/sec: 227.57\n"
     ]
    },
    {
     "name": "stderr",
     "output_type": "stream",
     "text": [
      "INFO:tensorflow:global_step/sec: 227.57\n"
     ]
    },
    {
     "name": "stdout",
     "output_type": "stream",
     "text": [
      "INFO:tensorflow:loss = 1.6393979, step = 3950 (0.440 sec)\n"
     ]
    },
    {
     "name": "stderr",
     "output_type": "stream",
     "text": [
      "INFO:tensorflow:loss = 1.6393979, step = 3950 (0.440 sec)\n"
     ]
    },
    {
     "name": "stdout",
     "output_type": "stream",
     "text": [
      "INFO:tensorflow:global_step/sec: 212.147\n"
     ]
    },
    {
     "name": "stderr",
     "output_type": "stream",
     "text": [
      "INFO:tensorflow:global_step/sec: 212.147\n"
     ]
    },
    {
     "name": "stdout",
     "output_type": "stream",
     "text": [
      "INFO:tensorflow:loss = 0.7039308, step = 4050 (0.471 sec)\n"
     ]
    },
    {
     "name": "stderr",
     "output_type": "stream",
     "text": [
      "INFO:tensorflow:loss = 0.7039308, step = 4050 (0.471 sec)\n"
     ]
    },
    {
     "name": "stdout",
     "output_type": "stream",
     "text": [
      "INFO:tensorflow:global_step/sec: 227.019\n"
     ]
    },
    {
     "name": "stderr",
     "output_type": "stream",
     "text": [
      "INFO:tensorflow:global_step/sec: 227.019\n"
     ]
    },
    {
     "name": "stdout",
     "output_type": "stream",
     "text": [
      "INFO:tensorflow:loss = 2.246589, step = 4150 (0.441 sec)\n"
     ]
    },
    {
     "name": "stderr",
     "output_type": "stream",
     "text": [
      "INFO:tensorflow:loss = 2.246589, step = 4150 (0.441 sec)\n"
     ]
    },
    {
     "name": "stdout",
     "output_type": "stream",
     "text": [
      "INFO:tensorflow:global_step/sec: 223.25\n"
     ]
    },
    {
     "name": "stderr",
     "output_type": "stream",
     "text": [
      "INFO:tensorflow:global_step/sec: 223.25\n"
     ]
    },
    {
     "name": "stdout",
     "output_type": "stream",
     "text": [
      "INFO:tensorflow:loss = 0.90752876, step = 4250 (0.448 sec)\n"
     ]
    },
    {
     "name": "stderr",
     "output_type": "stream",
     "text": [
      "INFO:tensorflow:loss = 0.90752876, step = 4250 (0.448 sec)\n"
     ]
    },
    {
     "name": "stdout",
     "output_type": "stream",
     "text": [
      "WARNING:tensorflow:It seems that global step (tf.train.get_global_step) has not been increased. Current value (could be stable): 4337 vs previous value: 4337. You could increase the global step by passing tf.train.get_global_step() to Optimizer.apply_gradients or Optimizer.minimize.\n"
     ]
    },
    {
     "name": "stderr",
     "output_type": "stream",
     "text": [
      "WARNING:tensorflow:It seems that global step (tf.train.get_global_step) has not been increased. Current value (could be stable): 4337 vs previous value: 4337. You could increase the global step by passing tf.train.get_global_step() to Optimizer.apply_gradients or Optimizer.minimize.\n"
     ]
    },
    {
     "name": "stdout",
     "output_type": "stream",
     "text": [
      "WARNING:tensorflow:It seems that global step (tf.train.get_global_step) has not been increased. Current value (could be stable): 4341 vs previous value: 4341. You could increase the global step by passing tf.train.get_global_step() to Optimizer.apply_gradients or Optimizer.minimize.\n"
     ]
    },
    {
     "name": "stderr",
     "output_type": "stream",
     "text": [
      "WARNING:tensorflow:It seems that global step (tf.train.get_global_step) has not been increased. Current value (could be stable): 4341 vs previous value: 4341. You could increase the global step by passing tf.train.get_global_step() to Optimizer.apply_gradients or Optimizer.minimize.\n"
     ]
    },
    {
     "name": "stdout",
     "output_type": "stream",
     "text": [
      "INFO:tensorflow:global_step/sec: 223.128\n"
     ]
    },
    {
     "name": "stderr",
     "output_type": "stream",
     "text": [
      "INFO:tensorflow:global_step/sec: 223.128\n"
     ]
    },
    {
     "name": "stdout",
     "output_type": "stream",
     "text": [
      "INFO:tensorflow:loss = 1.7970332, step = 4350 (0.448 sec)\n"
     ]
    },
    {
     "name": "stderr",
     "output_type": "stream",
     "text": [
      "INFO:tensorflow:loss = 1.7970332, step = 4350 (0.448 sec)\n"
     ]
    },
    {
     "name": "stdout",
     "output_type": "stream",
     "text": [
      "INFO:tensorflow:global_step/sec: 240.893\n"
     ]
    },
    {
     "name": "stderr",
     "output_type": "stream",
     "text": [
      "INFO:tensorflow:global_step/sec: 240.893\n"
     ]
    },
    {
     "name": "stdout",
     "output_type": "stream",
     "text": [
      "INFO:tensorflow:loss = 1.7970853, step = 4450 (0.416 sec)\n"
     ]
    },
    {
     "name": "stderr",
     "output_type": "stream",
     "text": [
      "INFO:tensorflow:loss = 1.7970853, step = 4450 (0.416 sec)\n"
     ]
    },
    {
     "name": "stdout",
     "output_type": "stream",
     "text": [
      "INFO:tensorflow:global_step/sec: 218.687\n"
     ]
    },
    {
     "name": "stderr",
     "output_type": "stream",
     "text": [
      "INFO:tensorflow:global_step/sec: 218.687\n"
     ]
    },
    {
     "name": "stdout",
     "output_type": "stream",
     "text": [
      "INFO:tensorflow:loss = 1.8688555, step = 4550 (0.458 sec)\n"
     ]
    },
    {
     "name": "stderr",
     "output_type": "stream",
     "text": [
      "INFO:tensorflow:loss = 1.8688555, step = 4550 (0.458 sec)\n"
     ]
    },
    {
     "name": "stdout",
     "output_type": "stream",
     "text": [
      "INFO:tensorflow:global_step/sec: 212.951\n"
     ]
    },
    {
     "name": "stderr",
     "output_type": "stream",
     "text": [
      "INFO:tensorflow:global_step/sec: 212.951\n"
     ]
    },
    {
     "name": "stdout",
     "output_type": "stream",
     "text": [
      "INFO:tensorflow:loss = 1.6901729, step = 4650 (0.468 sec)\n"
     ]
    },
    {
     "name": "stderr",
     "output_type": "stream",
     "text": [
      "INFO:tensorflow:loss = 1.6901729, step = 4650 (0.468 sec)\n"
     ]
    },
    {
     "name": "stdout",
     "output_type": "stream",
     "text": [
      "INFO:tensorflow:global_step/sec: 256.358\n"
     ]
    },
    {
     "name": "stderr",
     "output_type": "stream",
     "text": [
      "INFO:tensorflow:global_step/sec: 256.358\n"
     ]
    },
    {
     "name": "stdout",
     "output_type": "stream",
     "text": [
      "INFO:tensorflow:loss = 1.9717922, step = 4750 (0.390 sec)\n"
     ]
    },
    {
     "name": "stderr",
     "output_type": "stream",
     "text": [
      "INFO:tensorflow:loss = 1.9717922, step = 4750 (0.390 sec)\n"
     ]
    },
    {
     "name": "stdout",
     "output_type": "stream",
     "text": [
      "INFO:tensorflow:global_step/sec: 227.801\n"
     ]
    },
    {
     "name": "stderr",
     "output_type": "stream",
     "text": [
      "INFO:tensorflow:global_step/sec: 227.801\n"
     ]
    },
    {
     "name": "stdout",
     "output_type": "stream",
     "text": [
      "INFO:tensorflow:loss = 2.4982142, step = 4850 (0.441 sec)\n"
     ]
    },
    {
     "name": "stderr",
     "output_type": "stream",
     "text": [
      "INFO:tensorflow:loss = 2.4982142, step = 4850 (0.441 sec)\n"
     ]
    },
    {
     "name": "stdout",
     "output_type": "stream",
     "text": [
      "INFO:tensorflow:global_step/sec: 197.154\n"
     ]
    },
    {
     "name": "stderr",
     "output_type": "stream",
     "text": [
      "INFO:tensorflow:global_step/sec: 197.154\n"
     ]
    },
    {
     "name": "stdout",
     "output_type": "stream",
     "text": [
      "INFO:tensorflow:loss = 1.1972495, step = 4950 (0.505 sec)\n"
     ]
    },
    {
     "name": "stderr",
     "output_type": "stream",
     "text": [
      "INFO:tensorflow:loss = 1.1972495, step = 4950 (0.505 sec)\n"
     ]
    },
    {
     "name": "stdout",
     "output_type": "stream",
     "text": [
      "INFO:tensorflow:global_step/sec: 186.938\n"
     ]
    },
    {
     "name": "stderr",
     "output_type": "stream",
     "text": [
      "INFO:tensorflow:global_step/sec: 186.938\n"
     ]
    },
    {
     "name": "stdout",
     "output_type": "stream",
     "text": [
      "INFO:tensorflow:loss = 2.3726413, step = 5050 (0.536 sec)\n"
     ]
    },
    {
     "name": "stderr",
     "output_type": "stream",
     "text": [
      "INFO:tensorflow:loss = 2.3726413, step = 5050 (0.536 sec)\n"
     ]
    },
    {
     "name": "stdout",
     "output_type": "stream",
     "text": [
      "INFO:tensorflow:global_step/sec: 195.085\n"
     ]
    },
    {
     "name": "stderr",
     "output_type": "stream",
     "text": [
      "INFO:tensorflow:global_step/sec: 195.085\n"
     ]
    },
    {
     "name": "stdout",
     "output_type": "stream",
     "text": [
      "INFO:tensorflow:loss = 1.9841627, step = 5150 (0.512 sec)\n"
     ]
    },
    {
     "name": "stderr",
     "output_type": "stream",
     "text": [
      "INFO:tensorflow:loss = 1.9841627, step = 5150 (0.512 sec)\n"
     ]
    },
    {
     "name": "stdout",
     "output_type": "stream",
     "text": [
      "WARNING:tensorflow:It seems that global step (tf.train.get_global_step) has not been increased. Current value (could be stable): 5244 vs previous value: 5244. You could increase the global step by passing tf.train.get_global_step() to Optimizer.apply_gradients or Optimizer.minimize.\n"
     ]
    },
    {
     "name": "stderr",
     "output_type": "stream",
     "text": [
      "WARNING:tensorflow:It seems that global step (tf.train.get_global_step) has not been increased. Current value (could be stable): 5244 vs previous value: 5244. You could increase the global step by passing tf.train.get_global_step() to Optimizer.apply_gradients or Optimizer.minimize.\n"
     ]
    },
    {
     "name": "stdout",
     "output_type": "stream",
     "text": [
      "INFO:tensorflow:global_step/sec: 202.77\n"
     ]
    },
    {
     "name": "stderr",
     "output_type": "stream",
     "text": [
      "INFO:tensorflow:global_step/sec: 202.77\n"
     ]
    },
    {
     "name": "stdout",
     "output_type": "stream",
     "text": [
      "INFO:tensorflow:loss = 1.6560485, step = 5250 (0.492 sec)\n"
     ]
    },
    {
     "name": "stderr",
     "output_type": "stream",
     "text": [
      "INFO:tensorflow:loss = 1.6560485, step = 5250 (0.492 sec)\n"
     ]
    },
    {
     "name": "stdout",
     "output_type": "stream",
     "text": [
      "INFO:tensorflow:global_step/sec: 240.011\n"
     ]
    },
    {
     "name": "stderr",
     "output_type": "stream",
     "text": [
      "INFO:tensorflow:global_step/sec: 240.011\n"
     ]
    },
    {
     "name": "stdout",
     "output_type": "stream",
     "text": [
      "INFO:tensorflow:loss = 5.026265, step = 5350 (0.417 sec)\n"
     ]
    },
    {
     "name": "stderr",
     "output_type": "stream",
     "text": [
      "INFO:tensorflow:loss = 5.026265, step = 5350 (0.417 sec)\n"
     ]
    },
    {
     "name": "stdout",
     "output_type": "stream",
     "text": [
      "INFO:tensorflow:global_step/sec: 233.275\n"
     ]
    },
    {
     "name": "stderr",
     "output_type": "stream",
     "text": [
      "INFO:tensorflow:global_step/sec: 233.275\n"
     ]
    },
    {
     "name": "stdout",
     "output_type": "stream",
     "text": [
      "INFO:tensorflow:loss = 2.4835198, step = 5450 (0.428 sec)\n"
     ]
    },
    {
     "name": "stderr",
     "output_type": "stream",
     "text": [
      "INFO:tensorflow:loss = 2.4835198, step = 5450 (0.428 sec)\n"
     ]
    },
    {
     "name": "stdout",
     "output_type": "stream",
     "text": [
      "INFO:tensorflow:global_step/sec: 209.096\n"
     ]
    },
    {
     "name": "stderr",
     "output_type": "stream",
     "text": [
      "INFO:tensorflow:global_step/sec: 209.096\n"
     ]
    },
    {
     "name": "stdout",
     "output_type": "stream",
     "text": [
      "INFO:tensorflow:loss = 1.549655, step = 5550 (0.480 sec)\n"
     ]
    },
    {
     "name": "stderr",
     "output_type": "stream",
     "text": [
      "INFO:tensorflow:loss = 1.549655, step = 5550 (0.480 sec)\n"
     ]
    },
    {
     "name": "stdout",
     "output_type": "stream",
     "text": [
      "INFO:tensorflow:Saving checkpoints for 5625 into ./tmp4wk8inr5/model.ckpt.\n"
     ]
    },
    {
     "name": "stderr",
     "output_type": "stream",
     "text": [
      "INFO:tensorflow:Saving checkpoints for 5625 into ./tmp4wk8inr5/model.ckpt.\n"
     ]
    },
    {
     "name": "stdout",
     "output_type": "stream",
     "text": [
      "INFO:tensorflow:Loss for final step: 0.773206.\n"
     ]
    },
    {
     "name": "stderr",
     "output_type": "stream",
     "text": [
      "INFO:tensorflow:Loss for final step: 0.773206.\n"
     ]
    },
    {
     "name": "stdout",
     "output_type": "stream",
     "text": [
      "Evaluation after epoch:\n",
      "INFO:tensorflow:Calling model_fn.\n"
     ]
    },
    {
     "name": "stderr",
     "output_type": "stream",
     "text": [
      "INFO:tensorflow:Calling model_fn.\n"
     ]
    },
    {
     "name": "stdout",
     "output_type": "stream",
     "text": [
      "INFO:tensorflow:Done calling model_fn.\n"
     ]
    },
    {
     "name": "stderr",
     "output_type": "stream",
     "text": [
      "INFO:tensorflow:Done calling model_fn.\n"
     ]
    },
    {
     "name": "stdout",
     "output_type": "stream",
     "text": [
      "INFO:tensorflow:Starting evaluation at 2020-03-30T11:03:51Z\n"
     ]
    },
    {
     "name": "stderr",
     "output_type": "stream",
     "text": [
      "INFO:tensorflow:Starting evaluation at 2020-03-30T11:03:51Z\n"
     ]
    },
    {
     "name": "stdout",
     "output_type": "stream",
     "text": [
      "INFO:tensorflow:Graph was finalized.\n"
     ]
    },
    {
     "name": "stderr",
     "output_type": "stream",
     "text": [
      "INFO:tensorflow:Graph was finalized.\n"
     ]
    },
    {
     "name": "stdout",
     "output_type": "stream",
     "text": [
      "INFO:tensorflow:Restoring parameters from ./tmp4wk8inr5/model.ckpt-5625\n"
     ]
    },
    {
     "name": "stderr",
     "output_type": "stream",
     "text": [
      "INFO:tensorflow:Restoring parameters from ./tmp4wk8inr5/model.ckpt-5625\n"
     ]
    },
    {
     "name": "stdout",
     "output_type": "stream",
     "text": [
      "INFO:tensorflow:Running local_init_op.\n"
     ]
    },
    {
     "name": "stderr",
     "output_type": "stream",
     "text": [
      "INFO:tensorflow:Running local_init_op.\n"
     ]
    },
    {
     "name": "stdout",
     "output_type": "stream",
     "text": [
      "INFO:tensorflow:Done running local_init_op.\n"
     ]
    },
    {
     "name": "stderr",
     "output_type": "stream",
     "text": [
      "INFO:tensorflow:Done running local_init_op.\n"
     ]
    },
    {
     "name": "stdout",
     "output_type": "stream",
     "text": [
      "INFO:tensorflow:Inference Time : 8.13341s\n"
     ]
    },
    {
     "name": "stderr",
     "output_type": "stream",
     "text": [
      "INFO:tensorflow:Inference Time : 8.13341s\n"
     ]
    },
    {
     "name": "stdout",
     "output_type": "stream",
     "text": [
      "INFO:tensorflow:Finished evaluation at 2020-03-30-11:03:59\n"
     ]
    },
    {
     "name": "stderr",
     "output_type": "stream",
     "text": [
      "INFO:tensorflow:Finished evaluation at 2020-03-30-11:03:59\n"
     ]
    },
    {
     "name": "stdout",
     "output_type": "stream",
     "text": [
      "INFO:tensorflow:Saving dict for global step 5625: accuracy = 0.85648334, average_loss = 0.7349336, global_step = 5625, loss = 0.7349336\n"
     ]
    },
    {
     "name": "stderr",
     "output_type": "stream",
     "text": [
      "INFO:tensorflow:Saving dict for global step 5625: accuracy = 0.85648334, average_loss = 0.7349336, global_step = 5625, loss = 0.7349336\n"
     ]
    },
    {
     "name": "stdout",
     "output_type": "stream",
     "text": [
      "INFO:tensorflow:Saving 'checkpoint_path' summary for global step 5625: ./tmp4wk8inr5/model.ckpt-5625\n"
     ]
    },
    {
     "name": "stderr",
     "output_type": "stream",
     "text": [
      "INFO:tensorflow:Saving 'checkpoint_path' summary for global step 5625: ./tmp4wk8inr5/model.ckpt-5625\n"
     ]
    },
    {
     "name": "stdout",
     "output_type": "stream",
     "text": [
      "{'accuracy': 0.85648334, 'average_loss': 0.7349336, 'loss': 0.7349336, 'global_step': 5625}\n",
      "INFO:tensorflow:Calling model_fn.\n"
     ]
    },
    {
     "name": "stderr",
     "output_type": "stream",
     "text": [
      "INFO:tensorflow:Calling model_fn.\n"
     ]
    },
    {
     "name": "stdout",
     "output_type": "stream",
     "text": [
      "INFO:tensorflow:Done calling model_fn.\n"
     ]
    },
    {
     "name": "stderr",
     "output_type": "stream",
     "text": [
      "INFO:tensorflow:Done calling model_fn.\n"
     ]
    },
    {
     "name": "stdout",
     "output_type": "stream",
     "text": [
      "INFO:tensorflow:Starting evaluation at 2020-03-30T11:04:00Z\n"
     ]
    },
    {
     "name": "stderr",
     "output_type": "stream",
     "text": [
      "INFO:tensorflow:Starting evaluation at 2020-03-30T11:04:00Z\n"
     ]
    },
    {
     "name": "stdout",
     "output_type": "stream",
     "text": [
      "INFO:tensorflow:Graph was finalized.\n"
     ]
    },
    {
     "name": "stderr",
     "output_type": "stream",
     "text": [
      "INFO:tensorflow:Graph was finalized.\n"
     ]
    },
    {
     "name": "stdout",
     "output_type": "stream",
     "text": [
      "INFO:tensorflow:Restoring parameters from ./tmp4wk8inr5/model.ckpt-5625\n"
     ]
    },
    {
     "name": "stderr",
     "output_type": "stream",
     "text": [
      "INFO:tensorflow:Restoring parameters from ./tmp4wk8inr5/model.ckpt-5625\n"
     ]
    },
    {
     "name": "stdout",
     "output_type": "stream",
     "text": [
      "INFO:tensorflow:Running local_init_op.\n"
     ]
    },
    {
     "name": "stderr",
     "output_type": "stream",
     "text": [
      "INFO:tensorflow:Running local_init_op.\n"
     ]
    },
    {
     "name": "stdout",
     "output_type": "stream",
     "text": [
      "INFO:tensorflow:Done running local_init_op.\n"
     ]
    },
    {
     "name": "stderr",
     "output_type": "stream",
     "text": [
      "INFO:tensorflow:Done running local_init_op.\n"
     ]
    },
    {
     "name": "stdout",
     "output_type": "stream",
     "text": [
      "INFO:tensorflow:Inference Time : 1.99595s\n"
     ]
    },
    {
     "name": "stderr",
     "output_type": "stream",
     "text": [
      "INFO:tensorflow:Inference Time : 1.99595s\n"
     ]
    },
    {
     "name": "stdout",
     "output_type": "stream",
     "text": [
      "INFO:tensorflow:Finished evaluation at 2020-03-30-11:04:02\n"
     ]
    },
    {
     "name": "stderr",
     "output_type": "stream",
     "text": [
      "INFO:tensorflow:Finished evaluation at 2020-03-30-11:04:02\n"
     ]
    },
    {
     "name": "stdout",
     "output_type": "stream",
     "text": [
      "INFO:tensorflow:Saving dict for global step 5625: accuracy = 0.8588, average_loss = 0.7684472, global_step = 5625, loss = 0.7690077\n"
     ]
    },
    {
     "name": "stderr",
     "output_type": "stream",
     "text": [
      "INFO:tensorflow:Saving dict for global step 5625: accuracy = 0.8588, average_loss = 0.7684472, global_step = 5625, loss = 0.7690077\n"
     ]
    },
    {
     "name": "stdout",
     "output_type": "stream",
     "text": [
      "INFO:tensorflow:Saving 'checkpoint_path' summary for global step 5625: ./tmp4wk8inr5/model.ckpt-5625\n"
     ]
    },
    {
     "name": "stderr",
     "output_type": "stream",
     "text": [
      "INFO:tensorflow:Saving 'checkpoint_path' summary for global step 5625: ./tmp4wk8inr5/model.ckpt-5625\n"
     ]
    },
    {
     "name": "stdout",
     "output_type": "stream",
     "text": [
      "{'accuracy': 0.8588, 'average_loss': 0.7684472, 'loss': 0.7690077, 'global_step': 5625}\n",
      "INFO:tensorflow:Calling model_fn.\n"
     ]
    },
    {
     "name": "stderr",
     "output_type": "stream",
     "text": [
      "INFO:tensorflow:Calling model_fn.\n"
     ]
    },
    {
     "name": "stdout",
     "output_type": "stream",
     "text": [
      "INFO:tensorflow:Done calling model_fn.\n"
     ]
    },
    {
     "name": "stderr",
     "output_type": "stream",
     "text": [
      "INFO:tensorflow:Done calling model_fn.\n"
     ]
    },
    {
     "name": "stdout",
     "output_type": "stream",
     "text": [
      "INFO:tensorflow:Create CheckpointSaverHook.\n"
     ]
    },
    {
     "name": "stderr",
     "output_type": "stream",
     "text": [
      "INFO:tensorflow:Create CheckpointSaverHook.\n"
     ]
    },
    {
     "name": "stdout",
     "output_type": "stream",
     "text": [
      "INFO:tensorflow:Graph was finalized.\n"
     ]
    },
    {
     "name": "stderr",
     "output_type": "stream",
     "text": [
      "INFO:tensorflow:Graph was finalized.\n"
     ]
    },
    {
     "name": "stdout",
     "output_type": "stream",
     "text": [
      "INFO:tensorflow:Restoring parameters from ./tmp4wk8inr5/model.ckpt-5625\n"
     ]
    },
    {
     "name": "stderr",
     "output_type": "stream",
     "text": [
      "INFO:tensorflow:Restoring parameters from ./tmp4wk8inr5/model.ckpt-5625\n"
     ]
    },
    {
     "name": "stdout",
     "output_type": "stream",
     "text": [
      "INFO:tensorflow:Running local_init_op.\n"
     ]
    },
    {
     "name": "stderr",
     "output_type": "stream",
     "text": [
      "INFO:tensorflow:Running local_init_op.\n"
     ]
    },
    {
     "name": "stdout",
     "output_type": "stream",
     "text": [
      "INFO:tensorflow:Done running local_init_op.\n"
     ]
    },
    {
     "name": "stderr",
     "output_type": "stream",
     "text": [
      "INFO:tensorflow:Done running local_init_op.\n"
     ]
    },
    {
     "name": "stdout",
     "output_type": "stream",
     "text": [
      "INFO:tensorflow:Saving checkpoints for 5625 into ./tmp4wk8inr5/model.ckpt.\n"
     ]
    },
    {
     "name": "stderr",
     "output_type": "stream",
     "text": [
      "INFO:tensorflow:Saving checkpoints for 5625 into ./tmp4wk8inr5/model.ckpt.\n"
     ]
    },
    {
     "name": "stdout",
     "output_type": "stream",
     "text": [
      "INFO:tensorflow:loss = 1.0757873, step = 5625\n"
     ]
    },
    {
     "name": "stderr",
     "output_type": "stream",
     "text": [
      "INFO:tensorflow:loss = 1.0757873, step = 5625\n"
     ]
    },
    {
     "name": "stdout",
     "output_type": "stream",
     "text": [
      "INFO:tensorflow:global_step/sec: 154.534\n"
     ]
    },
    {
     "name": "stderr",
     "output_type": "stream",
     "text": [
      "INFO:tensorflow:global_step/sec: 154.534\n"
     ]
    },
    {
     "name": "stdout",
     "output_type": "stream",
     "text": [
      "INFO:tensorflow:loss = 1.7060719, step = 5725 (0.649 sec)\n"
     ]
    },
    {
     "name": "stderr",
     "output_type": "stream",
     "text": [
      "INFO:tensorflow:loss = 1.7060719, step = 5725 (0.649 sec)\n"
     ]
    },
    {
     "name": "stdout",
     "output_type": "stream",
     "text": [
      "INFO:tensorflow:global_step/sec: 152.213\n"
     ]
    },
    {
     "name": "stderr",
     "output_type": "stream",
     "text": [
      "INFO:tensorflow:global_step/sec: 152.213\n"
     ]
    },
    {
     "name": "stdout",
     "output_type": "stream",
     "text": [
      "INFO:tensorflow:loss = 1.5177093, step = 5825 (0.657 sec)\n"
     ]
    },
    {
     "name": "stderr",
     "output_type": "stream",
     "text": [
      "INFO:tensorflow:loss = 1.5177093, step = 5825 (0.657 sec)\n"
     ]
    },
    {
     "name": "stdout",
     "output_type": "stream",
     "text": [
      "INFO:tensorflow:global_step/sec: 156.567\n"
     ]
    },
    {
     "name": "stderr",
     "output_type": "stream",
     "text": [
      "INFO:tensorflow:global_step/sec: 156.567\n"
     ]
    },
    {
     "name": "stdout",
     "output_type": "stream",
     "text": [
      "INFO:tensorflow:loss = 0.94569314, step = 5925 (0.641 sec)\n"
     ]
    },
    {
     "name": "stderr",
     "output_type": "stream",
     "text": [
      "INFO:tensorflow:loss = 0.94569314, step = 5925 (0.641 sec)\n"
     ]
    },
    {
     "name": "stdout",
     "output_type": "stream",
     "text": [
      "INFO:tensorflow:global_step/sec: 166.654\n"
     ]
    },
    {
     "name": "stderr",
     "output_type": "stream",
     "text": [
      "INFO:tensorflow:global_step/sec: 166.654\n"
     ]
    },
    {
     "name": "stdout",
     "output_type": "stream",
     "text": [
      "INFO:tensorflow:loss = 1.9447703, step = 6025 (0.605 sec)\n"
     ]
    },
    {
     "name": "stderr",
     "output_type": "stream",
     "text": [
      "INFO:tensorflow:loss = 1.9447703, step = 6025 (0.605 sec)\n"
     ]
    },
    {
     "name": "stdout",
     "output_type": "stream",
     "text": [
      "INFO:tensorflow:global_step/sec: 234.369\n"
     ]
    },
    {
     "name": "stderr",
     "output_type": "stream",
     "text": [
      "INFO:tensorflow:global_step/sec: 234.369\n"
     ]
    },
    {
     "name": "stdout",
     "output_type": "stream",
     "text": [
      "INFO:tensorflow:loss = 1.0596846, step = 6125 (0.420 sec)\n"
     ]
    },
    {
     "name": "stderr",
     "output_type": "stream",
     "text": [
      "INFO:tensorflow:loss = 1.0596846, step = 6125 (0.420 sec)\n"
     ]
    },
    {
     "name": "stdout",
     "output_type": "stream",
     "text": [
      "INFO:tensorflow:global_step/sec: 220.867\n"
     ]
    },
    {
     "name": "stderr",
     "output_type": "stream",
     "text": [
      "INFO:tensorflow:global_step/sec: 220.867\n"
     ]
    },
    {
     "name": "stdout",
     "output_type": "stream",
     "text": [
      "INFO:tensorflow:loss = 1.8546941, step = 6225 (0.453 sec)\n"
     ]
    },
    {
     "name": "stderr",
     "output_type": "stream",
     "text": [
      "INFO:tensorflow:loss = 1.8546941, step = 6225 (0.453 sec)\n"
     ]
    },
    {
     "name": "stdout",
     "output_type": "stream",
     "text": [
      "INFO:tensorflow:global_step/sec: 270.278\n"
     ]
    },
    {
     "name": "stderr",
     "output_type": "stream",
     "text": [
      "INFO:tensorflow:global_step/sec: 270.278\n"
     ]
    },
    {
     "name": "stdout",
     "output_type": "stream",
     "text": [
      "INFO:tensorflow:loss = 0.9380438, step = 6325 (0.370 sec)\n"
     ]
    },
    {
     "name": "stderr",
     "output_type": "stream",
     "text": [
      "INFO:tensorflow:loss = 0.9380438, step = 6325 (0.370 sec)\n"
     ]
    },
    {
     "name": "stdout",
     "output_type": "stream",
     "text": [
      "INFO:tensorflow:global_step/sec: 214.005\n"
     ]
    },
    {
     "name": "stderr",
     "output_type": "stream",
     "text": [
      "INFO:tensorflow:global_step/sec: 214.005\n"
     ]
    },
    {
     "name": "stdout",
     "output_type": "stream",
     "text": [
      "INFO:tensorflow:loss = 2.6960776, step = 6425 (0.468 sec)\n"
     ]
    },
    {
     "name": "stderr",
     "output_type": "stream",
     "text": [
      "INFO:tensorflow:loss = 2.6960776, step = 6425 (0.468 sec)\n"
     ]
    },
    {
     "name": "stdout",
     "output_type": "stream",
     "text": [
      "INFO:tensorflow:global_step/sec: 215.104\n"
     ]
    },
    {
     "name": "stderr",
     "output_type": "stream",
     "text": [
      "INFO:tensorflow:global_step/sec: 215.104\n"
     ]
    },
    {
     "name": "stdout",
     "output_type": "stream",
     "text": [
      "INFO:tensorflow:loss = 1.5876064, step = 6525 (0.466 sec)\n"
     ]
    },
    {
     "name": "stderr",
     "output_type": "stream",
     "text": [
      "INFO:tensorflow:loss = 1.5876064, step = 6525 (0.466 sec)\n"
     ]
    },
    {
     "name": "stdout",
     "output_type": "stream",
     "text": [
      "INFO:tensorflow:global_step/sec: 265.948\n"
     ]
    },
    {
     "name": "stderr",
     "output_type": "stream",
     "text": [
      "INFO:tensorflow:global_step/sec: 265.948\n"
     ]
    },
    {
     "name": "stdout",
     "output_type": "stream",
     "text": [
      "INFO:tensorflow:loss = 1.7191677, step = 6625 (0.374 sec)\n"
     ]
    },
    {
     "name": "stderr",
     "output_type": "stream",
     "text": [
      "INFO:tensorflow:loss = 1.7191677, step = 6625 (0.374 sec)\n"
     ]
    },
    {
     "name": "stdout",
     "output_type": "stream",
     "text": [
      "INFO:tensorflow:global_step/sec: 265.417\n"
     ]
    },
    {
     "name": "stderr",
     "output_type": "stream",
     "text": [
      "INFO:tensorflow:global_step/sec: 265.417\n"
     ]
    },
    {
     "name": "stdout",
     "output_type": "stream",
     "text": [
      "INFO:tensorflow:loss = 2.0332778, step = 6725 (0.376 sec)\n"
     ]
    },
    {
     "name": "stderr",
     "output_type": "stream",
     "text": [
      "INFO:tensorflow:loss = 2.0332778, step = 6725 (0.376 sec)\n"
     ]
    },
    {
     "name": "stdout",
     "output_type": "stream",
     "text": [
      "INFO:tensorflow:global_step/sec: 270.2\n"
     ]
    },
    {
     "name": "stderr",
     "output_type": "stream",
     "text": [
      "INFO:tensorflow:global_step/sec: 270.2\n"
     ]
    },
    {
     "name": "stdout",
     "output_type": "stream",
     "text": [
      "INFO:tensorflow:loss = 0.5909684, step = 6825 (0.374 sec)\n"
     ]
    },
    {
     "name": "stderr",
     "output_type": "stream",
     "text": [
      "INFO:tensorflow:loss = 0.5909684, step = 6825 (0.374 sec)\n"
     ]
    },
    {
     "name": "stdout",
     "output_type": "stream",
     "text": [
      "INFO:tensorflow:global_step/sec: 259.393\n"
     ]
    },
    {
     "name": "stderr",
     "output_type": "stream",
     "text": [
      "INFO:tensorflow:global_step/sec: 259.393\n"
     ]
    },
    {
     "name": "stdout",
     "output_type": "stream",
     "text": [
      "INFO:tensorflow:loss = 2.0020957, step = 6925 (0.382 sec)\n"
     ]
    },
    {
     "name": "stderr",
     "output_type": "stream",
     "text": [
      "INFO:tensorflow:loss = 2.0020957, step = 6925 (0.382 sec)\n"
     ]
    },
    {
     "name": "stdout",
     "output_type": "stream",
     "text": [
      "INFO:tensorflow:global_step/sec: 238.105\n"
     ]
    },
    {
     "name": "stderr",
     "output_type": "stream",
     "text": [
      "INFO:tensorflow:global_step/sec: 238.105\n"
     ]
    },
    {
     "name": "stdout",
     "output_type": "stream",
     "text": [
      "INFO:tensorflow:loss = 0.8550391, step = 7025 (0.422 sec)\n"
     ]
    },
    {
     "name": "stderr",
     "output_type": "stream",
     "text": [
      "INFO:tensorflow:loss = 0.8550391, step = 7025 (0.422 sec)\n"
     ]
    },
    {
     "name": "stdout",
     "output_type": "stream",
     "text": [
      "INFO:tensorflow:global_step/sec: 272.102\n"
     ]
    },
    {
     "name": "stderr",
     "output_type": "stream",
     "text": [
      "INFO:tensorflow:global_step/sec: 272.102\n"
     ]
    },
    {
     "name": "stdout",
     "output_type": "stream",
     "text": [
      "INFO:tensorflow:loss = 1.4036868, step = 7125 (0.366 sec)\n"
     ]
    },
    {
     "name": "stderr",
     "output_type": "stream",
     "text": [
      "INFO:tensorflow:loss = 1.4036868, step = 7125 (0.366 sec)\n"
     ]
    },
    {
     "name": "stdout",
     "output_type": "stream",
     "text": [
      "INFO:tensorflow:global_step/sec: 244.43\n"
     ]
    },
    {
     "name": "stderr",
     "output_type": "stream",
     "text": [
      "INFO:tensorflow:global_step/sec: 244.43\n"
     ]
    },
    {
     "name": "stdout",
     "output_type": "stream",
     "text": [
      "INFO:tensorflow:loss = 3.5364757, step = 7225 (0.410 sec)\n"
     ]
    },
    {
     "name": "stderr",
     "output_type": "stream",
     "text": [
      "INFO:tensorflow:loss = 3.5364757, step = 7225 (0.410 sec)\n"
     ]
    },
    {
     "name": "stdout",
     "output_type": "stream",
     "text": [
      "INFO:tensorflow:global_step/sec: 271.328\n"
     ]
    },
    {
     "name": "stderr",
     "output_type": "stream",
     "text": [
      "INFO:tensorflow:global_step/sec: 271.328\n"
     ]
    },
    {
     "name": "stdout",
     "output_type": "stream",
     "text": [
      "INFO:tensorflow:loss = 1.394244, step = 7325 (0.370 sec)\n"
     ]
    },
    {
     "name": "stderr",
     "output_type": "stream",
     "text": [
      "INFO:tensorflow:loss = 1.394244, step = 7325 (0.370 sec)\n"
     ]
    },
    {
     "name": "stdout",
     "output_type": "stream",
     "text": [
      "INFO:tensorflow:global_step/sec: 185.987\n"
     ]
    },
    {
     "name": "stderr",
     "output_type": "stream",
     "text": [
      "INFO:tensorflow:global_step/sec: 185.987\n"
     ]
    },
    {
     "name": "stdout",
     "output_type": "stream",
     "text": [
      "INFO:tensorflow:loss = 2.1936398, step = 7425 (0.536 sec)\n"
     ]
    },
    {
     "name": "stderr",
     "output_type": "stream",
     "text": [
      "INFO:tensorflow:loss = 2.1936398, step = 7425 (0.536 sec)\n"
     ]
    },
    {
     "name": "stdout",
     "output_type": "stream",
     "text": [
      "INFO:tensorflow:Saving checkpoints for 7500 into ./tmp4wk8inr5/model.ckpt.\n"
     ]
    },
    {
     "name": "stderr",
     "output_type": "stream",
     "text": [
      "INFO:tensorflow:Saving checkpoints for 7500 into ./tmp4wk8inr5/model.ckpt.\n"
     ]
    },
    {
     "name": "stdout",
     "output_type": "stream",
     "text": [
      "INFO:tensorflow:Loss for final step: 0.6938418.\n"
     ]
    },
    {
     "name": "stderr",
     "output_type": "stream",
     "text": [
      "INFO:tensorflow:Loss for final step: 0.6938418.\n"
     ]
    },
    {
     "name": "stdout",
     "output_type": "stream",
     "text": [
      "Evaluation after epoch:\n",
      "INFO:tensorflow:Calling model_fn.\n"
     ]
    },
    {
     "name": "stderr",
     "output_type": "stream",
     "text": [
      "INFO:tensorflow:Calling model_fn.\n"
     ]
    },
    {
     "name": "stdout",
     "output_type": "stream",
     "text": [
      "INFO:tensorflow:Done calling model_fn.\n"
     ]
    },
    {
     "name": "stderr",
     "output_type": "stream",
     "text": [
      "INFO:tensorflow:Done calling model_fn.\n"
     ]
    },
    {
     "name": "stdout",
     "output_type": "stream",
     "text": [
      "INFO:tensorflow:Starting evaluation at 2020-03-30T11:04:12Z\n"
     ]
    },
    {
     "name": "stderr",
     "output_type": "stream",
     "text": [
      "INFO:tensorflow:Starting evaluation at 2020-03-30T11:04:12Z\n"
     ]
    },
    {
     "name": "stdout",
     "output_type": "stream",
     "text": [
      "INFO:tensorflow:Graph was finalized.\n"
     ]
    },
    {
     "name": "stderr",
     "output_type": "stream",
     "text": [
      "INFO:tensorflow:Graph was finalized.\n"
     ]
    },
    {
     "name": "stdout",
     "output_type": "stream",
     "text": [
      "INFO:tensorflow:Restoring parameters from ./tmp4wk8inr5/model.ckpt-7500\n"
     ]
    },
    {
     "name": "stderr",
     "output_type": "stream",
     "text": [
      "INFO:tensorflow:Restoring parameters from ./tmp4wk8inr5/model.ckpt-7500\n"
     ]
    },
    {
     "name": "stdout",
     "output_type": "stream",
     "text": [
      "INFO:tensorflow:Running local_init_op.\n"
     ]
    },
    {
     "name": "stderr",
     "output_type": "stream",
     "text": [
      "INFO:tensorflow:Running local_init_op.\n"
     ]
    },
    {
     "name": "stdout",
     "output_type": "stream",
     "text": [
      "INFO:tensorflow:Done running local_init_op.\n"
     ]
    },
    {
     "name": "stderr",
     "output_type": "stream",
     "text": [
      "INFO:tensorflow:Done running local_init_op.\n"
     ]
    },
    {
     "name": "stdout",
     "output_type": "stream",
     "text": [
      "INFO:tensorflow:Inference Time : 5.99868s\n"
     ]
    },
    {
     "name": "stderr",
     "output_type": "stream",
     "text": [
      "INFO:tensorflow:Inference Time : 5.99868s\n"
     ]
    },
    {
     "name": "stdout",
     "output_type": "stream",
     "text": [
      "INFO:tensorflow:Finished evaluation at 2020-03-30-11:04:18\n"
     ]
    },
    {
     "name": "stderr",
     "output_type": "stream",
     "text": [
      "INFO:tensorflow:Finished evaluation at 2020-03-30-11:04:18\n"
     ]
    },
    {
     "name": "stdout",
     "output_type": "stream",
     "text": [
      "INFO:tensorflow:Saving dict for global step 7500: accuracy = 0.8649333, average_loss = 0.6335589, global_step = 7500, loss = 0.6335589\n"
     ]
    },
    {
     "name": "stderr",
     "output_type": "stream",
     "text": [
      "INFO:tensorflow:Saving dict for global step 7500: accuracy = 0.8649333, average_loss = 0.6335589, global_step = 7500, loss = 0.6335589\n"
     ]
    },
    {
     "name": "stdout",
     "output_type": "stream",
     "text": [
      "INFO:tensorflow:Saving 'checkpoint_path' summary for global step 7500: ./tmp4wk8inr5/model.ckpt-7500\n"
     ]
    },
    {
     "name": "stderr",
     "output_type": "stream",
     "text": [
      "INFO:tensorflow:Saving 'checkpoint_path' summary for global step 7500: ./tmp4wk8inr5/model.ckpt-7500\n"
     ]
    },
    {
     "name": "stdout",
     "output_type": "stream",
     "text": [
      "{'accuracy': 0.8649333, 'average_loss': 0.6335589, 'loss': 0.6335589, 'global_step': 7500}\n",
      "INFO:tensorflow:Calling model_fn.\n"
     ]
    },
    {
     "name": "stderr",
     "output_type": "stream",
     "text": [
      "INFO:tensorflow:Calling model_fn.\n"
     ]
    },
    {
     "name": "stdout",
     "output_type": "stream",
     "text": [
      "INFO:tensorflow:Done calling model_fn.\n"
     ]
    },
    {
     "name": "stderr",
     "output_type": "stream",
     "text": [
      "INFO:tensorflow:Done calling model_fn.\n"
     ]
    },
    {
     "name": "stdout",
     "output_type": "stream",
     "text": [
      "INFO:tensorflow:Starting evaluation at 2020-03-30T11:04:19Z\n"
     ]
    },
    {
     "name": "stderr",
     "output_type": "stream",
     "text": [
      "INFO:tensorflow:Starting evaluation at 2020-03-30T11:04:19Z\n"
     ]
    },
    {
     "name": "stdout",
     "output_type": "stream",
     "text": [
      "INFO:tensorflow:Graph was finalized.\n"
     ]
    },
    {
     "name": "stderr",
     "output_type": "stream",
     "text": [
      "INFO:tensorflow:Graph was finalized.\n"
     ]
    },
    {
     "name": "stdout",
     "output_type": "stream",
     "text": [
      "INFO:tensorflow:Restoring parameters from ./tmp4wk8inr5/model.ckpt-7500\n"
     ]
    },
    {
     "name": "stderr",
     "output_type": "stream",
     "text": [
      "INFO:tensorflow:Restoring parameters from ./tmp4wk8inr5/model.ckpt-7500\n"
     ]
    },
    {
     "name": "stdout",
     "output_type": "stream",
     "text": [
      "INFO:tensorflow:Running local_init_op.\n"
     ]
    },
    {
     "name": "stderr",
     "output_type": "stream",
     "text": [
      "INFO:tensorflow:Running local_init_op.\n"
     ]
    },
    {
     "name": "stdout",
     "output_type": "stream",
     "text": [
      "INFO:tensorflow:Done running local_init_op.\n"
     ]
    },
    {
     "name": "stderr",
     "output_type": "stream",
     "text": [
      "INFO:tensorflow:Done running local_init_op.\n"
     ]
    },
    {
     "name": "stdout",
     "output_type": "stream",
     "text": [
      "INFO:tensorflow:Inference Time : 1.43177s\n"
     ]
    },
    {
     "name": "stderr",
     "output_type": "stream",
     "text": [
      "INFO:tensorflow:Inference Time : 1.43177s\n"
     ]
    },
    {
     "name": "stdout",
     "output_type": "stream",
     "text": [
      "INFO:tensorflow:Finished evaluation at 2020-03-30-11:04:20\n"
     ]
    },
    {
     "name": "stderr",
     "output_type": "stream",
     "text": [
      "INFO:tensorflow:Finished evaluation at 2020-03-30-11:04:20\n"
     ]
    },
    {
     "name": "stdout",
     "output_type": "stream",
     "text": [
      "INFO:tensorflow:Saving dict for global step 7500: accuracy = 0.8676, average_loss = 0.67003584, global_step = 7500, loss = 0.6705626\n"
     ]
    },
    {
     "name": "stderr",
     "output_type": "stream",
     "text": [
      "INFO:tensorflow:Saving dict for global step 7500: accuracy = 0.8676, average_loss = 0.67003584, global_step = 7500, loss = 0.6705626\n"
     ]
    },
    {
     "name": "stdout",
     "output_type": "stream",
     "text": [
      "INFO:tensorflow:Saving 'checkpoint_path' summary for global step 7500: ./tmp4wk8inr5/model.ckpt-7500\n"
     ]
    },
    {
     "name": "stderr",
     "output_type": "stream",
     "text": [
      "INFO:tensorflow:Saving 'checkpoint_path' summary for global step 7500: ./tmp4wk8inr5/model.ckpt-7500\n"
     ]
    },
    {
     "name": "stdout",
     "output_type": "stream",
     "text": [
      "{'accuracy': 0.8676, 'average_loss': 0.67003584, 'loss': 0.6705626, 'global_step': 7500}\n",
      "INFO:tensorflow:Calling model_fn.\n"
     ]
    },
    {
     "name": "stderr",
     "output_type": "stream",
     "text": [
      "INFO:tensorflow:Calling model_fn.\n"
     ]
    },
    {
     "name": "stdout",
     "output_type": "stream",
     "text": [
      "INFO:tensorflow:Done calling model_fn.\n"
     ]
    },
    {
     "name": "stderr",
     "output_type": "stream",
     "text": [
      "INFO:tensorflow:Done calling model_fn.\n"
     ]
    },
    {
     "name": "stdout",
     "output_type": "stream",
     "text": [
      "INFO:tensorflow:Create CheckpointSaverHook.\n"
     ]
    },
    {
     "name": "stderr",
     "output_type": "stream",
     "text": [
      "INFO:tensorflow:Create CheckpointSaverHook.\n"
     ]
    },
    {
     "name": "stdout",
     "output_type": "stream",
     "text": [
      "INFO:tensorflow:Graph was finalized.\n"
     ]
    },
    {
     "name": "stderr",
     "output_type": "stream",
     "text": [
      "INFO:tensorflow:Graph was finalized.\n"
     ]
    },
    {
     "name": "stdout",
     "output_type": "stream",
     "text": [
      "INFO:tensorflow:Restoring parameters from ./tmp4wk8inr5/model.ckpt-7500\n"
     ]
    },
    {
     "name": "stderr",
     "output_type": "stream",
     "text": [
      "INFO:tensorflow:Restoring parameters from ./tmp4wk8inr5/model.ckpt-7500\n"
     ]
    },
    {
     "name": "stdout",
     "output_type": "stream",
     "text": [
      "INFO:tensorflow:Running local_init_op.\n"
     ]
    },
    {
     "name": "stderr",
     "output_type": "stream",
     "text": [
      "INFO:tensorflow:Running local_init_op.\n"
     ]
    },
    {
     "name": "stdout",
     "output_type": "stream",
     "text": [
      "INFO:tensorflow:Done running local_init_op.\n"
     ]
    },
    {
     "name": "stderr",
     "output_type": "stream",
     "text": [
      "INFO:tensorflow:Done running local_init_op.\n"
     ]
    },
    {
     "name": "stdout",
     "output_type": "stream",
     "text": [
      "INFO:tensorflow:Saving checkpoints for 7500 into ./tmp4wk8inr5/model.ckpt.\n"
     ]
    },
    {
     "name": "stderr",
     "output_type": "stream",
     "text": [
      "INFO:tensorflow:Saving checkpoints for 7500 into ./tmp4wk8inr5/model.ckpt.\n"
     ]
    },
    {
     "name": "stdout",
     "output_type": "stream",
     "text": [
      "INFO:tensorflow:loss = 1.7054496, step = 7500\n"
     ]
    },
    {
     "name": "stderr",
     "output_type": "stream",
     "text": [
      "INFO:tensorflow:loss = 1.7054496, step = 7500\n"
     ]
    },
    {
     "name": "stdout",
     "output_type": "stream",
     "text": [
      "INFO:tensorflow:global_step/sec: 244.837\n"
     ]
    },
    {
     "name": "stderr",
     "output_type": "stream",
     "text": [
      "INFO:tensorflow:global_step/sec: 244.837\n"
     ]
    },
    {
     "name": "stdout",
     "output_type": "stream",
     "text": [
      "INFO:tensorflow:loss = 0.6651603, step = 7600 (0.410 sec)\n"
     ]
    },
    {
     "name": "stderr",
     "output_type": "stream",
     "text": [
      "INFO:tensorflow:loss = 0.6651603, step = 7600 (0.410 sec)\n"
     ]
    },
    {
     "name": "stdout",
     "output_type": "stream",
     "text": [
      "INFO:tensorflow:global_step/sec: 258.358\n"
     ]
    },
    {
     "name": "stderr",
     "output_type": "stream",
     "text": [
      "INFO:tensorflow:global_step/sec: 258.358\n"
     ]
    },
    {
     "name": "stdout",
     "output_type": "stream",
     "text": [
      "INFO:tensorflow:loss = 1.5211515, step = 7700 (0.387 sec)\n"
     ]
    },
    {
     "name": "stderr",
     "output_type": "stream",
     "text": [
      "INFO:tensorflow:loss = 1.5211515, step = 7700 (0.387 sec)\n"
     ]
    },
    {
     "name": "stdout",
     "output_type": "stream",
     "text": [
      "INFO:tensorflow:global_step/sec: 291.864\n"
     ]
    },
    {
     "name": "stderr",
     "output_type": "stream",
     "text": [
      "INFO:tensorflow:global_step/sec: 291.864\n"
     ]
    },
    {
     "name": "stdout",
     "output_type": "stream",
     "text": [
      "INFO:tensorflow:loss = 0.8189448, step = 7800 (0.345 sec)\n"
     ]
    },
    {
     "name": "stderr",
     "output_type": "stream",
     "text": [
      "INFO:tensorflow:loss = 0.8189448, step = 7800 (0.345 sec)\n"
     ]
    },
    {
     "name": "stdout",
     "output_type": "stream",
     "text": [
      "INFO:tensorflow:global_step/sec: 273.735\n"
     ]
    },
    {
     "name": "stderr",
     "output_type": "stream",
     "text": [
      "INFO:tensorflow:global_step/sec: 273.735\n"
     ]
    },
    {
     "name": "stdout",
     "output_type": "stream",
     "text": [
      "INFO:tensorflow:loss = 2.385635, step = 7900 (0.366 sec)\n"
     ]
    },
    {
     "name": "stderr",
     "output_type": "stream",
     "text": [
      "INFO:tensorflow:loss = 2.385635, step = 7900 (0.366 sec)\n"
     ]
    },
    {
     "name": "stdout",
     "output_type": "stream",
     "text": [
      "INFO:tensorflow:global_step/sec: 275.076\n"
     ]
    },
    {
     "name": "stderr",
     "output_type": "stream",
     "text": [
      "INFO:tensorflow:global_step/sec: 275.076\n"
     ]
    },
    {
     "name": "stdout",
     "output_type": "stream",
     "text": [
      "INFO:tensorflow:loss = 3.0431476, step = 8000 (0.360 sec)\n"
     ]
    },
    {
     "name": "stderr",
     "output_type": "stream",
     "text": [
      "INFO:tensorflow:loss = 3.0431476, step = 8000 (0.360 sec)\n"
     ]
    },
    {
     "name": "stdout",
     "output_type": "stream",
     "text": [
      "INFO:tensorflow:global_step/sec: 271.745\n"
     ]
    },
    {
     "name": "stderr",
     "output_type": "stream",
     "text": [
      "INFO:tensorflow:global_step/sec: 271.745\n"
     ]
    },
    {
     "name": "stdout",
     "output_type": "stream",
     "text": [
      "INFO:tensorflow:loss = 0.925477, step = 8100 (0.368 sec)\n"
     ]
    },
    {
     "name": "stderr",
     "output_type": "stream",
     "text": [
      "INFO:tensorflow:loss = 0.925477, step = 8100 (0.368 sec)\n"
     ]
    },
    {
     "name": "stdout",
     "output_type": "stream",
     "text": [
      "INFO:tensorflow:global_step/sec: 279.412\n"
     ]
    },
    {
     "name": "stderr",
     "output_type": "stream",
     "text": [
      "INFO:tensorflow:global_step/sec: 279.412\n"
     ]
    },
    {
     "name": "stdout",
     "output_type": "stream",
     "text": [
      "INFO:tensorflow:loss = 0.25676638, step = 8200 (0.360 sec)\n"
     ]
    },
    {
     "name": "stderr",
     "output_type": "stream",
     "text": [
      "INFO:tensorflow:loss = 0.25676638, step = 8200 (0.360 sec)\n"
     ]
    },
    {
     "name": "stdout",
     "output_type": "stream",
     "text": [
      "INFO:tensorflow:global_step/sec: 287.676\n"
     ]
    },
    {
     "name": "stderr",
     "output_type": "stream",
     "text": [
      "INFO:tensorflow:global_step/sec: 287.676\n"
     ]
    },
    {
     "name": "stdout",
     "output_type": "stream",
     "text": [
      "INFO:tensorflow:loss = 1.2382226, step = 8300 (0.347 sec)\n"
     ]
    },
    {
     "name": "stderr",
     "output_type": "stream",
     "text": [
      "INFO:tensorflow:loss = 1.2382226, step = 8300 (0.347 sec)\n"
     ]
    },
    {
     "name": "stdout",
     "output_type": "stream",
     "text": [
      "INFO:tensorflow:global_step/sec: 266.572\n"
     ]
    },
    {
     "name": "stderr",
     "output_type": "stream",
     "text": [
      "INFO:tensorflow:global_step/sec: 266.572\n"
     ]
    },
    {
     "name": "stdout",
     "output_type": "stream",
     "text": [
      "INFO:tensorflow:loss = 1.1786234, step = 8400 (0.374 sec)\n"
     ]
    },
    {
     "name": "stderr",
     "output_type": "stream",
     "text": [
      "INFO:tensorflow:loss = 1.1786234, step = 8400 (0.374 sec)\n"
     ]
    },
    {
     "name": "stdout",
     "output_type": "stream",
     "text": [
      "INFO:tensorflow:global_step/sec: 279.047\n"
     ]
    },
    {
     "name": "stderr",
     "output_type": "stream",
     "text": [
      "INFO:tensorflow:global_step/sec: 279.047\n"
     ]
    },
    {
     "name": "stdout",
     "output_type": "stream",
     "text": [
      "INFO:tensorflow:loss = 1.0028207, step = 8500 (0.358 sec)\n"
     ]
    },
    {
     "name": "stderr",
     "output_type": "stream",
     "text": [
      "INFO:tensorflow:loss = 1.0028207, step = 8500 (0.358 sec)\n"
     ]
    },
    {
     "name": "stdout",
     "output_type": "stream",
     "text": [
      "INFO:tensorflow:global_step/sec: 283.055\n"
     ]
    },
    {
     "name": "stderr",
     "output_type": "stream",
     "text": [
      "INFO:tensorflow:global_step/sec: 283.055\n"
     ]
    },
    {
     "name": "stdout",
     "output_type": "stream",
     "text": [
      "INFO:tensorflow:loss = 0.9675751, step = 8600 (0.361 sec)\n"
     ]
    },
    {
     "name": "stderr",
     "output_type": "stream",
     "text": [
      "INFO:tensorflow:loss = 0.9675751, step = 8600 (0.361 sec)\n"
     ]
    },
    {
     "name": "stdout",
     "output_type": "stream",
     "text": [
      "INFO:tensorflow:global_step/sec: 262.905\n"
     ]
    },
    {
     "name": "stderr",
     "output_type": "stream",
     "text": [
      "INFO:tensorflow:global_step/sec: 262.905\n"
     ]
    },
    {
     "name": "stdout",
     "output_type": "stream",
     "text": [
      "INFO:tensorflow:loss = 0.6152457, step = 8700 (0.375 sec)\n"
     ]
    },
    {
     "name": "stderr",
     "output_type": "stream",
     "text": [
      "INFO:tensorflow:loss = 0.6152457, step = 8700 (0.375 sec)\n"
     ]
    },
    {
     "name": "stdout",
     "output_type": "stream",
     "text": [
      "INFO:tensorflow:global_step/sec: 268.834\n"
     ]
    },
    {
     "name": "stderr",
     "output_type": "stream",
     "text": [
      "INFO:tensorflow:global_step/sec: 268.834\n"
     ]
    },
    {
     "name": "stdout",
     "output_type": "stream",
     "text": [
      "INFO:tensorflow:loss = 1.3267753, step = 8800 (0.381 sec)\n"
     ]
    },
    {
     "name": "stderr",
     "output_type": "stream",
     "text": [
      "INFO:tensorflow:loss = 1.3267753, step = 8800 (0.381 sec)\n"
     ]
    },
    {
     "name": "stdout",
     "output_type": "stream",
     "text": [
      "INFO:tensorflow:global_step/sec: 277.772\n"
     ]
    },
    {
     "name": "stderr",
     "output_type": "stream",
     "text": [
      "INFO:tensorflow:global_step/sec: 277.772\n"
     ]
    },
    {
     "name": "stdout",
     "output_type": "stream",
     "text": [
      "INFO:tensorflow:loss = 1.8464774, step = 8900 (0.355 sec)\n"
     ]
    },
    {
     "name": "stderr",
     "output_type": "stream",
     "text": [
      "INFO:tensorflow:loss = 1.8464774, step = 8900 (0.355 sec)\n"
     ]
    },
    {
     "name": "stdout",
     "output_type": "stream",
     "text": [
      "INFO:tensorflow:global_step/sec: 271.727\n"
     ]
    },
    {
     "name": "stderr",
     "output_type": "stream",
     "text": [
      "INFO:tensorflow:global_step/sec: 271.727\n"
     ]
    },
    {
     "name": "stdout",
     "output_type": "stream",
     "text": [
      "INFO:tensorflow:loss = 1.1916955, step = 9000 (0.365 sec)\n"
     ]
    },
    {
     "name": "stderr",
     "output_type": "stream",
     "text": [
      "INFO:tensorflow:loss = 1.1916955, step = 9000 (0.365 sec)\n"
     ]
    },
    {
     "name": "stdout",
     "output_type": "stream",
     "text": [
      "INFO:tensorflow:global_step/sec: 247.982\n"
     ]
    },
    {
     "name": "stderr",
     "output_type": "stream",
     "text": [
      "INFO:tensorflow:global_step/sec: 247.982\n"
     ]
    },
    {
     "name": "stdout",
     "output_type": "stream",
     "text": [
      "INFO:tensorflow:loss = 2.1436396, step = 9100 (0.403 sec)\n"
     ]
    },
    {
     "name": "stderr",
     "output_type": "stream",
     "text": [
      "INFO:tensorflow:loss = 2.1436396, step = 9100 (0.403 sec)\n"
     ]
    },
    {
     "name": "stdout",
     "output_type": "stream",
     "text": [
      "INFO:tensorflow:global_step/sec: 250.059\n"
     ]
    },
    {
     "name": "stderr",
     "output_type": "stream",
     "text": [
      "INFO:tensorflow:global_step/sec: 250.059\n"
     ]
    },
    {
     "name": "stdout",
     "output_type": "stream",
     "text": [
      "INFO:tensorflow:loss = 1.7430886, step = 9200 (0.401 sec)\n"
     ]
    },
    {
     "name": "stderr",
     "output_type": "stream",
     "text": [
      "INFO:tensorflow:loss = 1.7430886, step = 9200 (0.401 sec)\n"
     ]
    },
    {
     "name": "stdout",
     "output_type": "stream",
     "text": [
      "INFO:tensorflow:global_step/sec: 281.749\n"
     ]
    },
    {
     "name": "stderr",
     "output_type": "stream",
     "text": [
      "INFO:tensorflow:global_step/sec: 281.749\n"
     ]
    },
    {
     "name": "stdout",
     "output_type": "stream",
     "text": [
      "INFO:tensorflow:loss = 1.3326514, step = 9300 (0.353 sec)\n"
     ]
    },
    {
     "name": "stderr",
     "output_type": "stream",
     "text": [
      "INFO:tensorflow:loss = 1.3326514, step = 9300 (0.353 sec)\n"
     ]
    },
    {
     "name": "stdout",
     "output_type": "stream",
     "text": [
      "INFO:tensorflow:Saving checkpoints for 9375 into ./tmp4wk8inr5/model.ckpt.\n"
     ]
    },
    {
     "name": "stderr",
     "output_type": "stream",
     "text": [
      "INFO:tensorflow:Saving checkpoints for 9375 into ./tmp4wk8inr5/model.ckpt.\n"
     ]
    },
    {
     "name": "stdout",
     "output_type": "stream",
     "text": [
      "WARNING:tensorflow:From /home/scribs/code_not_git/tf_estimators/venv/lib/python3.7/site-packages/tensorflow_core/python/training/saver.py:963: remove_checkpoint (from tensorflow.python.training.checkpoint_management) is deprecated and will be removed in a future version.\n",
      "Instructions for updating:\n",
      "Use standard file APIs to delete files with this prefix.\n"
     ]
    },
    {
     "name": "stderr",
     "output_type": "stream",
     "text": [
      "WARNING:tensorflow:From /home/scribs/code_not_git/tf_estimators/venv/lib/python3.7/site-packages/tensorflow_core/python/training/saver.py:963: remove_checkpoint (from tensorflow.python.training.checkpoint_management) is deprecated and will be removed in a future version.\n",
      "Instructions for updating:\n",
      "Use standard file APIs to delete files with this prefix.\n"
     ]
    },
    {
     "name": "stdout",
     "output_type": "stream",
     "text": [
      "INFO:tensorflow:Loss for final step: 0.88161254.\n"
     ]
    },
    {
     "name": "stderr",
     "output_type": "stream",
     "text": [
      "INFO:tensorflow:Loss for final step: 0.88161254.\n"
     ]
    },
    {
     "name": "stdout",
     "output_type": "stream",
     "text": [
      "Evaluation after epoch:\n",
      "INFO:tensorflow:Calling model_fn.\n"
     ]
    },
    {
     "name": "stderr",
     "output_type": "stream",
     "text": [
      "INFO:tensorflow:Calling model_fn.\n"
     ]
    },
    {
     "name": "stdout",
     "output_type": "stream",
     "text": [
      "INFO:tensorflow:Done calling model_fn.\n"
     ]
    },
    {
     "name": "stderr",
     "output_type": "stream",
     "text": [
      "INFO:tensorflow:Done calling model_fn.\n"
     ]
    },
    {
     "name": "stdout",
     "output_type": "stream",
     "text": [
      "INFO:tensorflow:Starting evaluation at 2020-03-30T11:04:29Z\n"
     ]
    },
    {
     "name": "stderr",
     "output_type": "stream",
     "text": [
      "INFO:tensorflow:Starting evaluation at 2020-03-30T11:04:29Z\n"
     ]
    },
    {
     "name": "stdout",
     "output_type": "stream",
     "text": [
      "INFO:tensorflow:Graph was finalized.\n"
     ]
    },
    {
     "name": "stderr",
     "output_type": "stream",
     "text": [
      "INFO:tensorflow:Graph was finalized.\n"
     ]
    },
    {
     "name": "stdout",
     "output_type": "stream",
     "text": [
      "INFO:tensorflow:Restoring parameters from ./tmp4wk8inr5/model.ckpt-9375\n"
     ]
    },
    {
     "name": "stderr",
     "output_type": "stream",
     "text": [
      "INFO:tensorflow:Restoring parameters from ./tmp4wk8inr5/model.ckpt-9375\n"
     ]
    },
    {
     "name": "stdout",
     "output_type": "stream",
     "text": [
      "INFO:tensorflow:Running local_init_op.\n"
     ]
    },
    {
     "name": "stderr",
     "output_type": "stream",
     "text": [
      "INFO:tensorflow:Running local_init_op.\n"
     ]
    },
    {
     "name": "stdout",
     "output_type": "stream",
     "text": [
      "INFO:tensorflow:Done running local_init_op.\n"
     ]
    },
    {
     "name": "stderr",
     "output_type": "stream",
     "text": [
      "INFO:tensorflow:Done running local_init_op.\n"
     ]
    },
    {
     "name": "stdout",
     "output_type": "stream",
     "text": [
      "INFO:tensorflow:Inference Time : 5.79325s\n"
     ]
    },
    {
     "name": "stderr",
     "output_type": "stream",
     "text": [
      "INFO:tensorflow:Inference Time : 5.79325s\n"
     ]
    },
    {
     "name": "stdout",
     "output_type": "stream",
     "text": [
      "INFO:tensorflow:Finished evaluation at 2020-03-30-11:04:35\n"
     ]
    },
    {
     "name": "stderr",
     "output_type": "stream",
     "text": [
      "INFO:tensorflow:Finished evaluation at 2020-03-30-11:04:35\n"
     ]
    },
    {
     "name": "stdout",
     "output_type": "stream",
     "text": [
      "INFO:tensorflow:Saving dict for global step 9375: accuracy = 0.8700167, average_loss = 0.5680598, global_step = 9375, loss = 0.5680598\n"
     ]
    },
    {
     "name": "stderr",
     "output_type": "stream",
     "text": [
      "INFO:tensorflow:Saving dict for global step 9375: accuracy = 0.8700167, average_loss = 0.5680598, global_step = 9375, loss = 0.5680598\n"
     ]
    },
    {
     "name": "stdout",
     "output_type": "stream",
     "text": [
      "INFO:tensorflow:Saving 'checkpoint_path' summary for global step 9375: ./tmp4wk8inr5/model.ckpt-9375\n"
     ]
    },
    {
     "name": "stderr",
     "output_type": "stream",
     "text": [
      "INFO:tensorflow:Saving 'checkpoint_path' summary for global step 9375: ./tmp4wk8inr5/model.ckpt-9375\n"
     ]
    },
    {
     "name": "stdout",
     "output_type": "stream",
     "text": [
      "{'accuracy': 0.8700167, 'average_loss': 0.5680598, 'loss': 0.5680598, 'global_step': 9375}\n",
      "INFO:tensorflow:Calling model_fn.\n"
     ]
    },
    {
     "name": "stderr",
     "output_type": "stream",
     "text": [
      "INFO:tensorflow:Calling model_fn.\n"
     ]
    },
    {
     "name": "stdout",
     "output_type": "stream",
     "text": [
      "INFO:tensorflow:Done calling model_fn.\n"
     ]
    },
    {
     "name": "stderr",
     "output_type": "stream",
     "text": [
      "INFO:tensorflow:Done calling model_fn.\n"
     ]
    },
    {
     "name": "stdout",
     "output_type": "stream",
     "text": [
      "INFO:tensorflow:Starting evaluation at 2020-03-30T11:04:35Z\n"
     ]
    },
    {
     "name": "stderr",
     "output_type": "stream",
     "text": [
      "INFO:tensorflow:Starting evaluation at 2020-03-30T11:04:35Z\n"
     ]
    },
    {
     "name": "stdout",
     "output_type": "stream",
     "text": [
      "INFO:tensorflow:Graph was finalized.\n"
     ]
    },
    {
     "name": "stderr",
     "output_type": "stream",
     "text": [
      "INFO:tensorflow:Graph was finalized.\n"
     ]
    },
    {
     "name": "stdout",
     "output_type": "stream",
     "text": [
      "INFO:tensorflow:Restoring parameters from ./tmp4wk8inr5/model.ckpt-9375\n"
     ]
    },
    {
     "name": "stderr",
     "output_type": "stream",
     "text": [
      "INFO:tensorflow:Restoring parameters from ./tmp4wk8inr5/model.ckpt-9375\n"
     ]
    },
    {
     "name": "stdout",
     "output_type": "stream",
     "text": [
      "INFO:tensorflow:Running local_init_op.\n"
     ]
    },
    {
     "name": "stderr",
     "output_type": "stream",
     "text": [
      "INFO:tensorflow:Running local_init_op.\n"
     ]
    },
    {
     "name": "stdout",
     "output_type": "stream",
     "text": [
      "INFO:tensorflow:Done running local_init_op.\n"
     ]
    },
    {
     "name": "stderr",
     "output_type": "stream",
     "text": [
      "INFO:tensorflow:Done running local_init_op.\n"
     ]
    },
    {
     "name": "stdout",
     "output_type": "stream",
     "text": [
      "INFO:tensorflow:Inference Time : 1.35894s\n"
     ]
    },
    {
     "name": "stderr",
     "output_type": "stream",
     "text": [
      "INFO:tensorflow:Inference Time : 1.35894s\n"
     ]
    },
    {
     "name": "stdout",
     "output_type": "stream",
     "text": [
      "INFO:tensorflow:Finished evaluation at 2020-03-30-11:04:37\n"
     ]
    },
    {
     "name": "stderr",
     "output_type": "stream",
     "text": [
      "INFO:tensorflow:Finished evaluation at 2020-03-30-11:04:37\n"
     ]
    },
    {
     "name": "stdout",
     "output_type": "stream",
     "text": [
      "INFO:tensorflow:Saving dict for global step 9375: accuracy = 0.8719, average_loss = 0.5987361, global_step = 9375, loss = 0.5991049\n"
     ]
    },
    {
     "name": "stderr",
     "output_type": "stream",
     "text": [
      "INFO:tensorflow:Saving dict for global step 9375: accuracy = 0.8719, average_loss = 0.5987361, global_step = 9375, loss = 0.5991049\n"
     ]
    },
    {
     "name": "stdout",
     "output_type": "stream",
     "text": [
      "INFO:tensorflow:Saving 'checkpoint_path' summary for global step 9375: ./tmp4wk8inr5/model.ckpt-9375\n"
     ]
    },
    {
     "name": "stderr",
     "output_type": "stream",
     "text": [
      "INFO:tensorflow:Saving 'checkpoint_path' summary for global step 9375: ./tmp4wk8inr5/model.ckpt-9375\n"
     ]
    },
    {
     "name": "stdout",
     "output_type": "stream",
     "text": [
      "{'accuracy': 0.8719, 'average_loss': 0.5987361, 'loss': 0.5991049, 'global_step': 9375}\n",
      "INFO:tensorflow:Calling model_fn.\n"
     ]
    },
    {
     "name": "stderr",
     "output_type": "stream",
     "text": [
      "INFO:tensorflow:Calling model_fn.\n"
     ]
    },
    {
     "name": "stdout",
     "output_type": "stream",
     "text": [
      "INFO:tensorflow:Done calling model_fn.\n"
     ]
    },
    {
     "name": "stderr",
     "output_type": "stream",
     "text": [
      "INFO:tensorflow:Done calling model_fn.\n"
     ]
    },
    {
     "name": "stdout",
     "output_type": "stream",
     "text": [
      "INFO:tensorflow:Create CheckpointSaverHook.\n"
     ]
    },
    {
     "name": "stderr",
     "output_type": "stream",
     "text": [
      "INFO:tensorflow:Create CheckpointSaverHook.\n"
     ]
    },
    {
     "name": "stdout",
     "output_type": "stream",
     "text": [
      "INFO:tensorflow:Graph was finalized.\n"
     ]
    },
    {
     "name": "stderr",
     "output_type": "stream",
     "text": [
      "INFO:tensorflow:Graph was finalized.\n"
     ]
    },
    {
     "name": "stdout",
     "output_type": "stream",
     "text": [
      "INFO:tensorflow:Restoring parameters from ./tmp4wk8inr5/model.ckpt-9375\n"
     ]
    },
    {
     "name": "stderr",
     "output_type": "stream",
     "text": [
      "INFO:tensorflow:Restoring parameters from ./tmp4wk8inr5/model.ckpt-9375\n"
     ]
    },
    {
     "name": "stdout",
     "output_type": "stream",
     "text": [
      "INFO:tensorflow:Running local_init_op.\n"
     ]
    },
    {
     "name": "stderr",
     "output_type": "stream",
     "text": [
      "INFO:tensorflow:Running local_init_op.\n"
     ]
    },
    {
     "name": "stdout",
     "output_type": "stream",
     "text": [
      "INFO:tensorflow:Done running local_init_op.\n"
     ]
    },
    {
     "name": "stderr",
     "output_type": "stream",
     "text": [
      "INFO:tensorflow:Done running local_init_op.\n"
     ]
    },
    {
     "name": "stdout",
     "output_type": "stream",
     "text": [
      "INFO:tensorflow:Saving checkpoints for 9375 into ./tmp4wk8inr5/model.ckpt.\n"
     ]
    },
    {
     "name": "stderr",
     "output_type": "stream",
     "text": [
      "INFO:tensorflow:Saving checkpoints for 9375 into ./tmp4wk8inr5/model.ckpt.\n"
     ]
    },
    {
     "name": "stdout",
     "output_type": "stream",
     "text": [
      "INFO:tensorflow:loss = 0.3599409, step = 9375\n"
     ]
    },
    {
     "name": "stderr",
     "output_type": "stream",
     "text": [
      "INFO:tensorflow:loss = 0.3599409, step = 9375\n"
     ]
    },
    {
     "name": "stdout",
     "output_type": "stream",
     "text": [
      "INFO:tensorflow:global_step/sec: 200.224\n"
     ]
    },
    {
     "name": "stderr",
     "output_type": "stream",
     "text": [
      "INFO:tensorflow:global_step/sec: 200.224\n"
     ]
    },
    {
     "name": "stdout",
     "output_type": "stream",
     "text": [
      "INFO:tensorflow:loss = 1.2867031, step = 9475 (0.504 sec)\n"
     ]
    },
    {
     "name": "stderr",
     "output_type": "stream",
     "text": [
      "INFO:tensorflow:loss = 1.2867031, step = 9475 (0.504 sec)\n"
     ]
    },
    {
     "name": "stdout",
     "output_type": "stream",
     "text": [
      "INFO:tensorflow:global_step/sec: 240.844\n"
     ]
    },
    {
     "name": "stderr",
     "output_type": "stream",
     "text": [
      "INFO:tensorflow:global_step/sec: 240.844\n"
     ]
    },
    {
     "name": "stdout",
     "output_type": "stream",
     "text": [
      "INFO:tensorflow:loss = 0.9710822, step = 9575 (0.412 sec)\n"
     ]
    },
    {
     "name": "stderr",
     "output_type": "stream",
     "text": [
      "INFO:tensorflow:loss = 0.9710822, step = 9575 (0.412 sec)\n"
     ]
    },
    {
     "name": "stdout",
     "output_type": "stream",
     "text": [
      "INFO:tensorflow:global_step/sec: 275.841\n"
     ]
    },
    {
     "name": "stderr",
     "output_type": "stream",
     "text": [
      "INFO:tensorflow:global_step/sec: 275.841\n"
     ]
    },
    {
     "name": "stdout",
     "output_type": "stream",
     "text": [
      "INFO:tensorflow:loss = 0.41559207, step = 9675 (0.364 sec)\n"
     ]
    },
    {
     "name": "stderr",
     "output_type": "stream",
     "text": [
      "INFO:tensorflow:loss = 0.41559207, step = 9675 (0.364 sec)\n"
     ]
    },
    {
     "name": "stdout",
     "output_type": "stream",
     "text": [
      "INFO:tensorflow:global_step/sec: 264.995\n"
     ]
    },
    {
     "name": "stderr",
     "output_type": "stream",
     "text": [
      "INFO:tensorflow:global_step/sec: 264.995\n"
     ]
    },
    {
     "name": "stdout",
     "output_type": "stream",
     "text": [
      "INFO:tensorflow:loss = 2.0873203, step = 9775 (0.378 sec)\n"
     ]
    },
    {
     "name": "stderr",
     "output_type": "stream",
     "text": [
      "INFO:tensorflow:loss = 2.0873203, step = 9775 (0.378 sec)\n"
     ]
    },
    {
     "name": "stdout",
     "output_type": "stream",
     "text": [
      "INFO:tensorflow:global_step/sec: 258.378\n"
     ]
    },
    {
     "name": "stderr",
     "output_type": "stream",
     "text": [
      "INFO:tensorflow:global_step/sec: 258.378\n"
     ]
    },
    {
     "name": "stdout",
     "output_type": "stream",
     "text": [
      "INFO:tensorflow:loss = 1.1780951, step = 9875 (0.385 sec)\n"
     ]
    },
    {
     "name": "stderr",
     "output_type": "stream",
     "text": [
      "INFO:tensorflow:loss = 1.1780951, step = 9875 (0.385 sec)\n"
     ]
    },
    {
     "name": "stdout",
     "output_type": "stream",
     "text": [
      "INFO:tensorflow:global_step/sec: 268.556\n"
     ]
    },
    {
     "name": "stderr",
     "output_type": "stream",
     "text": [
      "INFO:tensorflow:global_step/sec: 268.556\n"
     ]
    },
    {
     "name": "stdout",
     "output_type": "stream",
     "text": [
      "INFO:tensorflow:loss = 0.6403974, step = 9975 (0.372 sec)\n"
     ]
    },
    {
     "name": "stderr",
     "output_type": "stream",
     "text": [
      "INFO:tensorflow:loss = 0.6403974, step = 9975 (0.372 sec)\n"
     ]
    },
    {
     "name": "stdout",
     "output_type": "stream",
     "text": [
      "INFO:tensorflow:global_step/sec: 272.903\n"
     ]
    },
    {
     "name": "stderr",
     "output_type": "stream",
     "text": [
      "INFO:tensorflow:global_step/sec: 272.903\n"
     ]
    },
    {
     "name": "stdout",
     "output_type": "stream",
     "text": [
      "INFO:tensorflow:loss = 0.37729335, step = 10075 (0.367 sec)\n"
     ]
    },
    {
     "name": "stderr",
     "output_type": "stream",
     "text": [
      "INFO:tensorflow:loss = 0.37729335, step = 10075 (0.367 sec)\n"
     ]
    },
    {
     "name": "stdout",
     "output_type": "stream",
     "text": [
      "INFO:tensorflow:global_step/sec: 230.573\n"
     ]
    },
    {
     "name": "stderr",
     "output_type": "stream",
     "text": [
      "INFO:tensorflow:global_step/sec: 230.573\n"
     ]
    },
    {
     "name": "stdout",
     "output_type": "stream",
     "text": [
      "INFO:tensorflow:loss = 0.95175683, step = 10175 (0.434 sec)\n"
     ]
    },
    {
     "name": "stderr",
     "output_type": "stream",
     "text": [
      "INFO:tensorflow:loss = 0.95175683, step = 10175 (0.434 sec)\n"
     ]
    },
    {
     "name": "stdout",
     "output_type": "stream",
     "text": [
      "INFO:tensorflow:global_step/sec: 250.378\n"
     ]
    },
    {
     "name": "stderr",
     "output_type": "stream",
     "text": [
      "INFO:tensorflow:global_step/sec: 250.378\n"
     ]
    },
    {
     "name": "stdout",
     "output_type": "stream",
     "text": [
      "INFO:tensorflow:loss = 0.4216061, step = 10275 (0.399 sec)\n"
     ]
    },
    {
     "name": "stderr",
     "output_type": "stream",
     "text": [
      "INFO:tensorflow:loss = 0.4216061, step = 10275 (0.399 sec)\n"
     ]
    },
    {
     "name": "stdout",
     "output_type": "stream",
     "text": [
      "INFO:tensorflow:global_step/sec: 246.858\n"
     ]
    },
    {
     "name": "stderr",
     "output_type": "stream",
     "text": [
      "INFO:tensorflow:global_step/sec: 246.858\n"
     ]
    },
    {
     "name": "stdout",
     "output_type": "stream",
     "text": [
      "INFO:tensorflow:loss = 1.3208319, step = 10375 (0.405 sec)\n"
     ]
    },
    {
     "name": "stderr",
     "output_type": "stream",
     "text": [
      "INFO:tensorflow:loss = 1.3208319, step = 10375 (0.405 sec)\n"
     ]
    },
    {
     "name": "stdout",
     "output_type": "stream",
     "text": [
      "INFO:tensorflow:global_step/sec: 254.346\n"
     ]
    },
    {
     "name": "stderr",
     "output_type": "stream",
     "text": [
      "INFO:tensorflow:global_step/sec: 254.346\n"
     ]
    },
    {
     "name": "stdout",
     "output_type": "stream",
     "text": [
      "INFO:tensorflow:loss = 2.041473, step = 10475 (0.406 sec)\n"
     ]
    },
    {
     "name": "stderr",
     "output_type": "stream",
     "text": [
      "INFO:tensorflow:loss = 2.041473, step = 10475 (0.406 sec)\n"
     ]
    },
    {
     "name": "stdout",
     "output_type": "stream",
     "text": [
      "INFO:tensorflow:global_step/sec: 227.111\n"
     ]
    },
    {
     "name": "stderr",
     "output_type": "stream",
     "text": [
      "INFO:tensorflow:global_step/sec: 227.111\n"
     ]
    },
    {
     "name": "stdout",
     "output_type": "stream",
     "text": [
      "INFO:tensorflow:loss = 1.0635208, step = 10575 (0.428 sec)\n"
     ]
    },
    {
     "name": "stderr",
     "output_type": "stream",
     "text": [
      "INFO:tensorflow:loss = 1.0635208, step = 10575 (0.428 sec)\n"
     ]
    },
    {
     "name": "stdout",
     "output_type": "stream",
     "text": [
      "INFO:tensorflow:global_step/sec: 259.077\n"
     ]
    },
    {
     "name": "stderr",
     "output_type": "stream",
     "text": [
      "INFO:tensorflow:global_step/sec: 259.077\n"
     ]
    },
    {
     "name": "stdout",
     "output_type": "stream",
     "text": [
      "INFO:tensorflow:loss = 0.7240899, step = 10675 (0.386 sec)\n"
     ]
    },
    {
     "name": "stderr",
     "output_type": "stream",
     "text": [
      "INFO:tensorflow:loss = 0.7240899, step = 10675 (0.386 sec)\n"
     ]
    },
    {
     "name": "stdout",
     "output_type": "stream",
     "text": [
      "INFO:tensorflow:global_step/sec: 229.309\n"
     ]
    },
    {
     "name": "stderr",
     "output_type": "stream",
     "text": [
      "INFO:tensorflow:global_step/sec: 229.309\n"
     ]
    },
    {
     "name": "stdout",
     "output_type": "stream",
     "text": [
      "INFO:tensorflow:loss = 1.157476, step = 10775 (0.436 sec)\n"
     ]
    },
    {
     "name": "stderr",
     "output_type": "stream",
     "text": [
      "INFO:tensorflow:loss = 1.157476, step = 10775 (0.436 sec)\n"
     ]
    },
    {
     "name": "stdout",
     "output_type": "stream",
     "text": [
      "INFO:tensorflow:global_step/sec: 252.8\n"
     ]
    },
    {
     "name": "stderr",
     "output_type": "stream",
     "text": [
      "INFO:tensorflow:global_step/sec: 252.8\n"
     ]
    },
    {
     "name": "stdout",
     "output_type": "stream",
     "text": [
      "INFO:tensorflow:loss = 1.3240137, step = 10875 (0.398 sec)\n"
     ]
    },
    {
     "name": "stderr",
     "output_type": "stream",
     "text": [
      "INFO:tensorflow:loss = 1.3240137, step = 10875 (0.398 sec)\n"
     ]
    },
    {
     "name": "stdout",
     "output_type": "stream",
     "text": [
      "INFO:tensorflow:global_step/sec: 251.508\n"
     ]
    },
    {
     "name": "stderr",
     "output_type": "stream",
     "text": [
      "INFO:tensorflow:global_step/sec: 251.508\n"
     ]
    },
    {
     "name": "stdout",
     "output_type": "stream",
     "text": [
      "INFO:tensorflow:loss = 3.2392068, step = 10975 (0.395 sec)\n"
     ]
    },
    {
     "name": "stderr",
     "output_type": "stream",
     "text": [
      "INFO:tensorflow:loss = 3.2392068, step = 10975 (0.395 sec)\n"
     ]
    },
    {
     "name": "stdout",
     "output_type": "stream",
     "text": [
      "INFO:tensorflow:global_step/sec: 255.936\n"
     ]
    },
    {
     "name": "stderr",
     "output_type": "stream",
     "text": [
      "INFO:tensorflow:global_step/sec: 255.936\n"
     ]
    },
    {
     "name": "stdout",
     "output_type": "stream",
     "text": [
      "INFO:tensorflow:loss = 1.8031908, step = 11075 (0.391 sec)\n"
     ]
    },
    {
     "name": "stderr",
     "output_type": "stream",
     "text": [
      "INFO:tensorflow:loss = 1.8031908, step = 11075 (0.391 sec)\n"
     ]
    },
    {
     "name": "stdout",
     "output_type": "stream",
     "text": [
      "INFO:tensorflow:global_step/sec: 253.045\n"
     ]
    },
    {
     "name": "stderr",
     "output_type": "stream",
     "text": [
      "INFO:tensorflow:global_step/sec: 253.045\n"
     ]
    },
    {
     "name": "stdout",
     "output_type": "stream",
     "text": [
      "INFO:tensorflow:loss = 1.9801154, step = 11175 (0.395 sec)\n"
     ]
    },
    {
     "name": "stderr",
     "output_type": "stream",
     "text": [
      "INFO:tensorflow:loss = 1.9801154, step = 11175 (0.395 sec)\n"
     ]
    },
    {
     "name": "stdout",
     "output_type": "stream",
     "text": [
      "INFO:tensorflow:Saving checkpoints for 11250 into ./tmp4wk8inr5/model.ckpt.\n"
     ]
    },
    {
     "name": "stderr",
     "output_type": "stream",
     "text": [
      "INFO:tensorflow:Saving checkpoints for 11250 into ./tmp4wk8inr5/model.ckpt.\n"
     ]
    },
    {
     "name": "stdout",
     "output_type": "stream",
     "text": [
      "INFO:tensorflow:Loss for final step: 0.76602006.\n"
     ]
    },
    {
     "name": "stderr",
     "output_type": "stream",
     "text": [
      "INFO:tensorflow:Loss for final step: 0.76602006.\n"
     ]
    },
    {
     "name": "stdout",
     "output_type": "stream",
     "text": [
      "Evaluation after epoch:\n",
      "INFO:tensorflow:Calling model_fn.\n"
     ]
    },
    {
     "name": "stderr",
     "output_type": "stream",
     "text": [
      "INFO:tensorflow:Calling model_fn.\n"
     ]
    },
    {
     "name": "stdout",
     "output_type": "stream",
     "text": [
      "INFO:tensorflow:Done calling model_fn.\n"
     ]
    },
    {
     "name": "stderr",
     "output_type": "stream",
     "text": [
      "INFO:tensorflow:Done calling model_fn.\n"
     ]
    },
    {
     "name": "stdout",
     "output_type": "stream",
     "text": [
      "INFO:tensorflow:Starting evaluation at 2020-03-30T11:04:46Z\n"
     ]
    },
    {
     "name": "stderr",
     "output_type": "stream",
     "text": [
      "INFO:tensorflow:Starting evaluation at 2020-03-30T11:04:46Z\n"
     ]
    },
    {
     "name": "stdout",
     "output_type": "stream",
     "text": [
      "INFO:tensorflow:Graph was finalized.\n"
     ]
    },
    {
     "name": "stderr",
     "output_type": "stream",
     "text": [
      "INFO:tensorflow:Graph was finalized.\n"
     ]
    },
    {
     "name": "stdout",
     "output_type": "stream",
     "text": [
      "INFO:tensorflow:Restoring parameters from ./tmp4wk8inr5/model.ckpt-11250\n"
     ]
    },
    {
     "name": "stderr",
     "output_type": "stream",
     "text": [
      "INFO:tensorflow:Restoring parameters from ./tmp4wk8inr5/model.ckpt-11250\n"
     ]
    },
    {
     "name": "stdout",
     "output_type": "stream",
     "text": [
      "INFO:tensorflow:Running local_init_op.\n"
     ]
    },
    {
     "name": "stderr",
     "output_type": "stream",
     "text": [
      "INFO:tensorflow:Running local_init_op.\n"
     ]
    },
    {
     "name": "stdout",
     "output_type": "stream",
     "text": [
      "INFO:tensorflow:Done running local_init_op.\n"
     ]
    },
    {
     "name": "stderr",
     "output_type": "stream",
     "text": [
      "INFO:tensorflow:Done running local_init_op.\n"
     ]
    },
    {
     "name": "stdout",
     "output_type": "stream",
     "text": [
      "INFO:tensorflow:Inference Time : 6.02057s\n"
     ]
    },
    {
     "name": "stderr",
     "output_type": "stream",
     "text": [
      "INFO:tensorflow:Inference Time : 6.02057s\n"
     ]
    },
    {
     "name": "stdout",
     "output_type": "stream",
     "text": [
      "INFO:tensorflow:Finished evaluation at 2020-03-30-11:04:52\n"
     ]
    },
    {
     "name": "stderr",
     "output_type": "stream",
     "text": [
      "INFO:tensorflow:Finished evaluation at 2020-03-30-11:04:52\n"
     ]
    },
    {
     "name": "stdout",
     "output_type": "stream",
     "text": [
      "INFO:tensorflow:Saving dict for global step 11250: accuracy = 0.87628335, average_loss = 0.5222201, global_step = 11250, loss = 0.5222201\n"
     ]
    },
    {
     "name": "stderr",
     "output_type": "stream",
     "text": [
      "INFO:tensorflow:Saving dict for global step 11250: accuracy = 0.87628335, average_loss = 0.5222201, global_step = 11250, loss = 0.5222201\n"
     ]
    },
    {
     "name": "stdout",
     "output_type": "stream",
     "text": [
      "INFO:tensorflow:Saving 'checkpoint_path' summary for global step 11250: ./tmp4wk8inr5/model.ckpt-11250\n"
     ]
    },
    {
     "name": "stderr",
     "output_type": "stream",
     "text": [
      "INFO:tensorflow:Saving 'checkpoint_path' summary for global step 11250: ./tmp4wk8inr5/model.ckpt-11250\n"
     ]
    },
    {
     "name": "stdout",
     "output_type": "stream",
     "text": [
      "{'accuracy': 0.87628335, 'average_loss': 0.5222201, 'loss': 0.5222201, 'global_step': 11250}\n",
      "INFO:tensorflow:Calling model_fn.\n"
     ]
    },
    {
     "name": "stderr",
     "output_type": "stream",
     "text": [
      "INFO:tensorflow:Calling model_fn.\n"
     ]
    },
    {
     "name": "stdout",
     "output_type": "stream",
     "text": [
      "INFO:tensorflow:Done calling model_fn.\n"
     ]
    },
    {
     "name": "stderr",
     "output_type": "stream",
     "text": [
      "INFO:tensorflow:Done calling model_fn.\n"
     ]
    },
    {
     "name": "stdout",
     "output_type": "stream",
     "text": [
      "INFO:tensorflow:Starting evaluation at 2020-03-30T11:04:53Z\n"
     ]
    },
    {
     "name": "stderr",
     "output_type": "stream",
     "text": [
      "INFO:tensorflow:Starting evaluation at 2020-03-30T11:04:53Z\n"
     ]
    },
    {
     "name": "stdout",
     "output_type": "stream",
     "text": [
      "INFO:tensorflow:Graph was finalized.\n"
     ]
    },
    {
     "name": "stderr",
     "output_type": "stream",
     "text": [
      "INFO:tensorflow:Graph was finalized.\n"
     ]
    },
    {
     "name": "stdout",
     "output_type": "stream",
     "text": [
      "INFO:tensorflow:Restoring parameters from ./tmp4wk8inr5/model.ckpt-11250\n"
     ]
    },
    {
     "name": "stderr",
     "output_type": "stream",
     "text": [
      "INFO:tensorflow:Restoring parameters from ./tmp4wk8inr5/model.ckpt-11250\n"
     ]
    },
    {
     "name": "stdout",
     "output_type": "stream",
     "text": [
      "INFO:tensorflow:Running local_init_op.\n"
     ]
    },
    {
     "name": "stderr",
     "output_type": "stream",
     "text": [
      "INFO:tensorflow:Running local_init_op.\n"
     ]
    },
    {
     "name": "stdout",
     "output_type": "stream",
     "text": [
      "INFO:tensorflow:Done running local_init_op.\n"
     ]
    },
    {
     "name": "stderr",
     "output_type": "stream",
     "text": [
      "INFO:tensorflow:Done running local_init_op.\n"
     ]
    },
    {
     "name": "stdout",
     "output_type": "stream",
     "text": [
      "INFO:tensorflow:Inference Time : 1.44269s\n"
     ]
    },
    {
     "name": "stderr",
     "output_type": "stream",
     "text": [
      "INFO:tensorflow:Inference Time : 1.44269s\n"
     ]
    },
    {
     "name": "stdout",
     "output_type": "stream",
     "text": [
      "INFO:tensorflow:Finished evaluation at 2020-03-30-11:04:54\n"
     ]
    },
    {
     "name": "stderr",
     "output_type": "stream",
     "text": [
      "INFO:tensorflow:Finished evaluation at 2020-03-30-11:04:54\n"
     ]
    },
    {
     "name": "stdout",
     "output_type": "stream",
     "text": [
      "INFO:tensorflow:Saving dict for global step 11250: accuracy = 0.8775, average_loss = 0.5637387, global_step = 11250, loss = 0.5641897\n"
     ]
    },
    {
     "name": "stderr",
     "output_type": "stream",
     "text": [
      "INFO:tensorflow:Saving dict for global step 11250: accuracy = 0.8775, average_loss = 0.5637387, global_step = 11250, loss = 0.5641897\n"
     ]
    },
    {
     "name": "stdout",
     "output_type": "stream",
     "text": [
      "INFO:tensorflow:Saving 'checkpoint_path' summary for global step 11250: ./tmp4wk8inr5/model.ckpt-11250\n"
     ]
    },
    {
     "name": "stderr",
     "output_type": "stream",
     "text": [
      "INFO:tensorflow:Saving 'checkpoint_path' summary for global step 11250: ./tmp4wk8inr5/model.ckpt-11250\n"
     ]
    },
    {
     "name": "stdout",
     "output_type": "stream",
     "text": [
      "{'accuracy': 0.8775, 'average_loss': 0.5637387, 'loss': 0.5641897, 'global_step': 11250}\n",
      "INFO:tensorflow:Calling model_fn.\n"
     ]
    },
    {
     "name": "stderr",
     "output_type": "stream",
     "text": [
      "INFO:tensorflow:Calling model_fn.\n"
     ]
    },
    {
     "name": "stdout",
     "output_type": "stream",
     "text": [
      "INFO:tensorflow:Done calling model_fn.\n"
     ]
    },
    {
     "name": "stderr",
     "output_type": "stream",
     "text": [
      "INFO:tensorflow:Done calling model_fn.\n"
     ]
    },
    {
     "name": "stdout",
     "output_type": "stream",
     "text": [
      "INFO:tensorflow:Create CheckpointSaverHook.\n"
     ]
    },
    {
     "name": "stderr",
     "output_type": "stream",
     "text": [
      "INFO:tensorflow:Create CheckpointSaverHook.\n"
     ]
    },
    {
     "name": "stdout",
     "output_type": "stream",
     "text": [
      "INFO:tensorflow:Graph was finalized.\n"
     ]
    },
    {
     "name": "stderr",
     "output_type": "stream",
     "text": [
      "INFO:tensorflow:Graph was finalized.\n"
     ]
    },
    {
     "name": "stdout",
     "output_type": "stream",
     "text": [
      "INFO:tensorflow:Restoring parameters from ./tmp4wk8inr5/model.ckpt-11250\n"
     ]
    },
    {
     "name": "stderr",
     "output_type": "stream",
     "text": [
      "INFO:tensorflow:Restoring parameters from ./tmp4wk8inr5/model.ckpt-11250\n"
     ]
    },
    {
     "name": "stdout",
     "output_type": "stream",
     "text": [
      "INFO:tensorflow:Running local_init_op.\n"
     ]
    },
    {
     "name": "stderr",
     "output_type": "stream",
     "text": [
      "INFO:tensorflow:Running local_init_op.\n"
     ]
    },
    {
     "name": "stdout",
     "output_type": "stream",
     "text": [
      "INFO:tensorflow:Done running local_init_op.\n"
     ]
    },
    {
     "name": "stderr",
     "output_type": "stream",
     "text": [
      "INFO:tensorflow:Done running local_init_op.\n"
     ]
    },
    {
     "name": "stdout",
     "output_type": "stream",
     "text": [
      "INFO:tensorflow:Saving checkpoints for 11250 into ./tmp4wk8inr5/model.ckpt.\n"
     ]
    },
    {
     "name": "stderr",
     "output_type": "stream",
     "text": [
      "INFO:tensorflow:Saving checkpoints for 11250 into ./tmp4wk8inr5/model.ckpt.\n"
     ]
    },
    {
     "name": "stdout",
     "output_type": "stream",
     "text": [
      "INFO:tensorflow:loss = 0.7197079, step = 11250\n"
     ]
    },
    {
     "name": "stderr",
     "output_type": "stream",
     "text": [
      "INFO:tensorflow:loss = 0.7197079, step = 11250\n"
     ]
    },
    {
     "name": "stdout",
     "output_type": "stream",
     "text": [
      "INFO:tensorflow:global_step/sec: 231.185\n"
     ]
    },
    {
     "name": "stderr",
     "output_type": "stream",
     "text": [
      "INFO:tensorflow:global_step/sec: 231.185\n"
     ]
    },
    {
     "name": "stdout",
     "output_type": "stream",
     "text": [
      "INFO:tensorflow:loss = 0.99907, step = 11350 (0.434 sec)\n"
     ]
    },
    {
     "name": "stderr",
     "output_type": "stream",
     "text": [
      "INFO:tensorflow:loss = 0.99907, step = 11350 (0.434 sec)\n"
     ]
    },
    {
     "name": "stdout",
     "output_type": "stream",
     "text": [
      "INFO:tensorflow:global_step/sec: 270.341\n"
     ]
    },
    {
     "name": "stderr",
     "output_type": "stream",
     "text": [
      "INFO:tensorflow:global_step/sec: 270.341\n"
     ]
    },
    {
     "name": "stdout",
     "output_type": "stream",
     "text": [
      "INFO:tensorflow:loss = 0.57711136, step = 11450 (0.380 sec)\n"
     ]
    },
    {
     "name": "stderr",
     "output_type": "stream",
     "text": [
      "INFO:tensorflow:loss = 0.57711136, step = 11450 (0.380 sec)\n"
     ]
    },
    {
     "name": "stdout",
     "output_type": "stream",
     "text": [
      "INFO:tensorflow:global_step/sec: 234.639\n"
     ]
    },
    {
     "name": "stderr",
     "output_type": "stream",
     "text": [
      "INFO:tensorflow:global_step/sec: 234.639\n"
     ]
    },
    {
     "name": "stdout",
     "output_type": "stream",
     "text": [
      "INFO:tensorflow:loss = 0.4634988, step = 11550 (0.418 sec)\n"
     ]
    },
    {
     "name": "stderr",
     "output_type": "stream",
     "text": [
      "INFO:tensorflow:loss = 0.4634988, step = 11550 (0.418 sec)\n"
     ]
    },
    {
     "name": "stdout",
     "output_type": "stream",
     "text": [
      "INFO:tensorflow:global_step/sec: 263.077\n"
     ]
    },
    {
     "name": "stderr",
     "output_type": "stream",
     "text": [
      "INFO:tensorflow:global_step/sec: 263.077\n"
     ]
    },
    {
     "name": "stdout",
     "output_type": "stream",
     "text": [
      "INFO:tensorflow:loss = 1.2783176, step = 11650 (0.380 sec)\n"
     ]
    },
    {
     "name": "stderr",
     "output_type": "stream",
     "text": [
      "INFO:tensorflow:loss = 1.2783176, step = 11650 (0.380 sec)\n"
     ]
    },
    {
     "name": "stdout",
     "output_type": "stream",
     "text": [
      "INFO:tensorflow:global_step/sec: 265.098\n"
     ]
    },
    {
     "name": "stderr",
     "output_type": "stream",
     "text": [
      "INFO:tensorflow:global_step/sec: 265.098\n"
     ]
    },
    {
     "name": "stdout",
     "output_type": "stream",
     "text": [
      "INFO:tensorflow:loss = 1.4140202, step = 11750 (0.375 sec)\n"
     ]
    },
    {
     "name": "stderr",
     "output_type": "stream",
     "text": [
      "INFO:tensorflow:loss = 1.4140202, step = 11750 (0.375 sec)\n"
     ]
    },
    {
     "name": "stdout",
     "output_type": "stream",
     "text": [
      "INFO:tensorflow:global_step/sec: 236.481\n"
     ]
    },
    {
     "name": "stderr",
     "output_type": "stream",
     "text": [
      "INFO:tensorflow:global_step/sec: 236.481\n"
     ]
    },
    {
     "name": "stdout",
     "output_type": "stream",
     "text": [
      "INFO:tensorflow:loss = 0.8655888, step = 11850 (0.423 sec)\n"
     ]
    },
    {
     "name": "stderr",
     "output_type": "stream",
     "text": [
      "INFO:tensorflow:loss = 0.8655888, step = 11850 (0.423 sec)\n"
     ]
    },
    {
     "name": "stdout",
     "output_type": "stream",
     "text": [
      "INFO:tensorflow:global_step/sec: 235.897\n"
     ]
    },
    {
     "name": "stderr",
     "output_type": "stream",
     "text": [
      "INFO:tensorflow:global_step/sec: 235.897\n"
     ]
    },
    {
     "name": "stdout",
     "output_type": "stream",
     "text": [
      "INFO:tensorflow:loss = 0.66584873, step = 11950 (0.424 sec)\n"
     ]
    },
    {
     "name": "stderr",
     "output_type": "stream",
     "text": [
      "INFO:tensorflow:loss = 0.66584873, step = 11950 (0.424 sec)\n"
     ]
    },
    {
     "name": "stdout",
     "output_type": "stream",
     "text": [
      "INFO:tensorflow:global_step/sec: 275.73\n"
     ]
    },
    {
     "name": "stderr",
     "output_type": "stream",
     "text": [
      "INFO:tensorflow:global_step/sec: 275.73\n"
     ]
    },
    {
     "name": "stdout",
     "output_type": "stream",
     "text": [
      "INFO:tensorflow:loss = 2.0822163, step = 12050 (0.363 sec)\n"
     ]
    },
    {
     "name": "stderr",
     "output_type": "stream",
     "text": [
      "INFO:tensorflow:loss = 2.0822163, step = 12050 (0.363 sec)\n"
     ]
    },
    {
     "name": "stdout",
     "output_type": "stream",
     "text": [
      "INFO:tensorflow:global_step/sec: 259.788\n"
     ]
    },
    {
     "name": "stderr",
     "output_type": "stream",
     "text": [
      "INFO:tensorflow:global_step/sec: 259.788\n"
     ]
    },
    {
     "name": "stdout",
     "output_type": "stream",
     "text": [
      "INFO:tensorflow:loss = 0.81434387, step = 12150 (0.384 sec)\n"
     ]
    },
    {
     "name": "stderr",
     "output_type": "stream",
     "text": [
      "INFO:tensorflow:loss = 0.81434387, step = 12150 (0.384 sec)\n"
     ]
    },
    {
     "name": "stdout",
     "output_type": "stream",
     "text": [
      "INFO:tensorflow:global_step/sec: 251.135\n"
     ]
    },
    {
     "name": "stderr",
     "output_type": "stream",
     "text": [
      "INFO:tensorflow:global_step/sec: 251.135\n"
     ]
    },
    {
     "name": "stdout",
     "output_type": "stream",
     "text": [
      "INFO:tensorflow:loss = 0.8139378, step = 12250 (0.398 sec)\n"
     ]
    },
    {
     "name": "stderr",
     "output_type": "stream",
     "text": [
      "INFO:tensorflow:loss = 0.8139378, step = 12250 (0.398 sec)\n"
     ]
    },
    {
     "name": "stdout",
     "output_type": "stream",
     "text": [
      "INFO:tensorflow:global_step/sec: 262.003\n"
     ]
    },
    {
     "name": "stderr",
     "output_type": "stream",
     "text": [
      "INFO:tensorflow:global_step/sec: 262.003\n"
     ]
    },
    {
     "name": "stdout",
     "output_type": "stream",
     "text": [
      "INFO:tensorflow:loss = 0.62687695, step = 12350 (0.382 sec)\n"
     ]
    },
    {
     "name": "stderr",
     "output_type": "stream",
     "text": [
      "INFO:tensorflow:loss = 0.62687695, step = 12350 (0.382 sec)\n"
     ]
    },
    {
     "name": "stdout",
     "output_type": "stream",
     "text": [
      "INFO:tensorflow:global_step/sec: 246.413\n"
     ]
    },
    {
     "name": "stderr",
     "output_type": "stream",
     "text": [
      "INFO:tensorflow:global_step/sec: 246.413\n"
     ]
    },
    {
     "name": "stdout",
     "output_type": "stream",
     "text": [
      "INFO:tensorflow:loss = 0.28074822, step = 12450 (0.408 sec)\n"
     ]
    },
    {
     "name": "stderr",
     "output_type": "stream",
     "text": [
      "INFO:tensorflow:loss = 0.28074822, step = 12450 (0.408 sec)\n"
     ]
    },
    {
     "name": "stdout",
     "output_type": "stream",
     "text": [
      "INFO:tensorflow:global_step/sec: 270.396\n"
     ]
    },
    {
     "name": "stderr",
     "output_type": "stream",
     "text": [
      "INFO:tensorflow:global_step/sec: 270.396\n"
     ]
    },
    {
     "name": "stdout",
     "output_type": "stream",
     "text": [
      "INFO:tensorflow:loss = 0.9718962, step = 12550 (0.368 sec)\n"
     ]
    },
    {
     "name": "stderr",
     "output_type": "stream",
     "text": [
      "INFO:tensorflow:loss = 0.9718962, step = 12550 (0.368 sec)\n"
     ]
    },
    {
     "name": "stdout",
     "output_type": "stream",
     "text": [
      "INFO:tensorflow:global_step/sec: 234.549\n"
     ]
    },
    {
     "name": "stderr",
     "output_type": "stream",
     "text": [
      "INFO:tensorflow:global_step/sec: 234.549\n"
     ]
    },
    {
     "name": "stdout",
     "output_type": "stream",
     "text": [
      "INFO:tensorflow:loss = 1.0556313, step = 12650 (0.429 sec)\n"
     ]
    },
    {
     "name": "stderr",
     "output_type": "stream",
     "text": [
      "INFO:tensorflow:loss = 1.0556313, step = 12650 (0.429 sec)\n"
     ]
    },
    {
     "name": "stdout",
     "output_type": "stream",
     "text": [
      "INFO:tensorflow:global_step/sec: 246.268\n"
     ]
    },
    {
     "name": "stderr",
     "output_type": "stream",
     "text": [
      "INFO:tensorflow:global_step/sec: 246.268\n"
     ]
    },
    {
     "name": "stdout",
     "output_type": "stream",
     "text": [
      "INFO:tensorflow:loss = 1.0044491, step = 12750 (0.404 sec)\n"
     ]
    },
    {
     "name": "stderr",
     "output_type": "stream",
     "text": [
      "INFO:tensorflow:loss = 1.0044491, step = 12750 (0.404 sec)\n"
     ]
    },
    {
     "name": "stdout",
     "output_type": "stream",
     "text": [
      "INFO:tensorflow:global_step/sec: 234.035\n"
     ]
    },
    {
     "name": "stderr",
     "output_type": "stream",
     "text": [
      "INFO:tensorflow:global_step/sec: 234.035\n"
     ]
    },
    {
     "name": "stdout",
     "output_type": "stream",
     "text": [
      "INFO:tensorflow:loss = 0.96046275, step = 12850 (0.426 sec)\n"
     ]
    },
    {
     "name": "stderr",
     "output_type": "stream",
     "text": [
      "INFO:tensorflow:loss = 0.96046275, step = 12850 (0.426 sec)\n"
     ]
    },
    {
     "name": "stdout",
     "output_type": "stream",
     "text": [
      "INFO:tensorflow:global_step/sec: 248.87\n"
     ]
    },
    {
     "name": "stderr",
     "output_type": "stream",
     "text": [
      "INFO:tensorflow:global_step/sec: 248.87\n"
     ]
    },
    {
     "name": "stdout",
     "output_type": "stream",
     "text": [
      "INFO:tensorflow:loss = 0.8716429, step = 12950 (0.402 sec)\n"
     ]
    },
    {
     "name": "stderr",
     "output_type": "stream",
     "text": [
      "INFO:tensorflow:loss = 0.8716429, step = 12950 (0.402 sec)\n"
     ]
    },
    {
     "name": "stdout",
     "output_type": "stream",
     "text": [
      "INFO:tensorflow:global_step/sec: 226.969\n"
     ]
    },
    {
     "name": "stderr",
     "output_type": "stream",
     "text": [
      "INFO:tensorflow:global_step/sec: 226.969\n"
     ]
    },
    {
     "name": "stdout",
     "output_type": "stream",
     "text": [
      "INFO:tensorflow:loss = 1.4871037, step = 13050 (0.441 sec)\n"
     ]
    },
    {
     "name": "stderr",
     "output_type": "stream",
     "text": [
      "INFO:tensorflow:loss = 1.4871037, step = 13050 (0.441 sec)\n"
     ]
    },
    {
     "name": "stdout",
     "output_type": "stream",
     "text": [
      "INFO:tensorflow:Saving checkpoints for 13125 into ./tmp4wk8inr5/model.ckpt.\n"
     ]
    },
    {
     "name": "stderr",
     "output_type": "stream",
     "text": [
      "INFO:tensorflow:Saving checkpoints for 13125 into ./tmp4wk8inr5/model.ckpt.\n"
     ]
    },
    {
     "name": "stdout",
     "output_type": "stream",
     "text": [
      "INFO:tensorflow:Loss for final step: 0.7334186.\n"
     ]
    },
    {
     "name": "stderr",
     "output_type": "stream",
     "text": [
      "INFO:tensorflow:Loss for final step: 0.7334186.\n"
     ]
    },
    {
     "name": "stdout",
     "output_type": "stream",
     "text": [
      "Evaluation after epoch:\n",
      "INFO:tensorflow:Calling model_fn.\n"
     ]
    },
    {
     "name": "stderr",
     "output_type": "stream",
     "text": [
      "INFO:tensorflow:Calling model_fn.\n"
     ]
    },
    {
     "name": "stdout",
     "output_type": "stream",
     "text": [
      "INFO:tensorflow:Done calling model_fn.\n"
     ]
    },
    {
     "name": "stderr",
     "output_type": "stream",
     "text": [
      "INFO:tensorflow:Done calling model_fn.\n"
     ]
    },
    {
     "name": "stdout",
     "output_type": "stream",
     "text": [
      "INFO:tensorflow:Starting evaluation at 2020-03-30T11:05:03Z\n"
     ]
    },
    {
     "name": "stderr",
     "output_type": "stream",
     "text": [
      "INFO:tensorflow:Starting evaluation at 2020-03-30T11:05:03Z\n"
     ]
    },
    {
     "name": "stdout",
     "output_type": "stream",
     "text": [
      "INFO:tensorflow:Graph was finalized.\n"
     ]
    },
    {
     "name": "stderr",
     "output_type": "stream",
     "text": [
      "INFO:tensorflow:Graph was finalized.\n"
     ]
    },
    {
     "name": "stdout",
     "output_type": "stream",
     "text": [
      "INFO:tensorflow:Restoring parameters from ./tmp4wk8inr5/model.ckpt-13125\n"
     ]
    },
    {
     "name": "stderr",
     "output_type": "stream",
     "text": [
      "INFO:tensorflow:Restoring parameters from ./tmp4wk8inr5/model.ckpt-13125\n"
     ]
    },
    {
     "name": "stdout",
     "output_type": "stream",
     "text": [
      "INFO:tensorflow:Running local_init_op.\n"
     ]
    },
    {
     "name": "stderr",
     "output_type": "stream",
     "text": [
      "INFO:tensorflow:Running local_init_op.\n"
     ]
    },
    {
     "name": "stdout",
     "output_type": "stream",
     "text": [
      "INFO:tensorflow:Done running local_init_op.\n"
     ]
    },
    {
     "name": "stderr",
     "output_type": "stream",
     "text": [
      "INFO:tensorflow:Done running local_init_op.\n"
     ]
    },
    {
     "name": "stdout",
     "output_type": "stream",
     "text": [
      "INFO:tensorflow:Inference Time : 6.50622s\n"
     ]
    },
    {
     "name": "stderr",
     "output_type": "stream",
     "text": [
      "INFO:tensorflow:Inference Time : 6.50622s\n"
     ]
    },
    {
     "name": "stdout",
     "output_type": "stream",
     "text": [
      "INFO:tensorflow:Finished evaluation at 2020-03-30-11:05:10\n"
     ]
    },
    {
     "name": "stderr",
     "output_type": "stream",
     "text": [
      "INFO:tensorflow:Finished evaluation at 2020-03-30-11:05:10\n"
     ]
    },
    {
     "name": "stdout",
     "output_type": "stream",
     "text": [
      "INFO:tensorflow:Saving dict for global step 13125: accuracy = 0.8817667, average_loss = 0.4901899, global_step = 13125, loss = 0.4901899\n"
     ]
    },
    {
     "name": "stderr",
     "output_type": "stream",
     "text": [
      "INFO:tensorflow:Saving dict for global step 13125: accuracy = 0.8817667, average_loss = 0.4901899, global_step = 13125, loss = 0.4901899\n"
     ]
    },
    {
     "name": "stdout",
     "output_type": "stream",
     "text": [
      "INFO:tensorflow:Saving 'checkpoint_path' summary for global step 13125: ./tmp4wk8inr5/model.ckpt-13125\n"
     ]
    },
    {
     "name": "stderr",
     "output_type": "stream",
     "text": [
      "INFO:tensorflow:Saving 'checkpoint_path' summary for global step 13125: ./tmp4wk8inr5/model.ckpt-13125\n"
     ]
    },
    {
     "name": "stdout",
     "output_type": "stream",
     "text": [
      "{'accuracy': 0.8817667, 'average_loss': 0.4901899, 'loss': 0.4901899, 'global_step': 13125}\n",
      "INFO:tensorflow:Calling model_fn.\n"
     ]
    },
    {
     "name": "stderr",
     "output_type": "stream",
     "text": [
      "INFO:tensorflow:Calling model_fn.\n"
     ]
    },
    {
     "name": "stdout",
     "output_type": "stream",
     "text": [
      "INFO:tensorflow:Done calling model_fn.\n"
     ]
    },
    {
     "name": "stderr",
     "output_type": "stream",
     "text": [
      "INFO:tensorflow:Done calling model_fn.\n"
     ]
    },
    {
     "name": "stdout",
     "output_type": "stream",
     "text": [
      "INFO:tensorflow:Starting evaluation at 2020-03-30T11:05:10Z\n"
     ]
    },
    {
     "name": "stderr",
     "output_type": "stream",
     "text": [
      "INFO:tensorflow:Starting evaluation at 2020-03-30T11:05:10Z\n"
     ]
    },
    {
     "name": "stdout",
     "output_type": "stream",
     "text": [
      "INFO:tensorflow:Graph was finalized.\n"
     ]
    },
    {
     "name": "stderr",
     "output_type": "stream",
     "text": [
      "INFO:tensorflow:Graph was finalized.\n"
     ]
    },
    {
     "name": "stdout",
     "output_type": "stream",
     "text": [
      "INFO:tensorflow:Restoring parameters from ./tmp4wk8inr5/model.ckpt-13125\n"
     ]
    },
    {
     "name": "stderr",
     "output_type": "stream",
     "text": [
      "INFO:tensorflow:Restoring parameters from ./tmp4wk8inr5/model.ckpt-13125\n"
     ]
    },
    {
     "name": "stdout",
     "output_type": "stream",
     "text": [
      "INFO:tensorflow:Running local_init_op.\n"
     ]
    },
    {
     "name": "stderr",
     "output_type": "stream",
     "text": [
      "INFO:tensorflow:Running local_init_op.\n"
     ]
    },
    {
     "name": "stdout",
     "output_type": "stream",
     "text": [
      "INFO:tensorflow:Done running local_init_op.\n"
     ]
    },
    {
     "name": "stderr",
     "output_type": "stream",
     "text": [
      "INFO:tensorflow:Done running local_init_op.\n"
     ]
    },
    {
     "name": "stdout",
     "output_type": "stream",
     "text": [
      "INFO:tensorflow:Inference Time : 1.27289s\n"
     ]
    },
    {
     "name": "stderr",
     "output_type": "stream",
     "text": [
      "INFO:tensorflow:Inference Time : 1.27289s\n"
     ]
    },
    {
     "name": "stdout",
     "output_type": "stream",
     "text": [
      "INFO:tensorflow:Finished evaluation at 2020-03-30-11:05:12\n"
     ]
    },
    {
     "name": "stderr",
     "output_type": "stream",
     "text": [
      "INFO:tensorflow:Finished evaluation at 2020-03-30-11:05:12\n"
     ]
    },
    {
     "name": "stdout",
     "output_type": "stream",
     "text": [
      "INFO:tensorflow:Saving dict for global step 13125: accuracy = 0.8819, average_loss = 0.53415996, global_step = 13125, loss = 0.5345811\n"
     ]
    },
    {
     "name": "stderr",
     "output_type": "stream",
     "text": [
      "INFO:tensorflow:Saving dict for global step 13125: accuracy = 0.8819, average_loss = 0.53415996, global_step = 13125, loss = 0.5345811\n"
     ]
    },
    {
     "name": "stdout",
     "output_type": "stream",
     "text": [
      "INFO:tensorflow:Saving 'checkpoint_path' summary for global step 13125: ./tmp4wk8inr5/model.ckpt-13125\n"
     ]
    },
    {
     "name": "stderr",
     "output_type": "stream",
     "text": [
      "INFO:tensorflow:Saving 'checkpoint_path' summary for global step 13125: ./tmp4wk8inr5/model.ckpt-13125\n"
     ]
    },
    {
     "name": "stdout",
     "output_type": "stream",
     "text": [
      "{'accuracy': 0.8819, 'average_loss': 0.53415996, 'loss': 0.5345811, 'global_step': 13125}\n",
      "INFO:tensorflow:Calling model_fn.\n"
     ]
    },
    {
     "name": "stderr",
     "output_type": "stream",
     "text": [
      "INFO:tensorflow:Calling model_fn.\n"
     ]
    },
    {
     "name": "stdout",
     "output_type": "stream",
     "text": [
      "INFO:tensorflow:Done calling model_fn.\n"
     ]
    },
    {
     "name": "stderr",
     "output_type": "stream",
     "text": [
      "INFO:tensorflow:Done calling model_fn.\n"
     ]
    },
    {
     "name": "stdout",
     "output_type": "stream",
     "text": [
      "INFO:tensorflow:Create CheckpointSaverHook.\n"
     ]
    },
    {
     "name": "stderr",
     "output_type": "stream",
     "text": [
      "INFO:tensorflow:Create CheckpointSaverHook.\n"
     ]
    },
    {
     "name": "stdout",
     "output_type": "stream",
     "text": [
      "INFO:tensorflow:Graph was finalized.\n"
     ]
    },
    {
     "name": "stderr",
     "output_type": "stream",
     "text": [
      "INFO:tensorflow:Graph was finalized.\n"
     ]
    },
    {
     "name": "stdout",
     "output_type": "stream",
     "text": [
      "INFO:tensorflow:Restoring parameters from ./tmp4wk8inr5/model.ckpt-13125\n"
     ]
    },
    {
     "name": "stderr",
     "output_type": "stream",
     "text": [
      "INFO:tensorflow:Restoring parameters from ./tmp4wk8inr5/model.ckpt-13125\n"
     ]
    },
    {
     "name": "stdout",
     "output_type": "stream",
     "text": [
      "INFO:tensorflow:Running local_init_op.\n"
     ]
    },
    {
     "name": "stderr",
     "output_type": "stream",
     "text": [
      "INFO:tensorflow:Running local_init_op.\n"
     ]
    },
    {
     "name": "stdout",
     "output_type": "stream",
     "text": [
      "INFO:tensorflow:Done running local_init_op.\n"
     ]
    },
    {
     "name": "stderr",
     "output_type": "stream",
     "text": [
      "INFO:tensorflow:Done running local_init_op.\n"
     ]
    },
    {
     "name": "stdout",
     "output_type": "stream",
     "text": [
      "INFO:tensorflow:Saving checkpoints for 13125 into ./tmp4wk8inr5/model.ckpt.\n"
     ]
    },
    {
     "name": "stderr",
     "output_type": "stream",
     "text": [
      "INFO:tensorflow:Saving checkpoints for 13125 into ./tmp4wk8inr5/model.ckpt.\n"
     ]
    },
    {
     "name": "stdout",
     "output_type": "stream",
     "text": [
      "INFO:tensorflow:loss = 0.33384806, step = 13125\n"
     ]
    },
    {
     "name": "stderr",
     "output_type": "stream",
     "text": [
      "INFO:tensorflow:loss = 0.33384806, step = 13125\n"
     ]
    },
    {
     "name": "stdout",
     "output_type": "stream",
     "text": [
      "INFO:tensorflow:global_step/sec: 225.488\n"
     ]
    },
    {
     "name": "stderr",
     "output_type": "stream",
     "text": [
      "INFO:tensorflow:global_step/sec: 225.488\n"
     ]
    },
    {
     "name": "stdout",
     "output_type": "stream",
     "text": [
      "INFO:tensorflow:loss = 0.46433064, step = 13225 (0.445 sec)\n"
     ]
    },
    {
     "name": "stderr",
     "output_type": "stream",
     "text": [
      "INFO:tensorflow:loss = 0.46433064, step = 13225 (0.445 sec)\n"
     ]
    },
    {
     "name": "stdout",
     "output_type": "stream",
     "text": [
      "INFO:tensorflow:global_step/sec: 264.876\n"
     ]
    },
    {
     "name": "stderr",
     "output_type": "stream",
     "text": [
      "INFO:tensorflow:global_step/sec: 264.876\n"
     ]
    },
    {
     "name": "stdout",
     "output_type": "stream",
     "text": [
      "INFO:tensorflow:loss = 0.7255751, step = 13325 (0.379 sec)\n"
     ]
    },
    {
     "name": "stderr",
     "output_type": "stream",
     "text": [
      "INFO:tensorflow:loss = 0.7255751, step = 13325 (0.379 sec)\n"
     ]
    },
    {
     "name": "stdout",
     "output_type": "stream",
     "text": [
      "INFO:tensorflow:global_step/sec: 247.792\n"
     ]
    },
    {
     "name": "stderr",
     "output_type": "stream",
     "text": [
      "INFO:tensorflow:global_step/sec: 247.792\n"
     ]
    },
    {
     "name": "stdout",
     "output_type": "stream",
     "text": [
      "INFO:tensorflow:loss = 0.6127572, step = 13425 (0.401 sec)\n"
     ]
    },
    {
     "name": "stderr",
     "output_type": "stream",
     "text": [
      "INFO:tensorflow:loss = 0.6127572, step = 13425 (0.401 sec)\n"
     ]
    },
    {
     "name": "stdout",
     "output_type": "stream",
     "text": [
      "INFO:tensorflow:global_step/sec: 261.028\n"
     ]
    },
    {
     "name": "stderr",
     "output_type": "stream",
     "text": [
      "INFO:tensorflow:global_step/sec: 261.028\n"
     ]
    },
    {
     "name": "stdout",
     "output_type": "stream",
     "text": [
      "INFO:tensorflow:loss = 0.96913767, step = 13525 (0.395 sec)\n"
     ]
    },
    {
     "name": "stderr",
     "output_type": "stream",
     "text": [
      "INFO:tensorflow:loss = 0.96913767, step = 13525 (0.395 sec)\n"
     ]
    },
    {
     "name": "stdout",
     "output_type": "stream",
     "text": [
      "INFO:tensorflow:global_step/sec: 254.675\n"
     ]
    },
    {
     "name": "stderr",
     "output_type": "stream",
     "text": [
      "INFO:tensorflow:global_step/sec: 254.675\n"
     ]
    },
    {
     "name": "stdout",
     "output_type": "stream",
     "text": [
      "INFO:tensorflow:loss = 1.5454309, step = 13625 (0.381 sec)\n"
     ]
    },
    {
     "name": "stderr",
     "output_type": "stream",
     "text": [
      "INFO:tensorflow:loss = 1.5454309, step = 13625 (0.381 sec)\n"
     ]
    },
    {
     "name": "stdout",
     "output_type": "stream",
     "text": [
      "INFO:tensorflow:global_step/sec: 253.707\n"
     ]
    },
    {
     "name": "stderr",
     "output_type": "stream",
     "text": [
      "INFO:tensorflow:global_step/sec: 253.707\n"
     ]
    },
    {
     "name": "stdout",
     "output_type": "stream",
     "text": [
      "INFO:tensorflow:loss = 0.61435664, step = 13725 (0.394 sec)\n"
     ]
    },
    {
     "name": "stderr",
     "output_type": "stream",
     "text": [
      "INFO:tensorflow:loss = 0.61435664, step = 13725 (0.394 sec)\n"
     ]
    },
    {
     "name": "stdout",
     "output_type": "stream",
     "text": [
      "INFO:tensorflow:global_step/sec: 239.99\n"
     ]
    },
    {
     "name": "stderr",
     "output_type": "stream",
     "text": [
      "INFO:tensorflow:global_step/sec: 239.99\n"
     ]
    },
    {
     "name": "stdout",
     "output_type": "stream",
     "text": [
      "INFO:tensorflow:loss = 0.7138775, step = 13825 (0.417 sec)\n"
     ]
    },
    {
     "name": "stderr",
     "output_type": "stream",
     "text": [
      "INFO:tensorflow:loss = 0.7138775, step = 13825 (0.417 sec)\n"
     ]
    },
    {
     "name": "stdout",
     "output_type": "stream",
     "text": [
      "INFO:tensorflow:global_step/sec: 233.318\n"
     ]
    },
    {
     "name": "stderr",
     "output_type": "stream",
     "text": [
      "INFO:tensorflow:global_step/sec: 233.318\n"
     ]
    },
    {
     "name": "stdout",
     "output_type": "stream",
     "text": [
      "INFO:tensorflow:loss = 1.2222226, step = 13925 (0.428 sec)\n"
     ]
    },
    {
     "name": "stderr",
     "output_type": "stream",
     "text": [
      "INFO:tensorflow:loss = 1.2222226, step = 13925 (0.428 sec)\n"
     ]
    },
    {
     "name": "stdout",
     "output_type": "stream",
     "text": [
      "INFO:tensorflow:global_step/sec: 230.698\n"
     ]
    },
    {
     "name": "stderr",
     "output_type": "stream",
     "text": [
      "INFO:tensorflow:global_step/sec: 230.698\n"
     ]
    },
    {
     "name": "stdout",
     "output_type": "stream",
     "text": [
      "INFO:tensorflow:loss = 0.6789583, step = 14025 (0.434 sec)\n"
     ]
    },
    {
     "name": "stderr",
     "output_type": "stream",
     "text": [
      "INFO:tensorflow:loss = 0.6789583, step = 14025 (0.434 sec)\n"
     ]
    },
    {
     "name": "stdout",
     "output_type": "stream",
     "text": [
      "INFO:tensorflow:global_step/sec: 233.977\n"
     ]
    },
    {
     "name": "stderr",
     "output_type": "stream",
     "text": [
      "INFO:tensorflow:global_step/sec: 233.977\n"
     ]
    },
    {
     "name": "stdout",
     "output_type": "stream",
     "text": [
      "INFO:tensorflow:loss = 0.6686684, step = 14125 (0.429 sec)\n"
     ]
    },
    {
     "name": "stderr",
     "output_type": "stream",
     "text": [
      "INFO:tensorflow:loss = 0.6686684, step = 14125 (0.429 sec)\n"
     ]
    },
    {
     "name": "stdout",
     "output_type": "stream",
     "text": [
      "INFO:tensorflow:global_step/sec: 262.932\n"
     ]
    },
    {
     "name": "stderr",
     "output_type": "stream",
     "text": [
      "INFO:tensorflow:global_step/sec: 262.932\n"
     ]
    },
    {
     "name": "stdout",
     "output_type": "stream",
     "text": [
      "INFO:tensorflow:loss = 0.9130731, step = 14225 (0.379 sec)\n"
     ]
    },
    {
     "name": "stderr",
     "output_type": "stream",
     "text": [
      "INFO:tensorflow:loss = 0.9130731, step = 14225 (0.379 sec)\n"
     ]
    },
    {
     "name": "stdout",
     "output_type": "stream",
     "text": [
      "INFO:tensorflow:global_step/sec: 270.065\n"
     ]
    },
    {
     "name": "stderr",
     "output_type": "stream",
     "text": [
      "INFO:tensorflow:global_step/sec: 270.065\n"
     ]
    },
    {
     "name": "stdout",
     "output_type": "stream",
     "text": [
      "INFO:tensorflow:loss = 0.49440986, step = 14325 (0.370 sec)\n"
     ]
    },
    {
     "name": "stderr",
     "output_type": "stream",
     "text": [
      "INFO:tensorflow:loss = 0.49440986, step = 14325 (0.370 sec)\n"
     ]
    },
    {
     "name": "stdout",
     "output_type": "stream",
     "text": [
      "INFO:tensorflow:global_step/sec: 214.28\n"
     ]
    },
    {
     "name": "stderr",
     "output_type": "stream",
     "text": [
      "INFO:tensorflow:global_step/sec: 214.28\n"
     ]
    },
    {
     "name": "stdout",
     "output_type": "stream",
     "text": [
      "INFO:tensorflow:loss = 0.96197164, step = 14425 (0.467 sec)\n"
     ]
    },
    {
     "name": "stderr",
     "output_type": "stream",
     "text": [
      "INFO:tensorflow:loss = 0.96197164, step = 14425 (0.467 sec)\n"
     ]
    },
    {
     "name": "stdout",
     "output_type": "stream",
     "text": [
      "INFO:tensorflow:global_step/sec: 207.213\n"
     ]
    },
    {
     "name": "stderr",
     "output_type": "stream",
     "text": [
      "INFO:tensorflow:global_step/sec: 207.213\n"
     ]
    },
    {
     "name": "stdout",
     "output_type": "stream",
     "text": [
      "INFO:tensorflow:loss = 0.84793764, step = 14525 (0.482 sec)\n"
     ]
    },
    {
     "name": "stderr",
     "output_type": "stream",
     "text": [
      "INFO:tensorflow:loss = 0.84793764, step = 14525 (0.482 sec)\n"
     ]
    },
    {
     "name": "stdout",
     "output_type": "stream",
     "text": [
      "INFO:tensorflow:global_step/sec: 230.366\n"
     ]
    },
    {
     "name": "stderr",
     "output_type": "stream",
     "text": [
      "INFO:tensorflow:global_step/sec: 230.366\n"
     ]
    },
    {
     "name": "stdout",
     "output_type": "stream",
     "text": [
      "INFO:tensorflow:loss = 1.1403041, step = 14625 (0.439 sec)\n"
     ]
    },
    {
     "name": "stderr",
     "output_type": "stream",
     "text": [
      "INFO:tensorflow:loss = 1.1403041, step = 14625 (0.439 sec)\n"
     ]
    },
    {
     "name": "stdout",
     "output_type": "stream",
     "text": [
      "INFO:tensorflow:global_step/sec: 231.366\n"
     ]
    },
    {
     "name": "stderr",
     "output_type": "stream",
     "text": [
      "INFO:tensorflow:global_step/sec: 231.366\n"
     ]
    },
    {
     "name": "stdout",
     "output_type": "stream",
     "text": [
      "INFO:tensorflow:loss = 2.8304734, step = 14725 (0.427 sec)\n"
     ]
    },
    {
     "name": "stderr",
     "output_type": "stream",
     "text": [
      "INFO:tensorflow:loss = 2.8304734, step = 14725 (0.427 sec)\n"
     ]
    },
    {
     "name": "stdout",
     "output_type": "stream",
     "text": [
      "INFO:tensorflow:global_step/sec: 277.778\n"
     ]
    },
    {
     "name": "stderr",
     "output_type": "stream",
     "text": [
      "INFO:tensorflow:global_step/sec: 277.778\n"
     ]
    },
    {
     "name": "stdout",
     "output_type": "stream",
     "text": [
      "INFO:tensorflow:loss = 1.5406015, step = 14825 (0.360 sec)\n"
     ]
    },
    {
     "name": "stderr",
     "output_type": "stream",
     "text": [
      "INFO:tensorflow:loss = 1.5406015, step = 14825 (0.360 sec)\n"
     ]
    },
    {
     "name": "stdout",
     "output_type": "stream",
     "text": [
      "INFO:tensorflow:global_step/sec: 262.359\n"
     ]
    },
    {
     "name": "stderr",
     "output_type": "stream",
     "text": [
      "INFO:tensorflow:global_step/sec: 262.359\n"
     ]
    },
    {
     "name": "stdout",
     "output_type": "stream",
     "text": [
      "INFO:tensorflow:loss = 1.3716279, step = 14925 (0.383 sec)\n"
     ]
    },
    {
     "name": "stderr",
     "output_type": "stream",
     "text": [
      "INFO:tensorflow:loss = 1.3716279, step = 14925 (0.383 sec)\n"
     ]
    },
    {
     "name": "stdout",
     "output_type": "stream",
     "text": [
      "INFO:tensorflow:Saving checkpoints for 15000 into ./tmp4wk8inr5/model.ckpt.\n"
     ]
    },
    {
     "name": "stderr",
     "output_type": "stream",
     "text": [
      "INFO:tensorflow:Saving checkpoints for 15000 into ./tmp4wk8inr5/model.ckpt.\n"
     ]
    },
    {
     "name": "stdout",
     "output_type": "stream",
     "text": [
      "INFO:tensorflow:Loss for final step: 0.6145667.\n"
     ]
    },
    {
     "name": "stderr",
     "output_type": "stream",
     "text": [
      "INFO:tensorflow:Loss for final step: 0.6145667.\n"
     ]
    },
    {
     "name": "stdout",
     "output_type": "stream",
     "text": [
      "Evaluation after epoch:\n",
      "INFO:tensorflow:Calling model_fn.\n"
     ]
    },
    {
     "name": "stderr",
     "output_type": "stream",
     "text": [
      "INFO:tensorflow:Calling model_fn.\n"
     ]
    },
    {
     "name": "stdout",
     "output_type": "stream",
     "text": [
      "INFO:tensorflow:Done calling model_fn.\n"
     ]
    },
    {
     "name": "stderr",
     "output_type": "stream",
     "text": [
      "INFO:tensorflow:Done calling model_fn.\n"
     ]
    },
    {
     "name": "stdout",
     "output_type": "stream",
     "text": [
      "INFO:tensorflow:Starting evaluation at 2020-03-30T11:05:21Z\n"
     ]
    },
    {
     "name": "stderr",
     "output_type": "stream",
     "text": [
      "INFO:tensorflow:Starting evaluation at 2020-03-30T11:05:21Z\n"
     ]
    },
    {
     "name": "stdout",
     "output_type": "stream",
     "text": [
      "INFO:tensorflow:Graph was finalized.\n"
     ]
    },
    {
     "name": "stderr",
     "output_type": "stream",
     "text": [
      "INFO:tensorflow:Graph was finalized.\n"
     ]
    },
    {
     "name": "stdout",
     "output_type": "stream",
     "text": [
      "INFO:tensorflow:Restoring parameters from ./tmp4wk8inr5/model.ckpt-15000\n"
     ]
    },
    {
     "name": "stderr",
     "output_type": "stream",
     "text": [
      "INFO:tensorflow:Restoring parameters from ./tmp4wk8inr5/model.ckpt-15000\n"
     ]
    },
    {
     "name": "stdout",
     "output_type": "stream",
     "text": [
      "INFO:tensorflow:Running local_init_op.\n"
     ]
    },
    {
     "name": "stderr",
     "output_type": "stream",
     "text": [
      "INFO:tensorflow:Running local_init_op.\n"
     ]
    },
    {
     "name": "stdout",
     "output_type": "stream",
     "text": [
      "INFO:tensorflow:Done running local_init_op.\n"
     ]
    },
    {
     "name": "stderr",
     "output_type": "stream",
     "text": [
      "INFO:tensorflow:Done running local_init_op.\n"
     ]
    },
    {
     "name": "stdout",
     "output_type": "stream",
     "text": [
      "INFO:tensorflow:Inference Time : 6.01341s\n"
     ]
    },
    {
     "name": "stderr",
     "output_type": "stream",
     "text": [
      "INFO:tensorflow:Inference Time : 6.01341s\n"
     ]
    },
    {
     "name": "stdout",
     "output_type": "stream",
     "text": [
      "INFO:tensorflow:Finished evaluation at 2020-03-30-11:05:27\n"
     ]
    },
    {
     "name": "stderr",
     "output_type": "stream",
     "text": [
      "INFO:tensorflow:Finished evaluation at 2020-03-30-11:05:27\n"
     ]
    },
    {
     "name": "stdout",
     "output_type": "stream",
     "text": [
      "INFO:tensorflow:Saving dict for global step 15000: accuracy = 0.8860833, average_loss = 0.459885, global_step = 15000, loss = 0.459885\n"
     ]
    },
    {
     "name": "stderr",
     "output_type": "stream",
     "text": [
      "INFO:tensorflow:Saving dict for global step 15000: accuracy = 0.8860833, average_loss = 0.459885, global_step = 15000, loss = 0.459885\n"
     ]
    },
    {
     "name": "stdout",
     "output_type": "stream",
     "text": [
      "INFO:tensorflow:Saving 'checkpoint_path' summary for global step 15000: ./tmp4wk8inr5/model.ckpt-15000\n"
     ]
    },
    {
     "name": "stderr",
     "output_type": "stream",
     "text": [
      "INFO:tensorflow:Saving 'checkpoint_path' summary for global step 15000: ./tmp4wk8inr5/model.ckpt-15000\n"
     ]
    },
    {
     "name": "stdout",
     "output_type": "stream",
     "text": [
      "{'accuracy': 0.8860833, 'average_loss': 0.459885, 'loss': 0.459885, 'global_step': 15000}\n",
      "INFO:tensorflow:Calling model_fn.\n"
     ]
    },
    {
     "name": "stderr",
     "output_type": "stream",
     "text": [
      "INFO:tensorflow:Calling model_fn.\n"
     ]
    },
    {
     "name": "stdout",
     "output_type": "stream",
     "text": [
      "INFO:tensorflow:Done calling model_fn.\n"
     ]
    },
    {
     "name": "stderr",
     "output_type": "stream",
     "text": [
      "INFO:tensorflow:Done calling model_fn.\n"
     ]
    },
    {
     "name": "stdout",
     "output_type": "stream",
     "text": [
      "INFO:tensorflow:Starting evaluation at 2020-03-30T11:05:28Z\n"
     ]
    },
    {
     "name": "stderr",
     "output_type": "stream",
     "text": [
      "INFO:tensorflow:Starting evaluation at 2020-03-30T11:05:28Z\n"
     ]
    },
    {
     "name": "stdout",
     "output_type": "stream",
     "text": [
      "INFO:tensorflow:Graph was finalized.\n"
     ]
    },
    {
     "name": "stderr",
     "output_type": "stream",
     "text": [
      "INFO:tensorflow:Graph was finalized.\n"
     ]
    },
    {
     "name": "stdout",
     "output_type": "stream",
     "text": [
      "INFO:tensorflow:Restoring parameters from ./tmp4wk8inr5/model.ckpt-15000\n"
     ]
    },
    {
     "name": "stderr",
     "output_type": "stream",
     "text": [
      "INFO:tensorflow:Restoring parameters from ./tmp4wk8inr5/model.ckpt-15000\n"
     ]
    },
    {
     "name": "stdout",
     "output_type": "stream",
     "text": [
      "INFO:tensorflow:Running local_init_op.\n"
     ]
    },
    {
     "name": "stderr",
     "output_type": "stream",
     "text": [
      "INFO:tensorflow:Running local_init_op.\n"
     ]
    },
    {
     "name": "stdout",
     "output_type": "stream",
     "text": [
      "INFO:tensorflow:Done running local_init_op.\n"
     ]
    },
    {
     "name": "stderr",
     "output_type": "stream",
     "text": [
      "INFO:tensorflow:Done running local_init_op.\n"
     ]
    },
    {
     "name": "stdout",
     "output_type": "stream",
     "text": [
      "INFO:tensorflow:Inference Time : 1.34294s\n"
     ]
    },
    {
     "name": "stderr",
     "output_type": "stream",
     "text": [
      "INFO:tensorflow:Inference Time : 1.34294s\n"
     ]
    },
    {
     "name": "stdout",
     "output_type": "stream",
     "text": [
      "INFO:tensorflow:Finished evaluation at 2020-03-30-11:05:29\n"
     ]
    },
    {
     "name": "stderr",
     "output_type": "stream",
     "text": [
      "INFO:tensorflow:Finished evaluation at 2020-03-30-11:05:29\n"
     ]
    },
    {
     "name": "stdout",
     "output_type": "stream",
     "text": [
      "INFO:tensorflow:Saving dict for global step 15000: accuracy = 0.8826, average_loss = 0.5056548, global_step = 15000, loss = 0.50608915\n"
     ]
    },
    {
     "name": "stderr",
     "output_type": "stream",
     "text": [
      "INFO:tensorflow:Saving dict for global step 15000: accuracy = 0.8826, average_loss = 0.5056548, global_step = 15000, loss = 0.50608915\n"
     ]
    },
    {
     "name": "stdout",
     "output_type": "stream",
     "text": [
      "INFO:tensorflow:Saving 'checkpoint_path' summary for global step 15000: ./tmp4wk8inr5/model.ckpt-15000\n"
     ]
    },
    {
     "name": "stderr",
     "output_type": "stream",
     "text": [
      "INFO:tensorflow:Saving 'checkpoint_path' summary for global step 15000: ./tmp4wk8inr5/model.ckpt-15000\n"
     ]
    },
    {
     "name": "stdout",
     "output_type": "stream",
     "text": [
      "{'accuracy': 0.8826, 'average_loss': 0.5056548, 'loss': 0.50608915, 'global_step': 15000}\n",
      "INFO:tensorflow:Calling model_fn.\n"
     ]
    },
    {
     "name": "stderr",
     "output_type": "stream",
     "text": [
      "INFO:tensorflow:Calling model_fn.\n"
     ]
    },
    {
     "name": "stdout",
     "output_type": "stream",
     "text": [
      "INFO:tensorflow:Done calling model_fn.\n"
     ]
    },
    {
     "name": "stderr",
     "output_type": "stream",
     "text": [
      "INFO:tensorflow:Done calling model_fn.\n"
     ]
    },
    {
     "name": "stdout",
     "output_type": "stream",
     "text": [
      "INFO:tensorflow:Create CheckpointSaverHook.\n"
     ]
    },
    {
     "name": "stderr",
     "output_type": "stream",
     "text": [
      "INFO:tensorflow:Create CheckpointSaverHook.\n"
     ]
    },
    {
     "name": "stdout",
     "output_type": "stream",
     "text": [
      "INFO:tensorflow:Graph was finalized.\n"
     ]
    },
    {
     "name": "stderr",
     "output_type": "stream",
     "text": [
      "INFO:tensorflow:Graph was finalized.\n"
     ]
    },
    {
     "name": "stdout",
     "output_type": "stream",
     "text": [
      "INFO:tensorflow:Restoring parameters from ./tmp4wk8inr5/model.ckpt-15000\n"
     ]
    },
    {
     "name": "stderr",
     "output_type": "stream",
     "text": [
      "INFO:tensorflow:Restoring parameters from ./tmp4wk8inr5/model.ckpt-15000\n"
     ]
    },
    {
     "name": "stdout",
     "output_type": "stream",
     "text": [
      "INFO:tensorflow:Running local_init_op.\n"
     ]
    },
    {
     "name": "stderr",
     "output_type": "stream",
     "text": [
      "INFO:tensorflow:Running local_init_op.\n"
     ]
    },
    {
     "name": "stdout",
     "output_type": "stream",
     "text": [
      "INFO:tensorflow:Done running local_init_op.\n"
     ]
    },
    {
     "name": "stderr",
     "output_type": "stream",
     "text": [
      "INFO:tensorflow:Done running local_init_op.\n"
     ]
    },
    {
     "name": "stdout",
     "output_type": "stream",
     "text": [
      "INFO:tensorflow:Saving checkpoints for 15000 into ./tmp4wk8inr5/model.ckpt.\n"
     ]
    },
    {
     "name": "stderr",
     "output_type": "stream",
     "text": [
      "INFO:tensorflow:Saving checkpoints for 15000 into ./tmp4wk8inr5/model.ckpt.\n"
     ]
    },
    {
     "name": "stdout",
     "output_type": "stream",
     "text": [
      "INFO:tensorflow:loss = 0.75610054, step = 15000\n"
     ]
    },
    {
     "name": "stderr",
     "output_type": "stream",
     "text": [
      "INFO:tensorflow:loss = 0.75610054, step = 15000\n"
     ]
    },
    {
     "name": "stdout",
     "output_type": "stream",
     "text": [
      "INFO:tensorflow:global_step/sec: 162.242\n"
     ]
    },
    {
     "name": "stderr",
     "output_type": "stream",
     "text": [
      "INFO:tensorflow:global_step/sec: 162.242\n"
     ]
    },
    {
     "name": "stdout",
     "output_type": "stream",
     "text": [
      "INFO:tensorflow:loss = 0.8033725, step = 15100 (0.618 sec)\n"
     ]
    },
    {
     "name": "stderr",
     "output_type": "stream",
     "text": [
      "INFO:tensorflow:loss = 0.8033725, step = 15100 (0.618 sec)\n"
     ]
    },
    {
     "name": "stdout",
     "output_type": "stream",
     "text": [
      "INFO:tensorflow:global_step/sec: 198.924\n"
     ]
    },
    {
     "name": "stderr",
     "output_type": "stream",
     "text": [
      "INFO:tensorflow:global_step/sec: 198.924\n"
     ]
    },
    {
     "name": "stdout",
     "output_type": "stream",
     "text": [
      "INFO:tensorflow:loss = 0.96750927, step = 15200 (0.503 sec)\n"
     ]
    },
    {
     "name": "stderr",
     "output_type": "stream",
     "text": [
      "INFO:tensorflow:loss = 0.96750927, step = 15200 (0.503 sec)\n"
     ]
    },
    {
     "name": "stdout",
     "output_type": "stream",
     "text": [
      "INFO:tensorflow:global_step/sec: 224.164\n"
     ]
    },
    {
     "name": "stderr",
     "output_type": "stream",
     "text": [
      "INFO:tensorflow:global_step/sec: 224.164\n"
     ]
    },
    {
     "name": "stdout",
     "output_type": "stream",
     "text": [
      "INFO:tensorflow:loss = 0.22458589, step = 15300 (0.449 sec)\n"
     ]
    },
    {
     "name": "stderr",
     "output_type": "stream",
     "text": [
      "INFO:tensorflow:loss = 0.22458589, step = 15300 (0.449 sec)\n"
     ]
    },
    {
     "name": "stdout",
     "output_type": "stream",
     "text": [
      "INFO:tensorflow:global_step/sec: 237.967\n"
     ]
    },
    {
     "name": "stderr",
     "output_type": "stream",
     "text": [
      "INFO:tensorflow:global_step/sec: 237.967\n"
     ]
    },
    {
     "name": "stdout",
     "output_type": "stream",
     "text": [
      "INFO:tensorflow:loss = 0.71537566, step = 15400 (0.418 sec)\n"
     ]
    },
    {
     "name": "stderr",
     "output_type": "stream",
     "text": [
      "INFO:tensorflow:loss = 0.71537566, step = 15400 (0.418 sec)\n"
     ]
    },
    {
     "name": "stdout",
     "output_type": "stream",
     "text": [
      "INFO:tensorflow:global_step/sec: 289.025\n"
     ]
    },
    {
     "name": "stderr",
     "output_type": "stream",
     "text": [
      "INFO:tensorflow:global_step/sec: 289.025\n"
     ]
    },
    {
     "name": "stdout",
     "output_type": "stream",
     "text": [
      "INFO:tensorflow:loss = 1.234348, step = 15500 (0.348 sec)\n"
     ]
    },
    {
     "name": "stderr",
     "output_type": "stream",
     "text": [
      "INFO:tensorflow:loss = 1.234348, step = 15500 (0.348 sec)\n"
     ]
    },
    {
     "name": "stdout",
     "output_type": "stream",
     "text": [
      "INFO:tensorflow:global_step/sec: 208.729\n"
     ]
    },
    {
     "name": "stderr",
     "output_type": "stream",
     "text": [
      "INFO:tensorflow:global_step/sec: 208.729\n"
     ]
    },
    {
     "name": "stdout",
     "output_type": "stream",
     "text": [
      "INFO:tensorflow:loss = 0.6043745, step = 15600 (0.479 sec)\n"
     ]
    },
    {
     "name": "stderr",
     "output_type": "stream",
     "text": [
      "INFO:tensorflow:loss = 0.6043745, step = 15600 (0.479 sec)\n"
     ]
    },
    {
     "name": "stdout",
     "output_type": "stream",
     "text": [
      "INFO:tensorflow:global_step/sec: 262.127\n"
     ]
    },
    {
     "name": "stderr",
     "output_type": "stream",
     "text": [
      "INFO:tensorflow:global_step/sec: 262.127\n"
     ]
    },
    {
     "name": "stdout",
     "output_type": "stream",
     "text": [
      "INFO:tensorflow:loss = 0.25538957, step = 15700 (0.381 sec)\n"
     ]
    },
    {
     "name": "stderr",
     "output_type": "stream",
     "text": [
      "INFO:tensorflow:loss = 0.25538957, step = 15700 (0.381 sec)\n"
     ]
    },
    {
     "name": "stdout",
     "output_type": "stream",
     "text": [
      "INFO:tensorflow:global_step/sec: 290.53\n"
     ]
    },
    {
     "name": "stderr",
     "output_type": "stream",
     "text": [
      "INFO:tensorflow:global_step/sec: 290.53\n"
     ]
    },
    {
     "name": "stdout",
     "output_type": "stream",
     "text": [
      "INFO:tensorflow:loss = 0.6585967, step = 15800 (0.343 sec)\n"
     ]
    },
    {
     "name": "stderr",
     "output_type": "stream",
     "text": [
      "INFO:tensorflow:loss = 0.6585967, step = 15800 (0.343 sec)\n"
     ]
    },
    {
     "name": "stdout",
     "output_type": "stream",
     "text": [
      "INFO:tensorflow:global_step/sec: 258.65\n"
     ]
    },
    {
     "name": "stderr",
     "output_type": "stream",
     "text": [
      "INFO:tensorflow:global_step/sec: 258.65\n"
     ]
    },
    {
     "name": "stdout",
     "output_type": "stream",
     "text": [
      "INFO:tensorflow:loss = 0.7767197, step = 15900 (0.387 sec)\n"
     ]
    },
    {
     "name": "stderr",
     "output_type": "stream",
     "text": [
      "INFO:tensorflow:loss = 0.7767197, step = 15900 (0.387 sec)\n"
     ]
    },
    {
     "name": "stdout",
     "output_type": "stream",
     "text": [
      "INFO:tensorflow:global_step/sec: 208.46\n"
     ]
    },
    {
     "name": "stderr",
     "output_type": "stream",
     "text": [
      "INFO:tensorflow:global_step/sec: 208.46\n"
     ]
    },
    {
     "name": "stdout",
     "output_type": "stream",
     "text": [
      "INFO:tensorflow:loss = 1.1688797, step = 16000 (0.479 sec)\n"
     ]
    },
    {
     "name": "stderr",
     "output_type": "stream",
     "text": [
      "INFO:tensorflow:loss = 1.1688797, step = 16000 (0.479 sec)\n"
     ]
    },
    {
     "name": "stdout",
     "output_type": "stream",
     "text": [
      "INFO:tensorflow:global_step/sec: 205.507\n"
     ]
    },
    {
     "name": "stderr",
     "output_type": "stream",
     "text": [
      "INFO:tensorflow:global_step/sec: 205.507\n"
     ]
    },
    {
     "name": "stdout",
     "output_type": "stream",
     "text": [
      "INFO:tensorflow:loss = 1.7010295, step = 16100 (0.492 sec)\n"
     ]
    },
    {
     "name": "stderr",
     "output_type": "stream",
     "text": [
      "INFO:tensorflow:loss = 1.7010295, step = 16100 (0.492 sec)\n"
     ]
    },
    {
     "name": "stdout",
     "output_type": "stream",
     "text": [
      "INFO:tensorflow:global_step/sec: 235.02\n"
     ]
    },
    {
     "name": "stderr",
     "output_type": "stream",
     "text": [
      "INFO:tensorflow:global_step/sec: 235.02\n"
     ]
    },
    {
     "name": "stdout",
     "output_type": "stream",
     "text": [
      "INFO:tensorflow:loss = 0.34493965, step = 16200 (0.420 sec)\n"
     ]
    },
    {
     "name": "stderr",
     "output_type": "stream",
     "text": [
      "INFO:tensorflow:loss = 0.34493965, step = 16200 (0.420 sec)\n"
     ]
    },
    {
     "name": "stdout",
     "output_type": "stream",
     "text": [
      "INFO:tensorflow:global_step/sec: 220.131\n"
     ]
    },
    {
     "name": "stderr",
     "output_type": "stream",
     "text": [
      "INFO:tensorflow:global_step/sec: 220.131\n"
     ]
    },
    {
     "name": "stdout",
     "output_type": "stream",
     "text": [
      "INFO:tensorflow:loss = 1.7401314, step = 16300 (0.458 sec)\n"
     ]
    },
    {
     "name": "stderr",
     "output_type": "stream",
     "text": [
      "INFO:tensorflow:loss = 1.7401314, step = 16300 (0.458 sec)\n"
     ]
    },
    {
     "name": "stdout",
     "output_type": "stream",
     "text": [
      "INFO:tensorflow:global_step/sec: 215.422\n"
     ]
    },
    {
     "name": "stderr",
     "output_type": "stream",
     "text": [
      "INFO:tensorflow:global_step/sec: 215.422\n"
     ]
    },
    {
     "name": "stdout",
     "output_type": "stream",
     "text": [
      "INFO:tensorflow:loss = 0.36316735, step = 16400 (0.463 sec)\n"
     ]
    },
    {
     "name": "stderr",
     "output_type": "stream",
     "text": [
      "INFO:tensorflow:loss = 0.36316735, step = 16400 (0.463 sec)\n"
     ]
    },
    {
     "name": "stdout",
     "output_type": "stream",
     "text": [
      "INFO:tensorflow:global_step/sec: 197.549\n"
     ]
    },
    {
     "name": "stderr",
     "output_type": "stream",
     "text": [
      "INFO:tensorflow:global_step/sec: 197.549\n"
     ]
    },
    {
     "name": "stdout",
     "output_type": "stream",
     "text": [
      "INFO:tensorflow:loss = 0.570675, step = 16500 (0.504 sec)\n"
     ]
    },
    {
     "name": "stderr",
     "output_type": "stream",
     "text": [
      "INFO:tensorflow:loss = 0.570675, step = 16500 (0.504 sec)\n"
     ]
    },
    {
     "name": "stdout",
     "output_type": "stream",
     "text": [
      "INFO:tensorflow:global_step/sec: 210.583\n"
     ]
    },
    {
     "name": "stderr",
     "output_type": "stream",
     "text": [
      "INFO:tensorflow:global_step/sec: 210.583\n"
     ]
    },
    {
     "name": "stdout",
     "output_type": "stream",
     "text": [
      "INFO:tensorflow:loss = 1.9333742, step = 16600 (0.474 sec)\n"
     ]
    },
    {
     "name": "stderr",
     "output_type": "stream",
     "text": [
      "INFO:tensorflow:loss = 1.9333742, step = 16600 (0.474 sec)\n"
     ]
    },
    {
     "name": "stdout",
     "output_type": "stream",
     "text": [
      "INFO:tensorflow:global_step/sec: 208.445\n"
     ]
    },
    {
     "name": "stderr",
     "output_type": "stream",
     "text": [
      "INFO:tensorflow:global_step/sec: 208.445\n"
     ]
    },
    {
     "name": "stdout",
     "output_type": "stream",
     "text": [
      "INFO:tensorflow:loss = 0.958805, step = 16700 (0.484 sec)\n"
     ]
    },
    {
     "name": "stderr",
     "output_type": "stream",
     "text": [
      "INFO:tensorflow:loss = 0.958805, step = 16700 (0.484 sec)\n"
     ]
    },
    {
     "name": "stdout",
     "output_type": "stream",
     "text": [
      "INFO:tensorflow:global_step/sec: 212.55\n"
     ]
    },
    {
     "name": "stderr",
     "output_type": "stream",
     "text": [
      "INFO:tensorflow:global_step/sec: 212.55\n"
     ]
    },
    {
     "name": "stdout",
     "output_type": "stream",
     "text": [
      "INFO:tensorflow:loss = 1.2114071, step = 16800 (0.466 sec)\n"
     ]
    },
    {
     "name": "stderr",
     "output_type": "stream",
     "text": [
      "INFO:tensorflow:loss = 1.2114071, step = 16800 (0.466 sec)\n"
     ]
    },
    {
     "name": "stdout",
     "output_type": "stream",
     "text": [
      "INFO:tensorflow:Saving checkpoints for 16875 into ./tmp4wk8inr5/model.ckpt.\n"
     ]
    },
    {
     "name": "stderr",
     "output_type": "stream",
     "text": [
      "INFO:tensorflow:Saving checkpoints for 16875 into ./tmp4wk8inr5/model.ckpt.\n"
     ]
    },
    {
     "name": "stdout",
     "output_type": "stream",
     "text": [
      "INFO:tensorflow:Loss for final step: 0.5886364.\n"
     ]
    },
    {
     "name": "stderr",
     "output_type": "stream",
     "text": [
      "INFO:tensorflow:Loss for final step: 0.5886364.\n"
     ]
    },
    {
     "name": "stdout",
     "output_type": "stream",
     "text": [
      "Evaluation after epoch:\n",
      "INFO:tensorflow:Calling model_fn.\n"
     ]
    },
    {
     "name": "stderr",
     "output_type": "stream",
     "text": [
      "INFO:tensorflow:Calling model_fn.\n"
     ]
    },
    {
     "name": "stdout",
     "output_type": "stream",
     "text": [
      "INFO:tensorflow:Done calling model_fn.\n"
     ]
    },
    {
     "name": "stderr",
     "output_type": "stream",
     "text": [
      "INFO:tensorflow:Done calling model_fn.\n"
     ]
    },
    {
     "name": "stdout",
     "output_type": "stream",
     "text": [
      "INFO:tensorflow:Starting evaluation at 2020-03-30T11:05:39Z\n"
     ]
    },
    {
     "name": "stderr",
     "output_type": "stream",
     "text": [
      "INFO:tensorflow:Starting evaluation at 2020-03-30T11:05:39Z\n"
     ]
    },
    {
     "name": "stdout",
     "output_type": "stream",
     "text": [
      "INFO:tensorflow:Graph was finalized.\n"
     ]
    },
    {
     "name": "stderr",
     "output_type": "stream",
     "text": [
      "INFO:tensorflow:Graph was finalized.\n"
     ]
    },
    {
     "name": "stdout",
     "output_type": "stream",
     "text": [
      "INFO:tensorflow:Restoring parameters from ./tmp4wk8inr5/model.ckpt-16875\n"
     ]
    },
    {
     "name": "stderr",
     "output_type": "stream",
     "text": [
      "INFO:tensorflow:Restoring parameters from ./tmp4wk8inr5/model.ckpt-16875\n"
     ]
    },
    {
     "name": "stdout",
     "output_type": "stream",
     "text": [
      "INFO:tensorflow:Running local_init_op.\n"
     ]
    },
    {
     "name": "stderr",
     "output_type": "stream",
     "text": [
      "INFO:tensorflow:Running local_init_op.\n"
     ]
    },
    {
     "name": "stdout",
     "output_type": "stream",
     "text": [
      "INFO:tensorflow:Done running local_init_op.\n"
     ]
    },
    {
     "name": "stderr",
     "output_type": "stream",
     "text": [
      "INFO:tensorflow:Done running local_init_op.\n"
     ]
    },
    {
     "name": "stdout",
     "output_type": "stream",
     "text": [
      "INFO:tensorflow:Inference Time : 5.94237s\n"
     ]
    },
    {
     "name": "stderr",
     "output_type": "stream",
     "text": [
      "INFO:tensorflow:Inference Time : 5.94237s\n"
     ]
    },
    {
     "name": "stdout",
     "output_type": "stream",
     "text": [
      "INFO:tensorflow:Finished evaluation at 2020-03-30-11:05:45\n"
     ]
    },
    {
     "name": "stderr",
     "output_type": "stream",
     "text": [
      "INFO:tensorflow:Finished evaluation at 2020-03-30-11:05:45\n"
     ]
    },
    {
     "name": "stdout",
     "output_type": "stream",
     "text": [
      "INFO:tensorflow:Saving dict for global step 16875: accuracy = 0.8883, average_loss = 0.4389437, global_step = 16875, loss = 0.4389437\n"
     ]
    },
    {
     "name": "stderr",
     "output_type": "stream",
     "text": [
      "INFO:tensorflow:Saving dict for global step 16875: accuracy = 0.8883, average_loss = 0.4389437, global_step = 16875, loss = 0.4389437\n"
     ]
    },
    {
     "name": "stdout",
     "output_type": "stream",
     "text": [
      "INFO:tensorflow:Saving 'checkpoint_path' summary for global step 16875: ./tmp4wk8inr5/model.ckpt-16875\n"
     ]
    },
    {
     "name": "stderr",
     "output_type": "stream",
     "text": [
      "INFO:tensorflow:Saving 'checkpoint_path' summary for global step 16875: ./tmp4wk8inr5/model.ckpt-16875\n"
     ]
    },
    {
     "name": "stdout",
     "output_type": "stream",
     "text": [
      "{'accuracy': 0.8883, 'average_loss': 0.4389437, 'loss': 0.4389437, 'global_step': 16875}\n",
      "INFO:tensorflow:Calling model_fn.\n"
     ]
    },
    {
     "name": "stderr",
     "output_type": "stream",
     "text": [
      "INFO:tensorflow:Calling model_fn.\n"
     ]
    },
    {
     "name": "stdout",
     "output_type": "stream",
     "text": [
      "INFO:tensorflow:Done calling model_fn.\n"
     ]
    },
    {
     "name": "stderr",
     "output_type": "stream",
     "text": [
      "INFO:tensorflow:Done calling model_fn.\n"
     ]
    },
    {
     "name": "stdout",
     "output_type": "stream",
     "text": [
      "INFO:tensorflow:Starting evaluation at 2020-03-30T11:05:46Z\n"
     ]
    },
    {
     "name": "stderr",
     "output_type": "stream",
     "text": [
      "INFO:tensorflow:Starting evaluation at 2020-03-30T11:05:46Z\n"
     ]
    },
    {
     "name": "stdout",
     "output_type": "stream",
     "text": [
      "INFO:tensorflow:Graph was finalized.\n"
     ]
    },
    {
     "name": "stderr",
     "output_type": "stream",
     "text": [
      "INFO:tensorflow:Graph was finalized.\n"
     ]
    },
    {
     "name": "stdout",
     "output_type": "stream",
     "text": [
      "INFO:tensorflow:Restoring parameters from ./tmp4wk8inr5/model.ckpt-16875\n"
     ]
    },
    {
     "name": "stderr",
     "output_type": "stream",
     "text": [
      "INFO:tensorflow:Restoring parameters from ./tmp4wk8inr5/model.ckpt-16875\n"
     ]
    },
    {
     "name": "stdout",
     "output_type": "stream",
     "text": [
      "INFO:tensorflow:Running local_init_op.\n"
     ]
    },
    {
     "name": "stderr",
     "output_type": "stream",
     "text": [
      "INFO:tensorflow:Running local_init_op.\n"
     ]
    },
    {
     "name": "stdout",
     "output_type": "stream",
     "text": [
      "INFO:tensorflow:Done running local_init_op.\n"
     ]
    },
    {
     "name": "stderr",
     "output_type": "stream",
     "text": [
      "INFO:tensorflow:Done running local_init_op.\n"
     ]
    },
    {
     "name": "stdout",
     "output_type": "stream",
     "text": [
      "INFO:tensorflow:Inference Time : 1.22190s\n"
     ]
    },
    {
     "name": "stderr",
     "output_type": "stream",
     "text": [
      "INFO:tensorflow:Inference Time : 1.22190s\n"
     ]
    },
    {
     "name": "stdout",
     "output_type": "stream",
     "text": [
      "INFO:tensorflow:Finished evaluation at 2020-03-30-11:05:47\n"
     ]
    },
    {
     "name": "stderr",
     "output_type": "stream",
     "text": [
      "INFO:tensorflow:Finished evaluation at 2020-03-30-11:05:47\n"
     ]
    },
    {
     "name": "stdout",
     "output_type": "stream",
     "text": [
      "INFO:tensorflow:Saving dict for global step 16875: accuracy = 0.886, average_loss = 0.4837242, global_step = 16875, loss = 0.4841055\n"
     ]
    },
    {
     "name": "stderr",
     "output_type": "stream",
     "text": [
      "INFO:tensorflow:Saving dict for global step 16875: accuracy = 0.886, average_loss = 0.4837242, global_step = 16875, loss = 0.4841055\n"
     ]
    },
    {
     "name": "stdout",
     "output_type": "stream",
     "text": [
      "INFO:tensorflow:Saving 'checkpoint_path' summary for global step 16875: ./tmp4wk8inr5/model.ckpt-16875\n"
     ]
    },
    {
     "name": "stderr",
     "output_type": "stream",
     "text": [
      "INFO:tensorflow:Saving 'checkpoint_path' summary for global step 16875: ./tmp4wk8inr5/model.ckpt-16875\n"
     ]
    },
    {
     "name": "stdout",
     "output_type": "stream",
     "text": [
      "{'accuracy': 0.886, 'average_loss': 0.4837242, 'loss': 0.4841055, 'global_step': 16875}\n",
      "INFO:tensorflow:Calling model_fn.\n"
     ]
    },
    {
     "name": "stderr",
     "output_type": "stream",
     "text": [
      "INFO:tensorflow:Calling model_fn.\n"
     ]
    },
    {
     "name": "stdout",
     "output_type": "stream",
     "text": [
      "INFO:tensorflow:Done calling model_fn.\n"
     ]
    },
    {
     "name": "stderr",
     "output_type": "stream",
     "text": [
      "INFO:tensorflow:Done calling model_fn.\n"
     ]
    },
    {
     "name": "stdout",
     "output_type": "stream",
     "text": [
      "INFO:tensorflow:Create CheckpointSaverHook.\n"
     ]
    },
    {
     "name": "stderr",
     "output_type": "stream",
     "text": [
      "INFO:tensorflow:Create CheckpointSaverHook.\n"
     ]
    },
    {
     "name": "stdout",
     "output_type": "stream",
     "text": [
      "INFO:tensorflow:Graph was finalized.\n"
     ]
    },
    {
     "name": "stderr",
     "output_type": "stream",
     "text": [
      "INFO:tensorflow:Graph was finalized.\n"
     ]
    },
    {
     "name": "stdout",
     "output_type": "stream",
     "text": [
      "INFO:tensorflow:Restoring parameters from ./tmp4wk8inr5/model.ckpt-16875\n"
     ]
    },
    {
     "name": "stderr",
     "output_type": "stream",
     "text": [
      "INFO:tensorflow:Restoring parameters from ./tmp4wk8inr5/model.ckpt-16875\n"
     ]
    },
    {
     "name": "stdout",
     "output_type": "stream",
     "text": [
      "INFO:tensorflow:Running local_init_op.\n"
     ]
    },
    {
     "name": "stderr",
     "output_type": "stream",
     "text": [
      "INFO:tensorflow:Running local_init_op.\n"
     ]
    },
    {
     "name": "stdout",
     "output_type": "stream",
     "text": [
      "INFO:tensorflow:Done running local_init_op.\n"
     ]
    },
    {
     "name": "stderr",
     "output_type": "stream",
     "text": [
      "INFO:tensorflow:Done running local_init_op.\n"
     ]
    },
    {
     "name": "stdout",
     "output_type": "stream",
     "text": [
      "INFO:tensorflow:Saving checkpoints for 16875 into ./tmp4wk8inr5/model.ckpt.\n"
     ]
    },
    {
     "name": "stderr",
     "output_type": "stream",
     "text": [
      "INFO:tensorflow:Saving checkpoints for 16875 into ./tmp4wk8inr5/model.ckpt.\n"
     ]
    },
    {
     "name": "stdout",
     "output_type": "stream",
     "text": [
      "INFO:tensorflow:loss = 0.42998952, step = 16875\n"
     ]
    },
    {
     "name": "stderr",
     "output_type": "stream",
     "text": [
      "INFO:tensorflow:loss = 0.42998952, step = 16875\n"
     ]
    },
    {
     "name": "stdout",
     "output_type": "stream",
     "text": [
      "INFO:tensorflow:global_step/sec: 221.324\n"
     ]
    },
    {
     "name": "stderr",
     "output_type": "stream",
     "text": [
      "INFO:tensorflow:global_step/sec: 221.324\n"
     ]
    },
    {
     "name": "stdout",
     "output_type": "stream",
     "text": [
      "INFO:tensorflow:loss = 0.5987027, step = 16975 (0.453 sec)\n"
     ]
    },
    {
     "name": "stderr",
     "output_type": "stream",
     "text": [
      "INFO:tensorflow:loss = 0.5987027, step = 16975 (0.453 sec)\n"
     ]
    },
    {
     "name": "stdout",
     "output_type": "stream",
     "text": [
      "INFO:tensorflow:global_step/sec: 256.778\n"
     ]
    },
    {
     "name": "stderr",
     "output_type": "stream",
     "text": [
      "INFO:tensorflow:global_step/sec: 256.778\n"
     ]
    },
    {
     "name": "stdout",
     "output_type": "stream",
     "text": [
      "INFO:tensorflow:loss = 0.73814476, step = 17075 (0.408 sec)\n"
     ]
    },
    {
     "name": "stderr",
     "output_type": "stream",
     "text": [
      "INFO:tensorflow:loss = 0.73814476, step = 17075 (0.408 sec)\n"
     ]
    },
    {
     "name": "stdout",
     "output_type": "stream",
     "text": [
      "INFO:tensorflow:global_step/sec: 229.994\n"
     ]
    },
    {
     "name": "stderr",
     "output_type": "stream",
     "text": [
      "INFO:tensorflow:global_step/sec: 229.994\n"
     ]
    },
    {
     "name": "stdout",
     "output_type": "stream",
     "text": [
      "INFO:tensorflow:loss = 0.19695038, step = 17175 (0.417 sec)\n"
     ]
    },
    {
     "name": "stderr",
     "output_type": "stream",
     "text": [
      "INFO:tensorflow:loss = 0.19695038, step = 17175 (0.417 sec)\n"
     ]
    },
    {
     "name": "stdout",
     "output_type": "stream",
     "text": [
      "INFO:tensorflow:global_step/sec: 269.756\n"
     ]
    },
    {
     "name": "stderr",
     "output_type": "stream",
     "text": [
      "INFO:tensorflow:global_step/sec: 269.756\n"
     ]
    },
    {
     "name": "stdout",
     "output_type": "stream",
     "text": [
      "INFO:tensorflow:loss = 0.9438858, step = 17275 (0.370 sec)\n"
     ]
    },
    {
     "name": "stderr",
     "output_type": "stream",
     "text": [
      "INFO:tensorflow:loss = 0.9438858, step = 17275 (0.370 sec)\n"
     ]
    },
    {
     "name": "stdout",
     "output_type": "stream",
     "text": [
      "INFO:tensorflow:global_step/sec: 233.684\n"
     ]
    },
    {
     "name": "stderr",
     "output_type": "stream",
     "text": [
      "INFO:tensorflow:global_step/sec: 233.684\n"
     ]
    },
    {
     "name": "stdout",
     "output_type": "stream",
     "text": [
      "INFO:tensorflow:loss = 1.1339755, step = 17375 (0.429 sec)\n"
     ]
    },
    {
     "name": "stderr",
     "output_type": "stream",
     "text": [
      "INFO:tensorflow:loss = 1.1339755, step = 17375 (0.429 sec)\n"
     ]
    },
    {
     "name": "stdout",
     "output_type": "stream",
     "text": [
      "INFO:tensorflow:global_step/sec: 292.476\n"
     ]
    },
    {
     "name": "stderr",
     "output_type": "stream",
     "text": [
      "INFO:tensorflow:global_step/sec: 292.476\n"
     ]
    },
    {
     "name": "stdout",
     "output_type": "stream",
     "text": [
      "INFO:tensorflow:loss = 0.61562246, step = 17475 (0.343 sec)\n"
     ]
    },
    {
     "name": "stderr",
     "output_type": "stream",
     "text": [
      "INFO:tensorflow:loss = 0.61562246, step = 17475 (0.343 sec)\n"
     ]
    },
    {
     "name": "stdout",
     "output_type": "stream",
     "text": [
      "INFO:tensorflow:global_step/sec: 277.475\n"
     ]
    },
    {
     "name": "stderr",
     "output_type": "stream",
     "text": [
      "INFO:tensorflow:global_step/sec: 277.475\n"
     ]
    },
    {
     "name": "stdout",
     "output_type": "stream",
     "text": [
      "INFO:tensorflow:loss = 0.16235691, step = 17575 (0.358 sec)\n"
     ]
    },
    {
     "name": "stderr",
     "output_type": "stream",
     "text": [
      "INFO:tensorflow:loss = 0.16235691, step = 17575 (0.358 sec)\n"
     ]
    },
    {
     "name": "stdout",
     "output_type": "stream",
     "text": [
      "INFO:tensorflow:global_step/sec: 265.197\n"
     ]
    },
    {
     "name": "stderr",
     "output_type": "stream",
     "text": [
      "INFO:tensorflow:global_step/sec: 265.197\n"
     ]
    },
    {
     "name": "stdout",
     "output_type": "stream",
     "text": [
      "INFO:tensorflow:loss = 0.66181326, step = 17675 (0.379 sec)\n"
     ]
    },
    {
     "name": "stderr",
     "output_type": "stream",
     "text": [
      "INFO:tensorflow:loss = 0.66181326, step = 17675 (0.379 sec)\n"
     ]
    },
    {
     "name": "stdout",
     "output_type": "stream",
     "text": [
      "INFO:tensorflow:global_step/sec: 266.117\n"
     ]
    },
    {
     "name": "stderr",
     "output_type": "stream",
     "text": [
      "INFO:tensorflow:global_step/sec: 266.117\n"
     ]
    },
    {
     "name": "stdout",
     "output_type": "stream",
     "text": [
      "INFO:tensorflow:loss = 0.5350754, step = 17775 (0.374 sec)\n"
     ]
    },
    {
     "name": "stderr",
     "output_type": "stream",
     "text": [
      "INFO:tensorflow:loss = 0.5350754, step = 17775 (0.374 sec)\n"
     ]
    },
    {
     "name": "stdout",
     "output_type": "stream",
     "text": [
      "INFO:tensorflow:global_step/sec: 269.04\n"
     ]
    },
    {
     "name": "stderr",
     "output_type": "stream",
     "text": [
      "INFO:tensorflow:global_step/sec: 269.04\n"
     ]
    },
    {
     "name": "stdout",
     "output_type": "stream",
     "text": [
      "INFO:tensorflow:loss = 0.96001875, step = 17875 (0.373 sec)\n"
     ]
    },
    {
     "name": "stderr",
     "output_type": "stream",
     "text": [
      "INFO:tensorflow:loss = 0.96001875, step = 17875 (0.373 sec)\n"
     ]
    },
    {
     "name": "stdout",
     "output_type": "stream",
     "text": [
      "INFO:tensorflow:global_step/sec: 257.521\n"
     ]
    },
    {
     "name": "stderr",
     "output_type": "stream",
     "text": [
      "INFO:tensorflow:global_step/sec: 257.521\n"
     ]
    },
    {
     "name": "stdout",
     "output_type": "stream",
     "text": [
      "INFO:tensorflow:loss = 0.53000903, step = 17975 (0.387 sec)\n"
     ]
    },
    {
     "name": "stderr",
     "output_type": "stream",
     "text": [
      "INFO:tensorflow:loss = 0.53000903, step = 17975 (0.387 sec)\n"
     ]
    },
    {
     "name": "stdout",
     "output_type": "stream",
     "text": [
      "INFO:tensorflow:global_step/sec: 264.504\n"
     ]
    },
    {
     "name": "stderr",
     "output_type": "stream",
     "text": [
      "INFO:tensorflow:global_step/sec: 264.504\n"
     ]
    },
    {
     "name": "stdout",
     "output_type": "stream",
     "text": [
      "INFO:tensorflow:loss = 0.854162, step = 18075 (0.379 sec)\n"
     ]
    },
    {
     "name": "stderr",
     "output_type": "stream",
     "text": [
      "INFO:tensorflow:loss = 0.854162, step = 18075 (0.379 sec)\n"
     ]
    },
    {
     "name": "stdout",
     "output_type": "stream",
     "text": [
      "INFO:tensorflow:global_step/sec: 272.059\n"
     ]
    },
    {
     "name": "stderr",
     "output_type": "stream",
     "text": [
      "INFO:tensorflow:global_step/sec: 272.059\n"
     ]
    },
    {
     "name": "stdout",
     "output_type": "stream",
     "text": [
      "INFO:tensorflow:loss = 0.8727647, step = 18175 (0.367 sec)\n"
     ]
    },
    {
     "name": "stderr",
     "output_type": "stream",
     "text": [
      "INFO:tensorflow:loss = 0.8727647, step = 18175 (0.367 sec)\n"
     ]
    },
    {
     "name": "stdout",
     "output_type": "stream",
     "text": [
      "INFO:tensorflow:global_step/sec: 278.12\n"
     ]
    },
    {
     "name": "stderr",
     "output_type": "stream",
     "text": [
      "INFO:tensorflow:global_step/sec: 278.12\n"
     ]
    },
    {
     "name": "stdout",
     "output_type": "stream",
     "text": [
      "INFO:tensorflow:loss = 0.65141386, step = 18275 (0.360 sec)\n"
     ]
    },
    {
     "name": "stderr",
     "output_type": "stream",
     "text": [
      "INFO:tensorflow:loss = 0.65141386, step = 18275 (0.360 sec)\n"
     ]
    },
    {
     "name": "stdout",
     "output_type": "stream",
     "text": [
      "INFO:tensorflow:global_step/sec: 272.216\n"
     ]
    },
    {
     "name": "stderr",
     "output_type": "stream",
     "text": [
      "INFO:tensorflow:global_step/sec: 272.216\n"
     ]
    },
    {
     "name": "stdout",
     "output_type": "stream",
     "text": [
      "INFO:tensorflow:loss = 0.8472986, step = 18375 (0.369 sec)\n"
     ]
    },
    {
     "name": "stderr",
     "output_type": "stream",
     "text": [
      "INFO:tensorflow:loss = 0.8472986, step = 18375 (0.369 sec)\n"
     ]
    },
    {
     "name": "stdout",
     "output_type": "stream",
     "text": [
      "INFO:tensorflow:global_step/sec: 247.394\n"
     ]
    },
    {
     "name": "stderr",
     "output_type": "stream",
     "text": [
      "INFO:tensorflow:global_step/sec: 247.394\n"
     ]
    },
    {
     "name": "stdout",
     "output_type": "stream",
     "text": [
      "INFO:tensorflow:loss = 1.7921867, step = 18475 (0.403 sec)\n"
     ]
    },
    {
     "name": "stderr",
     "output_type": "stream",
     "text": [
      "INFO:tensorflow:loss = 1.7921867, step = 18475 (0.403 sec)\n"
     ]
    },
    {
     "name": "stdout",
     "output_type": "stream",
     "text": [
      "INFO:tensorflow:global_step/sec: 224.339\n"
     ]
    },
    {
     "name": "stderr",
     "output_type": "stream",
     "text": [
      "INFO:tensorflow:global_step/sec: 224.339\n"
     ]
    },
    {
     "name": "stdout",
     "output_type": "stream",
     "text": [
      "INFO:tensorflow:loss = 0.97185034, step = 18575 (0.449 sec)\n"
     ]
    },
    {
     "name": "stderr",
     "output_type": "stream",
     "text": [
      "INFO:tensorflow:loss = 0.97185034, step = 18575 (0.449 sec)\n"
     ]
    },
    {
     "name": "stdout",
     "output_type": "stream",
     "text": [
      "INFO:tensorflow:global_step/sec: 227.747\n"
     ]
    },
    {
     "name": "stderr",
     "output_type": "stream",
     "text": [
      "INFO:tensorflow:global_step/sec: 227.747\n"
     ]
    },
    {
     "name": "stdout",
     "output_type": "stream",
     "text": [
      "INFO:tensorflow:loss = 0.96733993, step = 18675 (0.437 sec)\n"
     ]
    },
    {
     "name": "stderr",
     "output_type": "stream",
     "text": [
      "INFO:tensorflow:loss = 0.96733993, step = 18675 (0.437 sec)\n"
     ]
    },
    {
     "name": "stdout",
     "output_type": "stream",
     "text": [
      "INFO:tensorflow:Saving checkpoints for 18750 into ./tmp4wk8inr5/model.ckpt.\n"
     ]
    },
    {
     "name": "stderr",
     "output_type": "stream",
     "text": [
      "INFO:tensorflow:Saving checkpoints for 18750 into ./tmp4wk8inr5/model.ckpt.\n"
     ]
    },
    {
     "name": "stdout",
     "output_type": "stream",
     "text": [
      "INFO:tensorflow:Loss for final step: 0.7474281.\n"
     ]
    },
    {
     "name": "stderr",
     "output_type": "stream",
     "text": [
      "INFO:tensorflow:Loss for final step: 0.7474281.\n"
     ]
    },
    {
     "name": "stdout",
     "output_type": "stream",
     "text": [
      "Evaluation after epoch:\n",
      "INFO:tensorflow:Calling model_fn.\n"
     ]
    },
    {
     "name": "stderr",
     "output_type": "stream",
     "text": [
      "INFO:tensorflow:Calling model_fn.\n"
     ]
    },
    {
     "name": "stdout",
     "output_type": "stream",
     "text": [
      "INFO:tensorflow:Done calling model_fn.\n"
     ]
    },
    {
     "name": "stderr",
     "output_type": "stream",
     "text": [
      "INFO:tensorflow:Done calling model_fn.\n"
     ]
    },
    {
     "name": "stdout",
     "output_type": "stream",
     "text": [
      "INFO:tensorflow:Starting evaluation at 2020-03-30T11:05:56Z\n"
     ]
    },
    {
     "name": "stderr",
     "output_type": "stream",
     "text": [
      "INFO:tensorflow:Starting evaluation at 2020-03-30T11:05:56Z\n"
     ]
    },
    {
     "name": "stdout",
     "output_type": "stream",
     "text": [
      "INFO:tensorflow:Graph was finalized.\n"
     ]
    },
    {
     "name": "stderr",
     "output_type": "stream",
     "text": [
      "INFO:tensorflow:Graph was finalized.\n"
     ]
    },
    {
     "name": "stdout",
     "output_type": "stream",
     "text": [
      "INFO:tensorflow:Restoring parameters from ./tmp4wk8inr5/model.ckpt-18750\n"
     ]
    },
    {
     "name": "stderr",
     "output_type": "stream",
     "text": [
      "INFO:tensorflow:Restoring parameters from ./tmp4wk8inr5/model.ckpt-18750\n"
     ]
    },
    {
     "name": "stdout",
     "output_type": "stream",
     "text": [
      "INFO:tensorflow:Running local_init_op.\n"
     ]
    },
    {
     "name": "stderr",
     "output_type": "stream",
     "text": [
      "INFO:tensorflow:Running local_init_op.\n"
     ]
    },
    {
     "name": "stdout",
     "output_type": "stream",
     "text": [
      "INFO:tensorflow:Done running local_init_op.\n"
     ]
    },
    {
     "name": "stderr",
     "output_type": "stream",
     "text": [
      "INFO:tensorflow:Done running local_init_op.\n"
     ]
    },
    {
     "name": "stdout",
     "output_type": "stream",
     "text": [
      "INFO:tensorflow:Inference Time : 6.42856s\n"
     ]
    },
    {
     "name": "stderr",
     "output_type": "stream",
     "text": [
      "INFO:tensorflow:Inference Time : 6.42856s\n"
     ]
    },
    {
     "name": "stdout",
     "output_type": "stream",
     "text": [
      "INFO:tensorflow:Finished evaluation at 2020-03-30-11:06:02\n"
     ]
    },
    {
     "name": "stderr",
     "output_type": "stream",
     "text": [
      "INFO:tensorflow:Finished evaluation at 2020-03-30-11:06:02\n"
     ]
    },
    {
     "name": "stdout",
     "output_type": "stream",
     "text": [
      "INFO:tensorflow:Saving dict for global step 18750: accuracy = 0.8908333, average_loss = 0.4212798, global_step = 18750, loss = 0.4212798\n"
     ]
    },
    {
     "name": "stderr",
     "output_type": "stream",
     "text": [
      "INFO:tensorflow:Saving dict for global step 18750: accuracy = 0.8908333, average_loss = 0.4212798, global_step = 18750, loss = 0.4212798\n"
     ]
    },
    {
     "name": "stdout",
     "output_type": "stream",
     "text": [
      "INFO:tensorflow:Saving 'checkpoint_path' summary for global step 18750: ./tmp4wk8inr5/model.ckpt-18750\n"
     ]
    },
    {
     "name": "stderr",
     "output_type": "stream",
     "text": [
      "INFO:tensorflow:Saving 'checkpoint_path' summary for global step 18750: ./tmp4wk8inr5/model.ckpt-18750\n"
     ]
    },
    {
     "name": "stdout",
     "output_type": "stream",
     "text": [
      "{'accuracy': 0.8908333, 'average_loss': 0.4212798, 'loss': 0.4212798, 'global_step': 18750}\n",
      "INFO:tensorflow:Calling model_fn.\n"
     ]
    },
    {
     "name": "stderr",
     "output_type": "stream",
     "text": [
      "INFO:tensorflow:Calling model_fn.\n"
     ]
    },
    {
     "name": "stdout",
     "output_type": "stream",
     "text": [
      "INFO:tensorflow:Done calling model_fn.\n"
     ]
    },
    {
     "name": "stderr",
     "output_type": "stream",
     "text": [
      "INFO:tensorflow:Done calling model_fn.\n"
     ]
    },
    {
     "name": "stdout",
     "output_type": "stream",
     "text": [
      "INFO:tensorflow:Starting evaluation at 2020-03-30T11:06:03Z\n"
     ]
    },
    {
     "name": "stderr",
     "output_type": "stream",
     "text": [
      "INFO:tensorflow:Starting evaluation at 2020-03-30T11:06:03Z\n"
     ]
    },
    {
     "name": "stdout",
     "output_type": "stream",
     "text": [
      "INFO:tensorflow:Graph was finalized.\n"
     ]
    },
    {
     "name": "stderr",
     "output_type": "stream",
     "text": [
      "INFO:tensorflow:Graph was finalized.\n"
     ]
    },
    {
     "name": "stdout",
     "output_type": "stream",
     "text": [
      "INFO:tensorflow:Restoring parameters from ./tmp4wk8inr5/model.ckpt-18750\n"
     ]
    },
    {
     "name": "stderr",
     "output_type": "stream",
     "text": [
      "INFO:tensorflow:Restoring parameters from ./tmp4wk8inr5/model.ckpt-18750\n"
     ]
    },
    {
     "name": "stdout",
     "output_type": "stream",
     "text": [
      "INFO:tensorflow:Running local_init_op.\n"
     ]
    },
    {
     "name": "stderr",
     "output_type": "stream",
     "text": [
      "INFO:tensorflow:Running local_init_op.\n"
     ]
    },
    {
     "name": "stdout",
     "output_type": "stream",
     "text": [
      "INFO:tensorflow:Done running local_init_op.\n"
     ]
    },
    {
     "name": "stderr",
     "output_type": "stream",
     "text": [
      "INFO:tensorflow:Done running local_init_op.\n"
     ]
    },
    {
     "name": "stdout",
     "output_type": "stream",
     "text": [
      "INFO:tensorflow:Inference Time : 1.29009s\n"
     ]
    },
    {
     "name": "stderr",
     "output_type": "stream",
     "text": [
      "INFO:tensorflow:Inference Time : 1.29009s\n"
     ]
    },
    {
     "name": "stdout",
     "output_type": "stream",
     "text": [
      "INFO:tensorflow:Finished evaluation at 2020-03-30-11:06:04\n"
     ]
    },
    {
     "name": "stderr",
     "output_type": "stream",
     "text": [
      "INFO:tensorflow:Finished evaluation at 2020-03-30-11:06:04\n"
     ]
    },
    {
     "name": "stdout",
     "output_type": "stream",
     "text": [
      "INFO:tensorflow:Saving dict for global step 18750: accuracy = 0.8868, average_loss = 0.46794486, global_step = 18750, loss = 0.46835038\n"
     ]
    },
    {
     "name": "stderr",
     "output_type": "stream",
     "text": [
      "INFO:tensorflow:Saving dict for global step 18750: accuracy = 0.8868, average_loss = 0.46794486, global_step = 18750, loss = 0.46835038\n"
     ]
    },
    {
     "name": "stdout",
     "output_type": "stream",
     "text": [
      "INFO:tensorflow:Saving 'checkpoint_path' summary for global step 18750: ./tmp4wk8inr5/model.ckpt-18750\n"
     ]
    },
    {
     "name": "stderr",
     "output_type": "stream",
     "text": [
      "INFO:tensorflow:Saving 'checkpoint_path' summary for global step 18750: ./tmp4wk8inr5/model.ckpt-18750\n"
     ]
    },
    {
     "name": "stdout",
     "output_type": "stream",
     "text": [
      "{'accuracy': 0.8868, 'average_loss': 0.46794486, 'loss': 0.46835038, 'global_step': 18750}\n"
     ]
    }
   ],
   "source": [
    "n_epochs = 10\n",
    "results = {\n",
    "    'epoch': [],\n",
    "    'train': {\n",
    "        'accuracy': [],\n",
    "        'loss': [],\n",
    "    },\n",
    "    'test': {\n",
    "        'accuracy': [],\n",
    "        'loss': [],\n",
    "    },\n",
    "}\n",
    "for epoch in range(n_epochs):\n",
    "    model.train(\n",
    "        input_fn=lambda: input_fn(split=\"train\"),\n",
    "    )\n",
    "    \n",
    "    print(\"Evaluation after epoch:\")\n",
    "    results['epoch'].append(epoch)\n",
    "    for split in [\"train\", \"test\"]:\n",
    "        evaluated = model.evaluate(input_fn=lambda: input_fn(split=split))\n",
    "        print(evaluated)\n",
    "        for metric in ['loss', 'accuracy']:\n",
    "            results[split][metric].append(evaluated[metric])\n"
   ]
  },
  {
   "cell_type": "markdown",
   "metadata": {},
   "source": [
    "Evaluate the final model once more for fun"
   ]
  },
  {
   "cell_type": "code",
   "execution_count": 47,
   "metadata": {},
   "outputs": [
    {
     "name": "stdout",
     "output_type": "stream",
     "text": [
      "INFO:tensorflow:Calling model_fn.\n",
      "INFO:tensorflow:Done calling model_fn.\n",
      "INFO:tensorflow:Starting evaluation at 2020-03-30T11:29:20Z\n",
      "INFO:tensorflow:Graph was finalized.\n",
      "INFO:tensorflow:Restoring parameters from ./tmp4wk8inr5/model.ckpt-18750\n",
      "INFO:tensorflow:Running local_init_op.\n",
      "INFO:tensorflow:Done running local_init_op.\n",
      "INFO:tensorflow:Inference Time : 1.50227s\n",
      "INFO:tensorflow:Finished evaluation at 2020-03-30-11:29:21\n",
      "INFO:tensorflow:Saving dict for global step 18750: accuracy = 0.8868, average_loss = 0.46794483, global_step = 18750, loss = 0.46765223\n",
      "INFO:tensorflow:Saving 'checkpoint_path' summary for global step 18750: ./tmp4wk8inr5/model.ckpt-18750\n",
      "Final result:\n",
      "{'accuracy': 0.8868, 'average_loss': 0.46794483, 'loss': 0.46765223, 'global_step': 18750}\n"
     ]
    }
   ],
   "source": [
    "final_model_result = model.evaluate(\n",
    "    input_fn=lambda: input_fn(\"test\", as_supervised=True)\n",
    ")\n",
    "print(\"Final result:\")\n",
    "print(final_model_result)"
   ]
  },
  {
   "cell_type": "code",
   "execution_count": null,
   "metadata": {},
   "outputs": [],
   "source": [
    "# clean up the temp directory (if the tmpdir object goes out of scope, the dir gets removed)\n",
    "del model_dir  "
   ]
  },
  {
   "cell_type": "markdown",
   "metadata": {},
   "source": [
    "Plot the progress for more fun"
   ]
  },
  {
   "cell_type": "code",
   "execution_count": 58,
   "metadata": {},
   "outputs": [
    {
     "data": {
      "image/png": "[encoded data removed]",
      "text/plain": [
       "<Figure size 432x288 with 1 Axes>"
      ]
     },
     "metadata": {
      "needs_background": "light"
     },
     "output_type": "display_data"
    }
   ],
   "source": [
    "linestyles = {'train': '-', 'test': '--'}\n",
    "for split in ['train', 'test']:\n",
    "    for metric in ['accuracy', 'loss']:\n",
    "        plt.plot(results['epoch'], results[split][metric], ls=linestyles[split], label=f\"{split} {metric}\")\n",
    "        \n",
    "plt.legend()\n",
    "plt.show()"
   ]
  },
  {
   "cell_type": "markdown",
   "metadata": {},
   "source": [
    "## Reapply above with a parameter search using scikit-optimize"
   ]
  },
  {
   "cell_type": "markdown",
   "metadata": {},
   "source": [
    "To do a hyperparameter search, create a model generation wrapper and an objective function.  The objective function must accept this iteration's parameters and do everything required to train and evaluate.  If you want to cross validate, train on some data and test on other, etc., it is done in objective.  Objective should return the value to be minimized"
   ]
  },
  {
   "cell_type": "markdown",
   "metadata": {},
   "source": [
    "Define the hyperparameter space and model generator"
   ]
  },
  {
   "cell_type": "code",
   "execution_count": 70,
   "metadata": {},
   "outputs": [],
   "source": [
    "hyperparameter_specs = [\n",
    "    Real(0.0, 0.75, name='dropout'),\n",
    "    Integer(1, 7, name='n_layers'),\n",
    "    Integer(500, 5000, name='max_steps'),\n",
    "    ]"
   ]
  },
  {
   "cell_type": "markdown",
   "metadata": {},
   "source": [
    "Here we use a classifier with n 64-node layers and variable dropout, just for testing the hp search"
   ]
  },
  {
   "cell_type": "code",
   "execution_count": 71,
   "metadata": {},
   "outputs": [],
   "source": [
    "def create_model(n_layers=3, dropout=0.0, cache_dir=None):\n",
    "    if not cache_dir:\n",
    "        cache_dir = tempfile.mkdtemp(dir=\"./\")\n",
    "    print(f\"Model cache_dir = {cache_dir}\")\n",
    "\n",
    "    # Using a premade classifier also sets things like the model_fn's scoring methods.  Like below when we do model.evaluate we get accuracy and loss\n",
    "\n",
    "    model = tf.estimator.DNNClassifier(\n",
    "        [64] * n_layers,\n",
    "        feature_columns=feature_columns,\n",
    "        model_dir=cache_dir,\n",
    "        n_classes=10,  # How to infer this?\n",
    "        dropout=dropout,\n",
    "    )\n",
    "    return model"
   ]
  },
  {
   "cell_type": "markdown",
   "metadata": {},
   "source": [
    "Use the use_named_args wrapper to translate params from the optimizer (which passes them as an unnamed tuple) into kwargs"
   ]
  },
  {
   "cell_type": "code",
   "execution_count": 83,
   "metadata": {},
   "outputs": [],
   "source": [
    "@use_named_args(hyperparameter_specs)\n",
    "def objective(return_model=False, **hp_config):\n",
    "    \n",
    "    with tempfile.TemporaryDirectory(dir=\"./\") as tmpdir:\n",
    "        model = create_model(hp_config['n_layers'], hp_config['dropout'], cache_dir=tmpdir)\n",
    "\n",
    "        train_spec = tf.estimator.TrainSpec(input_fn=lambda: input_fn(\"train\"), max_steps=hp_config['max_steps'])\n",
    "        eval_spec = tf.estimator.EvalSpec(input_fn=lambda: input_fn(\"test\"))\n",
    "        res = tf.estimator.train_and_evaluate(model, train_spec, eval_spec)\n",
    "    \n",
    "    print(res[0])\n",
    "    if return_model:\n",
    "        return res[0]['loss'], model\n",
    "    else:\n",
    "        return res[0]['loss']"
   ]
  },
  {
   "cell_type": "code",
   "execution_count": 75,
   "metadata": {
    "collapsed": true,
    "jupyter": {
     "outputs_hidden": true
    }
   },
   "outputs": [
    {
     "name": "stdout",
     "output_type": "stream",
     "text": [
      "Model cache_dir = ./tmp_95k8ux6\n",
      "INFO:tensorflow:Using default config.\n",
      "INFO:tensorflow:Using config: {'_model_dir': './tmp_95k8ux6', '_tf_random_seed': None, '_save_summary_steps': 100, '_save_checkpoints_steps': None, '_save_checkpoints_secs': 600, '_session_config': allow_soft_placement: true\n",
      "graph_options {\n",
      "  rewrite_options {\n",
      "    meta_optimizer_iterations: ONE\n",
      "  }\n",
      "}\n",
      ", '_keep_checkpoint_max': 5, '_keep_checkpoint_every_n_hours': 10000, '_log_step_count_steps': 100, '_train_distribute': None, '_device_fn': None, '_protocol': None, '_eval_distribute': None, '_experimental_distribute': None, '_experimental_max_worker_delay_secs': None, '_session_creation_timeout_secs': 7200, '_service': None, '_cluster_spec': ClusterSpec({}), '_task_type': 'worker', '_task_id': 0, '_global_id_in_cluster': 0, '_master': '', '_evaluation_master': '', '_is_chief': True, '_num_ps_replicas': 0, '_num_worker_replicas': 1}\n",
      "INFO:tensorflow:Not using Distribute Coordinator.\n",
      "INFO:tensorflow:Running training and evaluation locally (non-distributed).\n",
      "INFO:tensorflow:Start train and evaluate loop. The evaluate will happen after every checkpoint. Checkpoint frequency is determined based on RunConfig arguments: save_checkpoints_steps None or save_checkpoints_secs 600.\n",
      "INFO:tensorflow:Calling model_fn.\n",
      "WARNING:tensorflow:Large dropout rate: 0.597407 (>0.5). In TensorFlow 2.x, dropout() uses dropout rate instead of keep_prob. Please ensure that this is intended.\n",
      "WARNING:tensorflow:Large dropout rate: 0.597407 (>0.5). In TensorFlow 2.x, dropout() uses dropout rate instead of keep_prob. Please ensure that this is intended.\n",
      "INFO:tensorflow:Done calling model_fn.\n",
      "INFO:tensorflow:Create CheckpointSaverHook.\n",
      "INFO:tensorflow:Graph was finalized.\n",
      "INFO:tensorflow:Running local_init_op.\n",
      "INFO:tensorflow:Done running local_init_op.\n",
      "INFO:tensorflow:Saving checkpoints for 0 into ./tmp_95k8ux6/model.ckpt.\n",
      "INFO:tensorflow:loss = 308.4974, step = 0\n",
      "INFO:tensorflow:global_step/sec: 267.957\n",
      "INFO:tensorflow:loss = 69.76019, step = 100 (0.374 sec)\n",
      "INFO:tensorflow:global_step/sec: 342.654\n",
      "INFO:tensorflow:loss = 29.726736, step = 200 (0.294 sec)\n",
      "INFO:tensorflow:global_step/sec: 310.383\n",
      "INFO:tensorflow:loss = 24.543945, step = 300 (0.321 sec)\n",
      "INFO:tensorflow:global_step/sec: 265.002\n",
      "INFO:tensorflow:loss = 8.9033785, step = 400 (0.377 sec)\n",
      "INFO:tensorflow:global_step/sec: 267.127\n",
      "INFO:tensorflow:loss = 11.03837, step = 500 (0.375 sec)\n",
      "INFO:tensorflow:global_step/sec: 232.861\n",
      "INFO:tensorflow:loss = 11.481517, step = 600 (0.431 sec)\n",
      "INFO:tensorflow:global_step/sec: 231.928\n",
      "INFO:tensorflow:loss = 9.616154, step = 700 (0.430 sec)\n",
      "INFO:tensorflow:global_step/sec: 239.133\n",
      "INFO:tensorflow:loss = 3.8483777, step = 800 (0.418 sec)\n",
      "INFO:tensorflow:global_step/sec: 278.404\n",
      "INFO:tensorflow:loss = 7.5624056, step = 900 (0.361 sec)\n",
      "INFO:tensorflow:global_step/sec: 275.204\n",
      "INFO:tensorflow:loss = 4.0471015, step = 1000 (0.363 sec)\n",
      "INFO:tensorflow:global_step/sec: 265.564\n",
      "INFO:tensorflow:loss = 3.9837089, step = 1100 (0.375 sec)\n",
      "INFO:tensorflow:global_step/sec: 285.247\n",
      "INFO:tensorflow:loss = 4.4571743, step = 1200 (0.351 sec)\n",
      "INFO:tensorflow:global_step/sec: 264.291\n",
      "INFO:tensorflow:loss = 4.5614357, step = 1300 (0.383 sec)\n",
      "INFO:tensorflow:global_step/sec: 259.435\n",
      "INFO:tensorflow:loss = 4.712305, step = 1400 (0.381 sec)\n",
      "INFO:tensorflow:global_step/sec: 219.553\n",
      "INFO:tensorflow:loss = 2.8359194, step = 1500 (0.456 sec)\n",
      "INFO:tensorflow:global_step/sec: 206.599\n",
      "INFO:tensorflow:loss = 3.6679683, step = 1600 (0.485 sec)\n",
      "INFO:tensorflow:global_step/sec: 233.856\n",
      "INFO:tensorflow:loss = 3.0536416, step = 1700 (0.426 sec)\n",
      "INFO:tensorflow:global_step/sec: 266.35\n",
      "INFO:tensorflow:loss = 3.0316706, step = 1800 (0.376 sec)\n",
      "INFO:tensorflow:Saving checkpoints for 1875 into ./tmp_95k8ux6/model.ckpt.\n",
      "INFO:tensorflow:Calling model_fn.\n",
      "INFO:tensorflow:Done calling model_fn.\n",
      "INFO:tensorflow:Starting evaluation at 2020-03-30T12:00:09Z\n",
      "INFO:tensorflow:Graph was finalized.\n",
      "INFO:tensorflow:Restoring parameters from ./tmp_95k8ux6/model.ckpt-1875\n",
      "INFO:tensorflow:Running local_init_op.\n",
      "INFO:tensorflow:Done running local_init_op.\n",
      "INFO:tensorflow:Evaluation [10/100]\n",
      "INFO:tensorflow:Evaluation [20/100]\n",
      "INFO:tensorflow:Evaluation [30/100]\n",
      "INFO:tensorflow:Evaluation [40/100]\n",
      "INFO:tensorflow:Evaluation [50/100]\n",
      "INFO:tensorflow:Evaluation [60/100]\n",
      "INFO:tensorflow:Evaluation [70/100]\n",
      "INFO:tensorflow:Evaluation [80/100]\n",
      "INFO:tensorflow:Evaluation [90/100]\n",
      "INFO:tensorflow:Evaluation [100/100]\n",
      "INFO:tensorflow:Inference Time : 0.85501s\n",
      "INFO:tensorflow:Finished evaluation at 2020-03-30-12:00:10\n",
      "INFO:tensorflow:Saving dict for global step 1875: accuracy = 0.1221875, average_loss = 2.581172, global_step = 1875, loss = 2.581172\n",
      "INFO:tensorflow:Saving 'checkpoint_path' summary for global step 1875: ./tmp_95k8ux6/model.ckpt-1875\n",
      "INFO:tensorflow:Loss for final step: 2.5564559.\n",
      "{'accuracy': 0.1221875, 'average_loss': 2.581172, 'loss': 2.581172, 'global_step': 1875}\n",
      "Model cache_dir = ./tmp7ms9g_vr\n",
      "INFO:tensorflow:Using default config.\n",
      "INFO:tensorflow:Using config: {'_model_dir': './tmp7ms9g_vr', '_tf_random_seed': None, '_save_summary_steps': 100, '_save_checkpoints_steps': None, '_save_checkpoints_secs': 600, '_session_config': allow_soft_placement: true\n",
      "graph_options {\n",
      "  rewrite_options {\n",
      "    meta_optimizer_iterations: ONE\n",
      "  }\n",
      "}\n",
      ", '_keep_checkpoint_max': 5, '_keep_checkpoint_every_n_hours': 10000, '_log_step_count_steps': 100, '_train_distribute': None, '_device_fn': None, '_protocol': None, '_eval_distribute': None, '_experimental_distribute': None, '_experimental_max_worker_delay_secs': None, '_session_creation_timeout_secs': 7200, '_service': None, '_cluster_spec': ClusterSpec({}), '_task_type': 'worker', '_task_id': 0, '_global_id_in_cluster': 0, '_master': '', '_evaluation_master': '', '_is_chief': True, '_num_ps_replicas': 0, '_num_worker_replicas': 1}\n",
      "INFO:tensorflow:Not using Distribute Coordinator.\n",
      "INFO:tensorflow:Running training and evaluation locally (non-distributed).\n",
      "INFO:tensorflow:Start train and evaluate loop. The evaluate will happen after every checkpoint. Checkpoint frequency is determined based on RunConfig arguments: save_checkpoints_steps None or save_checkpoints_secs 600.\n",
      "INFO:tensorflow:Calling model_fn.\n",
      "INFO:tensorflow:Done calling model_fn.\n",
      "INFO:tensorflow:Create CheckpointSaverHook.\n",
      "INFO:tensorflow:Graph was finalized.\n",
      "INFO:tensorflow:Running local_init_op.\n",
      "INFO:tensorflow:Done running local_init_op.\n",
      "INFO:tensorflow:Saving checkpoints for 0 into ./tmp7ms9g_vr/model.ckpt.\n",
      "INFO:tensorflow:loss = 198.72412, step = 0\n",
      "INFO:tensorflow:global_step/sec: 199.564\n",
      "INFO:tensorflow:loss = 29.79728, step = 100 (0.502 sec)\n",
      "INFO:tensorflow:global_step/sec: 221.783\n",
      "INFO:tensorflow:loss = 11.731235, step = 200 (0.452 sec)\n",
      "INFO:tensorflow:global_step/sec: 233.314\n",
      "INFO:tensorflow:loss = 9.59522, step = 300 (0.432 sec)\n",
      "INFO:tensorflow:global_step/sec: 217.034\n",
      "INFO:tensorflow:loss = 8.717031, step = 400 (0.457 sec)\n",
      "INFO:tensorflow:global_step/sec: 239.329\n",
      "INFO:tensorflow:loss = 5.6113577, step = 500 (0.418 sec)\n",
      "INFO:tensorflow:global_step/sec: 209.383\n",
      "INFO:tensorflow:loss = 3.9443681, step = 600 (0.478 sec)\n",
      "INFO:tensorflow:global_step/sec: 173.372\n",
      "INFO:tensorflow:loss = 3.2244277, step = 700 (0.577 sec)\n",
      "INFO:tensorflow:global_step/sec: 213.859\n",
      "INFO:tensorflow:loss = 3.5692453, step = 800 (0.467 sec)\n",
      "INFO:tensorflow:global_step/sec: 197.134\n",
      "INFO:tensorflow:loss = 2.7502155, step = 900 (0.507 sec)\n",
      "INFO:tensorflow:Saving checkpoints for 950 into ./tmp7ms9g_vr/model.ckpt.\n",
      "INFO:tensorflow:Calling model_fn.\n",
      "INFO:tensorflow:Done calling model_fn.\n",
      "INFO:tensorflow:Starting evaluation at 2020-03-30T12:00:17Z\n",
      "INFO:tensorflow:Graph was finalized.\n",
      "INFO:tensorflow:Restoring parameters from ./tmp7ms9g_vr/model.ckpt-950\n",
      "INFO:tensorflow:Running local_init_op.\n",
      "INFO:tensorflow:Done running local_init_op.\n",
      "INFO:tensorflow:Evaluation [10/100]\n",
      "INFO:tensorflow:Evaluation [20/100]\n",
      "INFO:tensorflow:Evaluation [30/100]\n",
      "INFO:tensorflow:Evaluation [40/100]\n",
      "INFO:tensorflow:Evaluation [50/100]\n",
      "INFO:tensorflow:Evaluation [60/100]\n",
      "INFO:tensorflow:Evaluation [70/100]\n",
      "INFO:tensorflow:Evaluation [80/100]\n",
      "INFO:tensorflow:Evaluation [90/100]\n",
      "INFO:tensorflow:Evaluation [100/100]\n",
      "INFO:tensorflow:Inference Time : 0.86082s\n",
      "INFO:tensorflow:Finished evaluation at 2020-03-30-12:00:17\n",
      "INFO:tensorflow:Saving dict for global step 950: accuracy = 0.14, average_loss = 2.4049423, global_step = 950, loss = 2.4049423\n",
      "INFO:tensorflow:Saving 'checkpoint_path' summary for global step 950: ./tmp7ms9g_vr/model.ckpt-950\n",
      "INFO:tensorflow:Loss for final step: 4.1021156.\n",
      "{'accuracy': 0.14, 'average_loss': 2.4049423, 'loss': 2.4049423, 'global_step': 950}\n",
      "Model cache_dir = ./tmplzn__hj6\n",
      "INFO:tensorflow:Using default config.\n",
      "INFO:tensorflow:Using config: {'_model_dir': './tmplzn__hj6', '_tf_random_seed': None, '_save_summary_steps': 100, '_save_checkpoints_steps': None, '_save_checkpoints_secs': 600, '_session_config': allow_soft_placement: true\n",
      "graph_options {\n",
      "  rewrite_options {\n",
      "    meta_optimizer_iterations: ONE\n",
      "  }\n",
      "}\n",
      ", '_keep_checkpoint_max': 5, '_keep_checkpoint_every_n_hours': 10000, '_log_step_count_steps': 100, '_train_distribute': None, '_device_fn': None, '_protocol': None, '_eval_distribute': None, '_experimental_distribute': None, '_experimental_max_worker_delay_secs': None, '_session_creation_timeout_secs': 7200, '_service': None, '_cluster_spec': ClusterSpec({}), '_task_type': 'worker', '_task_id': 0, '_global_id_in_cluster': 0, '_master': '', '_evaluation_master': '', '_is_chief': True, '_num_ps_replicas': 0, '_num_worker_replicas': 1}\n",
      "INFO:tensorflow:Not using Distribute Coordinator.\n",
      "INFO:tensorflow:Running training and evaluation locally (non-distributed).\n",
      "INFO:tensorflow:Start train and evaluate loop. The evaluate will happen after every checkpoint. Checkpoint frequency is determined based on RunConfig arguments: save_checkpoints_steps None or save_checkpoints_secs 600.\n",
      "INFO:tensorflow:Calling model_fn.\n",
      "INFO:tensorflow:Done calling model_fn.\n",
      "INFO:tensorflow:Create CheckpointSaverHook.\n",
      "INFO:tensorflow:Graph was finalized.\n",
      "INFO:tensorflow:Running local_init_op.\n",
      "INFO:tensorflow:Done running local_init_op.\n",
      "INFO:tensorflow:Saving checkpoints for 0 into ./tmplzn__hj6/model.ckpt.\n",
      "INFO:tensorflow:loss = 141.67133, step = 0\n",
      "INFO:tensorflow:global_step/sec: 199.187\n",
      "INFO:tensorflow:loss = 23.159836, step = 100 (0.503 sec)\n",
      "INFO:tensorflow:global_step/sec: 192.22\n",
      "INFO:tensorflow:loss = 17.105196, step = 200 (0.520 sec)\n",
      "INFO:tensorflow:global_step/sec: 197.563\n",
      "INFO:tensorflow:loss = 9.803535, step = 300 (0.506 sec)\n",
      "INFO:tensorflow:global_step/sec: 255.127\n",
      "INFO:tensorflow:loss = 10.161481, step = 400 (0.392 sec)\n",
      "INFO:tensorflow:global_step/sec: 256.635\n",
      "INFO:tensorflow:loss = 7.1936717, step = 500 (0.397 sec)\n",
      "INFO:tensorflow:global_step/sec: 174.618\n",
      "INFO:tensorflow:loss = 6.9125834, step = 600 (0.565 sec)\n",
      "INFO:tensorflow:global_step/sec: 193.56\n",
      "INFO:tensorflow:loss = 3.9533, step = 700 (0.516 sec)\n",
      "INFO:tensorflow:global_step/sec: 211.519\n",
      "INFO:tensorflow:loss = 3.4660602, step = 800 (0.473 sec)\n",
      "INFO:tensorflow:global_step/sec: 272.809\n",
      "INFO:tensorflow:loss = 4.042039, step = 900 (0.368 sec)\n",
      "INFO:tensorflow:global_step/sec: 271.01\n",
      "INFO:tensorflow:loss = 3.8766036, step = 1000 (0.367 sec)\n",
      "INFO:tensorflow:global_step/sec: 261.024\n",
      "INFO:tensorflow:loss = 2.9831018, step = 1100 (0.384 sec)\n",
      "INFO:tensorflow:Saving checkpoints for 1143 into ./tmplzn__hj6/model.ckpt.\n",
      "INFO:tensorflow:Calling model_fn.\n",
      "INFO:tensorflow:Done calling model_fn.\n",
      "INFO:tensorflow:Starting evaluation at 2020-03-30T12:00:25Z\n",
      "INFO:tensorflow:Graph was finalized.\n",
      "INFO:tensorflow:Restoring parameters from ./tmplzn__hj6/model.ckpt-1143\n",
      "INFO:tensorflow:Running local_init_op.\n",
      "INFO:tensorflow:Done running local_init_op.\n",
      "INFO:tensorflow:Evaluation [10/100]\n",
      "INFO:tensorflow:Evaluation [20/100]\n",
      "INFO:tensorflow:Evaluation [30/100]\n",
      "INFO:tensorflow:Evaluation [40/100]\n",
      "INFO:tensorflow:Evaluation [50/100]\n",
      "INFO:tensorflow:Evaluation [60/100]\n",
      "INFO:tensorflow:Evaluation [70/100]\n",
      "INFO:tensorflow:Evaluation [80/100]\n",
      "INFO:tensorflow:Evaluation [90/100]\n",
      "INFO:tensorflow:Evaluation [100/100]\n",
      "INFO:tensorflow:Inference Time : 0.78424s\n",
      "INFO:tensorflow:Finished evaluation at 2020-03-30-12:00:26\n",
      "INFO:tensorflow:Saving dict for global step 1143: accuracy = 0.18875, average_loss = 2.3414774, global_step = 1143, loss = 2.3414774\n",
      "INFO:tensorflow:Saving 'checkpoint_path' summary for global step 1143: ./tmplzn__hj6/model.ckpt-1143\n",
      "INFO:tensorflow:Loss for final step: 2.7130795.\n",
      "{'accuracy': 0.18875, 'average_loss': 2.3414774, 'loss': 2.3414774, 'global_step': 1143}\n",
      "Model cache_dir = ./tmpqgh05e1p\n",
      "INFO:tensorflow:Using default config.\n",
      "INFO:tensorflow:Using config: {'_model_dir': './tmpqgh05e1p', '_tf_random_seed': None, '_save_summary_steps': 100, '_save_checkpoints_steps': None, '_save_checkpoints_secs': 600, '_session_config': allow_soft_placement: true\n",
      "graph_options {\n",
      "  rewrite_options {\n",
      "    meta_optimizer_iterations: ONE\n",
      "  }\n",
      "}\n",
      ", '_keep_checkpoint_max': 5, '_keep_checkpoint_every_n_hours': 10000, '_log_step_count_steps': 100, '_train_distribute': None, '_device_fn': None, '_protocol': None, '_eval_distribute': None, '_experimental_distribute': None, '_experimental_max_worker_delay_secs': None, '_session_creation_timeout_secs': 7200, '_service': None, '_cluster_spec': ClusterSpec({}), '_task_type': 'worker', '_task_id': 0, '_global_id_in_cluster': 0, '_master': '', '_evaluation_master': '', '_is_chief': True, '_num_ps_replicas': 0, '_num_worker_replicas': 1}\n",
      "INFO:tensorflow:Not using Distribute Coordinator.\n",
      "INFO:tensorflow:Running training and evaluation locally (non-distributed).\n",
      "INFO:tensorflow:Start train and evaluate loop. The evaluate will happen after every checkpoint. Checkpoint frequency is determined based on RunConfig arguments: save_checkpoints_steps None or save_checkpoints_secs 600.\n",
      "INFO:tensorflow:Calling model_fn.\n",
      "INFO:tensorflow:Done calling model_fn.\n",
      "INFO:tensorflow:Create CheckpointSaverHook.\n",
      "INFO:tensorflow:Graph was finalized.\n",
      "INFO:tensorflow:Running local_init_op.\n",
      "INFO:tensorflow:Done running local_init_op.\n",
      "INFO:tensorflow:Saving checkpoints for 0 into ./tmpqgh05e1p/model.ckpt.\n",
      "INFO:tensorflow:loss = 253.57028, step = 0\n",
      "INFO:tensorflow:global_step/sec: 263.525\n",
      "INFO:tensorflow:loss = 30.421474, step = 100 (0.386 sec)\n",
      "INFO:tensorflow:global_step/sec: 269.747\n",
      "INFO:tensorflow:loss = 17.191736, step = 200 (0.366 sec)\n",
      "INFO:tensorflow:global_step/sec: 295.577\n",
      "INFO:tensorflow:loss = 9.523329, step = 300 (0.340 sec)\n",
      "INFO:tensorflow:global_step/sec: 269.73\n",
      "INFO:tensorflow:loss = 5.8787866, step = 400 (0.371 sec)\n",
      "INFO:tensorflow:global_step/sec: 306.28\n",
      "INFO:tensorflow:loss = 14.063936, step = 500 (0.327 sec)\n",
      "INFO:tensorflow:global_step/sec: 301.767\n",
      "INFO:tensorflow:loss = 4.144166, step = 600 (0.330 sec)\n",
      "INFO:tensorflow:global_step/sec: 321.313\n",
      "INFO:tensorflow:loss = 5.3535185, step = 700 (0.311 sec)\n",
      "INFO:tensorflow:global_step/sec: 304.988\n",
      "INFO:tensorflow:loss = 3.8857946, step = 800 (0.328 sec)\n",
      "INFO:tensorflow:global_step/sec: 269.44\n",
      "INFO:tensorflow:loss = 4.55963, step = 900 (0.371 sec)\n",
      "INFO:tensorflow:global_step/sec: 268.005\n",
      "INFO:tensorflow:loss = 6.0732975, step = 1000 (0.373 sec)\n",
      "INFO:tensorflow:global_step/sec: 251.307\n",
      "INFO:tensorflow:loss = 4.463126, step = 1100 (0.399 sec)\n",
      "INFO:tensorflow:global_step/sec: 232.558\n",
      "INFO:tensorflow:loss = 4.125327, step = 1200 (0.431 sec)\n",
      "INFO:tensorflow:global_step/sec: 231.125\n",
      "INFO:tensorflow:loss = 4.5268226, step = 1300 (0.432 sec)\n",
      "INFO:tensorflow:global_step/sec: 213.528\n",
      "INFO:tensorflow:loss = 2.3316329, step = 1400 (0.467 sec)\n",
      "INFO:tensorflow:global_step/sec: 225.878\n",
      "INFO:tensorflow:loss = 2.3257039, step = 1500 (0.443 sec)\n",
      "INFO:tensorflow:global_step/sec: 235.606\n",
      "INFO:tensorflow:loss = 3.3126197, step = 1600 (0.424 sec)\n",
      "INFO:tensorflow:global_step/sec: 230.513\n",
      "INFO:tensorflow:loss = 2.7370682, step = 1700 (0.441 sec)\n",
      "INFO:tensorflow:global_step/sec: 235.631\n",
      "INFO:tensorflow:loss = 2.2230852, step = 1800 (0.418 sec)\n",
      "INFO:tensorflow:Saving checkpoints for 1875 into ./tmpqgh05e1p/model.ckpt.\n",
      "INFO:tensorflow:Calling model_fn.\n",
      "INFO:tensorflow:Done calling model_fn.\n",
      "INFO:tensorflow:Starting evaluation at 2020-03-30T12:00:34Z\n",
      "INFO:tensorflow:Graph was finalized.\n",
      "INFO:tensorflow:Restoring parameters from ./tmpqgh05e1p/model.ckpt-1875\n",
      "INFO:tensorflow:Running local_init_op.\n",
      "INFO:tensorflow:Done running local_init_op.\n",
      "INFO:tensorflow:Evaluation [10/100]\n",
      "INFO:tensorflow:Evaluation [20/100]\n",
      "INFO:tensorflow:Evaluation [30/100]\n",
      "INFO:tensorflow:Evaluation [40/100]\n",
      "INFO:tensorflow:Evaluation [50/100]\n",
      "INFO:tensorflow:Evaluation [60/100]\n",
      "INFO:tensorflow:Evaluation [70/100]\n",
      "INFO:tensorflow:Evaluation [80/100]\n",
      "INFO:tensorflow:Evaluation [90/100]\n",
      "INFO:tensorflow:Evaluation [100/100]\n",
      "INFO:tensorflow:Inference Time : 0.93356s\n",
      "INFO:tensorflow:Finished evaluation at 2020-03-30-12:00:35\n",
      "INFO:tensorflow:Saving dict for global step 1875: accuracy = 0.30625, average_loss = 2.4750025, global_step = 1875, loss = 2.4750025\n",
      "INFO:tensorflow:Saving 'checkpoint_path' summary for global step 1875: ./tmpqgh05e1p/model.ckpt-1875\n",
      "INFO:tensorflow:Loss for final step: 3.893713.\n",
      "{'accuracy': 0.30625, 'average_loss': 2.4750025, 'loss': 2.4750025, 'global_step': 1875}\n",
      "Model cache_dir = ./tmp87cfkxmg\n",
      "INFO:tensorflow:Using default config.\n",
      "INFO:tensorflow:Using config: {'_model_dir': './tmp87cfkxmg', '_tf_random_seed': None, '_save_summary_steps': 100, '_save_checkpoints_steps': None, '_save_checkpoints_secs': 600, '_session_config': allow_soft_placement: true\n",
      "graph_options {\n",
      "  rewrite_options {\n",
      "    meta_optimizer_iterations: ONE\n",
      "  }\n",
      "}\n",
      ", '_keep_checkpoint_max': 5, '_keep_checkpoint_every_n_hours': 10000, '_log_step_count_steps': 100, '_train_distribute': None, '_device_fn': None, '_protocol': None, '_eval_distribute': None, '_experimental_distribute': None, '_experimental_max_worker_delay_secs': None, '_session_creation_timeout_secs': 7200, '_service': None, '_cluster_spec': ClusterSpec({}), '_task_type': 'worker', '_task_id': 0, '_global_id_in_cluster': 0, '_master': '', '_evaluation_master': '', '_is_chief': True, '_num_ps_replicas': 0, '_num_worker_replicas': 1}\n",
      "INFO:tensorflow:Not using Distribute Coordinator.\n",
      "INFO:tensorflow:Running training and evaluation locally (non-distributed).\n",
      "INFO:tensorflow:Start train and evaluate loop. The evaluate will happen after every checkpoint. Checkpoint frequency is determined based on RunConfig arguments: save_checkpoints_steps None or save_checkpoints_secs 600.\n",
      "INFO:tensorflow:Calling model_fn.\n",
      "WARNING:tensorflow:Large dropout rate: 0.703915 (>0.5). In TensorFlow 2.x, dropout() uses dropout rate instead of keep_prob. Please ensure that this is intended.\n",
      "INFO:tensorflow:Done calling model_fn.\n",
      "INFO:tensorflow:Create CheckpointSaverHook.\n",
      "INFO:tensorflow:Graph was finalized.\n",
      "INFO:tensorflow:Running local_init_op.\n",
      "INFO:tensorflow:Done running local_init_op.\n",
      "INFO:tensorflow:Saving checkpoints for 0 into ./tmp87cfkxmg/model.ckpt.\n",
      "INFO:tensorflow:loss = 257.006, step = 0\n",
      "INFO:tensorflow:global_step/sec: 272.79\n",
      "INFO:tensorflow:loss = 43.751568, step = 100 (0.368 sec)\n",
      "INFO:tensorflow:global_step/sec: 294.974\n",
      "INFO:tensorflow:loss = 13.500706, step = 200 (0.338 sec)\n",
      "INFO:tensorflow:global_step/sec: 316.103\n",
      "INFO:tensorflow:loss = 11.393737, step = 300 (0.318 sec)\n",
      "INFO:tensorflow:global_step/sec: 316.372\n",
      "INFO:tensorflow:loss = 9.779104, step = 400 (0.315 sec)\n",
      "INFO:tensorflow:global_step/sec: 302.105\n",
      "INFO:tensorflow:loss = 8.288347, step = 500 (0.331 sec)\n",
      "INFO:tensorflow:global_step/sec: 330.66\n",
      "INFO:tensorflow:loss = 3.8128495, step = 600 (0.303 sec)\n",
      "INFO:tensorflow:global_step/sec: 211.609\n",
      "INFO:tensorflow:loss = 6.4377413, step = 700 (0.472 sec)\n",
      "INFO:tensorflow:global_step/sec: 259.053\n",
      "INFO:tensorflow:loss = 7.2295938, step = 800 (0.387 sec)\n",
      "INFO:tensorflow:global_step/sec: 199.236\n",
      "INFO:tensorflow:loss = 9.96638, step = 900 (0.502 sec)\n",
      "INFO:tensorflow:global_step/sec: 214.305\n",
      "INFO:tensorflow:loss = 2.4279585, step = 1000 (0.468 sec)\n",
      "INFO:tensorflow:global_step/sec: 197.822\n",
      "INFO:tensorflow:loss = 4.17945, step = 1100 (0.505 sec)\n",
      "INFO:tensorflow:global_step/sec: 299.329\n",
      "INFO:tensorflow:loss = 5.6236343, step = 1200 (0.333 sec)\n",
      "INFO:tensorflow:global_step/sec: 279.936\n",
      "INFO:tensorflow:loss = 2.2816586, step = 1300 (0.357 sec)\n",
      "INFO:tensorflow:global_step/sec: 258.104\n",
      "INFO:tensorflow:loss = 5.540289, step = 1400 (0.389 sec)\n",
      "INFO:tensorflow:global_step/sec: 239.731\n",
      "INFO:tensorflow:loss = 2.7541504, step = 1500 (0.416 sec)\n",
      "INFO:tensorflow:global_step/sec: 227.878\n",
      "INFO:tensorflow:loss = 3.1135497, step = 1600 (0.444 sec)\n",
      "INFO:tensorflow:global_step/sec: 226.543\n",
      "INFO:tensorflow:loss = 3.185069, step = 1700 (0.437 sec)\n",
      "INFO:tensorflow:global_step/sec: 221.474\n",
      "INFO:tensorflow:loss = 2.898068, step = 1800 (0.452 sec)\n",
      "INFO:tensorflow:Saving checkpoints for 1875 into ./tmp87cfkxmg/model.ckpt.\n",
      "INFO:tensorflow:Calling model_fn.\n",
      "INFO:tensorflow:Done calling model_fn.\n",
      "INFO:tensorflow:Starting evaluation at 2020-03-30T12:00:45Z\n",
      "INFO:tensorflow:Graph was finalized.\n",
      "INFO:tensorflow:Restoring parameters from ./tmp87cfkxmg/model.ckpt-1875\n",
      "INFO:tensorflow:Running local_init_op.\n",
      "INFO:tensorflow:Done running local_init_op.\n",
      "INFO:tensorflow:Evaluation [10/100]\n",
      "INFO:tensorflow:Evaluation [20/100]\n",
      "INFO:tensorflow:Evaluation [30/100]\n",
      "INFO:tensorflow:Evaluation [40/100]\n",
      "INFO:tensorflow:Evaluation [50/100]\n",
      "INFO:tensorflow:Evaluation [60/100]\n",
      "INFO:tensorflow:Evaluation [70/100]\n",
      "INFO:tensorflow:Evaluation [80/100]\n",
      "INFO:tensorflow:Evaluation [90/100]\n",
      "INFO:tensorflow:Evaluation [100/100]\n",
      "INFO:tensorflow:Inference Time : 0.82062s\n",
      "INFO:tensorflow:Finished evaluation at 2020-03-30-12:00:45\n",
      "INFO:tensorflow:Saving dict for global step 1875: accuracy = 0.2390625, average_loss = 2.6228735, global_step = 1875, loss = 2.6228735\n",
      "INFO:tensorflow:Saving 'checkpoint_path' summary for global step 1875: ./tmp87cfkxmg/model.ckpt-1875\n",
      "INFO:tensorflow:Loss for final step: 2.2030816.\n",
      "{'accuracy': 0.2390625, 'average_loss': 2.6228735, 'loss': 2.6228735, 'global_step': 1875}\n",
      "Model cache_dir = ./tmp_zxb0kdt\n",
      "INFO:tensorflow:Using default config.\n",
      "INFO:tensorflow:Using config: {'_model_dir': './tmp_zxb0kdt', '_tf_random_seed': None, '_save_summary_steps': 100, '_save_checkpoints_steps': None, '_save_checkpoints_secs': 600, '_session_config': allow_soft_placement: true\n",
      "graph_options {\n",
      "  rewrite_options {\n",
      "    meta_optimizer_iterations: ONE\n",
      "  }\n",
      "}\n",
      ", '_keep_checkpoint_max': 5, '_keep_checkpoint_every_n_hours': 10000, '_log_step_count_steps': 100, '_train_distribute': None, '_device_fn': None, '_protocol': None, '_eval_distribute': None, '_experimental_distribute': None, '_experimental_max_worker_delay_secs': None, '_session_creation_timeout_secs': 7200, '_service': None, '_cluster_spec': ClusterSpec({}), '_task_type': 'worker', '_task_id': 0, '_global_id_in_cluster': 0, '_master': '', '_evaluation_master': '', '_is_chief': True, '_num_ps_replicas': 0, '_num_worker_replicas': 1}\n",
      "INFO:tensorflow:Not using Distribute Coordinator.\n",
      "INFO:tensorflow:Running training and evaluation locally (non-distributed).\n",
      "INFO:tensorflow:Start train and evaluate loop. The evaluate will happen after every checkpoint. Checkpoint frequency is determined based on RunConfig arguments: save_checkpoints_steps None or save_checkpoints_secs 600.\n",
      "INFO:tensorflow:Calling model_fn.\n",
      "INFO:tensorflow:Done calling model_fn.\n",
      "INFO:tensorflow:Create CheckpointSaverHook.\n",
      "INFO:tensorflow:Graph was finalized.\n",
      "INFO:tensorflow:Running local_init_op.\n",
      "INFO:tensorflow:Done running local_init_op.\n",
      "INFO:tensorflow:Saving checkpoints for 0 into ./tmp_zxb0kdt/model.ckpt.\n",
      "INFO:tensorflow:loss = 297.4759, step = 0\n",
      "INFO:tensorflow:global_step/sec: 227.729\n",
      "INFO:tensorflow:loss = 29.967175, step = 100 (0.441 sec)\n",
      "INFO:tensorflow:global_step/sec: 253.345\n",
      "INFO:tensorflow:loss = 17.799662, step = 200 (0.395 sec)\n",
      "INFO:tensorflow:global_step/sec: 232.263\n",
      "INFO:tensorflow:loss = 10.425678, step = 300 (0.429 sec)\n",
      "INFO:tensorflow:global_step/sec: 238.577\n",
      "INFO:tensorflow:loss = 8.405813, step = 400 (0.419 sec)\n",
      "INFO:tensorflow:global_step/sec: 265.189\n",
      "INFO:tensorflow:loss = 6.770897, step = 500 (0.377 sec)\n",
      "INFO:tensorflow:Saving checkpoints for 532 into ./tmp_zxb0kdt/model.ckpt.\n",
      "INFO:tensorflow:Calling model_fn.\n",
      "INFO:tensorflow:Done calling model_fn.\n",
      "INFO:tensorflow:Starting evaluation at 2020-03-30T12:00:50Z\n",
      "INFO:tensorflow:Graph was finalized.\n",
      "INFO:tensorflow:Restoring parameters from ./tmp_zxb0kdt/model.ckpt-532\n",
      "INFO:tensorflow:Running local_init_op.\n",
      "INFO:tensorflow:Done running local_init_op.\n",
      "INFO:tensorflow:Evaluation [10/100]\n",
      "INFO:tensorflow:Evaluation [20/100]\n",
      "INFO:tensorflow:Evaluation [30/100]\n",
      "INFO:tensorflow:Evaluation [40/100]\n",
      "INFO:tensorflow:Evaluation [50/100]\n",
      "INFO:tensorflow:Evaluation [60/100]\n",
      "INFO:tensorflow:Evaluation [70/100]\n",
      "INFO:tensorflow:Evaluation [80/100]\n",
      "INFO:tensorflow:Evaluation [90/100]\n",
      "INFO:tensorflow:Evaluation [100/100]\n",
      "INFO:tensorflow:Inference Time : 0.86014s\n",
      "INFO:tensorflow:Finished evaluation at 2020-03-30-12:00:51\n",
      "INFO:tensorflow:Saving dict for global step 532: accuracy = 0.1421875, average_loss = 2.4326699, global_step = 532, loss = 2.4326699\n",
      "INFO:tensorflow:Saving 'checkpoint_path' summary for global step 532: ./tmp_zxb0kdt/model.ckpt-532\n",
      "INFO:tensorflow:Loss for final step: 6.217495.\n",
      "{'accuracy': 0.1421875, 'average_loss': 2.4326699, 'loss': 2.4326699, 'global_step': 532}\n",
      "Model cache_dir = ./tmp7yetw8x2\n",
      "INFO:tensorflow:Using default config.\n",
      "INFO:tensorflow:Using config: {'_model_dir': './tmp7yetw8x2', '_tf_random_seed': None, '_save_summary_steps': 100, '_save_checkpoints_steps': None, '_save_checkpoints_secs': 600, '_session_config': allow_soft_placement: true\n",
      "graph_options {\n",
      "  rewrite_options {\n",
      "    meta_optimizer_iterations: ONE\n",
      "  }\n",
      "}\n",
      ", '_keep_checkpoint_max': 5, '_keep_checkpoint_every_n_hours': 10000, '_log_step_count_steps': 100, '_train_distribute': None, '_device_fn': None, '_protocol': None, '_eval_distribute': None, '_experimental_distribute': None, '_experimental_max_worker_delay_secs': None, '_session_creation_timeout_secs': 7200, '_service': None, '_cluster_spec': ClusterSpec({}), '_task_type': 'worker', '_task_id': 0, '_global_id_in_cluster': 0, '_master': '', '_evaluation_master': '', '_is_chief': True, '_num_ps_replicas': 0, '_num_worker_replicas': 1}\n",
      "INFO:tensorflow:Not using Distribute Coordinator.\n",
      "INFO:tensorflow:Running training and evaluation locally (non-distributed).\n",
      "INFO:tensorflow:Start train and evaluate loop. The evaluate will happen after every checkpoint. Checkpoint frequency is determined based on RunConfig arguments: save_checkpoints_steps None or save_checkpoints_secs 600.\n",
      "INFO:tensorflow:Calling model_fn.\n",
      "INFO:tensorflow:Done calling model_fn.\n",
      "INFO:tensorflow:Create CheckpointSaverHook.\n",
      "INFO:tensorflow:Graph was finalized.\n",
      "INFO:tensorflow:Running local_init_op.\n",
      "INFO:tensorflow:Done running local_init_op.\n",
      "INFO:tensorflow:Saving checkpoints for 0 into ./tmp7yetw8x2/model.ckpt.\n",
      "INFO:tensorflow:loss = 50.168728, step = 0\n",
      "INFO:tensorflow:global_step/sec: 203.583\n",
      "INFO:tensorflow:loss = 5.3007383, step = 100 (0.492 sec)\n",
      "INFO:tensorflow:global_step/sec: 274.516\n",
      "INFO:tensorflow:loss = 4.857146, step = 200 (0.365 sec)\n",
      "INFO:tensorflow:global_step/sec: 248.199\n",
      "INFO:tensorflow:loss = 3.2761667, step = 300 (0.402 sec)\n",
      "INFO:tensorflow:global_step/sec: 280.399\n",
      "INFO:tensorflow:loss = 3.5402865, step = 400 (0.357 sec)\n",
      "INFO:tensorflow:global_step/sec: 294.671\n",
      "INFO:tensorflow:loss = 3.9904346, step = 500 (0.340 sec)\n",
      "INFO:tensorflow:global_step/sec: 264.284\n",
      "INFO:tensorflow:loss = 3.2878265, step = 600 (0.377 sec)\n",
      "INFO:tensorflow:global_step/sec: 273.125\n",
      "INFO:tensorflow:loss = 4.200308, step = 700 (0.366 sec)\n",
      "INFO:tensorflow:global_step/sec: 291.615\n",
      "INFO:tensorflow:loss = 2.2089176, step = 800 (0.342 sec)\n",
      "INFO:tensorflow:global_step/sec: 285.083\n",
      "INFO:tensorflow:loss = 1.7189813, step = 900 (0.352 sec)\n",
      "INFO:tensorflow:global_step/sec: 266.721\n",
      "INFO:tensorflow:loss = 1.4833043, step = 1000 (0.373 sec)\n",
      "INFO:tensorflow:global_step/sec: 289.51\n",
      "INFO:tensorflow:loss = 1.3263352, step = 1100 (0.346 sec)\n",
      "INFO:tensorflow:global_step/sec: 259.08\n",
      "INFO:tensorflow:loss = 1.7374387, step = 1200 (0.388 sec)\n",
      "INFO:tensorflow:global_step/sec: 268.382\n",
      "INFO:tensorflow:loss = 2.4669352, step = 1300 (0.371 sec)\n",
      "INFO:tensorflow:global_step/sec: 249.052\n",
      "INFO:tensorflow:loss = 2.019021, step = 1400 (0.401 sec)\n",
      "INFO:tensorflow:global_step/sec: 294.442\n",
      "INFO:tensorflow:loss = 2.539725, step = 1500 (0.340 sec)\n",
      "INFO:tensorflow:global_step/sec: 294.158\n",
      "INFO:tensorflow:loss = 2.2000597, step = 1600 (0.341 sec)\n",
      "INFO:tensorflow:global_step/sec: 269.069\n",
      "INFO:tensorflow:loss = 1.771835, step = 1700 (0.372 sec)\n",
      "INFO:tensorflow:global_step/sec: 324.624\n",
      "INFO:tensorflow:loss = 1.9798332, step = 1800 (0.307 sec)\n",
      "INFO:tensorflow:Saving checkpoints for 1875 into ./tmp7yetw8x2/model.ckpt.\n",
      "INFO:tensorflow:Calling model_fn.\n",
      "INFO:tensorflow:Done calling model_fn.\n",
      "INFO:tensorflow:Starting evaluation at 2020-03-30T12:01:00Z\n",
      "INFO:tensorflow:Graph was finalized.\n",
      "INFO:tensorflow:Restoring parameters from ./tmp7yetw8x2/model.ckpt-1875\n",
      "INFO:tensorflow:Running local_init_op.\n",
      "INFO:tensorflow:Done running local_init_op.\n",
      "INFO:tensorflow:Evaluation [10/100]\n",
      "INFO:tensorflow:Evaluation [20/100]\n",
      "INFO:tensorflow:Evaluation [30/100]\n",
      "INFO:tensorflow:Evaluation [40/100]\n",
      "INFO:tensorflow:Evaluation [50/100]\n",
      "INFO:tensorflow:Evaluation [60/100]\n",
      "INFO:tensorflow:Evaluation [70/100]\n",
      "INFO:tensorflow:Evaluation [80/100]\n",
      "INFO:tensorflow:Evaluation [90/100]\n",
      "INFO:tensorflow:Evaluation [100/100]\n",
      "INFO:tensorflow:Inference Time : 0.89286s\n",
      "INFO:tensorflow:Finished evaluation at 2020-03-30-12:01:01\n",
      "INFO:tensorflow:Saving dict for global step 1875: accuracy = 0.6365625, average_loss = 1.4151002, global_step = 1875, loss = 1.4151002\n",
      "INFO:tensorflow:Saving 'checkpoint_path' summary for global step 1875: ./tmp7yetw8x2/model.ckpt-1875\n",
      "INFO:tensorflow:Loss for final step: 1.1068165.\n",
      "{'accuracy': 0.6365625, 'average_loss': 1.4151002, 'loss': 1.4151002, 'global_step': 1875}\n",
      "Model cache_dir = ./tmp2xlec_fr\n",
      "INFO:tensorflow:Using default config.\n",
      "INFO:tensorflow:Using config: {'_model_dir': './tmp2xlec_fr', '_tf_random_seed': None, '_save_summary_steps': 100, '_save_checkpoints_steps': None, '_save_checkpoints_secs': 600, '_session_config': allow_soft_placement: true\n",
      "graph_options {\n",
      "  rewrite_options {\n",
      "    meta_optimizer_iterations: ONE\n",
      "  }\n",
      "}\n",
      ", '_keep_checkpoint_max': 5, '_keep_checkpoint_every_n_hours': 10000, '_log_step_count_steps': 100, '_train_distribute': None, '_device_fn': None, '_protocol': None, '_eval_distribute': None, '_experimental_distribute': None, '_experimental_max_worker_delay_secs': None, '_session_creation_timeout_secs': 7200, '_service': None, '_cluster_spec': ClusterSpec({}), '_task_type': 'worker', '_task_id': 0, '_global_id_in_cluster': 0, '_master': '', '_evaluation_master': '', '_is_chief': True, '_num_ps_replicas': 0, '_num_worker_replicas': 1}\n",
      "INFO:tensorflow:Not using Distribute Coordinator.\n",
      "INFO:tensorflow:Running training and evaluation locally (non-distributed).\n",
      "INFO:tensorflow:Start train and evaluate loop. The evaluate will happen after every checkpoint. Checkpoint frequency is determined based on RunConfig arguments: save_checkpoints_steps None or save_checkpoints_secs 600.\n",
      "INFO:tensorflow:Calling model_fn.\n",
      "INFO:tensorflow:Done calling model_fn.\n",
      "INFO:tensorflow:Create CheckpointSaverHook.\n",
      "INFO:tensorflow:Graph was finalized.\n",
      "INFO:tensorflow:Running local_init_op.\n",
      "INFO:tensorflow:Done running local_init_op.\n",
      "INFO:tensorflow:Saving checkpoints for 0 into ./tmp2xlec_fr/model.ckpt.\n",
      "INFO:tensorflow:loss = 48.270912, step = 0\n",
      "INFO:tensorflow:global_step/sec: 219.429\n",
      "INFO:tensorflow:loss = 2.9828155, step = 100 (0.456 sec)\n",
      "INFO:tensorflow:global_step/sec: 220.753\n",
      "INFO:tensorflow:loss = 2.6480289, step = 200 (0.454 sec)\n",
      "INFO:tensorflow:global_step/sec: 252.635\n",
      "INFO:tensorflow:loss = 2.5068898, step = 300 (0.396 sec)\n",
      "INFO:tensorflow:global_step/sec: 269.481\n",
      "INFO:tensorflow:loss = 2.6102488, step = 400 (0.371 sec)\n",
      "INFO:tensorflow:global_step/sec: 239.884\n",
      "INFO:tensorflow:loss = 1.9179063, step = 500 (0.415 sec)\n",
      "INFO:tensorflow:global_step/sec: 210.19\n",
      "INFO:tensorflow:loss = 1.7112418, step = 600 (0.477 sec)\n",
      "INFO:tensorflow:global_step/sec: 252.39\n",
      "INFO:tensorflow:loss = 2.002671, step = 700 (0.395 sec)\n",
      "INFO:tensorflow:global_step/sec: 258.948\n",
      "INFO:tensorflow:loss = 1.8192139, step = 800 (0.386 sec)\n",
      "INFO:tensorflow:global_step/sec: 290.096\n",
      "INFO:tensorflow:loss = 2.1330748, step = 900 (0.344 sec)\n",
      "INFO:tensorflow:global_step/sec: 242.358\n",
      "INFO:tensorflow:loss = 1.6241425, step = 1000 (0.413 sec)\n",
      "INFO:tensorflow:global_step/sec: 273.731\n",
      "INFO:tensorflow:loss = 1.7314677, step = 1100 (0.366 sec)\n",
      "INFO:tensorflow:global_step/sec: 256.927\n",
      "INFO:tensorflow:loss = 1.4717524, step = 1200 (0.389 sec)\n",
      "INFO:tensorflow:global_step/sec: 270.174\n",
      "INFO:tensorflow:loss = 1.5312505, step = 1300 (0.371 sec)\n",
      "INFO:tensorflow:global_step/sec: 300.502\n",
      "INFO:tensorflow:loss = 1.1843104, step = 1400 (0.332 sec)\n",
      "INFO:tensorflow:global_step/sec: 303.739\n",
      "INFO:tensorflow:loss = 1.7993119, step = 1500 (0.331 sec)\n",
      "INFO:tensorflow:Saving checkpoints for 1547 into ./tmp2xlec_fr/model.ckpt.\n",
      "INFO:tensorflow:Calling model_fn.\n",
      "INFO:tensorflow:Done calling model_fn.\n",
      "INFO:tensorflow:Starting evaluation at 2020-03-30T12:01:10Z\n",
      "INFO:tensorflow:Graph was finalized.\n",
      "INFO:tensorflow:Restoring parameters from ./tmp2xlec_fr/model.ckpt-1547\n",
      "INFO:tensorflow:Running local_init_op.\n",
      "INFO:tensorflow:Done running local_init_op.\n",
      "INFO:tensorflow:Evaluation [10/100]\n",
      "INFO:tensorflow:Evaluation [20/100]\n",
      "INFO:tensorflow:Evaluation [30/100]\n",
      "INFO:tensorflow:Evaluation [40/100]\n",
      "INFO:tensorflow:Evaluation [50/100]\n",
      "INFO:tensorflow:Evaluation [60/100]\n",
      "INFO:tensorflow:Evaluation [70/100]\n",
      "INFO:tensorflow:Evaluation [80/100]\n",
      "INFO:tensorflow:Evaluation [90/100]\n",
      "INFO:tensorflow:Evaluation [100/100]\n",
      "INFO:tensorflow:Inference Time : 0.87076s\n",
      "INFO:tensorflow:Finished evaluation at 2020-03-30-12:01:11\n",
      "INFO:tensorflow:Saving dict for global step 1547: accuracy = 0.593125, average_loss = 1.2791376, global_step = 1547, loss = 1.2791376\n",
      "INFO:tensorflow:Saving 'checkpoint_path' summary for global step 1547: ./tmp2xlec_fr/model.ckpt-1547\n",
      "INFO:tensorflow:Loss for final step: 1.8890021.\n",
      "{'accuracy': 0.593125, 'average_loss': 1.2791376, 'loss': 1.2791376, 'global_step': 1547}\n",
      "Model cache_dir = ./tmpxz0sc9jb\n",
      "INFO:tensorflow:Using default config.\n",
      "INFO:tensorflow:Using config: {'_model_dir': './tmpxz0sc9jb', '_tf_random_seed': None, '_save_summary_steps': 100, '_save_checkpoints_steps': None, '_save_checkpoints_secs': 600, '_session_config': allow_soft_placement: true\n",
      "graph_options {\n",
      "  rewrite_options {\n",
      "    meta_optimizer_iterations: ONE\n",
      "  }\n",
      "}\n",
      ", '_keep_checkpoint_max': 5, '_keep_checkpoint_every_n_hours': 10000, '_log_step_count_steps': 100, '_train_distribute': None, '_device_fn': None, '_protocol': None, '_eval_distribute': None, '_experimental_distribute': None, '_experimental_max_worker_delay_secs': None, '_session_creation_timeout_secs': 7200, '_service': None, '_cluster_spec': ClusterSpec({}), '_task_type': 'worker', '_task_id': 0, '_global_id_in_cluster': 0, '_master': '', '_evaluation_master': '', '_is_chief': True, '_num_ps_replicas': 0, '_num_worker_replicas': 1}\n",
      "INFO:tensorflow:Not using Distribute Coordinator.\n",
      "INFO:tensorflow:Running training and evaluation locally (non-distributed).\n",
      "INFO:tensorflow:Start train and evaluate loop. The evaluate will happen after every checkpoint. Checkpoint frequency is determined based on RunConfig arguments: save_checkpoints_steps None or save_checkpoints_secs 600.\n",
      "INFO:tensorflow:Calling model_fn.\n",
      "INFO:tensorflow:Done calling model_fn.\n",
      "INFO:tensorflow:Create CheckpointSaverHook.\n",
      "INFO:tensorflow:Graph was finalized.\n",
      "INFO:tensorflow:Running local_init_op.\n",
      "INFO:tensorflow:Done running local_init_op.\n",
      "INFO:tensorflow:Saving checkpoints for 0 into ./tmpxz0sc9jb/model.ckpt.\n",
      "INFO:tensorflow:loss = 23.463234, step = 0\n",
      "INFO:tensorflow:global_step/sec: 235.991\n",
      "INFO:tensorflow:loss = 4.603059, step = 100 (0.425 sec)\n",
      "INFO:tensorflow:global_step/sec: 274.653\n",
      "INFO:tensorflow:loss = 3.795756, step = 200 (0.364 sec)\n",
      "INFO:tensorflow:global_step/sec: 241.136\n",
      "INFO:tensorflow:loss = 2.956091, step = 300 (0.414 sec)\n",
      "INFO:tensorflow:global_step/sec: 284.56\n",
      "INFO:tensorflow:loss = 3.0227761, step = 400 (0.351 sec)\n",
      "INFO:tensorflow:global_step/sec: 265.923\n",
      "INFO:tensorflow:loss = 2.8331203, step = 500 (0.376 sec)\n",
      "INFO:tensorflow:global_step/sec: 286.664\n",
      "INFO:tensorflow:loss = 2.7060027, step = 600 (0.349 sec)\n",
      "INFO:tensorflow:global_step/sec: 282.283\n",
      "INFO:tensorflow:loss = 2.51267, step = 700 (0.355 sec)\n",
      "INFO:tensorflow:global_step/sec: 197.962\n",
      "INFO:tensorflow:loss = 2.7111137, step = 800 (0.505 sec)\n",
      "INFO:tensorflow:global_step/sec: 269.921\n",
      "INFO:tensorflow:loss = 2.131632, step = 900 (0.370 sec)\n",
      "INFO:tensorflow:global_step/sec: 254.754\n",
      "INFO:tensorflow:loss = 1.9166702, step = 1000 (0.392 sec)\n",
      "INFO:tensorflow:global_step/sec: 285.543\n",
      "INFO:tensorflow:loss = 2.7479224, step = 1100 (0.350 sec)\n",
      "INFO:tensorflow:global_step/sec: 268.956\n",
      "INFO:tensorflow:loss = 2.5253434, step = 1200 (0.372 sec)\n",
      "INFO:tensorflow:global_step/sec: 307.942\n",
      "INFO:tensorflow:loss = 1.6991179, step = 1300 (0.325 sec)\n",
      "INFO:tensorflow:global_step/sec: 283.954\n",
      "INFO:tensorflow:loss = 1.8527846, step = 1400 (0.352 sec)\n",
      "INFO:tensorflow:global_step/sec: 247.4\n",
      "INFO:tensorflow:loss = 1.7739215, step = 1500 (0.404 sec)\n",
      "INFO:tensorflow:global_step/sec: 242.375\n",
      "INFO:tensorflow:loss = 1.9425538, step = 1600 (0.413 sec)\n",
      "INFO:tensorflow:global_step/sec: 280.224\n",
      "INFO:tensorflow:loss = 1.9947948, step = 1700 (0.356 sec)\n",
      "INFO:tensorflow:global_step/sec: 230.111\n",
      "INFO:tensorflow:loss = 2.0397146, step = 1800 (0.436 sec)\n",
      "INFO:tensorflow:Saving checkpoints for 1875 into ./tmpxz0sc9jb/model.ckpt.\n",
      "INFO:tensorflow:Calling model_fn.\n",
      "INFO:tensorflow:Done calling model_fn.\n",
      "INFO:tensorflow:Starting evaluation at 2020-03-30T12:01:20Z\n",
      "INFO:tensorflow:Graph was finalized.\n",
      "INFO:tensorflow:Restoring parameters from ./tmpxz0sc9jb/model.ckpt-1875\n",
      "INFO:tensorflow:Running local_init_op.\n",
      "INFO:tensorflow:Done running local_init_op.\n",
      "INFO:tensorflow:Evaluation [10/100]\n",
      "INFO:tensorflow:Evaluation [20/100]\n",
      "INFO:tensorflow:Evaluation [30/100]\n",
      "INFO:tensorflow:Evaluation [40/100]\n",
      "INFO:tensorflow:Evaluation [50/100]\n",
      "INFO:tensorflow:Evaluation [60/100]\n",
      "INFO:tensorflow:Evaluation [70/100]\n",
      "INFO:tensorflow:Evaluation [80/100]\n",
      "INFO:tensorflow:Evaluation [90/100]\n",
      "INFO:tensorflow:Evaluation [100/100]\n",
      "INFO:tensorflow:Inference Time : 0.87053s\n",
      "INFO:tensorflow:Finished evaluation at 2020-03-30-12:01:21\n",
      "INFO:tensorflow:Saving dict for global step 1875: accuracy = 0.5353125, average_loss = 1.4037322, global_step = 1875, loss = 1.4037322\n",
      "INFO:tensorflow:Saving 'checkpoint_path' summary for global step 1875: ./tmpxz0sc9jb/model.ckpt-1875\n",
      "INFO:tensorflow:Loss for final step: 1.6442742.\n",
      "{'accuracy': 0.5353125, 'average_loss': 1.4037322, 'loss': 1.4037322, 'global_step': 1875}\n",
      "Model cache_dir = ./tmpipt6hii7\n",
      "INFO:tensorflow:Using default config.\n",
      "INFO:tensorflow:Using config: {'_model_dir': './tmpipt6hii7', '_tf_random_seed': None, '_save_summary_steps': 100, '_save_checkpoints_steps': None, '_save_checkpoints_secs': 600, '_session_config': allow_soft_placement: true\n",
      "graph_options {\n",
      "  rewrite_options {\n",
      "    meta_optimizer_iterations: ONE\n",
      "  }\n",
      "}\n",
      ", '_keep_checkpoint_max': 5, '_keep_checkpoint_every_n_hours': 10000, '_log_step_count_steps': 100, '_train_distribute': None, '_device_fn': None, '_protocol': None, '_eval_distribute': None, '_experimental_distribute': None, '_experimental_max_worker_delay_secs': None, '_session_creation_timeout_secs': 7200, '_service': None, '_cluster_spec': ClusterSpec({}), '_task_type': 'worker', '_task_id': 0, '_global_id_in_cluster': 0, '_master': '', '_evaluation_master': '', '_is_chief': True, '_num_ps_replicas': 0, '_num_worker_replicas': 1}\n",
      "INFO:tensorflow:Not using Distribute Coordinator.\n",
      "INFO:tensorflow:Running training and evaluation locally (non-distributed).\n",
      "INFO:tensorflow:Start train and evaluate loop. The evaluate will happen after every checkpoint. Checkpoint frequency is determined based on RunConfig arguments: save_checkpoints_steps None or save_checkpoints_secs 600.\n",
      "INFO:tensorflow:Calling model_fn.\n",
      "WARNING:tensorflow:Large dropout rate: 0.737423 (>0.5). In TensorFlow 2.x, dropout() uses dropout rate instead of keep_prob. Please ensure that this is intended.\n",
      "WARNING:tensorflow:Large dropout rate: 0.737423 (>0.5). In TensorFlow 2.x, dropout() uses dropout rate instead of keep_prob. Please ensure that this is intended.\n",
      "INFO:tensorflow:Done calling model_fn.\n",
      "INFO:tensorflow:Create CheckpointSaverHook.\n",
      "INFO:tensorflow:Graph was finalized.\n",
      "INFO:tensorflow:Running local_init_op.\n",
      "INFO:tensorflow:Done running local_init_op.\n",
      "INFO:tensorflow:Saving checkpoints for 0 into ./tmpipt6hii7/model.ckpt.\n",
      "INFO:tensorflow:loss = 519.2555, step = 0\n",
      "INFO:tensorflow:global_step/sec: 229.897\n",
      "INFO:tensorflow:loss = 82.206924, step = 100 (0.436 sec)\n",
      "INFO:tensorflow:global_step/sec: 291.345\n",
      "INFO:tensorflow:loss = 50.5185, step = 200 (0.343 sec)\n",
      "INFO:tensorflow:global_step/sec: 218.279\n",
      "INFO:tensorflow:loss = 52.24421, step = 300 (0.459 sec)\n",
      "INFO:tensorflow:global_step/sec: 285.193\n",
      "INFO:tensorflow:loss = 11.392714, step = 400 (0.349 sec)\n",
      "INFO:tensorflow:global_step/sec: 269.239\n",
      "INFO:tensorflow:loss = 13.636927, step = 500 (0.372 sec)\n",
      "INFO:tensorflow:global_step/sec: 319.296\n",
      "INFO:tensorflow:loss = 11.355404, step = 600 (0.313 sec)\n",
      "INFO:tensorflow:global_step/sec: 281.903\n",
      "INFO:tensorflow:loss = 11.756891, step = 700 (0.356 sec)\n",
      "INFO:tensorflow:global_step/sec: 236.005\n",
      "INFO:tensorflow:loss = 5.3063025, step = 800 (0.423 sec)\n",
      "INFO:tensorflow:global_step/sec: 249.215\n",
      "INFO:tensorflow:loss = 6.575449, step = 900 (0.401 sec)\n",
      "INFO:tensorflow:global_step/sec: 244.324\n",
      "INFO:tensorflow:loss = 17.066963, step = 1000 (0.410 sec)\n",
      "INFO:tensorflow:global_step/sec: 301.325\n",
      "INFO:tensorflow:loss = 2.2888536, step = 1100 (0.331 sec)\n",
      "INFO:tensorflow:global_step/sec: 271.897\n",
      "INFO:tensorflow:loss = 8.300402, step = 1200 (0.369 sec)\n",
      "INFO:tensorflow:global_step/sec: 275.066\n",
      "INFO:tensorflow:loss = 10.5409775, step = 1300 (0.363 sec)\n",
      "INFO:tensorflow:global_step/sec: 250.848\n",
      "INFO:tensorflow:loss = 9.351608, step = 1400 (0.398 sec)\n",
      "INFO:tensorflow:global_step/sec: 262.26\n",
      "INFO:tensorflow:loss = 2.228422, step = 1500 (0.381 sec)\n",
      "INFO:tensorflow:global_step/sec: 248.952\n",
      "INFO:tensorflow:loss = 2.8925762, step = 1600 (0.403 sec)\n",
      "INFO:tensorflow:global_step/sec: 232.121\n",
      "INFO:tensorflow:loss = 7.6632886, step = 1700 (0.429 sec)\n",
      "INFO:tensorflow:global_step/sec: 246.716\n",
      "INFO:tensorflow:loss = 4.896456, step = 1800 (0.407 sec)\n",
      "INFO:tensorflow:Saving checkpoints for 1875 into ./tmpipt6hii7/model.ckpt.\n",
      "INFO:tensorflow:Calling model_fn.\n",
      "INFO:tensorflow:Done calling model_fn.\n",
      "INFO:tensorflow:Starting evaluation at 2020-03-30T12:01:31Z\n",
      "INFO:tensorflow:Graph was finalized.\n",
      "INFO:tensorflow:Restoring parameters from ./tmpipt6hii7/model.ckpt-1875\n",
      "INFO:tensorflow:Running local_init_op.\n",
      "INFO:tensorflow:Done running local_init_op.\n",
      "INFO:tensorflow:Evaluation [10/100]\n",
      "INFO:tensorflow:Evaluation [20/100]\n",
      "INFO:tensorflow:Evaluation [30/100]\n",
      "INFO:tensorflow:Evaluation [40/100]\n",
      "INFO:tensorflow:Evaluation [50/100]\n",
      "INFO:tensorflow:Evaluation [60/100]\n",
      "INFO:tensorflow:Evaluation [70/100]\n",
      "INFO:tensorflow:Evaluation [80/100]\n",
      "INFO:tensorflow:Evaluation [90/100]\n",
      "INFO:tensorflow:Evaluation [100/100]\n",
      "INFO:tensorflow:Inference Time : 0.82346s\n",
      "INFO:tensorflow:Finished evaluation at 2020-03-30-12:01:31\n",
      "INFO:tensorflow:Saving dict for global step 1875: accuracy = 0.1171875, average_loss = 2.3505387, global_step = 1875, loss = 2.3505387\n",
      "INFO:tensorflow:Saving 'checkpoint_path' summary for global step 1875: ./tmpipt6hii7/model.ckpt-1875\n",
      "INFO:tensorflow:Loss for final step: 3.1257865.\n",
      "{'accuracy': 0.1171875, 'average_loss': 2.3505387, 'loss': 2.3505387, 'global_step': 1875}\n",
      "Model cache_dir = ./tmp1kg9rwcz\n",
      "INFO:tensorflow:Using default config.\n",
      "INFO:tensorflow:Using config: {'_model_dir': './tmp1kg9rwcz', '_tf_random_seed': None, '_save_summary_steps': 100, '_save_checkpoints_steps': None, '_save_checkpoints_secs': 600, '_session_config': allow_soft_placement: true\n",
      "graph_options {\n",
      "  rewrite_options {\n",
      "    meta_optimizer_iterations: ONE\n",
      "  }\n",
      "}\n",
      ", '_keep_checkpoint_max': 5, '_keep_checkpoint_every_n_hours': 10000, '_log_step_count_steps': 100, '_train_distribute': None, '_device_fn': None, '_protocol': None, '_eval_distribute': None, '_experimental_distribute': None, '_experimental_max_worker_delay_secs': None, '_session_creation_timeout_secs': 7200, '_service': None, '_cluster_spec': ClusterSpec({}), '_task_type': 'worker', '_task_id': 0, '_global_id_in_cluster': 0, '_master': '', '_evaluation_master': '', '_is_chief': True, '_num_ps_replicas': 0, '_num_worker_replicas': 1}\n",
      "INFO:tensorflow:Not using Distribute Coordinator.\n",
      "INFO:tensorflow:Running training and evaluation locally (non-distributed).\n",
      "INFO:tensorflow:Start train and evaluate loop. The evaluate will happen after every checkpoint. Checkpoint frequency is determined based on RunConfig arguments: save_checkpoints_steps None or save_checkpoints_secs 600.\n",
      "INFO:tensorflow:Calling model_fn.\n",
      "INFO:tensorflow:Done calling model_fn.\n",
      "INFO:tensorflow:Create CheckpointSaverHook.\n",
      "INFO:tensorflow:Graph was finalized.\n",
      "INFO:tensorflow:Running local_init_op.\n",
      "INFO:tensorflow:Done running local_init_op.\n",
      "INFO:tensorflow:Saving checkpoints for 0 into ./tmp1kg9rwcz/model.ckpt.\n",
      "INFO:tensorflow:loss = 18.379208, step = 0\n",
      "INFO:tensorflow:global_step/sec: 178.209\n",
      "INFO:tensorflow:loss = 2.1257417, step = 100 (0.562 sec)\n",
      "INFO:tensorflow:global_step/sec: 204.042\n",
      "INFO:tensorflow:loss = 1.4315197, step = 200 (0.494 sec)\n",
      "INFO:tensorflow:global_step/sec: 186.838\n",
      "INFO:tensorflow:loss = 1.592869, step = 300 (0.531 sec)\n",
      "INFO:tensorflow:global_step/sec: 209.744\n",
      "INFO:tensorflow:loss = 1.2720683, step = 400 (0.477 sec)\n",
      "INFO:tensorflow:global_step/sec: 190.179\n",
      "INFO:tensorflow:loss = 0.96625996, step = 500 (0.526 sec)\n",
      "INFO:tensorflow:global_step/sec: 263.524\n",
      "INFO:tensorflow:loss = 0.84104514, step = 600 (0.380 sec)\n",
      "INFO:tensorflow:global_step/sec: 242.574\n",
      "INFO:tensorflow:loss = 1.5456533, step = 700 (0.412 sec)\n",
      "INFO:tensorflow:global_step/sec: 255.683\n",
      "INFO:tensorflow:loss = 0.58329415, step = 800 (0.391 sec)\n",
      "INFO:tensorflow:global_step/sec: 241.724\n",
      "INFO:tensorflow:loss = 1.4148977, step = 900 (0.413 sec)\n",
      "INFO:tensorflow:global_step/sec: 225.67\n",
      "INFO:tensorflow:loss = 0.70151365, step = 1000 (0.443 sec)\n",
      "INFO:tensorflow:global_step/sec: 243.128\n",
      "INFO:tensorflow:loss = 0.72284716, step = 1100 (0.411 sec)\n",
      "INFO:tensorflow:global_step/sec: 263.261\n",
      "INFO:tensorflow:loss = 0.7531429, step = 1200 (0.381 sec)\n",
      "INFO:tensorflow:global_step/sec: 253.756\n",
      "INFO:tensorflow:loss = 1.0436109, step = 1300 (0.393 sec)\n",
      "INFO:tensorflow:global_step/sec: 250.514\n",
      "INFO:tensorflow:loss = 0.8984473, step = 1400 (0.400 sec)\n",
      "INFO:tensorflow:global_step/sec: 263.28\n",
      "INFO:tensorflow:loss = 0.9714453, step = 1500 (0.379 sec)\n",
      "INFO:tensorflow:global_step/sec: 258.095\n",
      "INFO:tensorflow:loss = 1.0789354, step = 1600 (0.387 sec)\n",
      "INFO:tensorflow:global_step/sec: 268.428\n",
      "INFO:tensorflow:loss = 0.6728512, step = 1700 (0.373 sec)\n",
      "INFO:tensorflow:global_step/sec: 271.581\n",
      "INFO:tensorflow:loss = 0.31757048, step = 1800 (0.367 sec)\n",
      "INFO:tensorflow:Saving checkpoints for 1875 into ./tmp1kg9rwcz/model.ckpt.\n",
      "INFO:tensorflow:Calling model_fn.\n",
      "INFO:tensorflow:Done calling model_fn.\n",
      "INFO:tensorflow:Starting evaluation at 2020-03-30T12:01:44Z\n",
      "INFO:tensorflow:Graph was finalized.\n",
      "INFO:tensorflow:Restoring parameters from ./tmp1kg9rwcz/model.ckpt-1875\n",
      "INFO:tensorflow:Running local_init_op.\n",
      "INFO:tensorflow:Done running local_init_op.\n",
      "INFO:tensorflow:Evaluation [10/100]\n",
      "INFO:tensorflow:Evaluation [20/100]\n",
      "INFO:tensorflow:Evaluation [30/100]\n",
      "INFO:tensorflow:Evaluation [40/100]\n",
      "INFO:tensorflow:Evaluation [50/100]\n",
      "INFO:tensorflow:Evaluation [60/100]\n",
      "INFO:tensorflow:Evaluation [70/100]\n",
      "INFO:tensorflow:Evaluation [80/100]\n",
      "INFO:tensorflow:Evaluation [90/100]\n",
      "INFO:tensorflow:Evaluation [100/100]\n",
      "INFO:tensorflow:Inference Time : 0.77595s\n",
      "INFO:tensorflow:Finished evaluation at 2020-03-30-12:01:44\n",
      "INFO:tensorflow:Saving dict for global step 1875: accuracy = 0.794375, average_loss = 0.661986, global_step = 1875, loss = 0.661986\n",
      "INFO:tensorflow:Saving 'checkpoint_path' summary for global step 1875: ./tmp1kg9rwcz/model.ckpt-1875\n",
      "INFO:tensorflow:Loss for final step: 0.9018807.\n",
      "{'accuracy': 0.794375, 'average_loss': 0.661986, 'loss': 0.661986, 'global_step': 1875}\n",
      "Model cache_dir = ./tmpfygq8hg4\n",
      "INFO:tensorflow:Using default config.\n",
      "INFO:tensorflow:Using config: {'_model_dir': './tmpfygq8hg4', '_tf_random_seed': None, '_save_summary_steps': 100, '_save_checkpoints_steps': None, '_save_checkpoints_secs': 600, '_session_config': allow_soft_placement: true\n",
      "graph_options {\n",
      "  rewrite_options {\n",
      "    meta_optimizer_iterations: ONE\n",
      "  }\n",
      "}\n",
      ", '_keep_checkpoint_max': 5, '_keep_checkpoint_every_n_hours': 10000, '_log_step_count_steps': 100, '_train_distribute': None, '_device_fn': None, '_protocol': None, '_eval_distribute': None, '_experimental_distribute': None, '_experimental_max_worker_delay_secs': None, '_session_creation_timeout_secs': 7200, '_service': None, '_cluster_spec': ClusterSpec({}), '_task_type': 'worker', '_task_id': 0, '_global_id_in_cluster': 0, '_master': '', '_evaluation_master': '', '_is_chief': True, '_num_ps_replicas': 0, '_num_worker_replicas': 1}\n",
      "INFO:tensorflow:Not using Distribute Coordinator.\n",
      "INFO:tensorflow:Running training and evaluation locally (non-distributed).\n",
      "INFO:tensorflow:Start train and evaluate loop. The evaluate will happen after every checkpoint. Checkpoint frequency is determined based on RunConfig arguments: save_checkpoints_steps None or save_checkpoints_secs 600.\n",
      "INFO:tensorflow:Calling model_fn.\n"
     ]
    },
    {
     "name": "stderr",
     "output_type": "stream",
     "text": [
      "/home/scribs/code_not_git/tf_estimators/venv/lib/python3.7/site-packages/skopt/optimizer/optimizer.py:409: UserWarning: The objective has been evaluated at this point before.\n",
      "  warnings.warn(\"The objective has been evaluated \"\n"
     ]
    },
    {
     "name": "stdout",
     "output_type": "stream",
     "text": [
      "INFO:tensorflow:Done calling model_fn.\n",
      "INFO:tensorflow:Create CheckpointSaverHook.\n",
      "INFO:tensorflow:Graph was finalized.\n",
      "INFO:tensorflow:Running local_init_op.\n",
      "INFO:tensorflow:Done running local_init_op.\n",
      "INFO:tensorflow:Saving checkpoints for 0 into ./tmpfygq8hg4/model.ckpt.\n",
      "INFO:tensorflow:loss = 39.453556, step = 0\n",
      "INFO:tensorflow:global_step/sec: 211.707\n",
      "INFO:tensorflow:loss = 2.4416363, step = 100 (0.474 sec)\n",
      "INFO:tensorflow:global_step/sec: 209.196\n",
      "INFO:tensorflow:loss = 1.8010094, step = 200 (0.477 sec)\n",
      "INFO:tensorflow:global_step/sec: 255.089\n",
      "INFO:tensorflow:loss = 1.4801841, step = 300 (0.392 sec)\n",
      "INFO:tensorflow:global_step/sec: 257.928\n",
      "INFO:tensorflow:loss = 2.108869, step = 400 (0.388 sec)\n",
      "INFO:tensorflow:global_step/sec: 259.799\n",
      "INFO:tensorflow:loss = 1.6221915, step = 500 (0.384 sec)\n",
      "INFO:tensorflow:global_step/sec: 214.953\n",
      "INFO:tensorflow:loss = 1.1097294, step = 600 (0.465 sec)\n",
      "INFO:tensorflow:global_step/sec: 223.587\n",
      "INFO:tensorflow:loss = 1.0136199, step = 700 (0.447 sec)\n",
      "INFO:tensorflow:global_step/sec: 275.03\n",
      "INFO:tensorflow:loss = 0.85027206, step = 800 (0.363 sec)\n",
      "INFO:tensorflow:global_step/sec: 236.438\n",
      "INFO:tensorflow:loss = 0.8038257, step = 900 (0.423 sec)\n",
      "INFO:tensorflow:global_step/sec: 253\n",
      "INFO:tensorflow:loss = 0.72102547, step = 1000 (0.395 sec)\n",
      "INFO:tensorflow:global_step/sec: 233.615\n",
      "INFO:tensorflow:loss = 1.0812409, step = 1100 (0.428 sec)\n",
      "INFO:tensorflow:global_step/sec: 265.419\n",
      "INFO:tensorflow:loss = 0.4631881, step = 1200 (0.378 sec)\n",
      "INFO:tensorflow:global_step/sec: 269.63\n",
      "INFO:tensorflow:loss = 0.859433, step = 1300 (0.371 sec)\n",
      "INFO:tensorflow:global_step/sec: 262.112\n",
      "INFO:tensorflow:loss = 0.51254714, step = 1400 (0.381 sec)\n",
      "INFO:tensorflow:global_step/sec: 262.417\n",
      "INFO:tensorflow:loss = 0.59159684, step = 1500 (0.381 sec)\n",
      "INFO:tensorflow:global_step/sec: 226.632\n",
      "INFO:tensorflow:loss = 0.46461636, step = 1600 (0.441 sec)\n",
      "INFO:tensorflow:global_step/sec: 262.831\n",
      "INFO:tensorflow:loss = 0.5211868, step = 1700 (0.380 sec)\n",
      "INFO:tensorflow:global_step/sec: 242.433\n",
      "INFO:tensorflow:loss = 0.8431202, step = 1800 (0.413 sec)\n",
      "INFO:tensorflow:Saving checkpoints for 1875 into ./tmpfygq8hg4/model.ckpt.\n",
      "INFO:tensorflow:Calling model_fn.\n",
      "INFO:tensorflow:Done calling model_fn.\n",
      "INFO:tensorflow:Starting evaluation at 2020-03-30T12:01:55Z\n",
      "INFO:tensorflow:Graph was finalized.\n",
      "INFO:tensorflow:Restoring parameters from ./tmpfygq8hg4/model.ckpt-1875\n",
      "INFO:tensorflow:Running local_init_op.\n",
      "INFO:tensorflow:Done running local_init_op.\n",
      "INFO:tensorflow:Evaluation [10/100]\n",
      "INFO:tensorflow:Evaluation [20/100]\n",
      "INFO:tensorflow:Evaluation [30/100]\n",
      "INFO:tensorflow:Evaluation [40/100]\n",
      "INFO:tensorflow:Evaluation [50/100]\n",
      "INFO:tensorflow:Evaluation [60/100]\n",
      "INFO:tensorflow:Evaluation [70/100]\n",
      "INFO:tensorflow:Evaluation [80/100]\n",
      "INFO:tensorflow:Evaluation [90/100]\n",
      "INFO:tensorflow:Evaluation [100/100]\n",
      "INFO:tensorflow:Inference Time : 0.80259s\n",
      "INFO:tensorflow:Finished evaluation at 2020-03-30-12:01:56\n",
      "INFO:tensorflow:Saving dict for global step 1875: accuracy = 0.773125, average_loss = 0.70557237, global_step = 1875, loss = 0.70557237\n",
      "INFO:tensorflow:Saving 'checkpoint_path' summary for global step 1875: ./tmpfygq8hg4/model.ckpt-1875\n",
      "INFO:tensorflow:Loss for final step: 0.3698619.\n",
      "{'accuracy': 0.773125, 'average_loss': 0.70557237, 'loss': 0.70557237, 'global_step': 1875}\n",
      "Model cache_dir = ./tmpjwjdy1zh\n",
      "INFO:tensorflow:Using default config.\n",
      "INFO:tensorflow:Using config: {'_model_dir': './tmpjwjdy1zh', '_tf_random_seed': None, '_save_summary_steps': 100, '_save_checkpoints_steps': None, '_save_checkpoints_secs': 600, '_session_config': allow_soft_placement: true\n",
      "graph_options {\n",
      "  rewrite_options {\n",
      "    meta_optimizer_iterations: ONE\n",
      "  }\n",
      "}\n",
      ", '_keep_checkpoint_max': 5, '_keep_checkpoint_every_n_hours': 10000, '_log_step_count_steps': 100, '_train_distribute': None, '_device_fn': None, '_protocol': None, '_eval_distribute': None, '_experimental_distribute': None, '_experimental_max_worker_delay_secs': None, '_session_creation_timeout_secs': 7200, '_service': None, '_cluster_spec': ClusterSpec({}), '_task_type': 'worker', '_task_id': 0, '_global_id_in_cluster': 0, '_master': '', '_evaluation_master': '', '_is_chief': True, '_num_ps_replicas': 0, '_num_worker_replicas': 1}\n",
      "INFO:tensorflow:Not using Distribute Coordinator.\n",
      "INFO:tensorflow:Running training and evaluation locally (non-distributed).\n",
      "INFO:tensorflow:Start train and evaluate loop. The evaluate will happen after every checkpoint. Checkpoint frequency is determined based on RunConfig arguments: save_checkpoints_steps None or save_checkpoints_secs 600.\n",
      "INFO:tensorflow:Calling model_fn.\n"
     ]
    },
    {
     "name": "stderr",
     "output_type": "stream",
     "text": [
      "/home/scribs/code_not_git/tf_estimators/venv/lib/python3.7/site-packages/skopt/optimizer/optimizer.py:409: UserWarning: The objective has been evaluated at this point before.\n",
      "  warnings.warn(\"The objective has been evaluated \"\n"
     ]
    },
    {
     "name": "stdout",
     "output_type": "stream",
     "text": [
      "INFO:tensorflow:Done calling model_fn.\n",
      "INFO:tensorflow:Create CheckpointSaverHook.\n",
      "INFO:tensorflow:Graph was finalized.\n",
      "INFO:tensorflow:Running local_init_op.\n",
      "INFO:tensorflow:Done running local_init_op.\n",
      "INFO:tensorflow:Saving checkpoints for 0 into ./tmpjwjdy1zh/model.ckpt.\n",
      "INFO:tensorflow:loss = 20.94984, step = 0\n",
      "INFO:tensorflow:global_step/sec: 191.065\n",
      "INFO:tensorflow:loss = 1.3956785, step = 100 (0.524 sec)\n",
      "INFO:tensorflow:global_step/sec: 203.017\n",
      "INFO:tensorflow:loss = 1.8444921, step = 200 (0.506 sec)\n",
      "INFO:tensorflow:global_step/sec: 225.158\n",
      "INFO:tensorflow:loss = 0.8566415, step = 300 (0.431 sec)\n",
      "INFO:tensorflow:global_step/sec: 241.655\n",
      "INFO:tensorflow:loss = 1.3246853, step = 400 (0.413 sec)\n",
      "INFO:tensorflow:global_step/sec: 261.495\n",
      "INFO:tensorflow:loss = 0.8830876, step = 500 (0.384 sec)\n",
      "INFO:tensorflow:global_step/sec: 246.142\n",
      "INFO:tensorflow:loss = 0.86846143, step = 600 (0.407 sec)\n",
      "INFO:tensorflow:global_step/sec: 276.837\n",
      "INFO:tensorflow:loss = 0.39376685, step = 700 (0.364 sec)\n",
      "INFO:tensorflow:global_step/sec: 281.234\n",
      "INFO:tensorflow:loss = 1.0620381, step = 800 (0.351 sec)\n",
      "INFO:tensorflow:global_step/sec: 318.111\n",
      "INFO:tensorflow:loss = 1.2930515, step = 900 (0.314 sec)\n",
      "INFO:tensorflow:global_step/sec: 301.536\n",
      "INFO:tensorflow:loss = 0.78516257, step = 1000 (0.333 sec)\n",
      "INFO:tensorflow:global_step/sec: 308.035\n",
      "INFO:tensorflow:loss = 0.76889974, step = 1100 (0.323 sec)\n",
      "INFO:tensorflow:global_step/sec: 255.918\n",
      "INFO:tensorflow:loss = 0.71323925, step = 1200 (0.391 sec)\n",
      "INFO:tensorflow:global_step/sec: 270.364\n",
      "INFO:tensorflow:loss = 0.55263233, step = 1300 (0.370 sec)\n",
      "INFO:tensorflow:global_step/sec: 298.169\n",
      "INFO:tensorflow:loss = 0.5740062, step = 1400 (0.335 sec)\n",
      "INFO:tensorflow:global_step/sec: 301.077\n",
      "INFO:tensorflow:loss = 0.66266656, step = 1500 (0.332 sec)\n",
      "INFO:tensorflow:global_step/sec: 289.689\n",
      "INFO:tensorflow:loss = 0.7238989, step = 1600 (0.345 sec)\n",
      "INFO:tensorflow:global_step/sec: 283.366\n",
      "INFO:tensorflow:loss = 0.61018974, step = 1700 (0.353 sec)\n",
      "INFO:tensorflow:global_step/sec: 279.902\n",
      "INFO:tensorflow:loss = 0.5442244, step = 1800 (0.359 sec)\n",
      "INFO:tensorflow:Saving checkpoints for 1875 into ./tmpjwjdy1zh/model.ckpt.\n",
      "INFO:tensorflow:Calling model_fn.\n",
      "INFO:tensorflow:Done calling model_fn.\n",
      "INFO:tensorflow:Starting evaluation at 2020-03-30T12:02:05Z\n",
      "INFO:tensorflow:Graph was finalized.\n",
      "INFO:tensorflow:Restoring parameters from ./tmpjwjdy1zh/model.ckpt-1875\n",
      "INFO:tensorflow:Running local_init_op.\n",
      "INFO:tensorflow:Done running local_init_op.\n",
      "INFO:tensorflow:Evaluation [10/100]\n",
      "INFO:tensorflow:Evaluation [20/100]\n",
      "INFO:tensorflow:Evaluation [30/100]\n",
      "INFO:tensorflow:Evaluation [40/100]\n",
      "INFO:tensorflow:Evaluation [50/100]\n",
      "INFO:tensorflow:Evaluation [60/100]\n",
      "INFO:tensorflow:Evaluation [70/100]\n",
      "INFO:tensorflow:Evaluation [80/100]\n",
      "INFO:tensorflow:Evaluation [90/100]\n",
      "INFO:tensorflow:Evaluation [100/100]\n",
      "INFO:tensorflow:Inference Time : 0.81837s\n",
      "INFO:tensorflow:Finished evaluation at 2020-03-30-12:02:06\n",
      "INFO:tensorflow:Saving dict for global step 1875: accuracy = 0.80375, average_loss = 0.6229948, global_step = 1875, loss = 0.6229948\n",
      "INFO:tensorflow:Saving 'checkpoint_path' summary for global step 1875: ./tmpjwjdy1zh/model.ckpt-1875\n",
      "INFO:tensorflow:Loss for final step: 0.5169777.\n",
      "{'accuracy': 0.80375, 'average_loss': 0.6229948, 'loss': 0.6229948, 'global_step': 1875}\n",
      "Model cache_dir = ./tmp7lkcwtjq\n",
      "INFO:tensorflow:Using default config.\n",
      "INFO:tensorflow:Using config: {'_model_dir': './tmp7lkcwtjq', '_tf_random_seed': None, '_save_summary_steps': 100, '_save_checkpoints_steps': None, '_save_checkpoints_secs': 600, '_session_config': allow_soft_placement: true\n",
      "graph_options {\n",
      "  rewrite_options {\n",
      "    meta_optimizer_iterations: ONE\n",
      "  }\n",
      "}\n",
      ", '_keep_checkpoint_max': 5, '_keep_checkpoint_every_n_hours': 10000, '_log_step_count_steps': 100, '_train_distribute': None, '_device_fn': None, '_protocol': None, '_eval_distribute': None, '_experimental_distribute': None, '_experimental_max_worker_delay_secs': None, '_session_creation_timeout_secs': 7200, '_service': None, '_cluster_spec': ClusterSpec({}), '_task_type': 'worker', '_task_id': 0, '_global_id_in_cluster': 0, '_master': '', '_evaluation_master': '', '_is_chief': True, '_num_ps_replicas': 0, '_num_worker_replicas': 1}\n",
      "INFO:tensorflow:Not using Distribute Coordinator.\n",
      "INFO:tensorflow:Running training and evaluation locally (non-distributed).\n",
      "INFO:tensorflow:Start train and evaluate loop. The evaluate will happen after every checkpoint. Checkpoint frequency is determined based on RunConfig arguments: save_checkpoints_steps None or save_checkpoints_secs 600.\n"
     ]
    },
    {
     "name": "stderr",
     "output_type": "stream",
     "text": [
      "/home/scribs/code_not_git/tf_estimators/venv/lib/python3.7/site-packages/skopt/optimizer/optimizer.py:409: UserWarning: The objective has been evaluated at this point before.\n",
      "  warnings.warn(\"The objective has been evaluated \"\n"
     ]
    },
    {
     "name": "stdout",
     "output_type": "stream",
     "text": [
      "INFO:tensorflow:Calling model_fn.\n",
      "INFO:tensorflow:Done calling model_fn.\n",
      "INFO:tensorflow:Create CheckpointSaverHook.\n",
      "INFO:tensorflow:Graph was finalized.\n",
      "INFO:tensorflow:Running local_init_op.\n",
      "INFO:tensorflow:Done running local_init_op.\n",
      "INFO:tensorflow:Saving checkpoints for 0 into ./tmp7lkcwtjq/model.ckpt.\n",
      "INFO:tensorflow:loss = 18.847282, step = 0\n",
      "INFO:tensorflow:global_step/sec: 246.648\n",
      "INFO:tensorflow:loss = 1.8160307, step = 100 (0.427 sec)\n",
      "INFO:tensorflow:global_step/sec: 271.445\n",
      "INFO:tensorflow:loss = 1.5219955, step = 200 (0.349 sec)\n",
      "INFO:tensorflow:global_step/sec: 286.2\n",
      "INFO:tensorflow:loss = 1.6096737, step = 300 (0.348 sec)\n",
      "INFO:tensorflow:global_step/sec: 279.491\n",
      "INFO:tensorflow:loss = 1.2523599, step = 400 (0.358 sec)\n",
      "INFO:tensorflow:global_step/sec: 274.086\n",
      "INFO:tensorflow:loss = 1.0352066, step = 500 (0.365 sec)\n",
      "INFO:tensorflow:global_step/sec: 244.286\n",
      "INFO:tensorflow:loss = 1.3693244, step = 600 (0.409 sec)\n",
      "INFO:tensorflow:global_step/sec: 229.532\n",
      "INFO:tensorflow:loss = 0.7799328, step = 700 (0.436 sec)\n",
      "INFO:tensorflow:global_step/sec: 254.998\n",
      "INFO:tensorflow:loss = 0.6228814, step = 800 (0.392 sec)\n",
      "INFO:tensorflow:global_step/sec: 247.136\n",
      "INFO:tensorflow:loss = 1.1161001, step = 900 (0.405 sec)\n",
      "INFO:tensorflow:global_step/sec: 309.794\n",
      "INFO:tensorflow:loss = 0.7421187, step = 1000 (0.323 sec)\n",
      "INFO:tensorflow:global_step/sec: 237.74\n",
      "INFO:tensorflow:loss = 0.6905596, step = 1100 (0.421 sec)\n",
      "INFO:tensorflow:global_step/sec: 268.181\n",
      "INFO:tensorflow:loss = 0.90156054, step = 1200 (0.373 sec)\n",
      "INFO:tensorflow:global_step/sec: 284.876\n",
      "INFO:tensorflow:loss = 0.5107157, step = 1300 (0.353 sec)\n",
      "INFO:tensorflow:global_step/sec: 273.654\n",
      "INFO:tensorflow:loss = 0.8668509, step = 1400 (0.367 sec)\n",
      "INFO:tensorflow:global_step/sec: 228.834\n",
      "INFO:tensorflow:loss = 0.8046261, step = 1500 (0.437 sec)\n",
      "INFO:tensorflow:global_step/sec: 242.093\n",
      "INFO:tensorflow:loss = 0.7015039, step = 1600 (0.411 sec)\n",
      "INFO:tensorflow:global_step/sec: 322.779\n",
      "INFO:tensorflow:loss = 0.45641136, step = 1700 (0.309 sec)\n",
      "INFO:tensorflow:global_step/sec: 287.421\n",
      "INFO:tensorflow:loss = 0.3987311, step = 1800 (0.348 sec)\n",
      "INFO:tensorflow:Saving checkpoints for 1875 into ./tmp7lkcwtjq/model.ckpt.\n",
      "INFO:tensorflow:Calling model_fn.\n",
      "INFO:tensorflow:Done calling model_fn.\n",
      "INFO:tensorflow:Starting evaluation at 2020-03-30T12:02:16Z\n",
      "INFO:tensorflow:Graph was finalized.\n",
      "INFO:tensorflow:Restoring parameters from ./tmp7lkcwtjq/model.ckpt-1875\n",
      "INFO:tensorflow:Running local_init_op.\n",
      "INFO:tensorflow:Done running local_init_op.\n",
      "INFO:tensorflow:Evaluation [10/100]\n",
      "INFO:tensorflow:Evaluation [20/100]\n",
      "INFO:tensorflow:Evaluation [30/100]\n",
      "INFO:tensorflow:Evaluation [40/100]\n",
      "INFO:tensorflow:Evaluation [50/100]\n",
      "INFO:tensorflow:Evaluation [60/100]\n",
      "INFO:tensorflow:Evaluation [70/100]\n",
      "INFO:tensorflow:Evaluation [80/100]\n",
      "INFO:tensorflow:Evaluation [90/100]\n",
      "INFO:tensorflow:Evaluation [100/100]\n",
      "INFO:tensorflow:Inference Time : 0.87628s\n",
      "INFO:tensorflow:Finished evaluation at 2020-03-30-12:02:17\n",
      "INFO:tensorflow:Saving dict for global step 1875: accuracy = 0.8046875, average_loss = 0.62709105, global_step = 1875, loss = 0.62709105\n",
      "INFO:tensorflow:Saving 'checkpoint_path' summary for global step 1875: ./tmp7lkcwtjq/model.ckpt-1875\n",
      "INFO:tensorflow:Loss for final step: 0.7362358.\n",
      "{'accuracy': 0.8046875, 'average_loss': 0.62709105, 'loss': 0.62709105, 'global_step': 1875}\n",
      "Model cache_dir = ./tmpfqemi9ze\n",
      "INFO:tensorflow:Using default config.\n",
      "INFO:tensorflow:Using config: {'_model_dir': './tmpfqemi9ze', '_tf_random_seed': None, '_save_summary_steps': 100, '_save_checkpoints_steps': None, '_save_checkpoints_secs': 600, '_session_config': allow_soft_placement: true\n",
      "graph_options {\n",
      "  rewrite_options {\n",
      "    meta_optimizer_iterations: ONE\n",
      "  }\n",
      "}\n",
      ", '_keep_checkpoint_max': 5, '_keep_checkpoint_every_n_hours': 10000, '_log_step_count_steps': 100, '_train_distribute': None, '_device_fn': None, '_protocol': None, '_eval_distribute': None, '_experimental_distribute': None, '_experimental_max_worker_delay_secs': None, '_session_creation_timeout_secs': 7200, '_service': None, '_cluster_spec': ClusterSpec({}), '_task_type': 'worker', '_task_id': 0, '_global_id_in_cluster': 0, '_master': '', '_evaluation_master': '', '_is_chief': True, '_num_ps_replicas': 0, '_num_worker_replicas': 1}\n",
      "INFO:tensorflow:Not using Distribute Coordinator.\n",
      "INFO:tensorflow:Running training and evaluation locally (non-distributed).\n",
      "INFO:tensorflow:Start train and evaluate loop. The evaluate will happen after every checkpoint. Checkpoint frequency is determined based on RunConfig arguments: save_checkpoints_steps None or save_checkpoints_secs 600.\n",
      "INFO:tensorflow:Calling model_fn.\n"
     ]
    },
    {
     "name": "stderr",
     "output_type": "stream",
     "text": [
      "/home/scribs/code_not_git/tf_estimators/venv/lib/python3.7/site-packages/skopt/optimizer/optimizer.py:409: UserWarning: The objective has been evaluated at this point before.\n",
      "  warnings.warn(\"The objective has been evaluated \"\n"
     ]
    },
    {
     "name": "stdout",
     "output_type": "stream",
     "text": [
      "INFO:tensorflow:Done calling model_fn.\n",
      "INFO:tensorflow:Create CheckpointSaverHook.\n",
      "INFO:tensorflow:Graph was finalized.\n",
      "INFO:tensorflow:Running local_init_op.\n",
      "INFO:tensorflow:Done running local_init_op.\n",
      "INFO:tensorflow:Saving checkpoints for 0 into ./tmpfqemi9ze/model.ckpt.\n",
      "INFO:tensorflow:loss = 14.879376, step = 0\n",
      "INFO:tensorflow:global_step/sec: 204.669\n",
      "INFO:tensorflow:loss = 1.8480753, step = 100 (0.493 sec)\n",
      "INFO:tensorflow:global_step/sec: 228.362\n",
      "INFO:tensorflow:loss = 1.5542004, step = 200 (0.435 sec)\n",
      "INFO:tensorflow:global_step/sec: 252.584\n",
      "INFO:tensorflow:loss = 1.1773946, step = 300 (0.396 sec)\n",
      "INFO:tensorflow:global_step/sec: 212.429\n",
      "INFO:tensorflow:loss = 1.7580421, step = 400 (0.472 sec)\n",
      "INFO:tensorflow:global_step/sec: 268.773\n",
      "INFO:tensorflow:loss = 1.3019197, step = 500 (0.370 sec)\n",
      "INFO:tensorflow:global_step/sec: 299.697\n",
      "INFO:tensorflow:loss = 1.1139159, step = 600 (0.335 sec)\n",
      "INFO:tensorflow:global_step/sec: 279.359\n",
      "INFO:tensorflow:loss = 1.5070109, step = 700 (0.358 sec)\n",
      "INFO:tensorflow:global_step/sec: 242.855\n",
      "INFO:tensorflow:loss = 0.43001792, step = 800 (0.410 sec)\n",
      "INFO:tensorflow:global_step/sec: 321.872\n",
      "INFO:tensorflow:loss = 1.3154651, step = 900 (0.311 sec)\n",
      "INFO:tensorflow:global_step/sec: 261.805\n",
      "INFO:tensorflow:loss = 0.8448567, step = 1000 (0.383 sec)\n",
      "INFO:tensorflow:global_step/sec: 250.221\n",
      "INFO:tensorflow:loss = 0.77503854, step = 1100 (0.399 sec)\n",
      "INFO:tensorflow:global_step/sec: 308.64\n",
      "INFO:tensorflow:loss = 0.76312935, step = 1200 (0.324 sec)\n",
      "INFO:tensorflow:global_step/sec: 277.259\n",
      "INFO:tensorflow:loss = 0.8948425, step = 1300 (0.360 sec)\n",
      "INFO:tensorflow:global_step/sec: 249.284\n",
      "INFO:tensorflow:loss = 0.7350261, step = 1400 (0.403 sec)\n",
      "INFO:tensorflow:global_step/sec: 253.452\n",
      "INFO:tensorflow:loss = 0.62789655, step = 1500 (0.394 sec)\n",
      "INFO:tensorflow:global_step/sec: 258.836\n",
      "INFO:tensorflow:loss = 0.5583967, step = 1600 (0.389 sec)\n",
      "INFO:tensorflow:global_step/sec: 261.128\n",
      "INFO:tensorflow:loss = 0.81133354, step = 1700 (0.379 sec)\n",
      "INFO:tensorflow:global_step/sec: 259.187\n",
      "INFO:tensorflow:loss = 0.7815635, step = 1800 (0.387 sec)\n",
      "INFO:tensorflow:Saving checkpoints for 1875 into ./tmpfqemi9ze/model.ckpt.\n",
      "INFO:tensorflow:Calling model_fn.\n",
      "INFO:tensorflow:Done calling model_fn.\n",
      "INFO:tensorflow:Starting evaluation at 2020-03-30T12:02:27Z\n",
      "INFO:tensorflow:Graph was finalized.\n",
      "INFO:tensorflow:Restoring parameters from ./tmpfqemi9ze/model.ckpt-1875\n",
      "INFO:tensorflow:Running local_init_op.\n",
      "INFO:tensorflow:Done running local_init_op.\n",
      "INFO:tensorflow:Evaluation [10/100]\n",
      "INFO:tensorflow:Evaluation [20/100]\n",
      "INFO:tensorflow:Evaluation [30/100]\n",
      "INFO:tensorflow:Evaluation [40/100]\n",
      "INFO:tensorflow:Evaluation [50/100]\n",
      "INFO:tensorflow:Evaluation [60/100]\n",
      "INFO:tensorflow:Evaluation [70/100]\n",
      "INFO:tensorflow:Evaluation [80/100]\n",
      "INFO:tensorflow:Evaluation [90/100]\n",
      "INFO:tensorflow:Evaluation [100/100]\n",
      "INFO:tensorflow:Inference Time : 0.90792s\n",
      "INFO:tensorflow:Finished evaluation at 2020-03-30-12:02:28\n",
      "INFO:tensorflow:Saving dict for global step 1875: accuracy = 0.799375, average_loss = 0.64001375, global_step = 1875, loss = 0.64001375\n",
      "INFO:tensorflow:Saving 'checkpoint_path' summary for global step 1875: ./tmpfqemi9ze/model.ckpt-1875\n",
      "INFO:tensorflow:Loss for final step: 0.7780841.\n",
      "{'accuracy': 0.799375, 'average_loss': 0.64001375, 'loss': 0.64001375, 'global_step': 1875}\n",
      "Model cache_dir = ./tmpebe741ik\n",
      "INFO:tensorflow:Using default config.\n",
      "INFO:tensorflow:Using config: {'_model_dir': './tmpebe741ik', '_tf_random_seed': None, '_save_summary_steps': 100, '_save_checkpoints_steps': None, '_save_checkpoints_secs': 600, '_session_config': allow_soft_placement: true\n",
      "graph_options {\n",
      "  rewrite_options {\n",
      "    meta_optimizer_iterations: ONE\n",
      "  }\n",
      "}\n",
      ", '_keep_checkpoint_max': 5, '_keep_checkpoint_every_n_hours': 10000, '_log_step_count_steps': 100, '_train_distribute': None, '_device_fn': None, '_protocol': None, '_eval_distribute': None, '_experimental_distribute': None, '_experimental_max_worker_delay_secs': None, '_session_creation_timeout_secs': 7200, '_service': None, '_cluster_spec': ClusterSpec({}), '_task_type': 'worker', '_task_id': 0, '_global_id_in_cluster': 0, '_master': '', '_evaluation_master': '', '_is_chief': True, '_num_ps_replicas': 0, '_num_worker_replicas': 1}\n",
      "INFO:tensorflow:Not using Distribute Coordinator.\n",
      "INFO:tensorflow:Running training and evaluation locally (non-distributed).\n",
      "INFO:tensorflow:Start train and evaluate loop. The evaluate will happen after every checkpoint. Checkpoint frequency is determined based on RunConfig arguments: save_checkpoints_steps None or save_checkpoints_secs 600.\n",
      "INFO:tensorflow:Calling model_fn.\n",
      "INFO:tensorflow:Done calling model_fn.\n",
      "INFO:tensorflow:Create CheckpointSaverHook.\n",
      "INFO:tensorflow:Graph was finalized.\n",
      "INFO:tensorflow:Running local_init_op.\n",
      "INFO:tensorflow:Done running local_init_op.\n",
      "INFO:tensorflow:Saving checkpoints for 0 into ./tmpebe741ik/model.ckpt.\n",
      "INFO:tensorflow:loss = 31.88183, step = 0\n",
      "INFO:tensorflow:global_step/sec: 212.343\n",
      "INFO:tensorflow:loss = 4.0963783, step = 100 (0.474 sec)\n",
      "INFO:tensorflow:global_step/sec: 235.476\n",
      "INFO:tensorflow:loss = 2.7802045, step = 200 (0.423 sec)\n",
      "INFO:tensorflow:global_step/sec: 279.317\n",
      "INFO:tensorflow:loss = 3.3142707, step = 300 (0.358 sec)\n",
      "INFO:tensorflow:global_step/sec: 262.076\n",
      "INFO:tensorflow:loss = 2.4426668, step = 400 (0.381 sec)\n",
      "INFO:tensorflow:global_step/sec: 292.138\n",
      "INFO:tensorflow:loss = 2.5516071, step = 500 (0.343 sec)\n",
      "INFO:tensorflow:global_step/sec: 277.251\n",
      "INFO:tensorflow:loss = 2.3353329, step = 600 (0.361 sec)\n",
      "INFO:tensorflow:global_step/sec: 286.105\n",
      "INFO:tensorflow:loss = 2.7243097, step = 700 (0.350 sec)\n",
      "INFO:tensorflow:global_step/sec: 268.449\n",
      "INFO:tensorflow:loss = 2.4804964, step = 800 (0.372 sec)\n",
      "INFO:tensorflow:global_step/sec: 268.687\n",
      "INFO:tensorflow:loss = 2.2277756, step = 900 (0.374 sec)\n",
      "INFO:tensorflow:global_step/sec: 275.328\n",
      "INFO:tensorflow:loss = 2.6167035, step = 1000 (0.362 sec)\n",
      "INFO:tensorflow:global_step/sec: 261.537\n",
      "INFO:tensorflow:loss = 2.254561, step = 1100 (0.383 sec)\n",
      "INFO:tensorflow:global_step/sec: 274.732\n",
      "INFO:tensorflow:loss = 2.451775, step = 1200 (0.364 sec)\n",
      "INFO:tensorflow:global_step/sec: 266.705\n",
      "INFO:tensorflow:loss = 1.8540215, step = 1300 (0.375 sec)\n",
      "INFO:tensorflow:global_step/sec: 222.632\n",
      "INFO:tensorflow:loss = 2.5314584, step = 1400 (0.451 sec)\n",
      "INFO:tensorflow:global_step/sec: 284.929\n",
      "INFO:tensorflow:loss = 2.4494877, step = 1500 (0.349 sec)\n",
      "INFO:tensorflow:global_step/sec: 249.435\n",
      "INFO:tensorflow:loss = 1.9646847, step = 1600 (0.401 sec)\n",
      "INFO:tensorflow:global_step/sec: 220.048\n",
      "INFO:tensorflow:loss = 2.2789588, step = 1700 (0.455 sec)\n",
      "INFO:tensorflow:global_step/sec: 227.681\n",
      "INFO:tensorflow:loss = 2.1863139, step = 1800 (0.439 sec)\n",
      "INFO:tensorflow:Saving checkpoints for 1875 into ./tmpebe741ik/model.ckpt.\n",
      "INFO:tensorflow:Calling model_fn.\n",
      "INFO:tensorflow:Done calling model_fn.\n",
      "INFO:tensorflow:Starting evaluation at 2020-03-30T12:02:39Z\n",
      "INFO:tensorflow:Graph was finalized.\n",
      "INFO:tensorflow:Restoring parameters from ./tmpebe741ik/model.ckpt-1875\n",
      "INFO:tensorflow:Running local_init_op.\n",
      "INFO:tensorflow:Done running local_init_op.\n",
      "INFO:tensorflow:Evaluation [10/100]\n",
      "INFO:tensorflow:Evaluation [20/100]\n",
      "INFO:tensorflow:Evaluation [30/100]\n",
      "INFO:tensorflow:Evaluation [40/100]\n",
      "INFO:tensorflow:Evaluation [50/100]\n",
      "INFO:tensorflow:Evaluation [60/100]\n",
      "INFO:tensorflow:Evaluation [70/100]\n",
      "INFO:tensorflow:Evaluation [80/100]\n",
      "INFO:tensorflow:Evaluation [90/100]\n",
      "INFO:tensorflow:Evaluation [100/100]\n",
      "INFO:tensorflow:Inference Time : 0.90155s\n",
      "INFO:tensorflow:Finished evaluation at 2020-03-30-12:02:40\n",
      "INFO:tensorflow:Saving dict for global step 1875: accuracy = 0.3296875, average_loss = 1.8946626, global_step = 1875, loss = 1.8946626\n",
      "INFO:tensorflow:Saving 'checkpoint_path' summary for global step 1875: ./tmpebe741ik/model.ckpt-1875\n",
      "INFO:tensorflow:Loss for final step: 2.2004101.\n",
      "{'accuracy': 0.3296875, 'average_loss': 1.8946626, 'loss': 1.8946626, 'global_step': 1875}\n",
      "Model cache_dir = ./tmpzy5pp8mn\n",
      "INFO:tensorflow:Using default config.\n",
      "INFO:tensorflow:Using config: {'_model_dir': './tmpzy5pp8mn', '_tf_random_seed': None, '_save_summary_steps': 100, '_save_checkpoints_steps': None, '_save_checkpoints_secs': 600, '_session_config': allow_soft_placement: true\n",
      "graph_options {\n",
      "  rewrite_options {\n",
      "    meta_optimizer_iterations: ONE\n",
      "  }\n",
      "}\n",
      ", '_keep_checkpoint_max': 5, '_keep_checkpoint_every_n_hours': 10000, '_log_step_count_steps': 100, '_train_distribute': None, '_device_fn': None, '_protocol': None, '_eval_distribute': None, '_experimental_distribute': None, '_experimental_max_worker_delay_secs': None, '_session_creation_timeout_secs': 7200, '_service': None, '_cluster_spec': ClusterSpec({}), '_task_type': 'worker', '_task_id': 0, '_global_id_in_cluster': 0, '_master': '', '_evaluation_master': '', '_is_chief': True, '_num_ps_replicas': 0, '_num_worker_replicas': 1}\n",
      "INFO:tensorflow:Not using Distribute Coordinator.\n",
      "INFO:tensorflow:Running training and evaluation locally (non-distributed).\n",
      "INFO:tensorflow:Start train and evaluate loop. The evaluate will happen after every checkpoint. Checkpoint frequency is determined based on RunConfig arguments: save_checkpoints_steps None or save_checkpoints_secs 600.\n",
      "INFO:tensorflow:Calling model_fn.\n",
      "INFO:tensorflow:Done calling model_fn.\n",
      "INFO:tensorflow:Create CheckpointSaverHook.\n",
      "INFO:tensorflow:Graph was finalized.\n",
      "INFO:tensorflow:Running local_init_op.\n",
      "INFO:tensorflow:Done running local_init_op.\n",
      "INFO:tensorflow:Saving checkpoints for 0 into ./tmpzy5pp8mn/model.ckpt.\n",
      "INFO:tensorflow:loss = 15.573516, step = 0\n",
      "INFO:tensorflow:global_step/sec: 272.477\n",
      "INFO:tensorflow:loss = 3.763358, step = 100 (0.368 sec)\n",
      "INFO:tensorflow:global_step/sec: 303.031\n",
      "INFO:tensorflow:loss = 2.441266, step = 200 (0.330 sec)\n",
      "INFO:tensorflow:global_step/sec: 314.948\n",
      "INFO:tensorflow:loss = 1.8521644, step = 300 (0.319 sec)\n",
      "INFO:tensorflow:global_step/sec: 304.076\n",
      "INFO:tensorflow:loss = 1.3733008, step = 400 (0.328 sec)\n",
      "INFO:tensorflow:global_step/sec: 308.053\n",
      "INFO:tensorflow:loss = 1.6034955, step = 500 (0.326 sec)\n",
      "INFO:tensorflow:global_step/sec: 298.3\n",
      "INFO:tensorflow:loss = 1.621662, step = 600 (0.335 sec)\n",
      "INFO:tensorflow:global_step/sec: 314.042\n",
      "INFO:tensorflow:loss = 1.1153018, step = 700 (0.317 sec)\n",
      "INFO:tensorflow:global_step/sec: 242.994\n",
      "INFO:tensorflow:loss = 1.5662483, step = 800 (0.411 sec)\n",
      "INFO:tensorflow:global_step/sec: 243.387\n",
      "INFO:tensorflow:loss = 1.4120542, step = 900 (0.411 sec)\n",
      "INFO:tensorflow:global_step/sec: 251.572\n",
      "INFO:tensorflow:loss = 1.0903076, step = 1000 (0.398 sec)\n",
      "INFO:tensorflow:global_step/sec: 237.374\n",
      "INFO:tensorflow:loss = 0.94816434, step = 1100 (0.421 sec)\n",
      "INFO:tensorflow:global_step/sec: 271.036\n",
      "INFO:tensorflow:loss = 0.488756, step = 1200 (0.369 sec)\n",
      "INFO:tensorflow:global_step/sec: 320.279\n",
      "INFO:tensorflow:loss = 0.70089054, step = 1300 (0.312 sec)\n",
      "INFO:tensorflow:global_step/sec: 307.524\n",
      "INFO:tensorflow:loss = 0.95553845, step = 1400 (0.329 sec)\n",
      "INFO:tensorflow:global_step/sec: 272.349\n",
      "INFO:tensorflow:loss = 0.8693755, step = 1500 (0.364 sec)\n",
      "INFO:tensorflow:global_step/sec: 232.325\n",
      "INFO:tensorflow:loss = 0.66562593, step = 1600 (0.430 sec)\n",
      "INFO:tensorflow:global_step/sec: 307.213\n",
      "INFO:tensorflow:loss = 1.0657727, step = 1700 (0.325 sec)\n",
      "INFO:tensorflow:global_step/sec: 268.207\n",
      "INFO:tensorflow:loss = 1.2197909, step = 1800 (0.373 sec)\n",
      "INFO:tensorflow:Saving checkpoints for 1875 into ./tmpzy5pp8mn/model.ckpt.\n",
      "INFO:tensorflow:Calling model_fn.\n",
      "INFO:tensorflow:Done calling model_fn.\n",
      "INFO:tensorflow:Starting evaluation at 2020-03-30T12:02:49Z\n",
      "INFO:tensorflow:Graph was finalized.\n",
      "INFO:tensorflow:Restoring parameters from ./tmpzy5pp8mn/model.ckpt-1875\n",
      "INFO:tensorflow:Running local_init_op.\n",
      "INFO:tensorflow:Done running local_init_op.\n",
      "INFO:tensorflow:Evaluation [10/100]\n",
      "INFO:tensorflow:Evaluation [20/100]\n",
      "INFO:tensorflow:Evaluation [30/100]\n",
      "INFO:tensorflow:Evaluation [40/100]\n",
      "INFO:tensorflow:Evaluation [50/100]\n",
      "INFO:tensorflow:Evaluation [60/100]\n",
      "INFO:tensorflow:Evaluation [70/100]\n",
      "INFO:tensorflow:Evaluation [80/100]\n",
      "INFO:tensorflow:Evaluation [90/100]\n",
      "INFO:tensorflow:Evaluation [100/100]\n",
      "INFO:tensorflow:Inference Time : 0.88585s\n",
      "INFO:tensorflow:Finished evaluation at 2020-03-30-12:02:50\n",
      "INFO:tensorflow:Saving dict for global step 1875: accuracy = 0.758125, average_loss = 0.8290206, global_step = 1875, loss = 0.8290206\n",
      "INFO:tensorflow:Saving 'checkpoint_path' summary for global step 1875: ./tmpzy5pp8mn/model.ckpt-1875\n",
      "INFO:tensorflow:Loss for final step: 0.45897123.\n",
      "{'accuracy': 0.758125, 'average_loss': 0.8290206, 'loss': 0.8290206, 'global_step': 1875}\n",
      "Model cache_dir = ./tmp28yq216i\n",
      "INFO:tensorflow:Using default config.\n",
      "INFO:tensorflow:Using config: {'_model_dir': './tmp28yq216i', '_tf_random_seed': None, '_save_summary_steps': 100, '_save_checkpoints_steps': None, '_save_checkpoints_secs': 600, '_session_config': allow_soft_placement: true\n",
      "graph_options {\n",
      "  rewrite_options {\n",
      "    meta_optimizer_iterations: ONE\n",
      "  }\n",
      "}\n",
      ", '_keep_checkpoint_max': 5, '_keep_checkpoint_every_n_hours': 10000, '_log_step_count_steps': 100, '_train_distribute': None, '_device_fn': None, '_protocol': None, '_eval_distribute': None, '_experimental_distribute': None, '_experimental_max_worker_delay_secs': None, '_session_creation_timeout_secs': 7200, '_service': None, '_cluster_spec': ClusterSpec({}), '_task_type': 'worker', '_task_id': 0, '_global_id_in_cluster': 0, '_master': '', '_evaluation_master': '', '_is_chief': True, '_num_ps_replicas': 0, '_num_worker_replicas': 1}\n",
      "INFO:tensorflow:Not using Distribute Coordinator.\n",
      "INFO:tensorflow:Running training and evaluation locally (non-distributed).\n",
      "INFO:tensorflow:Start train and evaluate loop. The evaluate will happen after every checkpoint. Checkpoint frequency is determined based on RunConfig arguments: save_checkpoints_steps None or save_checkpoints_secs 600.\n",
      "INFO:tensorflow:Calling model_fn.\n"
     ]
    },
    {
     "name": "stderr",
     "output_type": "stream",
     "text": [
      "/home/scribs/code_not_git/tf_estimators/venv/lib/python3.7/site-packages/skopt/optimizer/optimizer.py:409: UserWarning: The objective has been evaluated at this point before.\n",
      "  warnings.warn(\"The objective has been evaluated \"\n"
     ]
    },
    {
     "name": "stdout",
     "output_type": "stream",
     "text": [
      "INFO:tensorflow:Done calling model_fn.\n",
      "INFO:tensorflow:Create CheckpointSaverHook.\n",
      "INFO:tensorflow:Graph was finalized.\n",
      "INFO:tensorflow:Running local_init_op.\n",
      "INFO:tensorflow:Done running local_init_op.\n",
      "INFO:tensorflow:Saving checkpoints for 0 into ./tmp28yq216i/model.ckpt.\n",
      "INFO:tensorflow:loss = 18.331163, step = 0\n",
      "INFO:tensorflow:global_step/sec: 266.173\n",
      "INFO:tensorflow:loss = 1.961539, step = 100 (0.377 sec)\n",
      "INFO:tensorflow:global_step/sec: 305.924\n",
      "INFO:tensorflow:loss = 1.5660365, step = 200 (0.327 sec)\n",
      "INFO:tensorflow:global_step/sec: 304.519\n",
      "INFO:tensorflow:loss = 1.3476403, step = 300 (0.330 sec)\n",
      "INFO:tensorflow:global_step/sec: 286.377\n",
      "INFO:tensorflow:loss = 1.3209773, step = 400 (0.348 sec)\n",
      "INFO:tensorflow:global_step/sec: 296.457\n",
      "INFO:tensorflow:loss = 1.2201915, step = 500 (0.337 sec)\n",
      "INFO:tensorflow:global_step/sec: 288.858\n",
      "INFO:tensorflow:loss = 1.1459045, step = 600 (0.346 sec)\n",
      "INFO:tensorflow:global_step/sec: 326.575\n",
      "INFO:tensorflow:loss = 0.7073257, step = 700 (0.306 sec)\n",
      "INFO:tensorflow:global_step/sec: 299.462\n",
      "INFO:tensorflow:loss = 0.95327663, step = 800 (0.335 sec)\n",
      "INFO:tensorflow:global_step/sec: 279.187\n",
      "INFO:tensorflow:loss = 1.188819, step = 900 (0.357 sec)\n",
      "INFO:tensorflow:global_step/sec: 314.584\n",
      "INFO:tensorflow:loss = 1.3301821, step = 1000 (0.318 sec)\n",
      "INFO:tensorflow:global_step/sec: 290.78\n",
      "INFO:tensorflow:loss = 1.0066913, step = 1100 (0.344 sec)\n",
      "INFO:tensorflow:global_step/sec: 317.107\n",
      "INFO:tensorflow:loss = 0.72905976, step = 1200 (0.315 sec)\n",
      "INFO:tensorflow:global_step/sec: 231.634\n",
      "INFO:tensorflow:loss = 0.7073122, step = 1300 (0.432 sec)\n",
      "INFO:tensorflow:global_step/sec: 198.431\n",
      "INFO:tensorflow:loss = 0.7146801, step = 1400 (0.504 sec)\n",
      "INFO:tensorflow:global_step/sec: 220.201\n",
      "INFO:tensorflow:loss = 1.0872316, step = 1500 (0.468 sec)\n",
      "INFO:tensorflow:global_step/sec: 168.849\n",
      "INFO:tensorflow:loss = 0.49749514, step = 1600 (0.578 sec)\n",
      "INFO:tensorflow:global_step/sec: 214.609\n",
      "INFO:tensorflow:loss = 0.67234194, step = 1700 (0.467 sec)\n",
      "INFO:tensorflow:global_step/sec: 285.777\n",
      "INFO:tensorflow:loss = 0.4136514, step = 1800 (0.348 sec)\n",
      "INFO:tensorflow:Saving checkpoints for 1875 into ./tmp28yq216i/model.ckpt.\n",
      "INFO:tensorflow:Calling model_fn.\n",
      "INFO:tensorflow:Done calling model_fn.\n",
      "INFO:tensorflow:Starting evaluation at 2020-03-30T12:03:00Z\n",
      "INFO:tensorflow:Graph was finalized.\n",
      "INFO:tensorflow:Restoring parameters from ./tmp28yq216i/model.ckpt-1875\n",
      "INFO:tensorflow:Running local_init_op.\n",
      "INFO:tensorflow:Done running local_init_op.\n",
      "INFO:tensorflow:Evaluation [10/100]\n",
      "INFO:tensorflow:Evaluation [20/100]\n",
      "INFO:tensorflow:Evaluation [30/100]\n",
      "INFO:tensorflow:Evaluation [40/100]\n",
      "INFO:tensorflow:Evaluation [50/100]\n",
      "INFO:tensorflow:Evaluation [60/100]\n",
      "INFO:tensorflow:Evaluation [70/100]\n",
      "INFO:tensorflow:Evaluation [80/100]\n",
      "INFO:tensorflow:Evaluation [90/100]\n",
      "INFO:tensorflow:Evaluation [100/100]\n",
      "INFO:tensorflow:Inference Time : 0.94883s\n",
      "INFO:tensorflow:Finished evaluation at 2020-03-30-12:03:01\n",
      "INFO:tensorflow:Saving dict for global step 1875: accuracy = 0.8078125, average_loss = 0.60477686, global_step = 1875, loss = 0.60477686\n",
      "INFO:tensorflow:Saving 'checkpoint_path' summary for global step 1875: ./tmp28yq216i/model.ckpt-1875\n",
      "INFO:tensorflow:Loss for final step: 0.73554564.\n",
      "{'accuracy': 0.8078125, 'average_loss': 0.60477686, 'loss': 0.60477686, 'global_step': 1875}\n",
      "Model cache_dir = ./tmpbouhqxhd\n",
      "INFO:tensorflow:Using default config.\n",
      "INFO:tensorflow:Using config: {'_model_dir': './tmpbouhqxhd', '_tf_random_seed': None, '_save_summary_steps': 100, '_save_checkpoints_steps': None, '_save_checkpoints_secs': 600, '_session_config': allow_soft_placement: true\n",
      "graph_options {\n",
      "  rewrite_options {\n",
      "    meta_optimizer_iterations: ONE\n",
      "  }\n",
      "}\n",
      ", '_keep_checkpoint_max': 5, '_keep_checkpoint_every_n_hours': 10000, '_log_step_count_steps': 100, '_train_distribute': None, '_device_fn': None, '_protocol': None, '_eval_distribute': None, '_experimental_distribute': None, '_experimental_max_worker_delay_secs': None, '_session_creation_timeout_secs': 7200, '_service': None, '_cluster_spec': ClusterSpec({}), '_task_type': 'worker', '_task_id': 0, '_global_id_in_cluster': 0, '_master': '', '_evaluation_master': '', '_is_chief': True, '_num_ps_replicas': 0, '_num_worker_replicas': 1}\n",
      "INFO:tensorflow:Not using Distribute Coordinator.\n",
      "INFO:tensorflow:Running training and evaluation locally (non-distributed).\n",
      "INFO:tensorflow:Start train and evaluate loop. The evaluate will happen after every checkpoint. Checkpoint frequency is determined based on RunConfig arguments: save_checkpoints_steps None or save_checkpoints_secs 600.\n",
      "INFO:tensorflow:Calling model_fn.\n",
      "INFO:tensorflow:Done calling model_fn.\n",
      "INFO:tensorflow:Create CheckpointSaverHook.\n",
      "INFO:tensorflow:Graph was finalized.\n",
      "INFO:tensorflow:Running local_init_op.\n",
      "INFO:tensorflow:Done running local_init_op.\n",
      "INFO:tensorflow:Saving checkpoints for 0 into ./tmpbouhqxhd/model.ckpt.\n",
      "INFO:tensorflow:loss = 11.56781, step = 0\n",
      "INFO:tensorflow:global_step/sec: 240.384\n",
      "INFO:tensorflow:loss = 1.7937402, step = 100 (0.417 sec)\n",
      "INFO:tensorflow:global_step/sec: 302.664\n",
      "INFO:tensorflow:loss = 2.0174782, step = 200 (0.330 sec)\n",
      "INFO:tensorflow:global_step/sec: 257.565\n",
      "INFO:tensorflow:loss = 1.1833302, step = 300 (0.388 sec)\n",
      "INFO:tensorflow:global_step/sec: 248.056\n",
      "INFO:tensorflow:loss = 1.106581, step = 400 (0.417 sec)\n",
      "INFO:tensorflow:global_step/sec: 285.859\n",
      "INFO:tensorflow:loss = 1.0855663, step = 500 (0.336 sec)\n",
      "INFO:tensorflow:global_step/sec: 286.596\n",
      "INFO:tensorflow:loss = 1.2340354, step = 600 (0.351 sec)\n",
      "INFO:tensorflow:global_step/sec: 285.951\n",
      "INFO:tensorflow:loss = 0.7789715, step = 700 (0.348 sec)\n",
      "INFO:tensorflow:global_step/sec: 285.504\n",
      "INFO:tensorflow:loss = 0.83215725, step = 800 (0.352 sec)\n",
      "INFO:tensorflow:global_step/sec: 320.081\n",
      "INFO:tensorflow:loss = 0.5716708, step = 900 (0.311 sec)\n",
      "INFO:tensorflow:global_step/sec: 306.973\n",
      "INFO:tensorflow:loss = 0.7427946, step = 1000 (0.326 sec)\n",
      "INFO:tensorflow:global_step/sec: 259.99\n",
      "INFO:tensorflow:loss = 0.6290427, step = 1100 (0.393 sec)\n",
      "INFO:tensorflow:global_step/sec: 275.376\n",
      "INFO:tensorflow:loss = 0.8100316, step = 1200 (0.355 sec)\n",
      "INFO:tensorflow:global_step/sec: 242.8\n",
      "INFO:tensorflow:loss = 0.5607573, step = 1300 (0.412 sec)\n",
      "INFO:tensorflow:global_step/sec: 266.515\n",
      "INFO:tensorflow:loss = 0.8643754, step = 1400 (0.375 sec)\n",
      "INFO:tensorflow:global_step/sec: 312.655\n",
      "INFO:tensorflow:loss = 1.0264647, step = 1500 (0.320 sec)\n",
      "INFO:tensorflow:global_step/sec: 295.495\n",
      "INFO:tensorflow:loss = 0.6673974, step = 1600 (0.338 sec)\n",
      "INFO:tensorflow:global_step/sec: 305.822\n",
      "INFO:tensorflow:loss = 0.8347092, step = 1700 (0.327 sec)\n",
      "INFO:tensorflow:global_step/sec: 241.408\n",
      "INFO:tensorflow:loss = 0.26857513, step = 1800 (0.414 sec)\n",
      "INFO:tensorflow:Saving checkpoints for 1875 into ./tmpbouhqxhd/model.ckpt.\n",
      "INFO:tensorflow:Calling model_fn.\n",
      "INFO:tensorflow:Done calling model_fn.\n",
      "INFO:tensorflow:Starting evaluation at 2020-03-30T12:03:11Z\n",
      "INFO:tensorflow:Graph was finalized.\n",
      "INFO:tensorflow:Restoring parameters from ./tmpbouhqxhd/model.ckpt-1875\n",
      "INFO:tensorflow:Running local_init_op.\n",
      "INFO:tensorflow:Done running local_init_op.\n",
      "INFO:tensorflow:Evaluation [10/100]\n",
      "INFO:tensorflow:Evaluation [20/100]\n",
      "INFO:tensorflow:Evaluation [30/100]\n",
      "INFO:tensorflow:Evaluation [40/100]\n",
      "INFO:tensorflow:Evaluation [50/100]\n",
      "INFO:tensorflow:Evaluation [60/100]\n",
      "INFO:tensorflow:Evaluation [70/100]\n",
      "INFO:tensorflow:Evaluation [80/100]\n",
      "INFO:tensorflow:Evaluation [90/100]\n",
      "INFO:tensorflow:Evaluation [100/100]\n",
      "INFO:tensorflow:Inference Time : 0.86098s\n",
      "INFO:tensorflow:Finished evaluation at 2020-03-30-12:03:12\n",
      "INFO:tensorflow:Saving dict for global step 1875: accuracy = 0.793125, average_loss = 0.6294961, global_step = 1875, loss = 0.6294961\n",
      "INFO:tensorflow:Saving 'checkpoint_path' summary for global step 1875: ./tmpbouhqxhd/model.ckpt-1875\n",
      "INFO:tensorflow:Loss for final step: 0.55737615.\n",
      "{'accuracy': 0.793125, 'average_loss': 0.6294961, 'loss': 0.6294961, 'global_step': 1875}\n",
      "Model cache_dir = ./tmpcx4r8qqv\n",
      "INFO:tensorflow:Using default config.\n",
      "INFO:tensorflow:Using config: {'_model_dir': './tmpcx4r8qqv', '_tf_random_seed': None, '_save_summary_steps': 100, '_save_checkpoints_steps': None, '_save_checkpoints_secs': 600, '_session_config': allow_soft_placement: true\n",
      "graph_options {\n",
      "  rewrite_options {\n",
      "    meta_optimizer_iterations: ONE\n",
      "  }\n",
      "}\n",
      ", '_keep_checkpoint_max': 5, '_keep_checkpoint_every_n_hours': 10000, '_log_step_count_steps': 100, '_train_distribute': None, '_device_fn': None, '_protocol': None, '_eval_distribute': None, '_experimental_distribute': None, '_experimental_max_worker_delay_secs': None, '_session_creation_timeout_secs': 7200, '_service': None, '_cluster_spec': ClusterSpec({}), '_task_type': 'worker', '_task_id': 0, '_global_id_in_cluster': 0, '_master': '', '_evaluation_master': '', '_is_chief': True, '_num_ps_replicas': 0, '_num_worker_replicas': 1}\n",
      "INFO:tensorflow:Not using Distribute Coordinator.\n",
      "INFO:tensorflow:Running training and evaluation locally (non-distributed).\n",
      "INFO:tensorflow:Start train and evaluate loop. The evaluate will happen after every checkpoint. Checkpoint frequency is determined based on RunConfig arguments: save_checkpoints_steps None or save_checkpoints_secs 600.\n",
      "INFO:tensorflow:Calling model_fn.\n",
      "INFO:tensorflow:Done calling model_fn.\n",
      "INFO:tensorflow:Create CheckpointSaverHook.\n",
      "INFO:tensorflow:Graph was finalized.\n",
      "INFO:tensorflow:Running local_init_op.\n",
      "INFO:tensorflow:Done running local_init_op.\n",
      "INFO:tensorflow:Saving checkpoints for 0 into ./tmpcx4r8qqv/model.ckpt.\n",
      "INFO:tensorflow:loss = 22.430742, step = 0\n",
      "INFO:tensorflow:global_step/sec: 247.348\n",
      "INFO:tensorflow:loss = 1.969043, step = 100 (0.405 sec)\n",
      "INFO:tensorflow:global_step/sec: 271.613\n",
      "INFO:tensorflow:loss = 1.4610174, step = 200 (0.368 sec)\n",
      "INFO:tensorflow:global_step/sec: 283.682\n",
      "INFO:tensorflow:loss = 0.87853473, step = 300 (0.353 sec)\n",
      "INFO:tensorflow:global_step/sec: 253.458\n",
      "INFO:tensorflow:loss = 1.3844109, step = 400 (0.394 sec)\n",
      "INFO:tensorflow:global_step/sec: 250.866\n",
      "INFO:tensorflow:loss = 0.93251324, step = 500 (0.399 sec)\n",
      "INFO:tensorflow:global_step/sec: 241.055\n",
      "INFO:tensorflow:loss = 1.2299547, step = 600 (0.416 sec)\n",
      "INFO:tensorflow:global_step/sec: 288.78\n",
      "INFO:tensorflow:loss = 1.2854383, step = 700 (0.345 sec)\n",
      "INFO:tensorflow:global_step/sec: 279.011\n",
      "INFO:tensorflow:loss = 0.86464643, step = 800 (0.372 sec)\n",
      "INFO:tensorflow:global_step/sec: 278.717\n",
      "INFO:tensorflow:loss = 0.54333365, step = 900 (0.347 sec)\n",
      "INFO:tensorflow:global_step/sec: 256.415\n",
      "INFO:tensorflow:loss = 1.1251653, step = 1000 (0.390 sec)\n",
      "INFO:tensorflow:global_step/sec: 269.17\n",
      "INFO:tensorflow:loss = 0.4426962, step = 1100 (0.371 sec)\n",
      "INFO:tensorflow:global_step/sec: 277.833\n",
      "INFO:tensorflow:loss = 0.5621414, step = 1200 (0.364 sec)\n",
      "INFO:tensorflow:global_step/sec: 258.577\n",
      "INFO:tensorflow:loss = 0.76536465, step = 1300 (0.383 sec)\n",
      "INFO:tensorflow:global_step/sec: 193.639\n",
      "INFO:tensorflow:loss = 0.7474702, step = 1400 (0.517 sec)\n",
      "INFO:tensorflow:global_step/sec: 269.345\n",
      "INFO:tensorflow:loss = 1.0723255, step = 1500 (0.371 sec)\n",
      "INFO:tensorflow:global_step/sec: 231.583\n",
      "INFO:tensorflow:loss = 0.5737144, step = 1600 (0.430 sec)\n",
      "INFO:tensorflow:global_step/sec: 249.344\n",
      "INFO:tensorflow:loss = 0.7340014, step = 1700 (0.403 sec)\n",
      "INFO:tensorflow:global_step/sec: 277.554\n",
      "INFO:tensorflow:loss = 0.43482065, step = 1800 (0.359 sec)\n",
      "INFO:tensorflow:Saving checkpoints for 1875 into ./tmpcx4r8qqv/model.ckpt.\n",
      "INFO:tensorflow:Calling model_fn.\n",
      "INFO:tensorflow:Done calling model_fn.\n",
      "INFO:tensorflow:Starting evaluation at 2020-03-30T12:03:22Z\n",
      "INFO:tensorflow:Graph was finalized.\n",
      "INFO:tensorflow:Restoring parameters from ./tmpcx4r8qqv/model.ckpt-1875\n",
      "INFO:tensorflow:Running local_init_op.\n",
      "INFO:tensorflow:Done running local_init_op.\n",
      "INFO:tensorflow:Evaluation [10/100]\n",
      "INFO:tensorflow:Evaluation [20/100]\n",
      "INFO:tensorflow:Evaluation [30/100]\n",
      "INFO:tensorflow:Evaluation [40/100]\n",
      "INFO:tensorflow:Evaluation [50/100]\n",
      "INFO:tensorflow:Evaluation [60/100]\n",
      "INFO:tensorflow:Evaluation [70/100]\n",
      "INFO:tensorflow:Evaluation [80/100]\n",
      "INFO:tensorflow:Evaluation [90/100]\n",
      "INFO:tensorflow:Evaluation [100/100]\n",
      "INFO:tensorflow:Inference Time : 0.87960s\n",
      "INFO:tensorflow:Finished evaluation at 2020-03-30-12:03:23\n",
      "INFO:tensorflow:Saving dict for global step 1875: accuracy = 0.824375, average_loss = 0.58327246, global_step = 1875, loss = 0.58327246\n",
      "INFO:tensorflow:Saving 'checkpoint_path' summary for global step 1875: ./tmpcx4r8qqv/model.ckpt-1875\n",
      "INFO:tensorflow:Loss for final step: 0.55367005.\n",
      "{'accuracy': 0.824375, 'average_loss': 0.58327246, 'loss': 0.58327246, 'global_step': 1875}\n",
      "Model cache_dir = ./tmptemkvlhp\n",
      "INFO:tensorflow:Using default config.\n",
      "INFO:tensorflow:Using config: {'_model_dir': './tmptemkvlhp', '_tf_random_seed': None, '_save_summary_steps': 100, '_save_checkpoints_steps': None, '_save_checkpoints_secs': 600, '_session_config': allow_soft_placement: true\n",
      "graph_options {\n",
      "  rewrite_options {\n",
      "    meta_optimizer_iterations: ONE\n",
      "  }\n",
      "}\n",
      ", '_keep_checkpoint_max': 5, '_keep_checkpoint_every_n_hours': 10000, '_log_step_count_steps': 100, '_train_distribute': None, '_device_fn': None, '_protocol': None, '_eval_distribute': None, '_experimental_distribute': None, '_experimental_max_worker_delay_secs': None, '_session_creation_timeout_secs': 7200, '_service': None, '_cluster_spec': ClusterSpec({}), '_task_type': 'worker', '_task_id': 0, '_global_id_in_cluster': 0, '_master': '', '_evaluation_master': '', '_is_chief': True, '_num_ps_replicas': 0, '_num_worker_replicas': 1}\n",
      "INFO:tensorflow:Not using Distribute Coordinator.\n",
      "INFO:tensorflow:Running training and evaluation locally (non-distributed).\n",
      "INFO:tensorflow:Start train and evaluate loop. The evaluate will happen after every checkpoint. Checkpoint frequency is determined based on RunConfig arguments: save_checkpoints_steps None or save_checkpoints_secs 600.\n",
      "INFO:tensorflow:Calling model_fn.\n",
      "INFO:tensorflow:Done calling model_fn.\n",
      "INFO:tensorflow:Create CheckpointSaverHook.\n",
      "INFO:tensorflow:Graph was finalized.\n",
      "INFO:tensorflow:Running local_init_op.\n",
      "INFO:tensorflow:Done running local_init_op.\n",
      "INFO:tensorflow:Saving checkpoints for 0 into ./tmptemkvlhp/model.ckpt.\n",
      "INFO:tensorflow:loss = 18.885714, step = 0\n",
      "INFO:tensorflow:global_step/sec: 210.987\n",
      "INFO:tensorflow:loss = 2.0230594, step = 100 (0.475 sec)\n",
      "INFO:tensorflow:global_step/sec: 240.552\n",
      "INFO:tensorflow:loss = 1.1132925, step = 200 (0.416 sec)\n",
      "INFO:tensorflow:global_step/sec: 268.645\n",
      "INFO:tensorflow:loss = 1.3206267, step = 300 (0.372 sec)\n",
      "INFO:tensorflow:global_step/sec: 266.815\n",
      "INFO:tensorflow:loss = 0.96107006, step = 400 (0.375 sec)\n",
      "INFO:tensorflow:global_step/sec: 298.765\n",
      "INFO:tensorflow:loss = 0.7806109, step = 500 (0.335 sec)\n",
      "INFO:tensorflow:global_step/sec: 282.13\n",
      "INFO:tensorflow:loss = 0.6786946, step = 600 (0.354 sec)\n",
      "INFO:tensorflow:global_step/sec: 304.701\n",
      "INFO:tensorflow:loss = 0.76146495, step = 700 (0.328 sec)\n",
      "INFO:tensorflow:global_step/sec: 292.758\n",
      "INFO:tensorflow:loss = 0.9917128, step = 800 (0.342 sec)\n",
      "INFO:tensorflow:global_step/sec: 280.509\n",
      "INFO:tensorflow:loss = 1.0829189, step = 900 (0.356 sec)\n",
      "INFO:tensorflow:global_step/sec: 309.225\n",
      "INFO:tensorflow:loss = 0.5539963, step = 1000 (0.323 sec)\n",
      "INFO:tensorflow:global_step/sec: 292.027\n",
      "INFO:tensorflow:loss = 0.9302031, step = 1100 (0.342 sec)\n",
      "INFO:tensorflow:global_step/sec: 275.098\n",
      "INFO:tensorflow:loss = 0.5534554, step = 1200 (0.364 sec)\n",
      "INFO:tensorflow:global_step/sec: 266.989\n",
      "INFO:tensorflow:loss = 0.8653437, step = 1300 (0.374 sec)\n",
      "INFO:tensorflow:global_step/sec: 318.675\n",
      "INFO:tensorflow:loss = 0.507697, step = 1400 (0.314 sec)\n",
      "INFO:tensorflow:global_step/sec: 304.152\n",
      "INFO:tensorflow:loss = 0.43113315, step = 1500 (0.329 sec)\n",
      "INFO:tensorflow:global_step/sec: 283.169\n",
      "INFO:tensorflow:loss = 1.1181045, step = 1600 (0.354 sec)\n",
      "INFO:tensorflow:global_step/sec: 303.129\n",
      "INFO:tensorflow:loss = 0.91358453, step = 1700 (0.330 sec)\n",
      "INFO:tensorflow:global_step/sec: 264.826\n",
      "INFO:tensorflow:loss = 0.39437073, step = 1800 (0.377 sec)\n",
      "INFO:tensorflow:Saving checkpoints for 1875 into ./tmptemkvlhp/model.ckpt.\n",
      "INFO:tensorflow:Calling model_fn.\n",
      "INFO:tensorflow:Done calling model_fn.\n",
      "INFO:tensorflow:Starting evaluation at 2020-03-30T12:03:33Z\n",
      "INFO:tensorflow:Graph was finalized.\n",
      "INFO:tensorflow:Restoring parameters from ./tmptemkvlhp/model.ckpt-1875\n",
      "INFO:tensorflow:Running local_init_op.\n",
      "INFO:tensorflow:Done running local_init_op.\n",
      "INFO:tensorflow:Evaluation [10/100]\n",
      "INFO:tensorflow:Evaluation [20/100]\n",
      "INFO:tensorflow:Evaluation [30/100]\n",
      "INFO:tensorflow:Evaluation [40/100]\n",
      "INFO:tensorflow:Evaluation [50/100]\n",
      "INFO:tensorflow:Evaluation [60/100]\n",
      "INFO:tensorflow:Evaluation [70/100]\n",
      "INFO:tensorflow:Evaluation [80/100]\n",
      "INFO:tensorflow:Evaluation [90/100]\n",
      "INFO:tensorflow:Evaluation [100/100]\n",
      "INFO:tensorflow:Inference Time : 0.87904s\n",
      "INFO:tensorflow:Finished evaluation at 2020-03-30-12:03:33\n",
      "INFO:tensorflow:Saving dict for global step 1875: accuracy = 0.8109375, average_loss = 0.64500964, global_step = 1875, loss = 0.64500964\n",
      "INFO:tensorflow:Saving 'checkpoint_path' summary for global step 1875: ./tmptemkvlhp/model.ckpt-1875\n",
      "INFO:tensorflow:Loss for final step: 0.42514527.\n",
      "{'accuracy': 0.8109375, 'average_loss': 0.64500964, 'loss': 0.64500964, 'global_step': 1875}\n",
      "Model cache_dir = ./tmpglui1_gv\n",
      "INFO:tensorflow:Using default config.\n",
      "INFO:tensorflow:Using config: {'_model_dir': './tmpglui1_gv', '_tf_random_seed': None, '_save_summary_steps': 100, '_save_checkpoints_steps': None, '_save_checkpoints_secs': 600, '_session_config': allow_soft_placement: true\n",
      "graph_options {\n",
      "  rewrite_options {\n",
      "    meta_optimizer_iterations: ONE\n",
      "  }\n",
      "}\n",
      ", '_keep_checkpoint_max': 5, '_keep_checkpoint_every_n_hours': 10000, '_log_step_count_steps': 100, '_train_distribute': None, '_device_fn': None, '_protocol': None, '_eval_distribute': None, '_experimental_distribute': None, '_experimental_max_worker_delay_secs': None, '_session_creation_timeout_secs': 7200, '_service': None, '_cluster_spec': ClusterSpec({}), '_task_type': 'worker', '_task_id': 0, '_global_id_in_cluster': 0, '_master': '', '_evaluation_master': '', '_is_chief': True, '_num_ps_replicas': 0, '_num_worker_replicas': 1}\n",
      "INFO:tensorflow:Not using Distribute Coordinator.\n",
      "INFO:tensorflow:Running training and evaluation locally (non-distributed).\n",
      "INFO:tensorflow:Start train and evaluate loop. The evaluate will happen after every checkpoint. Checkpoint frequency is determined based on RunConfig arguments: save_checkpoints_steps None or save_checkpoints_secs 600.\n",
      "INFO:tensorflow:Calling model_fn.\n",
      "INFO:tensorflow:Done calling model_fn.\n",
      "INFO:tensorflow:Create CheckpointSaverHook.\n",
      "INFO:tensorflow:Graph was finalized.\n",
      "INFO:tensorflow:Running local_init_op.\n",
      "INFO:tensorflow:Done running local_init_op.\n",
      "INFO:tensorflow:Saving checkpoints for 0 into ./tmpglui1_gv/model.ckpt.\n",
      "INFO:tensorflow:loss = 25.489704, step = 0\n",
      "INFO:tensorflow:global_step/sec: 287.795\n",
      "INFO:tensorflow:loss = 2.6955266, step = 100 (0.348 sec)\n",
      "INFO:tensorflow:global_step/sec: 239.475\n",
      "INFO:tensorflow:loss = 1.848835, step = 200 (0.418 sec)\n",
      "INFO:tensorflow:global_step/sec: 309.426\n",
      "INFO:tensorflow:loss = 1.3625426, step = 300 (0.323 sec)\n",
      "INFO:tensorflow:global_step/sec: 289.771\n",
      "INFO:tensorflow:loss = 1.5866165, step = 400 (0.345 sec)\n",
      "INFO:tensorflow:global_step/sec: 309.689\n",
      "INFO:tensorflow:loss = 1.2222477, step = 500 (0.323 sec)\n",
      "INFO:tensorflow:global_step/sec: 298.085\n",
      "INFO:tensorflow:loss = 1.1188576, step = 600 (0.335 sec)\n",
      "INFO:tensorflow:global_step/sec: 300.384\n",
      "INFO:tensorflow:loss = 1.1579726, step = 700 (0.335 sec)\n",
      "INFO:tensorflow:global_step/sec: 258.574\n",
      "INFO:tensorflow:loss = 1.11515, step = 800 (0.385 sec)\n",
      "INFO:tensorflow:global_step/sec: 296.807\n",
      "INFO:tensorflow:loss = 1.2107602, step = 900 (0.337 sec)\n",
      "INFO:tensorflow:global_step/sec: 286.882\n",
      "INFO:tensorflow:loss = 1.2144182, step = 1000 (0.349 sec)\n",
      "INFO:tensorflow:global_step/sec: 295.216\n",
      "INFO:tensorflow:loss = 0.95848644, step = 1100 (0.344 sec)\n",
      "INFO:tensorflow:global_step/sec: 300.401\n",
      "INFO:tensorflow:loss = 0.7727865, step = 1200 (0.327 sec)\n",
      "INFO:tensorflow:global_step/sec: 294.945\n",
      "INFO:tensorflow:loss = 0.7189255, step = 1300 (0.341 sec)\n",
      "INFO:tensorflow:global_step/sec: 292.433\n",
      "INFO:tensorflow:loss = 0.52445054, step = 1400 (0.340 sec)\n",
      "INFO:tensorflow:global_step/sec: 286.312\n",
      "INFO:tensorflow:loss = 0.89132434, step = 1500 (0.350 sec)\n",
      "INFO:tensorflow:global_step/sec: 287.739\n",
      "INFO:tensorflow:loss = 0.9408261, step = 1600 (0.347 sec)\n",
      "INFO:tensorflow:global_step/sec: 304.63\n",
      "INFO:tensorflow:loss = 0.53319407, step = 1700 (0.328 sec)\n",
      "INFO:tensorflow:global_step/sec: 303.344\n",
      "INFO:tensorflow:loss = 0.8444122, step = 1800 (0.330 sec)\n",
      "INFO:tensorflow:Saving checkpoints for 1875 into ./tmpglui1_gv/model.ckpt.\n",
      "INFO:tensorflow:Calling model_fn.\n",
      "INFO:tensorflow:Done calling model_fn.\n",
      "INFO:tensorflow:Starting evaluation at 2020-03-30T12:03:43Z\n",
      "INFO:tensorflow:Graph was finalized.\n",
      "INFO:tensorflow:Restoring parameters from ./tmpglui1_gv/model.ckpt-1875\n",
      "INFO:tensorflow:Running local_init_op.\n",
      "INFO:tensorflow:Done running local_init_op.\n",
      "INFO:tensorflow:Evaluation [10/100]\n",
      "INFO:tensorflow:Evaluation [20/100]\n",
      "INFO:tensorflow:Evaluation [30/100]\n",
      "INFO:tensorflow:Evaluation [40/100]\n",
      "INFO:tensorflow:Evaluation [50/100]\n",
      "INFO:tensorflow:Evaluation [60/100]\n",
      "INFO:tensorflow:Evaluation [70/100]\n",
      "INFO:tensorflow:Evaluation [80/100]\n",
      "INFO:tensorflow:Evaluation [90/100]\n",
      "INFO:tensorflow:Evaluation [100/100]\n",
      "INFO:tensorflow:Inference Time : 0.94171s\n",
      "INFO:tensorflow:Finished evaluation at 2020-03-30-12:03:44\n",
      "INFO:tensorflow:Saving dict for global step 1875: accuracy = 0.8015625, average_loss = 0.62942046, global_step = 1875, loss = 0.62942046\n",
      "INFO:tensorflow:Saving 'checkpoint_path' summary for global step 1875: ./tmpglui1_gv/model.ckpt-1875\n",
      "INFO:tensorflow:Loss for final step: 0.6609227.\n",
      "{'accuracy': 0.8015625, 'average_loss': 0.62942046, 'loss': 0.62942046, 'global_step': 1875}\n",
      "Model cache_dir = ./tmpev3dkb34\n",
      "INFO:tensorflow:Using default config.\n",
      "INFO:tensorflow:Using config: {'_model_dir': './tmpev3dkb34', '_tf_random_seed': None, '_save_summary_steps': 100, '_save_checkpoints_steps': None, '_save_checkpoints_secs': 600, '_session_config': allow_soft_placement: true\n",
      "graph_options {\n",
      "  rewrite_options {\n",
      "    meta_optimizer_iterations: ONE\n",
      "  }\n",
      "}\n",
      ", '_keep_checkpoint_max': 5, '_keep_checkpoint_every_n_hours': 10000, '_log_step_count_steps': 100, '_train_distribute': None, '_device_fn': None, '_protocol': None, '_eval_distribute': None, '_experimental_distribute': None, '_experimental_max_worker_delay_secs': None, '_session_creation_timeout_secs': 7200, '_service': None, '_cluster_spec': ClusterSpec({}), '_task_type': 'worker', '_task_id': 0, '_global_id_in_cluster': 0, '_master': '', '_evaluation_master': '', '_is_chief': True, '_num_ps_replicas': 0, '_num_worker_replicas': 1}\n",
      "INFO:tensorflow:Not using Distribute Coordinator.\n",
      "INFO:tensorflow:Running training and evaluation locally (non-distributed).\n",
      "INFO:tensorflow:Start train and evaluate loop. The evaluate will happen after every checkpoint. Checkpoint frequency is determined based on RunConfig arguments: save_checkpoints_steps None or save_checkpoints_secs 600.\n",
      "INFO:tensorflow:Calling model_fn.\n",
      "INFO:tensorflow:Done calling model_fn.\n",
      "INFO:tensorflow:Create CheckpointSaverHook.\n",
      "INFO:tensorflow:Graph was finalized.\n",
      "INFO:tensorflow:Running local_init_op.\n",
      "INFO:tensorflow:Done running local_init_op.\n",
      "INFO:tensorflow:Saving checkpoints for 0 into ./tmpev3dkb34/model.ckpt.\n",
      "INFO:tensorflow:loss = 11.400421, step = 0\n",
      "INFO:tensorflow:global_step/sec: 200.008\n",
      "INFO:tensorflow:loss = 2.1438403, step = 100 (0.501 sec)\n",
      "INFO:tensorflow:global_step/sec: 252.166\n",
      "INFO:tensorflow:loss = 1.2401997, step = 200 (0.397 sec)\n",
      "INFO:tensorflow:global_step/sec: 269.928\n",
      "INFO:tensorflow:loss = 1.0644231, step = 300 (0.370 sec)\n",
      "INFO:tensorflow:global_step/sec: 263.545\n",
      "INFO:tensorflow:loss = 1.1596252, step = 400 (0.380 sec)\n",
      "INFO:tensorflow:global_step/sec: 304.026\n",
      "INFO:tensorflow:loss = 0.9226345, step = 500 (0.329 sec)\n",
      "INFO:tensorflow:global_step/sec: 274.795\n",
      "INFO:tensorflow:loss = 1.1920106, step = 600 (0.364 sec)\n",
      "INFO:tensorflow:global_step/sec: 283.516\n",
      "INFO:tensorflow:loss = 1.297812, step = 700 (0.353 sec)\n",
      "INFO:tensorflow:global_step/sec: 303.097\n",
      "INFO:tensorflow:loss = 1.0758336, step = 800 (0.330 sec)\n",
      "INFO:tensorflow:global_step/sec: 282.028\n",
      "INFO:tensorflow:loss = 0.6053411, step = 900 (0.355 sec)\n",
      "INFO:tensorflow:global_step/sec: 270.347\n",
      "INFO:tensorflow:loss = 1.094075, step = 1000 (0.370 sec)\n",
      "INFO:tensorflow:global_step/sec: 295.811\n",
      "INFO:tensorflow:loss = 0.49453062, step = 1100 (0.338 sec)\n",
      "INFO:tensorflow:global_step/sec: 259.159\n",
      "INFO:tensorflow:loss = 0.3388643, step = 1200 (0.386 sec)\n",
      "INFO:tensorflow:global_step/sec: 243.511\n",
      "INFO:tensorflow:loss = 0.51954526, step = 1300 (0.411 sec)\n",
      "INFO:tensorflow:global_step/sec: 262.066\n",
      "INFO:tensorflow:loss = 0.8077785, step = 1400 (0.382 sec)\n",
      "INFO:tensorflow:global_step/sec: 218.675\n",
      "INFO:tensorflow:loss = 0.75624776, step = 1500 (0.457 sec)\n",
      "INFO:tensorflow:global_step/sec: 222.105\n",
      "INFO:tensorflow:loss = 0.60501903, step = 1600 (0.451 sec)\n",
      "INFO:tensorflow:global_step/sec: 258.975\n",
      "INFO:tensorflow:loss = 0.42465967, step = 1700 (0.385 sec)\n",
      "INFO:tensorflow:global_step/sec: 307.671\n",
      "INFO:tensorflow:loss = 0.8023274, step = 1800 (0.326 sec)\n",
      "INFO:tensorflow:Saving checkpoints for 1875 into ./tmpev3dkb34/model.ckpt.\n",
      "INFO:tensorflow:Calling model_fn.\n",
      "INFO:tensorflow:Done calling model_fn.\n",
      "INFO:tensorflow:Starting evaluation at 2020-03-30T12:03:54Z\n",
      "INFO:tensorflow:Graph was finalized.\n",
      "INFO:tensorflow:Restoring parameters from ./tmpev3dkb34/model.ckpt-1875\n",
      "INFO:tensorflow:Running local_init_op.\n",
      "INFO:tensorflow:Done running local_init_op.\n",
      "INFO:tensorflow:Evaluation [10/100]\n",
      "INFO:tensorflow:Evaluation [20/100]\n",
      "INFO:tensorflow:Evaluation [30/100]\n",
      "INFO:tensorflow:Evaluation [40/100]\n",
      "INFO:tensorflow:Evaluation [50/100]\n",
      "INFO:tensorflow:Evaluation [60/100]\n",
      "INFO:tensorflow:Evaluation [70/100]\n",
      "INFO:tensorflow:Evaluation [80/100]\n",
      "INFO:tensorflow:Evaluation [90/100]\n",
      "INFO:tensorflow:Evaluation [100/100]\n",
      "INFO:tensorflow:Inference Time : 0.85429s\n",
      "INFO:tensorflow:Finished evaluation at 2020-03-30-12:03:55\n",
      "INFO:tensorflow:Saving dict for global step 1875: accuracy = 0.8075, average_loss = 0.6073385, global_step = 1875, loss = 0.6073385\n",
      "INFO:tensorflow:Saving 'checkpoint_path' summary for global step 1875: ./tmpev3dkb34/model.ckpt-1875\n",
      "INFO:tensorflow:Loss for final step: 0.5491231.\n",
      "{'accuracy': 0.8075, 'average_loss': 0.6073385, 'loss': 0.6073385, 'global_step': 1875}\n",
      "Model cache_dir = ./tmpw4mrfdpb\n",
      "INFO:tensorflow:Using default config.\n",
      "INFO:tensorflow:Using config: {'_model_dir': './tmpw4mrfdpb', '_tf_random_seed': None, '_save_summary_steps': 100, '_save_checkpoints_steps': None, '_save_checkpoints_secs': 600, '_session_config': allow_soft_placement: true\n",
      "graph_options {\n",
      "  rewrite_options {\n",
      "    meta_optimizer_iterations: ONE\n",
      "  }\n",
      "}\n",
      ", '_keep_checkpoint_max': 5, '_keep_checkpoint_every_n_hours': 10000, '_log_step_count_steps': 100, '_train_distribute': None, '_device_fn': None, '_protocol': None, '_eval_distribute': None, '_experimental_distribute': None, '_experimental_max_worker_delay_secs': None, '_session_creation_timeout_secs': 7200, '_service': None, '_cluster_spec': ClusterSpec({}), '_task_type': 'worker', '_task_id': 0, '_global_id_in_cluster': 0, '_master': '', '_evaluation_master': '', '_is_chief': True, '_num_ps_replicas': 0, '_num_worker_replicas': 1}\n",
      "INFO:tensorflow:Not using Distribute Coordinator.\n",
      "INFO:tensorflow:Running training and evaluation locally (non-distributed).\n",
      "INFO:tensorflow:Start train and evaluate loop. The evaluate will happen after every checkpoint. Checkpoint frequency is determined based on RunConfig arguments: save_checkpoints_steps None or save_checkpoints_secs 600.\n",
      "INFO:tensorflow:Calling model_fn.\n",
      "INFO:tensorflow:Done calling model_fn.\n",
      "INFO:tensorflow:Create CheckpointSaverHook.\n",
      "INFO:tensorflow:Graph was finalized.\n",
      "INFO:tensorflow:Running local_init_op.\n",
      "INFO:tensorflow:Done running local_init_op.\n",
      "INFO:tensorflow:Saving checkpoints for 0 into ./tmpw4mrfdpb/model.ckpt.\n",
      "INFO:tensorflow:loss = 273.5653, step = 0\n",
      "INFO:tensorflow:global_step/sec: 261.093\n",
      "INFO:tensorflow:loss = 31.259623, step = 100 (0.385 sec)\n",
      "INFO:tensorflow:global_step/sec: 302.407\n",
      "INFO:tensorflow:loss = 19.682243, step = 200 (0.330 sec)\n",
      "INFO:tensorflow:global_step/sec: 319.878\n",
      "INFO:tensorflow:loss = 11.256884, step = 300 (0.325 sec)\n",
      "INFO:tensorflow:global_step/sec: 317.003\n",
      "INFO:tensorflow:loss = 8.269276, step = 400 (0.302 sec)\n",
      "INFO:tensorflow:Saving checkpoints for 500 into ./tmpw4mrfdpb/model.ckpt.\n",
      "INFO:tensorflow:Calling model_fn.\n",
      "INFO:tensorflow:Done calling model_fn.\n",
      "INFO:tensorflow:Starting evaluation at 2020-03-30T12:03:58Z\n",
      "INFO:tensorflow:Graph was finalized.\n",
      "INFO:tensorflow:Restoring parameters from ./tmpw4mrfdpb/model.ckpt-500\n",
      "INFO:tensorflow:Running local_init_op.\n",
      "INFO:tensorflow:Done running local_init_op.\n",
      "INFO:tensorflow:Evaluation [10/100]\n",
      "INFO:tensorflow:Evaluation [20/100]\n",
      "INFO:tensorflow:Evaluation [30/100]\n",
      "INFO:tensorflow:Evaluation [40/100]\n",
      "INFO:tensorflow:Evaluation [50/100]\n",
      "INFO:tensorflow:Evaluation [60/100]\n",
      "INFO:tensorflow:Evaluation [70/100]\n",
      "INFO:tensorflow:Evaluation [80/100]\n",
      "INFO:tensorflow:Evaluation [90/100]\n",
      "INFO:tensorflow:Evaluation [100/100]\n",
      "INFO:tensorflow:Inference Time : 0.73465s\n",
      "INFO:tensorflow:Finished evaluation at 2020-03-30-12:03:59\n",
      "INFO:tensorflow:Saving dict for global step 500: accuracy = 0.459375, average_loss = 6.472523, global_step = 500, loss = 6.472523\n",
      "INFO:tensorflow:Saving 'checkpoint_path' summary for global step 500: ./tmpw4mrfdpb/model.ckpt-500\n",
      "INFO:tensorflow:Loss for final step: 6.248996.\n",
      "{'accuracy': 0.459375, 'average_loss': 6.472523, 'loss': 6.472523, 'global_step': 500}\n",
      "Model cache_dir = ./tmpfmddg2bm\n",
      "INFO:tensorflow:Using default config.\n",
      "INFO:tensorflow:Using config: {'_model_dir': './tmpfmddg2bm', '_tf_random_seed': None, '_save_summary_steps': 100, '_save_checkpoints_steps': None, '_save_checkpoints_secs': 600, '_session_config': allow_soft_placement: true\n",
      "graph_options {\n",
      "  rewrite_options {\n",
      "    meta_optimizer_iterations: ONE\n",
      "  }\n",
      "}\n",
      ", '_keep_checkpoint_max': 5, '_keep_checkpoint_every_n_hours': 10000, '_log_step_count_steps': 100, '_train_distribute': None, '_device_fn': None, '_protocol': None, '_eval_distribute': None, '_experimental_distribute': None, '_experimental_max_worker_delay_secs': None, '_session_creation_timeout_secs': 7200, '_service': None, '_cluster_spec': ClusterSpec({}), '_task_type': 'worker', '_task_id': 0, '_global_id_in_cluster': 0, '_master': '', '_evaluation_master': '', '_is_chief': True, '_num_ps_replicas': 0, '_num_worker_replicas': 1}\n",
      "INFO:tensorflow:Not using Distribute Coordinator.\n",
      "INFO:tensorflow:Running training and evaluation locally (non-distributed).\n",
      "INFO:tensorflow:Start train and evaluate loop. The evaluate will happen after every checkpoint. Checkpoint frequency is determined based on RunConfig arguments: save_checkpoints_steps None or save_checkpoints_secs 600.\n",
      "INFO:tensorflow:Calling model_fn.\n",
      "INFO:tensorflow:Done calling model_fn.\n",
      "INFO:tensorflow:Create CheckpointSaverHook.\n",
      "INFO:tensorflow:Graph was finalized.\n",
      "INFO:tensorflow:Running local_init_op.\n",
      "INFO:tensorflow:Done running local_init_op.\n",
      "INFO:tensorflow:Saving checkpoints for 0 into ./tmpfmddg2bm/model.ckpt.\n",
      "INFO:tensorflow:loss = 107.1947, step = 0\n",
      "INFO:tensorflow:global_step/sec: 221.662\n",
      "INFO:tensorflow:loss = 26.085709, step = 100 (0.453 sec)\n",
      "INFO:tensorflow:global_step/sec: 279.602\n",
      "INFO:tensorflow:loss = 11.274116, step = 200 (0.357 sec)\n",
      "INFO:tensorflow:global_step/sec: 288.352\n",
      "INFO:tensorflow:loss = 8.085326, step = 300 (0.347 sec)\n",
      "INFO:tensorflow:global_step/sec: 266.985\n",
      "INFO:tensorflow:loss = 7.1515007, step = 400 (0.375 sec)\n",
      "INFO:tensorflow:global_step/sec: 290.797\n",
      "INFO:tensorflow:loss = 6.986451, step = 500 (0.344 sec)\n",
      "INFO:tensorflow:global_step/sec: 260.607\n",
      "INFO:tensorflow:loss = 5.55916, step = 600 (0.383 sec)\n",
      "INFO:tensorflow:global_step/sec: 283.667\n",
      "INFO:tensorflow:loss = 4.4159794, step = 700 (0.353 sec)\n",
      "INFO:tensorflow:global_step/sec: 285.358\n",
      "INFO:tensorflow:loss = 4.377219, step = 800 (0.350 sec)\n",
      "INFO:tensorflow:global_step/sec: 290.964\n",
      "INFO:tensorflow:loss = 3.260129, step = 900 (0.344 sec)\n",
      "INFO:tensorflow:global_step/sec: 269.79\n",
      "INFO:tensorflow:loss = 2.8838832, step = 1000 (0.371 sec)\n",
      "INFO:tensorflow:global_step/sec: 268.297\n",
      "INFO:tensorflow:loss = 2.6834927, step = 1100 (0.372 sec)\n",
      "INFO:tensorflow:global_step/sec: 266.234\n",
      "INFO:tensorflow:loss = 2.8764424, step = 1200 (0.377 sec)\n",
      "INFO:tensorflow:global_step/sec: 277.482\n",
      "INFO:tensorflow:loss = 2.832459, step = 1300 (0.359 sec)\n",
      "INFO:tensorflow:global_step/sec: 299.133\n",
      "INFO:tensorflow:loss = 3.1879435, step = 1400 (0.336 sec)\n",
      "INFO:tensorflow:global_step/sec: 288.666\n",
      "INFO:tensorflow:loss = 2.5016298, step = 1500 (0.346 sec)\n",
      "INFO:tensorflow:global_step/sec: 274.857\n",
      "INFO:tensorflow:loss = 3.312747, step = 1600 (0.364 sec)\n",
      "INFO:tensorflow:global_step/sec: 284.708\n",
      "INFO:tensorflow:loss = 2.5217824, step = 1700 (0.350 sec)\n",
      "INFO:tensorflow:global_step/sec: 231.658\n",
      "INFO:tensorflow:loss = 2.9094257, step = 1800 (0.433 sec)\n",
      "INFO:tensorflow:Saving checkpoints for 1875 into ./tmpfmddg2bm/model.ckpt.\n",
      "INFO:tensorflow:Calling model_fn.\n",
      "INFO:tensorflow:Done calling model_fn.\n",
      "INFO:tensorflow:Starting evaluation at 2020-03-30T12:04:09Z\n",
      "INFO:tensorflow:Graph was finalized.\n",
      "INFO:tensorflow:Restoring parameters from ./tmpfmddg2bm/model.ckpt-1875\n",
      "INFO:tensorflow:Running local_init_op.\n",
      "INFO:tensorflow:Done running local_init_op.\n",
      "INFO:tensorflow:Evaluation [10/100]\n",
      "INFO:tensorflow:Evaluation [20/100]\n",
      "INFO:tensorflow:Evaluation [30/100]\n",
      "INFO:tensorflow:Evaluation [40/100]\n",
      "INFO:tensorflow:Evaluation [50/100]\n",
      "INFO:tensorflow:Evaluation [60/100]\n",
      "INFO:tensorflow:Evaluation [70/100]\n",
      "INFO:tensorflow:Evaluation [80/100]\n",
      "INFO:tensorflow:Evaluation [90/100]\n",
      "INFO:tensorflow:Evaluation [100/100]\n",
      "INFO:tensorflow:Inference Time : 0.86727s\n",
      "INFO:tensorflow:Finished evaluation at 2020-03-30-12:04:10\n",
      "INFO:tensorflow:Saving dict for global step 1875: accuracy = 0.11625, average_loss = 2.3002386, global_step = 1875, loss = 2.3002386\n",
      "INFO:tensorflow:Saving 'checkpoint_path' summary for global step 1875: ./tmpfmddg2bm/model.ckpt-1875\n",
      "INFO:tensorflow:Loss for final step: 2.411931.\n",
      "{'accuracy': 0.11625, 'average_loss': 2.3002386, 'loss': 2.3002386, 'global_step': 1875}\n",
      "Model cache_dir = ./tmpy0ne236k\n",
      "INFO:tensorflow:Using default config.\n",
      "INFO:tensorflow:Using config: {'_model_dir': './tmpy0ne236k', '_tf_random_seed': None, '_save_summary_steps': 100, '_save_checkpoints_steps': None, '_save_checkpoints_secs': 600, '_session_config': allow_soft_placement: true\n",
      "graph_options {\n",
      "  rewrite_options {\n",
      "    meta_optimizer_iterations: ONE\n",
      "  }\n",
      "}\n",
      ", '_keep_checkpoint_max': 5, '_keep_checkpoint_every_n_hours': 10000, '_log_step_count_steps': 100, '_train_distribute': None, '_device_fn': None, '_protocol': None, '_eval_distribute': None, '_experimental_distribute': None, '_experimental_max_worker_delay_secs': None, '_session_creation_timeout_secs': 7200, '_service': None, '_cluster_spec': ClusterSpec({}), '_task_type': 'worker', '_task_id': 0, '_global_id_in_cluster': 0, '_master': '', '_evaluation_master': '', '_is_chief': True, '_num_ps_replicas': 0, '_num_worker_replicas': 1}\n",
      "INFO:tensorflow:Not using Distribute Coordinator.\n",
      "INFO:tensorflow:Running training and evaluation locally (non-distributed).\n",
      "INFO:tensorflow:Start train and evaluate loop. The evaluate will happen after every checkpoint. Checkpoint frequency is determined based on RunConfig arguments: save_checkpoints_steps None or save_checkpoints_secs 600.\n",
      "INFO:tensorflow:Calling model_fn.\n",
      "INFO:tensorflow:Done calling model_fn.\n",
      "INFO:tensorflow:Create CheckpointSaverHook.\n",
      "INFO:tensorflow:Graph was finalized.\n",
      "INFO:tensorflow:Running local_init_op.\n",
      "INFO:tensorflow:Done running local_init_op.\n",
      "INFO:tensorflow:Saving checkpoints for 0 into ./tmpy0ne236k/model.ckpt.\n",
      "INFO:tensorflow:loss = 208.56174, step = 0\n",
      "INFO:tensorflow:global_step/sec: 215.488\n",
      "INFO:tensorflow:loss = 36.906216, step = 100 (0.465 sec)\n",
      "INFO:tensorflow:global_step/sec: 255.378\n",
      "INFO:tensorflow:loss = 20.277882, step = 200 (0.392 sec)\n",
      "INFO:tensorflow:global_step/sec: 272.454\n",
      "INFO:tensorflow:loss = 20.376593, step = 300 (0.367 sec)\n",
      "INFO:tensorflow:global_step/sec: 277.564\n",
      "INFO:tensorflow:loss = 17.912277, step = 400 (0.361 sec)\n",
      "INFO:tensorflow:global_step/sec: 286.379\n",
      "INFO:tensorflow:loss = 12.143715, step = 500 (0.349 sec)\n",
      "INFO:tensorflow:global_step/sec: 281.527\n",
      "INFO:tensorflow:loss = 10.686958, step = 600 (0.355 sec)\n",
      "INFO:tensorflow:global_step/sec: 251.109\n",
      "INFO:tensorflow:loss = 7.4481754, step = 700 (0.398 sec)\n",
      "INFO:tensorflow:global_step/sec: 259.328\n",
      "INFO:tensorflow:loss = 5.0760584, step = 800 (0.386 sec)\n",
      "INFO:tensorflow:global_step/sec: 276.349\n",
      "INFO:tensorflow:loss = 5.3612986, step = 900 (0.362 sec)\n",
      "INFO:tensorflow:global_step/sec: 250.437\n",
      "INFO:tensorflow:loss = 4.2227745, step = 1000 (0.404 sec)\n",
      "INFO:tensorflow:global_step/sec: 274.469\n",
      "INFO:tensorflow:loss = 5.934984, step = 1100 (0.360 sec)\n",
      "INFO:tensorflow:global_step/sec: 205.065\n",
      "INFO:tensorflow:loss = 2.509808, step = 1200 (0.488 sec)\n",
      "INFO:tensorflow:global_step/sec: 217.44\n",
      "INFO:tensorflow:loss = 3.7813675, step = 1300 (0.460 sec)\n",
      "INFO:tensorflow:global_step/sec: 205.914\n",
      "INFO:tensorflow:loss = 4.8031235, step = 1400 (0.486 sec)\n",
      "INFO:tensorflow:global_step/sec: 234.364\n",
      "INFO:tensorflow:loss = 4.1719704, step = 1500 (0.427 sec)\n",
      "INFO:tensorflow:global_step/sec: 222.552\n",
      "INFO:tensorflow:loss = 3.7447424, step = 1600 (0.449 sec)\n",
      "INFO:tensorflow:global_step/sec: 235.814\n",
      "INFO:tensorflow:loss = 3.457286, step = 1700 (0.424 sec)\n",
      "INFO:tensorflow:global_step/sec: 240.864\n",
      "INFO:tensorflow:loss = 5.425494, step = 1800 (0.416 sec)\n",
      "INFO:tensorflow:Saving checkpoints for 1875 into ./tmpy0ne236k/model.ckpt.\n",
      "INFO:tensorflow:Calling model_fn.\n",
      "INFO:tensorflow:Done calling model_fn.\n",
      "INFO:tensorflow:Starting evaluation at 2020-03-30T12:04:21Z\n",
      "INFO:tensorflow:Graph was finalized.\n",
      "INFO:tensorflow:Restoring parameters from ./tmpy0ne236k/model.ckpt-1875\n",
      "INFO:tensorflow:Running local_init_op.\n",
      "INFO:tensorflow:Done running local_init_op.\n",
      "INFO:tensorflow:Evaluation [10/100]\n",
      "INFO:tensorflow:Evaluation [20/100]\n",
      "INFO:tensorflow:Evaluation [30/100]\n",
      "INFO:tensorflow:Evaluation [40/100]\n",
      "INFO:tensorflow:Evaluation [50/100]\n",
      "INFO:tensorflow:Evaluation [60/100]\n",
      "INFO:tensorflow:Evaluation [70/100]\n",
      "INFO:tensorflow:Evaluation [80/100]\n",
      "INFO:tensorflow:Evaluation [90/100]\n",
      "INFO:tensorflow:Evaluation [100/100]\n",
      "INFO:tensorflow:Inference Time : 0.93285s\n",
      "INFO:tensorflow:Finished evaluation at 2020-03-30-12:04:22\n",
      "INFO:tensorflow:Saving dict for global step 1875: accuracy = 0.106875, average_loss = 2.303653, global_step = 1875, loss = 2.303653\n",
      "INFO:tensorflow:Saving 'checkpoint_path' summary for global step 1875: ./tmpy0ne236k/model.ckpt-1875\n",
      "INFO:tensorflow:Loss for final step: 3.8975344.\n",
      "{'accuracy': 0.106875, 'average_loss': 2.303653, 'loss': 2.303653, 'global_step': 1875}\n",
      "Model cache_dir = ./tmp1nbv8_p9\n",
      "INFO:tensorflow:Using default config.\n",
      "INFO:tensorflow:Using config: {'_model_dir': './tmp1nbv8_p9', '_tf_random_seed': None, '_save_summary_steps': 100, '_save_checkpoints_steps': None, '_save_checkpoints_secs': 600, '_session_config': allow_soft_placement: true\n",
      "graph_options {\n",
      "  rewrite_options {\n",
      "    meta_optimizer_iterations: ONE\n",
      "  }\n",
      "}\n",
      ", '_keep_checkpoint_max': 5, '_keep_checkpoint_every_n_hours': 10000, '_log_step_count_steps': 100, '_train_distribute': None, '_device_fn': None, '_protocol': None, '_eval_distribute': None, '_experimental_distribute': None, '_experimental_max_worker_delay_secs': None, '_session_creation_timeout_secs': 7200, '_service': None, '_cluster_spec': ClusterSpec({}), '_task_type': 'worker', '_task_id': 0, '_global_id_in_cluster': 0, '_master': '', '_evaluation_master': '', '_is_chief': True, '_num_ps_replicas': 0, '_num_worker_replicas': 1}\n",
      "INFO:tensorflow:Not using Distribute Coordinator.\n",
      "INFO:tensorflow:Running training and evaluation locally (non-distributed).\n",
      "INFO:tensorflow:Start train and evaluate loop. The evaluate will happen after every checkpoint. Checkpoint frequency is determined based on RunConfig arguments: save_checkpoints_steps None or save_checkpoints_secs 600.\n",
      "INFO:tensorflow:Calling model_fn.\n",
      "INFO:tensorflow:Done calling model_fn.\n",
      "INFO:tensorflow:Create CheckpointSaverHook.\n",
      "INFO:tensorflow:Graph was finalized.\n",
      "INFO:tensorflow:Running local_init_op.\n",
      "INFO:tensorflow:Done running local_init_op.\n",
      "INFO:tensorflow:Saving checkpoints for 0 into ./tmp1nbv8_p9/model.ckpt.\n",
      "INFO:tensorflow:loss = 18.043463, step = 0\n",
      "INFO:tensorflow:global_step/sec: 201.685\n",
      "INFO:tensorflow:loss = 2.4021003, step = 100 (0.496 sec)\n",
      "INFO:tensorflow:global_step/sec: 254.881\n",
      "INFO:tensorflow:loss = 2.1054215, step = 200 (0.392 sec)\n",
      "INFO:tensorflow:global_step/sec: 292.868\n",
      "INFO:tensorflow:loss = 1.3357806, step = 300 (0.342 sec)\n",
      "INFO:tensorflow:global_step/sec: 227.595\n",
      "INFO:tensorflow:loss = 1.2695333, step = 400 (0.439 sec)\n",
      "INFO:tensorflow:Saving checkpoints for 500 into ./tmp1nbv8_p9/model.ckpt.\n",
      "INFO:tensorflow:Calling model_fn.\n",
      "INFO:tensorflow:Done calling model_fn.\n",
      "INFO:tensorflow:Starting evaluation at 2020-03-30T12:04:27Z\n",
      "INFO:tensorflow:Graph was finalized.\n",
      "INFO:tensorflow:Restoring parameters from ./tmp1nbv8_p9/model.ckpt-500\n",
      "INFO:tensorflow:Running local_init_op.\n",
      "INFO:tensorflow:Done running local_init_op.\n",
      "INFO:tensorflow:Evaluation [10/100]\n",
      "INFO:tensorflow:Evaluation [20/100]\n",
      "INFO:tensorflow:Evaluation [30/100]\n",
      "INFO:tensorflow:Evaluation [40/100]\n",
      "INFO:tensorflow:Evaluation [50/100]\n",
      "INFO:tensorflow:Evaluation [60/100]\n",
      "INFO:tensorflow:Evaluation [70/100]\n",
      "INFO:tensorflow:Evaluation [80/100]\n",
      "INFO:tensorflow:Evaluation [90/100]\n",
      "INFO:tensorflow:Evaluation [100/100]\n",
      "INFO:tensorflow:Inference Time : 0.96103s\n",
      "INFO:tensorflow:Finished evaluation at 2020-03-30-12:04:28\n",
      "INFO:tensorflow:Saving dict for global step 500: accuracy = 0.634375, average_loss = 1.147723, global_step = 500, loss = 1.147723\n",
      "INFO:tensorflow:Saving 'checkpoint_path' summary for global step 500: ./tmp1nbv8_p9/model.ckpt-500\n",
      "INFO:tensorflow:Loss for final step: 1.3578875.\n",
      "{'accuracy': 0.634375, 'average_loss': 1.147723, 'loss': 1.147723, 'global_step': 500}\n",
      "Model cache_dir = ./tmpulrkr6pf\n",
      "INFO:tensorflow:Using default config.\n",
      "INFO:tensorflow:Using config: {'_model_dir': './tmpulrkr6pf', '_tf_random_seed': None, '_save_summary_steps': 100, '_save_checkpoints_steps': None, '_save_checkpoints_secs': 600, '_session_config': allow_soft_placement: true\n",
      "graph_options {\n",
      "  rewrite_options {\n",
      "    meta_optimizer_iterations: ONE\n",
      "  }\n",
      "}\n",
      ", '_keep_checkpoint_max': 5, '_keep_checkpoint_every_n_hours': 10000, '_log_step_count_steps': 100, '_train_distribute': None, '_device_fn': None, '_protocol': None, '_eval_distribute': None, '_experimental_distribute': None, '_experimental_max_worker_delay_secs': None, '_session_creation_timeout_secs': 7200, '_service': None, '_cluster_spec': ClusterSpec({}), '_task_type': 'worker', '_task_id': 0, '_global_id_in_cluster': 0, '_master': '', '_evaluation_master': '', '_is_chief': True, '_num_ps_replicas': 0, '_num_worker_replicas': 1}\n",
      "INFO:tensorflow:Not using Distribute Coordinator.\n",
      "INFO:tensorflow:Running training and evaluation locally (non-distributed).\n",
      "INFO:tensorflow:Start train and evaluate loop. The evaluate will happen after every checkpoint. Checkpoint frequency is determined based on RunConfig arguments: save_checkpoints_steps None or save_checkpoints_secs 600.\n",
      "INFO:tensorflow:Calling model_fn.\n",
      "INFO:tensorflow:Done calling model_fn.\n",
      "INFO:tensorflow:Create CheckpointSaverHook.\n",
      "INFO:tensorflow:Graph was finalized.\n",
      "INFO:tensorflow:Running local_init_op.\n",
      "INFO:tensorflow:Done running local_init_op.\n",
      "INFO:tensorflow:Saving checkpoints for 0 into ./tmpulrkr6pf/model.ckpt.\n",
      "INFO:tensorflow:loss = 1582.7932, step = 0\n",
      "INFO:tensorflow:global_step/sec: 214.067\n",
      "INFO:tensorflow:loss = 285.7764, step = 100 (0.468 sec)\n",
      "INFO:tensorflow:global_step/sec: 212.954\n",
      "INFO:tensorflow:loss = 213.79855, step = 200 (0.470 sec)\n",
      "INFO:tensorflow:global_step/sec: 228.395\n",
      "INFO:tensorflow:loss = 109.867165, step = 300 (0.438 sec)\n",
      "INFO:tensorflow:global_step/sec: 234.734\n",
      "INFO:tensorflow:loss = 108.90634, step = 400 (0.426 sec)\n",
      "INFO:tensorflow:Saving checkpoints for 500 into ./tmpulrkr6pf/model.ckpt.\n",
      "INFO:tensorflow:Calling model_fn.\n",
      "INFO:tensorflow:Done calling model_fn.\n",
      "INFO:tensorflow:Starting evaluation at 2020-03-30T12:04:33Z\n",
      "INFO:tensorflow:Graph was finalized.\n",
      "INFO:tensorflow:Restoring parameters from ./tmpulrkr6pf/model.ckpt-500\n",
      "INFO:tensorflow:Running local_init_op.\n",
      "INFO:tensorflow:Done running local_init_op.\n",
      "INFO:tensorflow:Evaluation [10/100]\n",
      "INFO:tensorflow:Evaluation [20/100]\n",
      "INFO:tensorflow:Evaluation [30/100]\n",
      "INFO:tensorflow:Evaluation [40/100]\n",
      "INFO:tensorflow:Evaluation [50/100]\n",
      "INFO:tensorflow:Evaluation [60/100]\n",
      "INFO:tensorflow:Evaluation [70/100]\n",
      "INFO:tensorflow:Evaluation [80/100]\n",
      "INFO:tensorflow:Evaluation [90/100]\n",
      "INFO:tensorflow:Evaluation [100/100]\n",
      "INFO:tensorflow:Inference Time : 0.84079s\n",
      "INFO:tensorflow:Finished evaluation at 2020-03-30-12:04:34\n",
      "INFO:tensorflow:Saving dict for global step 500: accuracy = 0.0928125, average_loss = 2.4092066, global_step = 500, loss = 2.4092066\n",
      "INFO:tensorflow:Saving 'checkpoint_path' summary for global step 500: ./tmpulrkr6pf/model.ckpt-500\n",
      "INFO:tensorflow:Loss for final step: 82.06224.\n",
      "{'accuracy': 0.0928125, 'average_loss': 2.4092066, 'loss': 2.4092066, 'global_step': 500}\n",
      "Model cache_dir = ./tmpdgizbfxq\n",
      "INFO:tensorflow:Using default config.\n",
      "INFO:tensorflow:Using config: {'_model_dir': './tmpdgizbfxq', '_tf_random_seed': None, '_save_summary_steps': 100, '_save_checkpoints_steps': None, '_save_checkpoints_secs': 600, '_session_config': allow_soft_placement: true\n",
      "graph_options {\n",
      "  rewrite_options {\n",
      "    meta_optimizer_iterations: ONE\n",
      "  }\n",
      "}\n",
      ", '_keep_checkpoint_max': 5, '_keep_checkpoint_every_n_hours': 10000, '_log_step_count_steps': 100, '_train_distribute': None, '_device_fn': None, '_protocol': None, '_eval_distribute': None, '_experimental_distribute': None, '_experimental_max_worker_delay_secs': None, '_session_creation_timeout_secs': 7200, '_service': None, '_cluster_spec': ClusterSpec({}), '_task_type': 'worker', '_task_id': 0, '_global_id_in_cluster': 0, '_master': '', '_evaluation_master': '', '_is_chief': True, '_num_ps_replicas': 0, '_num_worker_replicas': 1}\n",
      "INFO:tensorflow:Not using Distribute Coordinator.\n",
      "INFO:tensorflow:Running training and evaluation locally (non-distributed).\n",
      "INFO:tensorflow:Start train and evaluate loop. The evaluate will happen after every checkpoint. Checkpoint frequency is determined based on RunConfig arguments: save_checkpoints_steps None or save_checkpoints_secs 600.\n",
      "INFO:tensorflow:Calling model_fn.\n",
      "INFO:tensorflow:Done calling model_fn.\n",
      "INFO:tensorflow:Create CheckpointSaverHook.\n",
      "INFO:tensorflow:Graph was finalized.\n",
      "INFO:tensorflow:Running local_init_op.\n",
      "INFO:tensorflow:Done running local_init_op.\n",
      "INFO:tensorflow:Saving checkpoints for 0 into ./tmpdgizbfxq/model.ckpt.\n",
      "INFO:tensorflow:loss = 27.136177, step = 0\n",
      "INFO:tensorflow:global_step/sec: 228.227\n",
      "INFO:tensorflow:loss = 2.1180167, step = 100 (0.439 sec)\n",
      "INFO:tensorflow:global_step/sec: 248.153\n",
      "INFO:tensorflow:loss = 1.0744436, step = 200 (0.403 sec)\n",
      "INFO:tensorflow:global_step/sec: 267.087\n",
      "INFO:tensorflow:loss = 1.4936752, step = 300 (0.374 sec)\n",
      "INFO:tensorflow:global_step/sec: 279.759\n",
      "INFO:tensorflow:loss = 1.6802114, step = 400 (0.358 sec)\n",
      "INFO:tensorflow:global_step/sec: 229.611\n",
      "INFO:tensorflow:loss = 1.1087489, step = 500 (0.436 sec)\n",
      "INFO:tensorflow:global_step/sec: 276.71\n",
      "INFO:tensorflow:loss = 1.2210939, step = 600 (0.361 sec)\n",
      "INFO:tensorflow:global_step/sec: 264.445\n",
      "INFO:tensorflow:loss = 1.0852897, step = 700 (0.378 sec)\n",
      "INFO:tensorflow:global_step/sec: 244.691\n",
      "INFO:tensorflow:loss = 1.1311765, step = 800 (0.411 sec)\n",
      "INFO:tensorflow:global_step/sec: 299.537\n",
      "INFO:tensorflow:loss = 0.6413201, step = 900 (0.333 sec)\n",
      "INFO:tensorflow:global_step/sec: 297.203\n",
      "INFO:tensorflow:loss = 0.7888979, step = 1000 (0.336 sec)\n",
      "INFO:tensorflow:global_step/sec: 232.432\n",
      "INFO:tensorflow:loss = 1.0516068, step = 1100 (0.431 sec)\n",
      "INFO:tensorflow:global_step/sec: 215.286\n",
      "INFO:tensorflow:loss = 0.66403234, step = 1200 (0.463 sec)\n",
      "INFO:tensorflow:global_step/sec: 281.382\n",
      "INFO:tensorflow:loss = 0.9215298, step = 1300 (0.357 sec)\n",
      "INFO:tensorflow:global_step/sec: 277.069\n",
      "INFO:tensorflow:loss = 1.051574, step = 1400 (0.360 sec)\n",
      "INFO:tensorflow:global_step/sec: 236.987\n",
      "INFO:tensorflow:loss = 0.39351565, step = 1500 (0.421 sec)\n",
      "INFO:tensorflow:global_step/sec: 261.041\n",
      "INFO:tensorflow:loss = 0.66209745, step = 1600 (0.383 sec)\n",
      "INFO:tensorflow:global_step/sec: 268.504\n",
      "INFO:tensorflow:loss = 1.155566, step = 1700 (0.373 sec)\n",
      "INFO:tensorflow:global_step/sec: 265.223\n",
      "INFO:tensorflow:loss = 0.7476803, step = 1800 (0.378 sec)\n",
      "INFO:tensorflow:Saving checkpoints for 1875 into ./tmpdgizbfxq/model.ckpt.\n",
      "INFO:tensorflow:Calling model_fn.\n",
      "INFO:tensorflow:Done calling model_fn.\n",
      "INFO:tensorflow:Starting evaluation at 2020-03-30T12:04:44Z\n",
      "INFO:tensorflow:Graph was finalized.\n",
      "INFO:tensorflow:Restoring parameters from ./tmpdgizbfxq/model.ckpt-1875\n",
      "INFO:tensorflow:Running local_init_op.\n",
      "INFO:tensorflow:Done running local_init_op.\n",
      "INFO:tensorflow:Evaluation [10/100]\n",
      "INFO:tensorflow:Evaluation [20/100]\n",
      "INFO:tensorflow:Evaluation [30/100]\n",
      "INFO:tensorflow:Evaluation [40/100]\n",
      "INFO:tensorflow:Evaluation [50/100]\n",
      "INFO:tensorflow:Evaluation [60/100]\n",
      "INFO:tensorflow:Evaluation [70/100]\n",
      "INFO:tensorflow:Evaluation [80/100]\n",
      "INFO:tensorflow:Evaluation [90/100]\n",
      "INFO:tensorflow:Evaluation [100/100]\n",
      "INFO:tensorflow:Inference Time : 0.93181s\n",
      "INFO:tensorflow:Finished evaluation at 2020-03-30-12:04:45\n",
      "INFO:tensorflow:Saving dict for global step 1875: accuracy = 0.7875, average_loss = 0.68435043, global_step = 1875, loss = 0.68435043\n",
      "INFO:tensorflow:Saving 'checkpoint_path' summary for global step 1875: ./tmpdgizbfxq/model.ckpt-1875\n",
      "INFO:tensorflow:Loss for final step: 0.9596777.\n",
      "{'accuracy': 0.7875, 'average_loss': 0.68435043, 'loss': 0.68435043, 'global_step': 1875}\n",
      "Model cache_dir = ./tmpt95u6rt0\n",
      "INFO:tensorflow:Using default config.\n",
      "INFO:tensorflow:Using config: {'_model_dir': './tmpt95u6rt0', '_tf_random_seed': None, '_save_summary_steps': 100, '_save_checkpoints_steps': None, '_save_checkpoints_secs': 600, '_session_config': allow_soft_placement: true\n",
      "graph_options {\n",
      "  rewrite_options {\n",
      "    meta_optimizer_iterations: ONE\n",
      "  }\n",
      "}\n",
      ", '_keep_checkpoint_max': 5, '_keep_checkpoint_every_n_hours': 10000, '_log_step_count_steps': 100, '_train_distribute': None, '_device_fn': None, '_protocol': None, '_eval_distribute': None, '_experimental_distribute': None, '_experimental_max_worker_delay_secs': None, '_session_creation_timeout_secs': 7200, '_service': None, '_cluster_spec': ClusterSpec({}), '_task_type': 'worker', '_task_id': 0, '_global_id_in_cluster': 0, '_master': '', '_evaluation_master': '', '_is_chief': True, '_num_ps_replicas': 0, '_num_worker_replicas': 1}\n",
      "INFO:tensorflow:Not using Distribute Coordinator.\n",
      "INFO:tensorflow:Running training and evaluation locally (non-distributed).\n",
      "INFO:tensorflow:Start train and evaluate loop. The evaluate will happen after every checkpoint. Checkpoint frequency is determined based on RunConfig arguments: save_checkpoints_steps None or save_checkpoints_secs 600.\n",
      "INFO:tensorflow:Calling model_fn.\n",
      "INFO:tensorflow:Done calling model_fn.\n",
      "INFO:tensorflow:Create CheckpointSaverHook.\n",
      "INFO:tensorflow:Graph was finalized.\n",
      "INFO:tensorflow:Running local_init_op.\n",
      "INFO:tensorflow:Done running local_init_op.\n",
      "INFO:tensorflow:Saving checkpoints for 0 into ./tmpt95u6rt0/model.ckpt.\n",
      "INFO:tensorflow:loss = 16.226212, step = 0\n",
      "INFO:tensorflow:global_step/sec: 183.396\n",
      "INFO:tensorflow:loss = 2.692668, step = 100 (0.546 sec)\n",
      "INFO:tensorflow:global_step/sec: 220.806\n",
      "INFO:tensorflow:loss = 2.7003198, step = 200 (0.455 sec)\n",
      "INFO:tensorflow:global_step/sec: 240.769\n",
      "INFO:tensorflow:loss = 2.218093, step = 300 (0.414 sec)\n",
      "INFO:tensorflow:global_step/sec: 277.038\n",
      "INFO:tensorflow:loss = 2.4572759, step = 400 (0.362 sec)\n",
      "INFO:tensorflow:global_step/sec: 247.413\n",
      "INFO:tensorflow:loss = 1.6207292, step = 500 (0.404 sec)\n",
      "INFO:tensorflow:global_step/sec: 239.406\n",
      "INFO:tensorflow:loss = 1.9385046, step = 600 (0.418 sec)\n",
      "INFO:tensorflow:global_step/sec: 271.688\n",
      "INFO:tensorflow:loss = 2.2297277, step = 700 (0.368 sec)\n",
      "INFO:tensorflow:global_step/sec: 276.569\n",
      "INFO:tensorflow:loss = 1.8247628, step = 800 (0.362 sec)\n",
      "INFO:tensorflow:global_step/sec: 255.081\n",
      "INFO:tensorflow:loss = 1.8395475, step = 900 (0.392 sec)\n",
      "INFO:tensorflow:global_step/sec: 242.01\n",
      "INFO:tensorflow:loss = 1.7462577, step = 1000 (0.413 sec)\n",
      "INFO:tensorflow:global_step/sec: 296.4\n",
      "INFO:tensorflow:loss = 1.382045, step = 1100 (0.337 sec)\n",
      "INFO:tensorflow:global_step/sec: 241.956\n",
      "INFO:tensorflow:loss = 1.8329426, step = 1200 (0.414 sec)\n",
      "INFO:tensorflow:global_step/sec: 259.426\n",
      "INFO:tensorflow:loss = 1.5761784, step = 1300 (0.385 sec)\n",
      "INFO:tensorflow:global_step/sec: 233.666\n",
      "INFO:tensorflow:loss = 1.5143869, step = 1400 (0.428 sec)\n",
      "INFO:tensorflow:global_step/sec: 210.563\n",
      "INFO:tensorflow:loss = 1.4649335, step = 1500 (0.475 sec)\n",
      "INFO:tensorflow:global_step/sec: 255.74\n",
      "INFO:tensorflow:loss = 1.6218743, step = 1600 (0.392 sec)\n",
      "INFO:tensorflow:global_step/sec: 257.72\n",
      "INFO:tensorflow:loss = 1.4815631, step = 1700 (0.387 sec)\n",
      "INFO:tensorflow:global_step/sec: 275.628\n",
      "INFO:tensorflow:loss = 1.6735921, step = 1800 (0.369 sec)\n",
      "INFO:tensorflow:Saving checkpoints for 1875 into ./tmpt95u6rt0/model.ckpt.\n",
      "INFO:tensorflow:Calling model_fn.\n",
      "INFO:tensorflow:Done calling model_fn.\n",
      "INFO:tensorflow:Starting evaluation at 2020-03-30T12:04:56Z\n",
      "INFO:tensorflow:Graph was finalized.\n",
      "INFO:tensorflow:Restoring parameters from ./tmpt95u6rt0/model.ckpt-1875\n",
      "INFO:tensorflow:Running local_init_op.\n",
      "INFO:tensorflow:Done running local_init_op.\n",
      "INFO:tensorflow:Evaluation [10/100]\n",
      "INFO:tensorflow:Evaluation [20/100]\n",
      "INFO:tensorflow:Evaluation [30/100]\n",
      "INFO:tensorflow:Evaluation [40/100]\n",
      "INFO:tensorflow:Evaluation [50/100]\n",
      "INFO:tensorflow:Evaluation [60/100]\n",
      "INFO:tensorflow:Evaluation [70/100]\n",
      "INFO:tensorflow:Evaluation [80/100]\n",
      "INFO:tensorflow:Evaluation [90/100]\n",
      "INFO:tensorflow:Evaluation [100/100]\n",
      "INFO:tensorflow:Inference Time : 0.81301s\n",
      "INFO:tensorflow:Finished evaluation at 2020-03-30-12:04:57\n",
      "INFO:tensorflow:Saving dict for global step 1875: accuracy = 0.651875, average_loss = 1.070614, global_step = 1875, loss = 1.070614\n",
      "INFO:tensorflow:Saving 'checkpoint_path' summary for global step 1875: ./tmpt95u6rt0/model.ckpt-1875\n",
      "INFO:tensorflow:Loss for final step: 1.1856625.\n",
      "{'accuracy': 0.651875, 'average_loss': 1.070614, 'loss': 1.070614, 'global_step': 1875}\n",
      "Model cache_dir = ./tmpsn8g7ksp\n",
      "INFO:tensorflow:Using default config.\n",
      "INFO:tensorflow:Using config: {'_model_dir': './tmpsn8g7ksp', '_tf_random_seed': None, '_save_summary_steps': 100, '_save_checkpoints_steps': None, '_save_checkpoints_secs': 600, '_session_config': allow_soft_placement: true\n",
      "graph_options {\n",
      "  rewrite_options {\n",
      "    meta_optimizer_iterations: ONE\n",
      "  }\n",
      "}\n",
      ", '_keep_checkpoint_max': 5, '_keep_checkpoint_every_n_hours': 10000, '_log_step_count_steps': 100, '_train_distribute': None, '_device_fn': None, '_protocol': None, '_eval_distribute': None, '_experimental_distribute': None, '_experimental_max_worker_delay_secs': None, '_session_creation_timeout_secs': 7200, '_service': None, '_cluster_spec': ClusterSpec({}), '_task_type': 'worker', '_task_id': 0, '_global_id_in_cluster': 0, '_master': '', '_evaluation_master': '', '_is_chief': True, '_num_ps_replicas': 0, '_num_worker_replicas': 1}\n",
      "INFO:tensorflow:Not using Distribute Coordinator.\n",
      "INFO:tensorflow:Running training and evaluation locally (non-distributed).\n",
      "INFO:tensorflow:Start train and evaluate loop. The evaluate will happen after every checkpoint. Checkpoint frequency is determined based on RunConfig arguments: save_checkpoints_steps None or save_checkpoints_secs 600.\n",
      "INFO:tensorflow:Calling model_fn.\n",
      "INFO:tensorflow:Done calling model_fn.\n",
      "INFO:tensorflow:Create CheckpointSaverHook.\n",
      "INFO:tensorflow:Graph was finalized.\n",
      "INFO:tensorflow:Running local_init_op.\n",
      "INFO:tensorflow:Done running local_init_op.\n",
      "INFO:tensorflow:Saving checkpoints for 0 into ./tmpsn8g7ksp/model.ckpt.\n",
      "INFO:tensorflow:loss = 20.152134, step = 0\n",
      "INFO:tensorflow:global_step/sec: 238.023\n",
      "INFO:tensorflow:loss = 1.8792467, step = 100 (0.421 sec)\n",
      "INFO:tensorflow:global_step/sec: 274.847\n",
      "INFO:tensorflow:loss = 1.658916, step = 200 (0.364 sec)\n",
      "INFO:tensorflow:global_step/sec: 278.351\n",
      "INFO:tensorflow:loss = 1.6225513, step = 300 (0.359 sec)\n",
      "INFO:tensorflow:global_step/sec: 291.597\n",
      "INFO:tensorflow:loss = 1.0963075, step = 400 (0.343 sec)\n",
      "INFO:tensorflow:global_step/sec: 272.102\n",
      "INFO:tensorflow:loss = 0.8494574, step = 500 (0.368 sec)\n",
      "INFO:tensorflow:global_step/sec: 290.863\n",
      "INFO:tensorflow:loss = 1.0557442, step = 600 (0.343 sec)\n",
      "INFO:tensorflow:global_step/sec: 299.97\n",
      "INFO:tensorflow:loss = 0.7482351, step = 700 (0.333 sec)\n",
      "INFO:tensorflow:global_step/sec: 287.922\n",
      "INFO:tensorflow:loss = 1.1603718, step = 800 (0.349 sec)\n",
      "INFO:tensorflow:global_step/sec: 283.291\n",
      "INFO:tensorflow:loss = 1.511337, step = 900 (0.352 sec)\n",
      "INFO:tensorflow:global_step/sec: 305.65\n",
      "INFO:tensorflow:loss = 0.584775, step = 1000 (0.328 sec)\n",
      "INFO:tensorflow:global_step/sec: 274.19\n",
      "INFO:tensorflow:loss = 0.5614671, step = 1100 (0.364 sec)\n",
      "INFO:tensorflow:global_step/sec: 300.612\n",
      "INFO:tensorflow:loss = 0.5295327, step = 1200 (0.334 sec)\n",
      "INFO:tensorflow:global_step/sec: 287.289\n",
      "INFO:tensorflow:loss = 0.76781726, step = 1300 (0.347 sec)\n",
      "INFO:tensorflow:global_step/sec: 311.314\n",
      "INFO:tensorflow:loss = 0.64280623, step = 1400 (0.321 sec)\n",
      "INFO:tensorflow:global_step/sec: 286.382\n",
      "INFO:tensorflow:loss = 0.46656206, step = 1500 (0.349 sec)\n",
      "INFO:tensorflow:global_step/sec: 234.144\n",
      "INFO:tensorflow:loss = 0.70736086, step = 1600 (0.427 sec)\n",
      "INFO:tensorflow:global_step/sec: 252.676\n",
      "INFO:tensorflow:loss = 0.58259225, step = 1700 (0.398 sec)\n",
      "INFO:tensorflow:global_step/sec: 279.731\n",
      "INFO:tensorflow:loss = 0.71588385, step = 1800 (0.356 sec)\n",
      "INFO:tensorflow:Saving checkpoints for 1875 into ./tmpsn8g7ksp/model.ckpt.\n",
      "INFO:tensorflow:Calling model_fn.\n",
      "INFO:tensorflow:Done calling model_fn.\n",
      "INFO:tensorflow:Starting evaluation at 2020-03-30T12:05:07Z\n",
      "INFO:tensorflow:Graph was finalized.\n",
      "INFO:tensorflow:Restoring parameters from ./tmpsn8g7ksp/model.ckpt-1875\n",
      "INFO:tensorflow:Running local_init_op.\n",
      "INFO:tensorflow:Done running local_init_op.\n",
      "INFO:tensorflow:Evaluation [10/100]\n",
      "INFO:tensorflow:Evaluation [20/100]\n",
      "INFO:tensorflow:Evaluation [30/100]\n",
      "INFO:tensorflow:Evaluation [40/100]\n",
      "INFO:tensorflow:Evaluation [50/100]\n",
      "INFO:tensorflow:Evaluation [60/100]\n",
      "INFO:tensorflow:Evaluation [70/100]\n",
      "INFO:tensorflow:Evaluation [80/100]\n",
      "INFO:tensorflow:Evaluation [90/100]\n",
      "INFO:tensorflow:Evaluation [100/100]\n",
      "INFO:tensorflow:Inference Time : 0.92752s\n",
      "INFO:tensorflow:Finished evaluation at 2020-03-30-12:05:08\n",
      "INFO:tensorflow:Saving dict for global step 1875: accuracy = 0.8253125, average_loss = 0.59284765, global_step = 1875, loss = 0.59284765\n",
      "INFO:tensorflow:Saving 'checkpoint_path' summary for global step 1875: ./tmpsn8g7ksp/model.ckpt-1875\n",
      "INFO:tensorflow:Loss for final step: 0.54520404.\n",
      "{'accuracy': 0.8253125, 'average_loss': 0.59284765, 'loss': 0.59284765, 'global_step': 1875}\n",
      "Model cache_dir = ./tmp5_wa2_mg\n",
      "INFO:tensorflow:Using default config.\n",
      "INFO:tensorflow:Using config: {'_model_dir': './tmp5_wa2_mg', '_tf_random_seed': None, '_save_summary_steps': 100, '_save_checkpoints_steps': None, '_save_checkpoints_secs': 600, '_session_config': allow_soft_placement: true\n",
      "graph_options {\n",
      "  rewrite_options {\n",
      "    meta_optimizer_iterations: ONE\n",
      "  }\n",
      "}\n",
      ", '_keep_checkpoint_max': 5, '_keep_checkpoint_every_n_hours': 10000, '_log_step_count_steps': 100, '_train_distribute': None, '_device_fn': None, '_protocol': None, '_eval_distribute': None, '_experimental_distribute': None, '_experimental_max_worker_delay_secs': None, '_session_creation_timeout_secs': 7200, '_service': None, '_cluster_spec': ClusterSpec({}), '_task_type': 'worker', '_task_id': 0, '_global_id_in_cluster': 0, '_master': '', '_evaluation_master': '', '_is_chief': True, '_num_ps_replicas': 0, '_num_worker_replicas': 1}\n",
      "INFO:tensorflow:Not using Distribute Coordinator.\n",
      "INFO:tensorflow:Running training and evaluation locally (non-distributed).\n",
      "INFO:tensorflow:Start train and evaluate loop. The evaluate will happen after every checkpoint. Checkpoint frequency is determined based on RunConfig arguments: save_checkpoints_steps None or save_checkpoints_secs 600.\n",
      "INFO:tensorflow:Calling model_fn.\n",
      "INFO:tensorflow:Done calling model_fn.\n",
      "INFO:tensorflow:Create CheckpointSaverHook.\n",
      "INFO:tensorflow:Graph was finalized.\n",
      "INFO:tensorflow:Running local_init_op.\n",
      "INFO:tensorflow:Done running local_init_op.\n",
      "INFO:tensorflow:Saving checkpoints for 0 into ./tmp5_wa2_mg/model.ckpt.\n",
      "INFO:tensorflow:loss = 12.6047125, step = 0\n",
      "INFO:tensorflow:global_step/sec: 205.008\n",
      "INFO:tensorflow:loss = 1.4456165, step = 100 (0.489 sec)\n",
      "INFO:tensorflow:global_step/sec: 286.416\n",
      "INFO:tensorflow:loss = 1.3383181, step = 200 (0.349 sec)\n",
      "INFO:tensorflow:global_step/sec: 304.123\n",
      "INFO:tensorflow:loss = 1.2489202, step = 300 (0.330 sec)\n",
      "INFO:tensorflow:global_step/sec: 247.761\n",
      "INFO:tensorflow:loss = 1.1275094, step = 400 (0.402 sec)\n",
      "INFO:tensorflow:global_step/sec: 295.453\n",
      "INFO:tensorflow:loss = 1.2158077, step = 500 (0.340 sec)\n",
      "INFO:tensorflow:global_step/sec: 246.989\n",
      "INFO:tensorflow:loss = 0.87344813, step = 600 (0.403 sec)\n",
      "INFO:tensorflow:global_step/sec: 256.208\n",
      "INFO:tensorflow:loss = 0.8969176, step = 700 (0.391 sec)\n",
      "INFO:tensorflow:global_step/sec: 265.073\n",
      "INFO:tensorflow:loss = 0.4602265, step = 800 (0.377 sec)\n",
      "INFO:tensorflow:global_step/sec: 271.578\n",
      "INFO:tensorflow:loss = 0.76301026, step = 900 (0.368 sec)\n",
      "INFO:tensorflow:global_step/sec: 232.164\n",
      "INFO:tensorflow:loss = 0.824205, step = 1000 (0.431 sec)\n",
      "INFO:tensorflow:global_step/sec: 218.714\n",
      "INFO:tensorflow:loss = 0.8019817, step = 1100 (0.457 sec)\n",
      "INFO:tensorflow:global_step/sec: 224.42\n",
      "INFO:tensorflow:loss = 0.64071923, step = 1200 (0.447 sec)\n",
      "INFO:tensorflow:global_step/sec: 264.592\n",
      "INFO:tensorflow:loss = 0.95427215, step = 1300 (0.377 sec)\n",
      "INFO:tensorflow:global_step/sec: 216.727\n",
      "INFO:tensorflow:loss = 0.43650535, step = 1400 (0.470 sec)\n",
      "INFO:tensorflow:global_step/sec: 254.599\n",
      "INFO:tensorflow:loss = 0.33017546, step = 1500 (0.384 sec)\n",
      "INFO:tensorflow:global_step/sec: 231.734\n",
      "INFO:tensorflow:loss = 0.81957364, step = 1600 (0.432 sec)\n",
      "INFO:tensorflow:global_step/sec: 198.756\n",
      "INFO:tensorflow:loss = 0.38792336, step = 1700 (0.503 sec)\n",
      "INFO:tensorflow:global_step/sec: 240.445\n",
      "INFO:tensorflow:loss = 0.3323075, step = 1800 (0.417 sec)\n",
      "INFO:tensorflow:Saving checkpoints for 1875 into ./tmp5_wa2_mg/model.ckpt.\n",
      "INFO:tensorflow:Calling model_fn.\n",
      "INFO:tensorflow:Done calling model_fn.\n",
      "INFO:tensorflow:Starting evaluation at 2020-03-30T12:05:19Z\n",
      "INFO:tensorflow:Graph was finalized.\n",
      "INFO:tensorflow:Restoring parameters from ./tmp5_wa2_mg/model.ckpt-1875\n",
      "INFO:tensorflow:Running local_init_op.\n",
      "INFO:tensorflow:Done running local_init_op.\n",
      "INFO:tensorflow:Evaluation [10/100]\n",
      "INFO:tensorflow:Evaluation [20/100]\n",
      "INFO:tensorflow:Evaluation [30/100]\n",
      "INFO:tensorflow:Evaluation [40/100]\n",
      "INFO:tensorflow:Evaluation [50/100]\n",
      "INFO:tensorflow:Evaluation [60/100]\n",
      "INFO:tensorflow:Evaluation [70/100]\n",
      "INFO:tensorflow:Evaluation [80/100]\n",
      "INFO:tensorflow:Evaluation [90/100]\n",
      "INFO:tensorflow:Evaluation [100/100]\n",
      "INFO:tensorflow:Inference Time : 0.95891s\n",
      "INFO:tensorflow:Finished evaluation at 2020-03-30-12:05:20\n",
      "INFO:tensorflow:Saving dict for global step 1875: accuracy = 0.811875, average_loss = 0.59148943, global_step = 1875, loss = 0.59148943\n",
      "INFO:tensorflow:Saving 'checkpoint_path' summary for global step 1875: ./tmp5_wa2_mg/model.ckpt-1875\n",
      "INFO:tensorflow:Loss for final step: 0.75646603.\n",
      "{'accuracy': 0.811875, 'average_loss': 0.59148943, 'loss': 0.59148943, 'global_step': 1875}\n",
      "Model cache_dir = ./tmpdfev6238\n",
      "INFO:tensorflow:Using default config.\n",
      "INFO:tensorflow:Using config: {'_model_dir': './tmpdfev6238', '_tf_random_seed': None, '_save_summary_steps': 100, '_save_checkpoints_steps': None, '_save_checkpoints_secs': 600, '_session_config': allow_soft_placement: true\n",
      "graph_options {\n",
      "  rewrite_options {\n",
      "    meta_optimizer_iterations: ONE\n",
      "  }\n",
      "}\n",
      ", '_keep_checkpoint_max': 5, '_keep_checkpoint_every_n_hours': 10000, '_log_step_count_steps': 100, '_train_distribute': None, '_device_fn': None, '_protocol': None, '_eval_distribute': None, '_experimental_distribute': None, '_experimental_max_worker_delay_secs': None, '_session_creation_timeout_secs': 7200, '_service': None, '_cluster_spec': ClusterSpec({}), '_task_type': 'worker', '_task_id': 0, '_global_id_in_cluster': 0, '_master': '', '_evaluation_master': '', '_is_chief': True, '_num_ps_replicas': 0, '_num_worker_replicas': 1}\n",
      "INFO:tensorflow:Not using Distribute Coordinator.\n",
      "INFO:tensorflow:Running training and evaluation locally (non-distributed).\n",
      "INFO:tensorflow:Start train and evaluate loop. The evaluate will happen after every checkpoint. Checkpoint frequency is determined based on RunConfig arguments: save_checkpoints_steps None or save_checkpoints_secs 600.\n",
      "INFO:tensorflow:Calling model_fn.\n",
      "INFO:tensorflow:Done calling model_fn.\n",
      "INFO:tensorflow:Create CheckpointSaverHook.\n",
      "INFO:tensorflow:Graph was finalized.\n",
      "INFO:tensorflow:Running local_init_op.\n",
      "INFO:tensorflow:Done running local_init_op.\n",
      "INFO:tensorflow:Saving checkpoints for 0 into ./tmpdfev6238/model.ckpt.\n",
      "INFO:tensorflow:loss = 16.38348, step = 0\n",
      "INFO:tensorflow:global_step/sec: 224.208\n",
      "INFO:tensorflow:loss = 1.5948288, step = 100 (0.447 sec)\n",
      "INFO:tensorflow:global_step/sec: 237.763\n",
      "INFO:tensorflow:loss = 2.2199347, step = 200 (0.421 sec)\n",
      "INFO:tensorflow:global_step/sec: 288.86\n",
      "INFO:tensorflow:loss = 1.1709713, step = 300 (0.346 sec)\n",
      "INFO:tensorflow:global_step/sec: 262.571\n",
      "INFO:tensorflow:loss = 1.3095188, step = 400 (0.381 sec)\n",
      "INFO:tensorflow:global_step/sec: 230.178\n",
      "INFO:tensorflow:loss = 1.1111419, step = 500 (0.434 sec)\n",
      "INFO:tensorflow:global_step/sec: 215.941\n",
      "INFO:tensorflow:loss = 1.0184168, step = 600 (0.463 sec)\n",
      "INFO:tensorflow:global_step/sec: 252.122\n",
      "INFO:tensorflow:loss = 1.1809452, step = 700 (0.397 sec)\n",
      "INFO:tensorflow:global_step/sec: 256.832\n",
      "INFO:tensorflow:loss = 1.0951715, step = 800 (0.391 sec)\n",
      "INFO:tensorflow:global_step/sec: 252.677\n",
      "INFO:tensorflow:loss = 0.98244894, step = 900 (0.394 sec)\n",
      "INFO:tensorflow:global_step/sec: 248.28\n",
      "INFO:tensorflow:loss = 0.70784914, step = 1000 (0.403 sec)\n",
      "INFO:tensorflow:global_step/sec: 240.003\n",
      "INFO:tensorflow:loss = 0.6917085, step = 1100 (0.416 sec)\n",
      "INFO:tensorflow:global_step/sec: 209.513\n",
      "INFO:tensorflow:loss = 1.1536894, step = 1200 (0.491 sec)\n",
      "INFO:tensorflow:global_step/sec: 258.285\n",
      "INFO:tensorflow:loss = 0.751398, step = 1300 (0.374 sec)\n",
      "INFO:tensorflow:global_step/sec: 294.386\n",
      "INFO:tensorflow:loss = 0.9855714, step = 1400 (0.338 sec)\n",
      "INFO:tensorflow:global_step/sec: 291.897\n",
      "INFO:tensorflow:loss = 0.5915357, step = 1500 (0.344 sec)\n",
      "INFO:tensorflow:global_step/sec: 293.562\n",
      "INFO:tensorflow:loss = 0.80283165, step = 1600 (0.339 sec)\n",
      "INFO:tensorflow:global_step/sec: 305.727\n",
      "INFO:tensorflow:loss = 0.5411151, step = 1700 (0.327 sec)\n",
      "INFO:tensorflow:global_step/sec: 297.327\n",
      "INFO:tensorflow:loss = 1.038727, step = 1800 (0.337 sec)\n",
      "INFO:tensorflow:Saving checkpoints for 1875 into ./tmpdfev6238/model.ckpt.\n",
      "INFO:tensorflow:Calling model_fn.\n",
      "INFO:tensorflow:Done calling model_fn.\n",
      "INFO:tensorflow:Starting evaluation at 2020-03-30T12:05:30Z\n",
      "INFO:tensorflow:Graph was finalized.\n",
      "INFO:tensorflow:Restoring parameters from ./tmpdfev6238/model.ckpt-1875\n",
      "INFO:tensorflow:Running local_init_op.\n",
      "INFO:tensorflow:Done running local_init_op.\n",
      "INFO:tensorflow:Evaluation [10/100]\n",
      "INFO:tensorflow:Evaluation [20/100]\n",
      "INFO:tensorflow:Evaluation [30/100]\n",
      "INFO:tensorflow:Evaluation [40/100]\n",
      "INFO:tensorflow:Evaluation [50/100]\n",
      "INFO:tensorflow:Evaluation [60/100]\n",
      "INFO:tensorflow:Evaluation [70/100]\n",
      "INFO:tensorflow:Evaluation [80/100]\n",
      "INFO:tensorflow:Evaluation [90/100]\n",
      "INFO:tensorflow:Evaluation [100/100]\n",
      "INFO:tensorflow:Inference Time : 0.77140s\n",
      "INFO:tensorflow:Finished evaluation at 2020-03-30-12:05:31\n",
      "INFO:tensorflow:Saving dict for global step 1875: accuracy = 0.8025, average_loss = 0.65571076, global_step = 1875, loss = 0.65571076\n",
      "INFO:tensorflow:Saving 'checkpoint_path' summary for global step 1875: ./tmpdfev6238/model.ckpt-1875\n",
      "INFO:tensorflow:Loss for final step: 0.7453183.\n",
      "{'accuracy': 0.8025, 'average_loss': 0.65571076, 'loss': 0.65571076, 'global_step': 1875}\n",
      "Model cache_dir = ./tmp_cdnkswq\n",
      "INFO:tensorflow:Using default config.\n",
      "INFO:tensorflow:Using config: {'_model_dir': './tmp_cdnkswq', '_tf_random_seed': None, '_save_summary_steps': 100, '_save_checkpoints_steps': None, '_save_checkpoints_secs': 600, '_session_config': allow_soft_placement: true\n",
      "graph_options {\n",
      "  rewrite_options {\n",
      "    meta_optimizer_iterations: ONE\n",
      "  }\n",
      "}\n",
      ", '_keep_checkpoint_max': 5, '_keep_checkpoint_every_n_hours': 10000, '_log_step_count_steps': 100, '_train_distribute': None, '_device_fn': None, '_protocol': None, '_eval_distribute': None, '_experimental_distribute': None, '_experimental_max_worker_delay_secs': None, '_session_creation_timeout_secs': 7200, '_service': None, '_cluster_spec': ClusterSpec({}), '_task_type': 'worker', '_task_id': 0, '_global_id_in_cluster': 0, '_master': '', '_evaluation_master': '', '_is_chief': True, '_num_ps_replicas': 0, '_num_worker_replicas': 1}\n",
      "INFO:tensorflow:Not using Distribute Coordinator.\n",
      "INFO:tensorflow:Running training and evaluation locally (non-distributed).\n",
      "INFO:tensorflow:Start train and evaluate loop. The evaluate will happen after every checkpoint. Checkpoint frequency is determined based on RunConfig arguments: save_checkpoints_steps None or save_checkpoints_secs 600.\n",
      "INFO:tensorflow:Calling model_fn.\n",
      "INFO:tensorflow:Done calling model_fn.\n",
      "INFO:tensorflow:Create CheckpointSaverHook.\n",
      "INFO:tensorflow:Graph was finalized.\n",
      "INFO:tensorflow:Running local_init_op.\n",
      "INFO:tensorflow:Done running local_init_op.\n",
      "INFO:tensorflow:Saving checkpoints for 0 into ./tmp_cdnkswq/model.ckpt.\n",
      "INFO:tensorflow:loss = 11.441454, step = 0\n",
      "INFO:tensorflow:global_step/sec: 251.9\n",
      "INFO:tensorflow:loss = 1.7707877, step = 100 (0.401 sec)\n",
      "INFO:tensorflow:global_step/sec: 267.059\n",
      "INFO:tensorflow:loss = 2.292027, step = 200 (0.372 sec)\n",
      "INFO:tensorflow:global_step/sec: 288.386\n",
      "INFO:tensorflow:loss = 1.1489522, step = 300 (0.347 sec)\n",
      "INFO:tensorflow:global_step/sec: 278.579\n",
      "INFO:tensorflow:loss = 1.2818854, step = 400 (0.359 sec)\n",
      "INFO:tensorflow:global_step/sec: 269.092\n",
      "INFO:tensorflow:loss = 1.0993898, step = 500 (0.371 sec)\n",
      "INFO:tensorflow:global_step/sec: 297.293\n",
      "INFO:tensorflow:loss = 0.89157474, step = 600 (0.336 sec)\n",
      "INFO:tensorflow:global_step/sec: 264.635\n",
      "INFO:tensorflow:loss = 0.8939902, step = 700 (0.378 sec)\n",
      "INFO:tensorflow:global_step/sec: 303.803\n",
      "INFO:tensorflow:loss = 0.79229367, step = 800 (0.330 sec)\n",
      "INFO:tensorflow:global_step/sec: 292.461\n",
      "INFO:tensorflow:loss = 0.8745107, step = 900 (0.341 sec)\n",
      "INFO:tensorflow:global_step/sec: 262.538\n",
      "INFO:tensorflow:loss = 1.1781421, step = 1000 (0.381 sec)\n",
      "INFO:tensorflow:global_step/sec: 276.72\n",
      "INFO:tensorflow:loss = 0.8202246, step = 1100 (0.361 sec)\n",
      "INFO:tensorflow:global_step/sec: 281.471\n",
      "INFO:tensorflow:loss = 0.25441632, step = 1200 (0.355 sec)\n",
      "INFO:tensorflow:global_step/sec: 276.147\n",
      "INFO:tensorflow:loss = 0.4734861, step = 1300 (0.364 sec)\n",
      "INFO:tensorflow:global_step/sec: 292.808\n",
      "INFO:tensorflow:loss = 1.0181015, step = 1400 (0.340 sec)\n",
      "INFO:tensorflow:global_step/sec: 291.548\n",
      "INFO:tensorflow:loss = 0.40412962, step = 1500 (0.343 sec)\n",
      "INFO:tensorflow:global_step/sec: 292.385\n",
      "INFO:tensorflow:loss = 0.5632899, step = 1600 (0.342 sec)\n",
      "INFO:tensorflow:global_step/sec: 273.331\n",
      "INFO:tensorflow:loss = 0.53162783, step = 1700 (0.366 sec)\n",
      "INFO:tensorflow:global_step/sec: 285.935\n",
      "INFO:tensorflow:loss = 0.84050244, step = 1800 (0.350 sec)\n",
      "INFO:tensorflow:Saving checkpoints for 1875 into ./tmp_cdnkswq/model.ckpt.\n",
      "INFO:tensorflow:Calling model_fn.\n",
      "INFO:tensorflow:Done calling model_fn.\n",
      "INFO:tensorflow:Starting evaluation at 2020-03-30T12:05:41Z\n",
      "INFO:tensorflow:Graph was finalized.\n",
      "INFO:tensorflow:Restoring parameters from ./tmp_cdnkswq/model.ckpt-1875\n",
      "INFO:tensorflow:Running local_init_op.\n",
      "INFO:tensorflow:Done running local_init_op.\n",
      "INFO:tensorflow:Evaluation [10/100]\n",
      "INFO:tensorflow:Evaluation [20/100]\n",
      "INFO:tensorflow:Evaluation [30/100]\n",
      "INFO:tensorflow:Evaluation [40/100]\n",
      "INFO:tensorflow:Evaluation [50/100]\n",
      "INFO:tensorflow:Evaluation [60/100]\n",
      "INFO:tensorflow:Evaluation [70/100]\n",
      "INFO:tensorflow:Evaluation [80/100]\n",
      "INFO:tensorflow:Evaluation [90/100]\n",
      "INFO:tensorflow:Evaluation [100/100]\n",
      "INFO:tensorflow:Inference Time : 0.89081s\n",
      "INFO:tensorflow:Finished evaluation at 2020-03-30-12:05:42\n",
      "INFO:tensorflow:Saving dict for global step 1875: accuracy = 0.8025, average_loss = 0.6295652, global_step = 1875, loss = 0.6295652\n",
      "INFO:tensorflow:Saving 'checkpoint_path' summary for global step 1875: ./tmp_cdnkswq/model.ckpt-1875\n",
      "INFO:tensorflow:Loss for final step: 0.913809.\n",
      "{'accuracy': 0.8025, 'average_loss': 0.6295652, 'loss': 0.6295652, 'global_step': 1875}\n",
      "Model cache_dir = ./tmptukrz__g\n",
      "INFO:tensorflow:Using default config.\n",
      "INFO:tensorflow:Using config: {'_model_dir': './tmptukrz__g', '_tf_random_seed': None, '_save_summary_steps': 100, '_save_checkpoints_steps': None, '_save_checkpoints_secs': 600, '_session_config': allow_soft_placement: true\n",
      "graph_options {\n",
      "  rewrite_options {\n",
      "    meta_optimizer_iterations: ONE\n",
      "  }\n",
      "}\n",
      ", '_keep_checkpoint_max': 5, '_keep_checkpoint_every_n_hours': 10000, '_log_step_count_steps': 100, '_train_distribute': None, '_device_fn': None, '_protocol': None, '_eval_distribute': None, '_experimental_distribute': None, '_experimental_max_worker_delay_secs': None, '_session_creation_timeout_secs': 7200, '_service': None, '_cluster_spec': ClusterSpec({}), '_task_type': 'worker', '_task_id': 0, '_global_id_in_cluster': 0, '_master': '', '_evaluation_master': '', '_is_chief': True, '_num_ps_replicas': 0, '_num_worker_replicas': 1}\n",
      "INFO:tensorflow:Not using Distribute Coordinator.\n",
      "INFO:tensorflow:Running training and evaluation locally (non-distributed).\n",
      "INFO:tensorflow:Start train and evaluate loop. The evaluate will happen after every checkpoint. Checkpoint frequency is determined based on RunConfig arguments: save_checkpoints_steps None or save_checkpoints_secs 600.\n",
      "INFO:tensorflow:Calling model_fn.\n",
      "INFO:tensorflow:Done calling model_fn.\n",
      "INFO:tensorflow:Create CheckpointSaverHook.\n",
      "INFO:tensorflow:Graph was finalized.\n",
      "INFO:tensorflow:Running local_init_op.\n",
      "INFO:tensorflow:Done running local_init_op.\n",
      "INFO:tensorflow:Saving checkpoints for 0 into ./tmptukrz__g/model.ckpt.\n",
      "INFO:tensorflow:loss = 15.654846, step = 0\n",
      "INFO:tensorflow:global_step/sec: 216.708\n",
      "INFO:tensorflow:loss = 1.8593738, step = 100 (0.464 sec)\n",
      "INFO:tensorflow:global_step/sec: 281.817\n",
      "INFO:tensorflow:loss = 1.6003333, step = 200 (0.355 sec)\n",
      "INFO:tensorflow:global_step/sec: 257.729\n",
      "INFO:tensorflow:loss = 1.1620612, step = 300 (0.386 sec)\n",
      "INFO:tensorflow:global_step/sec: 251.548\n",
      "INFO:tensorflow:loss = 1.3972168, step = 400 (0.399 sec)\n",
      "INFO:tensorflow:global_step/sec: 286.154\n",
      "INFO:tensorflow:loss = 1.0553542, step = 500 (0.348 sec)\n",
      "INFO:tensorflow:global_step/sec: 278.297\n",
      "INFO:tensorflow:loss = 0.93207324, step = 600 (0.361 sec)\n",
      "INFO:tensorflow:global_step/sec: 272.686\n",
      "INFO:tensorflow:loss = 0.9836473, step = 700 (0.364 sec)\n",
      "INFO:tensorflow:global_step/sec: 269.753\n",
      "INFO:tensorflow:loss = 0.9226068, step = 800 (0.371 sec)\n",
      "INFO:tensorflow:global_step/sec: 287.794\n",
      "INFO:tensorflow:loss = 0.88675934, step = 900 (0.348 sec)\n",
      "INFO:tensorflow:global_step/sec: 280.393\n",
      "INFO:tensorflow:loss = 0.9735681, step = 1000 (0.357 sec)\n",
      "INFO:tensorflow:global_step/sec: 296.445\n",
      "INFO:tensorflow:loss = 1.0065622, step = 1100 (0.337 sec)\n",
      "INFO:tensorflow:global_step/sec: 285.154\n",
      "INFO:tensorflow:loss = 0.8621943, step = 1200 (0.350 sec)\n",
      "INFO:tensorflow:global_step/sec: 257.387\n",
      "INFO:tensorflow:loss = 1.2788693, step = 1300 (0.389 sec)\n",
      "INFO:tensorflow:global_step/sec: 289.797\n",
      "INFO:tensorflow:loss = 0.8712596, step = 1400 (0.345 sec)\n",
      "INFO:tensorflow:global_step/sec: 269.124\n",
      "INFO:tensorflow:loss = 1.0105321, step = 1500 (0.372 sec)\n",
      "INFO:tensorflow:global_step/sec: 270.089\n",
      "INFO:tensorflow:loss = 0.60725844, step = 1600 (0.370 sec)\n",
      "INFO:tensorflow:global_step/sec: 279.97\n",
      "INFO:tensorflow:loss = 0.68772817, step = 1700 (0.358 sec)\n",
      "INFO:tensorflow:global_step/sec: 238.712\n",
      "INFO:tensorflow:loss = 0.85163593, step = 1800 (0.418 sec)\n",
      "INFO:tensorflow:Saving checkpoints for 1875 into ./tmptukrz__g/model.ckpt.\n",
      "INFO:tensorflow:Calling model_fn.\n",
      "INFO:tensorflow:Done calling model_fn.\n",
      "INFO:tensorflow:Starting evaluation at 2020-03-30T12:05:52Z\n",
      "INFO:tensorflow:Graph was finalized.\n",
      "INFO:tensorflow:Restoring parameters from ./tmptukrz__g/model.ckpt-1875\n",
      "INFO:tensorflow:Running local_init_op.\n",
      "INFO:tensorflow:Done running local_init_op.\n",
      "INFO:tensorflow:Evaluation [10/100]\n",
      "INFO:tensorflow:Evaluation [20/100]\n",
      "INFO:tensorflow:Evaluation [30/100]\n",
      "INFO:tensorflow:Evaluation [40/100]\n",
      "INFO:tensorflow:Evaluation [50/100]\n",
      "INFO:tensorflow:Evaluation [60/100]\n",
      "INFO:tensorflow:Evaluation [70/100]\n",
      "INFO:tensorflow:Evaluation [80/100]\n",
      "INFO:tensorflow:Evaluation [90/100]\n",
      "INFO:tensorflow:Evaluation [100/100]\n",
      "INFO:tensorflow:Inference Time : 0.81833s\n",
      "INFO:tensorflow:Finished evaluation at 2020-03-30-12:05:53\n",
      "INFO:tensorflow:Saving dict for global step 1875: accuracy = 0.8040625, average_loss = 0.6362673, global_step = 1875, loss = 0.6362673\n",
      "INFO:tensorflow:Saving 'checkpoint_path' summary for global step 1875: ./tmptukrz__g/model.ckpt-1875\n",
      "INFO:tensorflow:Loss for final step: 0.91066897.\n",
      "{'accuracy': 0.8040625, 'average_loss': 0.6362673, 'loss': 0.6362673, 'global_step': 1875}\n",
      "Model cache_dir = ./tmplpkb77wa\n",
      "INFO:tensorflow:Using default config.\n",
      "INFO:tensorflow:Using config: {'_model_dir': './tmplpkb77wa', '_tf_random_seed': None, '_save_summary_steps': 100, '_save_checkpoints_steps': None, '_save_checkpoints_secs': 600, '_session_config': allow_soft_placement: true\n",
      "graph_options {\n",
      "  rewrite_options {\n",
      "    meta_optimizer_iterations: ONE\n",
      "  }\n",
      "}\n",
      ", '_keep_checkpoint_max': 5, '_keep_checkpoint_every_n_hours': 10000, '_log_step_count_steps': 100, '_train_distribute': None, '_device_fn': None, '_protocol': None, '_eval_distribute': None, '_experimental_distribute': None, '_experimental_max_worker_delay_secs': None, '_session_creation_timeout_secs': 7200, '_service': None, '_cluster_spec': ClusterSpec({}), '_task_type': 'worker', '_task_id': 0, '_global_id_in_cluster': 0, '_master': '', '_evaluation_master': '', '_is_chief': True, '_num_ps_replicas': 0, '_num_worker_replicas': 1}\n",
      "INFO:tensorflow:Not using Distribute Coordinator.\n",
      "INFO:tensorflow:Running training and evaluation locally (non-distributed).\n",
      "INFO:tensorflow:Start train and evaluate loop. The evaluate will happen after every checkpoint. Checkpoint frequency is determined based on RunConfig arguments: save_checkpoints_steps None or save_checkpoints_secs 600.\n",
      "INFO:tensorflow:Calling model_fn.\n",
      "INFO:tensorflow:Done calling model_fn.\n",
      "INFO:tensorflow:Create CheckpointSaverHook.\n",
      "INFO:tensorflow:Graph was finalized.\n",
      "INFO:tensorflow:Running local_init_op.\n",
      "INFO:tensorflow:Done running local_init_op.\n",
      "INFO:tensorflow:Saving checkpoints for 0 into ./tmplpkb77wa/model.ckpt.\n",
      "INFO:tensorflow:loss = 17.739168, step = 0\n",
      "INFO:tensorflow:global_step/sec: 222.333\n",
      "INFO:tensorflow:loss = 2.1403692, step = 100 (0.451 sec)\n",
      "INFO:tensorflow:global_step/sec: 267.079\n",
      "INFO:tensorflow:loss = 2.1008353, step = 200 (0.374 sec)\n",
      "INFO:tensorflow:global_step/sec: 284.556\n",
      "INFO:tensorflow:loss = 1.1602151, step = 300 (0.353 sec)\n",
      "INFO:tensorflow:global_step/sec: 270.39\n",
      "INFO:tensorflow:loss = 1.3878288, step = 400 (0.369 sec)\n",
      "INFO:tensorflow:global_step/sec: 270.019\n",
      "INFO:tensorflow:loss = 1.39537, step = 500 (0.372 sec)\n",
      "INFO:tensorflow:global_step/sec: 314.657\n",
      "INFO:tensorflow:loss = 1.081218, step = 600 (0.317 sec)\n",
      "INFO:tensorflow:global_step/sec: 294.416\n",
      "INFO:tensorflow:loss = 0.8823037, step = 700 (0.339 sec)\n",
      "INFO:tensorflow:global_step/sec: 265.21\n",
      "INFO:tensorflow:loss = 0.983709, step = 800 (0.377 sec)\n",
      "INFO:tensorflow:global_step/sec: 282.65\n",
      "INFO:tensorflow:loss = 0.9051161, step = 900 (0.355 sec)\n",
      "INFO:tensorflow:global_step/sec: 293.271\n",
      "INFO:tensorflow:loss = 0.9350011, step = 1000 (0.340 sec)\n",
      "INFO:tensorflow:global_step/sec: 297.024\n",
      "INFO:tensorflow:loss = 1.1855998, step = 1100 (0.337 sec)\n",
      "INFO:tensorflow:global_step/sec: 283.171\n",
      "INFO:tensorflow:loss = 1.0825009, step = 1200 (0.353 sec)\n",
      "INFO:tensorflow:global_step/sec: 285.726\n",
      "INFO:tensorflow:loss = 1.1732724, step = 1300 (0.351 sec)\n",
      "INFO:tensorflow:global_step/sec: 244.246\n",
      "INFO:tensorflow:loss = 0.9405854, step = 1400 (0.408 sec)\n",
      "INFO:tensorflow:global_step/sec: 283.92\n",
      "INFO:tensorflow:loss = 0.43334275, step = 1500 (0.352 sec)\n",
      "INFO:tensorflow:global_step/sec: 290.378\n",
      "INFO:tensorflow:loss = 0.5481137, step = 1600 (0.344 sec)\n",
      "INFO:tensorflow:global_step/sec: 284.093\n",
      "INFO:tensorflow:loss = 0.69093984, step = 1700 (0.353 sec)\n",
      "INFO:tensorflow:global_step/sec: 275.719\n",
      "INFO:tensorflow:loss = 0.50855136, step = 1800 (0.363 sec)\n",
      "INFO:tensorflow:Saving checkpoints for 1875 into ./tmplpkb77wa/model.ckpt.\n",
      "INFO:tensorflow:Calling model_fn.\n",
      "INFO:tensorflow:Done calling model_fn.\n",
      "INFO:tensorflow:Starting evaluation at 2020-03-30T12:06:03Z\n",
      "INFO:tensorflow:Graph was finalized.\n",
      "INFO:tensorflow:Restoring parameters from ./tmplpkb77wa/model.ckpt-1875\n",
      "INFO:tensorflow:Running local_init_op.\n",
      "INFO:tensorflow:Done running local_init_op.\n",
      "INFO:tensorflow:Evaluation [10/100]\n",
      "INFO:tensorflow:Evaluation [20/100]\n",
      "INFO:tensorflow:Evaluation [30/100]\n",
      "INFO:tensorflow:Evaluation [40/100]\n",
      "INFO:tensorflow:Evaluation [50/100]\n",
      "INFO:tensorflow:Evaluation [60/100]\n",
      "INFO:tensorflow:Evaluation [70/100]\n",
      "INFO:tensorflow:Evaluation [80/100]\n",
      "INFO:tensorflow:Evaluation [90/100]\n",
      "INFO:tensorflow:Evaluation [100/100]\n",
      "INFO:tensorflow:Inference Time : 0.81576s\n",
      "INFO:tensorflow:Finished evaluation at 2020-03-30-12:06:04\n",
      "INFO:tensorflow:Saving dict for global step 1875: accuracy = 0.8009375, average_loss = 0.65411127, global_step = 1875, loss = 0.65411127\n",
      "INFO:tensorflow:Saving 'checkpoint_path' summary for global step 1875: ./tmplpkb77wa/model.ckpt-1875\n",
      "INFO:tensorflow:Loss for final step: 0.8086964.\n",
      "{'accuracy': 0.8009375, 'average_loss': 0.65411127, 'loss': 0.65411127, 'global_step': 1875}\n",
      "Model cache_dir = ./tmp9bgcfsov\n",
      "INFO:tensorflow:Using default config.\n",
      "INFO:tensorflow:Using config: {'_model_dir': './tmp9bgcfsov', '_tf_random_seed': None, '_save_summary_steps': 100, '_save_checkpoints_steps': None, '_save_checkpoints_secs': 600, '_session_config': allow_soft_placement: true\n",
      "graph_options {\n",
      "  rewrite_options {\n",
      "    meta_optimizer_iterations: ONE\n",
      "  }\n",
      "}\n",
      ", '_keep_checkpoint_max': 5, '_keep_checkpoint_every_n_hours': 10000, '_log_step_count_steps': 100, '_train_distribute': None, '_device_fn': None, '_protocol': None, '_eval_distribute': None, '_experimental_distribute': None, '_experimental_max_worker_delay_secs': None, '_session_creation_timeout_secs': 7200, '_service': None, '_cluster_spec': ClusterSpec({}), '_task_type': 'worker', '_task_id': 0, '_global_id_in_cluster': 0, '_master': '', '_evaluation_master': '', '_is_chief': True, '_num_ps_replicas': 0, '_num_worker_replicas': 1}\n",
      "INFO:tensorflow:Not using Distribute Coordinator.\n",
      "INFO:tensorflow:Running training and evaluation locally (non-distributed).\n",
      "INFO:tensorflow:Start train and evaluate loop. The evaluate will happen after every checkpoint. Checkpoint frequency is determined based on RunConfig arguments: save_checkpoints_steps None or save_checkpoints_secs 600.\n",
      "INFO:tensorflow:Calling model_fn.\n",
      "INFO:tensorflow:Done calling model_fn.\n",
      "INFO:tensorflow:Create CheckpointSaverHook.\n",
      "INFO:tensorflow:Graph was finalized.\n",
      "INFO:tensorflow:Running local_init_op.\n",
      "INFO:tensorflow:Done running local_init_op.\n",
      "INFO:tensorflow:Saving checkpoints for 0 into ./tmp9bgcfsov/model.ckpt.\n",
      "INFO:tensorflow:loss = 22.757256, step = 0\n",
      "INFO:tensorflow:global_step/sec: 247.287\n",
      "INFO:tensorflow:loss = 1.7680445, step = 100 (0.407 sec)\n",
      "INFO:tensorflow:global_step/sec: 262.036\n",
      "INFO:tensorflow:loss = 1.3932202, step = 200 (0.380 sec)\n",
      "INFO:tensorflow:global_step/sec: 256.01\n",
      "INFO:tensorflow:loss = 1.1549768, step = 300 (0.391 sec)\n",
      "INFO:tensorflow:global_step/sec: 259.827\n",
      "INFO:tensorflow:loss = 1.2705257, step = 400 (0.385 sec)\n",
      "INFO:tensorflow:global_step/sec: 250.044\n",
      "INFO:tensorflow:loss = 0.99305546, step = 500 (0.400 sec)\n",
      "INFO:tensorflow:global_step/sec: 251.948\n",
      "INFO:tensorflow:loss = 1.5508938, step = 600 (0.398 sec)\n",
      "INFO:tensorflow:global_step/sec: 291.747\n",
      "INFO:tensorflow:loss = 0.907424, step = 700 (0.343 sec)\n",
      "INFO:tensorflow:global_step/sec: 277.381\n",
      "INFO:tensorflow:loss = 1.5402931, step = 800 (0.361 sec)\n",
      "INFO:tensorflow:global_step/sec: 288.002\n",
      "INFO:tensorflow:loss = 1.0433514, step = 900 (0.346 sec)\n",
      "INFO:tensorflow:global_step/sec: 277.941\n",
      "INFO:tensorflow:loss = 0.64522827, step = 1000 (0.360 sec)\n",
      "INFO:tensorflow:global_step/sec: 253.202\n",
      "INFO:tensorflow:loss = 1.0533521, step = 1100 (0.396 sec)\n",
      "INFO:tensorflow:global_step/sec: 283.163\n",
      "INFO:tensorflow:loss = 0.64030826, step = 1200 (0.351 sec)\n",
      "INFO:tensorflow:global_step/sec: 282.436\n",
      "INFO:tensorflow:loss = 1.297197, step = 1300 (0.355 sec)\n",
      "INFO:tensorflow:global_step/sec: 273.847\n",
      "INFO:tensorflow:loss = 0.6808253, step = 1400 (0.365 sec)\n",
      "INFO:tensorflow:global_step/sec: 287.719\n",
      "INFO:tensorflow:loss = 0.69100463, step = 1500 (0.348 sec)\n",
      "INFO:tensorflow:global_step/sec: 239.998\n",
      "INFO:tensorflow:loss = 0.37774444, step = 1600 (0.417 sec)\n",
      "INFO:tensorflow:global_step/sec: 280.236\n",
      "INFO:tensorflow:loss = 0.53608006, step = 1700 (0.357 sec)\n",
      "INFO:tensorflow:global_step/sec: 258.849\n",
      "INFO:tensorflow:loss = 0.6345283, step = 1800 (0.387 sec)\n",
      "INFO:tensorflow:Saving checkpoints for 1875 into ./tmp9bgcfsov/model.ckpt.\n",
      "INFO:tensorflow:Calling model_fn.\n",
      "INFO:tensorflow:Done calling model_fn.\n",
      "INFO:tensorflow:Starting evaluation at 2020-03-30T12:06:14Z\n",
      "INFO:tensorflow:Graph was finalized.\n",
      "INFO:tensorflow:Restoring parameters from ./tmp9bgcfsov/model.ckpt-1875\n",
      "INFO:tensorflow:Running local_init_op.\n",
      "INFO:tensorflow:Done running local_init_op.\n",
      "INFO:tensorflow:Evaluation [10/100]\n",
      "INFO:tensorflow:Evaluation [20/100]\n",
      "INFO:tensorflow:Evaluation [30/100]\n",
      "INFO:tensorflow:Evaluation [40/100]\n",
      "INFO:tensorflow:Evaluation [50/100]\n",
      "INFO:tensorflow:Evaluation [60/100]\n",
      "INFO:tensorflow:Evaluation [70/100]\n",
      "INFO:tensorflow:Evaluation [80/100]\n",
      "INFO:tensorflow:Evaluation [90/100]\n",
      "INFO:tensorflow:Evaluation [100/100]\n",
      "INFO:tensorflow:Inference Time : 0.84438s\n",
      "INFO:tensorflow:Finished evaluation at 2020-03-30-12:06:15\n",
      "INFO:tensorflow:Saving dict for global step 1875: accuracy = 0.7925, average_loss = 0.6723513, global_step = 1875, loss = 0.6723513\n",
      "INFO:tensorflow:Saving 'checkpoint_path' summary for global step 1875: ./tmp9bgcfsov/model.ckpt-1875\n",
      "INFO:tensorflow:Loss for final step: 0.72993636.\n",
      "{'accuracy': 0.7925, 'average_loss': 0.6723513, 'loss': 0.6723513, 'global_step': 1875}\n",
      "Model cache_dir = ./tmpe6xcvuax\n",
      "INFO:tensorflow:Using default config.\n",
      "INFO:tensorflow:Using config: {'_model_dir': './tmpe6xcvuax', '_tf_random_seed': None, '_save_summary_steps': 100, '_save_checkpoints_steps': None, '_save_checkpoints_secs': 600, '_session_config': allow_soft_placement: true\n",
      "graph_options {\n",
      "  rewrite_options {\n",
      "    meta_optimizer_iterations: ONE\n",
      "  }\n",
      "}\n",
      ", '_keep_checkpoint_max': 5, '_keep_checkpoint_every_n_hours': 10000, '_log_step_count_steps': 100, '_train_distribute': None, '_device_fn': None, '_protocol': None, '_eval_distribute': None, '_experimental_distribute': None, '_experimental_max_worker_delay_secs': None, '_session_creation_timeout_secs': 7200, '_service': None, '_cluster_spec': ClusterSpec({}), '_task_type': 'worker', '_task_id': 0, '_global_id_in_cluster': 0, '_master': '', '_evaluation_master': '', '_is_chief': True, '_num_ps_replicas': 0, '_num_worker_replicas': 1}\n",
      "INFO:tensorflow:Not using Distribute Coordinator.\n",
      "INFO:tensorflow:Running training and evaluation locally (non-distributed).\n",
      "INFO:tensorflow:Start train and evaluate loop. The evaluate will happen after every checkpoint. Checkpoint frequency is determined based on RunConfig arguments: save_checkpoints_steps None or save_checkpoints_secs 600.\n",
      "INFO:tensorflow:Calling model_fn.\n",
      "INFO:tensorflow:Done calling model_fn.\n",
      "INFO:tensorflow:Create CheckpointSaverHook.\n",
      "INFO:tensorflow:Graph was finalized.\n",
      "INFO:tensorflow:Running local_init_op.\n",
      "INFO:tensorflow:Done running local_init_op.\n",
      "INFO:tensorflow:Saving checkpoints for 0 into ./tmpe6xcvuax/model.ckpt.\n",
      "INFO:tensorflow:loss = 25.72747, step = 0\n",
      "INFO:tensorflow:global_step/sec: 266.765\n",
      "INFO:tensorflow:loss = 1.9718267, step = 100 (0.376 sec)\n",
      "INFO:tensorflow:global_step/sec: 284.338\n",
      "INFO:tensorflow:loss = 1.6373894, step = 200 (0.353 sec)\n",
      "INFO:tensorflow:global_step/sec: 277.01\n",
      "INFO:tensorflow:loss = 1.3769667, step = 300 (0.359 sec)\n",
      "INFO:tensorflow:global_step/sec: 265.916\n",
      "INFO:tensorflow:loss = 0.7921311, step = 400 (0.376 sec)\n",
      "INFO:tensorflow:global_step/sec: 276.115\n",
      "INFO:tensorflow:loss = 0.75063, step = 500 (0.362 sec)\n",
      "INFO:tensorflow:global_step/sec: 244.923\n",
      "INFO:tensorflow:loss = 1.0771438, step = 600 (0.409 sec)\n",
      "INFO:tensorflow:global_step/sec: 271.491\n",
      "INFO:tensorflow:loss = 1.1789553, step = 700 (0.370 sec)\n",
      "INFO:tensorflow:global_step/sec: 282.186\n",
      "INFO:tensorflow:loss = 0.8894439, step = 800 (0.355 sec)\n",
      "INFO:tensorflow:global_step/sec: 275.028\n",
      "INFO:tensorflow:loss = 0.87840796, step = 900 (0.363 sec)\n",
      "INFO:tensorflow:global_step/sec: 282.281\n",
      "INFO:tensorflow:loss = 0.70251226, step = 1000 (0.354 sec)\n",
      "INFO:tensorflow:global_step/sec: 291.064\n",
      "INFO:tensorflow:loss = 0.812816, step = 1100 (0.342 sec)\n",
      "INFO:tensorflow:global_step/sec: 268.92\n",
      "INFO:tensorflow:loss = 1.4529748, step = 1200 (0.374 sec)\n",
      "INFO:tensorflow:global_step/sec: 270.064\n",
      "INFO:tensorflow:loss = 1.0961776, step = 1300 (0.368 sec)\n",
      "INFO:tensorflow:global_step/sec: 279.565\n",
      "INFO:tensorflow:loss = 0.6390163, step = 1400 (0.357 sec)\n",
      "INFO:tensorflow:global_step/sec: 267.381\n",
      "INFO:tensorflow:loss = 0.67303836, step = 1500 (0.374 sec)\n",
      "INFO:tensorflow:global_step/sec: 283.58\n",
      "INFO:tensorflow:loss = 0.9080761, step = 1600 (0.353 sec)\n",
      "INFO:tensorflow:global_step/sec: 282.277\n",
      "INFO:tensorflow:loss = 0.7665192, step = 1700 (0.354 sec)\n",
      "INFO:tensorflow:global_step/sec: 296.267\n",
      "INFO:tensorflow:loss = 0.81442076, step = 1800 (0.338 sec)\n",
      "INFO:tensorflow:Saving checkpoints for 1875 into ./tmpe6xcvuax/model.ckpt.\n",
      "INFO:tensorflow:Calling model_fn.\n",
      "INFO:tensorflow:Done calling model_fn.\n",
      "INFO:tensorflow:Starting evaluation at 2020-03-30T12:06:24Z\n",
      "INFO:tensorflow:Graph was finalized.\n",
      "INFO:tensorflow:Restoring parameters from ./tmpe6xcvuax/model.ckpt-1875\n",
      "INFO:tensorflow:Running local_init_op.\n",
      "INFO:tensorflow:Done running local_init_op.\n",
      "INFO:tensorflow:Evaluation [10/100]\n",
      "INFO:tensorflow:Evaluation [20/100]\n",
      "INFO:tensorflow:Evaluation [30/100]\n",
      "INFO:tensorflow:Evaluation [40/100]\n",
      "INFO:tensorflow:Evaluation [50/100]\n",
      "INFO:tensorflow:Evaluation [60/100]\n",
      "INFO:tensorflow:Evaluation [70/100]\n",
      "INFO:tensorflow:Evaluation [80/100]\n",
      "INFO:tensorflow:Evaluation [90/100]\n",
      "INFO:tensorflow:Evaluation [100/100]\n",
      "INFO:tensorflow:Inference Time : 0.77394s\n",
      "INFO:tensorflow:Finished evaluation at 2020-03-30-12:06:25\n",
      "INFO:tensorflow:Saving dict for global step 1875: accuracy = 0.8190625, average_loss = 0.5677604, global_step = 1875, loss = 0.5677604\n",
      "INFO:tensorflow:Saving 'checkpoint_path' summary for global step 1875: ./tmpe6xcvuax/model.ckpt-1875\n",
      "INFO:tensorflow:Loss for final step: 0.44763267.\n",
      "{'accuracy': 0.8190625, 'average_loss': 0.5677604, 'loss': 0.5677604, 'global_step': 1875}\n",
      "Model cache_dir = ./tmpw09ipavr\n",
      "INFO:tensorflow:Using default config.\n",
      "INFO:tensorflow:Using config: {'_model_dir': './tmpw09ipavr', '_tf_random_seed': None, '_save_summary_steps': 100, '_save_checkpoints_steps': None, '_save_checkpoints_secs': 600, '_session_config': allow_soft_placement: true\n",
      "graph_options {\n",
      "  rewrite_options {\n",
      "    meta_optimizer_iterations: ONE\n",
      "  }\n",
      "}\n",
      ", '_keep_checkpoint_max': 5, '_keep_checkpoint_every_n_hours': 10000, '_log_step_count_steps': 100, '_train_distribute': None, '_device_fn': None, '_protocol': None, '_eval_distribute': None, '_experimental_distribute': None, '_experimental_max_worker_delay_secs': None, '_session_creation_timeout_secs': 7200, '_service': None, '_cluster_spec': ClusterSpec({}), '_task_type': 'worker', '_task_id': 0, '_global_id_in_cluster': 0, '_master': '', '_evaluation_master': '', '_is_chief': True, '_num_ps_replicas': 0, '_num_worker_replicas': 1}\n",
      "INFO:tensorflow:Not using Distribute Coordinator.\n",
      "INFO:tensorflow:Running training and evaluation locally (non-distributed).\n",
      "INFO:tensorflow:Start train and evaluate loop. The evaluate will happen after every checkpoint. Checkpoint frequency is determined based on RunConfig arguments: save_checkpoints_steps None or save_checkpoints_secs 600.\n",
      "INFO:tensorflow:Calling model_fn.\n",
      "INFO:tensorflow:Done calling model_fn.\n",
      "INFO:tensorflow:Create CheckpointSaverHook.\n",
      "INFO:tensorflow:Graph was finalized.\n",
      "INFO:tensorflow:Running local_init_op.\n",
      "INFO:tensorflow:Done running local_init_op.\n",
      "INFO:tensorflow:Saving checkpoints for 0 into ./tmpw09ipavr/model.ckpt.\n",
      "INFO:tensorflow:loss = 40.246986, step = 0\n",
      "INFO:tensorflow:global_step/sec: 150.143\n",
      "INFO:tensorflow:loss = 2.9899917, step = 100 (0.667 sec)\n",
      "INFO:tensorflow:global_step/sec: 230.754\n",
      "INFO:tensorflow:loss = 1.3774638, step = 200 (0.434 sec)\n",
      "INFO:tensorflow:global_step/sec: 240.599\n",
      "INFO:tensorflow:loss = 1.5396969, step = 300 (0.416 sec)\n",
      "INFO:tensorflow:global_step/sec: 257.365\n",
      "INFO:tensorflow:loss = 1.5548347, step = 400 (0.389 sec)\n",
      "INFO:tensorflow:global_step/sec: 257.404\n",
      "INFO:tensorflow:loss = 0.81396955, step = 500 (0.388 sec)\n",
      "INFO:tensorflow:global_step/sec: 268.039\n",
      "INFO:tensorflow:loss = 0.77376544, step = 600 (0.372 sec)\n",
      "INFO:tensorflow:global_step/sec: 254.645\n",
      "INFO:tensorflow:loss = 1.0985179, step = 700 (0.393 sec)\n",
      "INFO:tensorflow:global_step/sec: 212.139\n",
      "INFO:tensorflow:loss = 1.353561, step = 800 (0.471 sec)\n",
      "INFO:tensorflow:global_step/sec: 237.143\n",
      "INFO:tensorflow:loss = 1.7227434, step = 900 (0.422 sec)\n",
      "INFO:tensorflow:global_step/sec: 245.253\n",
      "INFO:tensorflow:loss = 0.6315035, step = 1000 (0.407 sec)\n",
      "INFO:tensorflow:global_step/sec: 255.525\n",
      "INFO:tensorflow:loss = 1.1531577, step = 1100 (0.391 sec)\n",
      "INFO:tensorflow:global_step/sec: 264.952\n",
      "INFO:tensorflow:loss = 1.018606, step = 1200 (0.378 sec)\n",
      "INFO:tensorflow:global_step/sec: 252.994\n",
      "INFO:tensorflow:loss = 0.7300007, step = 1300 (0.395 sec)\n",
      "INFO:tensorflow:global_step/sec: 244.24\n",
      "INFO:tensorflow:loss = 0.99371845, step = 1400 (0.410 sec)\n",
      "INFO:tensorflow:global_step/sec: 279.725\n",
      "INFO:tensorflow:loss = 0.83072686, step = 1500 (0.357 sec)\n",
      "INFO:tensorflow:global_step/sec: 237.925\n",
      "INFO:tensorflow:loss = 0.38045555, step = 1600 (0.420 sec)\n",
      "INFO:tensorflow:global_step/sec: 217.603\n",
      "INFO:tensorflow:loss = 0.8415555, step = 1700 (0.459 sec)\n",
      "INFO:tensorflow:global_step/sec: 225.646\n",
      "INFO:tensorflow:loss = 0.620199, step = 1800 (0.444 sec)\n",
      "INFO:tensorflow:Saving checkpoints for 1875 into ./tmpw09ipavr/model.ckpt.\n",
      "INFO:tensorflow:Calling model_fn.\n",
      "INFO:tensorflow:Done calling model_fn.\n",
      "INFO:tensorflow:Starting evaluation at 2020-03-30T12:06:36Z\n",
      "INFO:tensorflow:Graph was finalized.\n",
      "INFO:tensorflow:Restoring parameters from ./tmpw09ipavr/model.ckpt-1875\n",
      "INFO:tensorflow:Running local_init_op.\n",
      "INFO:tensorflow:Done running local_init_op.\n",
      "INFO:tensorflow:Evaluation [10/100]\n",
      "INFO:tensorflow:Evaluation [20/100]\n",
      "INFO:tensorflow:Evaluation [30/100]\n",
      "INFO:tensorflow:Evaluation [40/100]\n",
      "INFO:tensorflow:Evaluation [50/100]\n",
      "INFO:tensorflow:Evaluation [60/100]\n",
      "INFO:tensorflow:Evaluation [70/100]\n",
      "INFO:tensorflow:Evaluation [80/100]\n",
      "INFO:tensorflow:Evaluation [90/100]\n",
      "INFO:tensorflow:Evaluation [100/100]\n",
      "INFO:tensorflow:Inference Time : 0.82822s\n",
      "INFO:tensorflow:Finished evaluation at 2020-03-30-12:06:37\n",
      "INFO:tensorflow:Saving dict for global step 1875: accuracy = 0.7971875, average_loss = 0.6649385, global_step = 1875, loss = 0.6649385\n",
      "INFO:tensorflow:Saving 'checkpoint_path' summary for global step 1875: ./tmpw09ipavr/model.ckpt-1875\n",
      "INFO:tensorflow:Loss for final step: 0.9490224.\n",
      "{'accuracy': 0.7971875, 'average_loss': 0.6649385, 'loss': 0.6649385, 'global_step': 1875}\n",
      "Model cache_dir = ./tmp3_kqsp_r\n",
      "INFO:tensorflow:Using default config.\n",
      "INFO:tensorflow:Using config: {'_model_dir': './tmp3_kqsp_r', '_tf_random_seed': None, '_save_summary_steps': 100, '_save_checkpoints_steps': None, '_save_checkpoints_secs': 600, '_session_config': allow_soft_placement: true\n",
      "graph_options {\n",
      "  rewrite_options {\n",
      "    meta_optimizer_iterations: ONE\n",
      "  }\n",
      "}\n",
      ", '_keep_checkpoint_max': 5, '_keep_checkpoint_every_n_hours': 10000, '_log_step_count_steps': 100, '_train_distribute': None, '_device_fn': None, '_protocol': None, '_eval_distribute': None, '_experimental_distribute': None, '_experimental_max_worker_delay_secs': None, '_session_creation_timeout_secs': 7200, '_service': None, '_cluster_spec': ClusterSpec({}), '_task_type': 'worker', '_task_id': 0, '_global_id_in_cluster': 0, '_master': '', '_evaluation_master': '', '_is_chief': True, '_num_ps_replicas': 0, '_num_worker_replicas': 1}\n",
      "INFO:tensorflow:Not using Distribute Coordinator.\n",
      "INFO:tensorflow:Running training and evaluation locally (non-distributed).\n",
      "INFO:tensorflow:Start train and evaluate loop. The evaluate will happen after every checkpoint. Checkpoint frequency is determined based on RunConfig arguments: save_checkpoints_steps None or save_checkpoints_secs 600.\n",
      "INFO:tensorflow:Calling model_fn.\n",
      "INFO:tensorflow:Done calling model_fn.\n",
      "INFO:tensorflow:Create CheckpointSaverHook.\n",
      "INFO:tensorflow:Graph was finalized.\n",
      "INFO:tensorflow:Running local_init_op.\n",
      "INFO:tensorflow:Done running local_init_op.\n",
      "INFO:tensorflow:Saving checkpoints for 0 into ./tmp3_kqsp_r/model.ckpt.\n",
      "INFO:tensorflow:loss = 15.04318, step = 0\n",
      "INFO:tensorflow:global_step/sec: 210.226\n",
      "INFO:tensorflow:loss = 1.9456862, step = 100 (0.477 sec)\n",
      "INFO:tensorflow:global_step/sec: 243.92\n",
      "INFO:tensorflow:loss = 1.6030983, step = 200 (0.411 sec)\n",
      "INFO:tensorflow:global_step/sec: 259.56\n",
      "INFO:tensorflow:loss = 1.6096079, step = 300 (0.384 sec)\n",
      "INFO:tensorflow:global_step/sec: 262.888\n",
      "INFO:tensorflow:loss = 0.76839685, step = 400 (0.381 sec)\n",
      "INFO:tensorflow:global_step/sec: 264.541\n",
      "INFO:tensorflow:loss = 0.6812545, step = 500 (0.377 sec)\n",
      "INFO:tensorflow:global_step/sec: 240.004\n",
      "INFO:tensorflow:loss = 0.9670252, step = 600 (0.418 sec)\n",
      "INFO:tensorflow:global_step/sec: 246.846\n",
      "INFO:tensorflow:loss = 0.77821076, step = 700 (0.404 sec)\n",
      "INFO:tensorflow:global_step/sec: 236.718\n",
      "INFO:tensorflow:loss = 0.9801737, step = 800 (0.428 sec)\n",
      "INFO:tensorflow:global_step/sec: 246.828\n",
      "INFO:tensorflow:loss = 0.48391098, step = 900 (0.399 sec)\n",
      "INFO:tensorflow:global_step/sec: 242.703\n",
      "INFO:tensorflow:loss = 0.6607564, step = 1000 (0.413 sec)\n",
      "INFO:tensorflow:global_step/sec: 231.513\n",
      "INFO:tensorflow:loss = 0.45306736, step = 1100 (0.431 sec)\n",
      "INFO:tensorflow:global_step/sec: 269.355\n",
      "INFO:tensorflow:loss = 0.9114908, step = 1200 (0.372 sec)\n",
      "INFO:tensorflow:global_step/sec: 259.694\n",
      "INFO:tensorflow:loss = 0.81795394, step = 1300 (0.385 sec)\n",
      "INFO:tensorflow:global_step/sec: 267.28\n",
      "INFO:tensorflow:loss = 0.3080928, step = 1400 (0.374 sec)\n",
      "INFO:tensorflow:global_step/sec: 223.787\n",
      "INFO:tensorflow:loss = 0.42899835, step = 1500 (0.450 sec)\n",
      "INFO:tensorflow:global_step/sec: 244.204\n",
      "INFO:tensorflow:loss = 0.93965805, step = 1600 (0.406 sec)\n",
      "INFO:tensorflow:global_step/sec: 255.602\n",
      "INFO:tensorflow:loss = 0.4131408, step = 1700 (0.392 sec)\n",
      "INFO:tensorflow:global_step/sec: 249.963\n",
      "INFO:tensorflow:loss = 0.69038033, step = 1800 (0.399 sec)\n",
      "INFO:tensorflow:Saving checkpoints for 1875 into ./tmp3_kqsp_r/model.ckpt.\n",
      "INFO:tensorflow:Calling model_fn.\n",
      "INFO:tensorflow:Done calling model_fn.\n",
      "INFO:tensorflow:Starting evaluation at 2020-03-30T12:06:48Z\n",
      "INFO:tensorflow:Graph was finalized.\n",
      "INFO:tensorflow:Restoring parameters from ./tmp3_kqsp_r/model.ckpt-1875\n",
      "INFO:tensorflow:Running local_init_op.\n",
      "INFO:tensorflow:Done running local_init_op.\n",
      "INFO:tensorflow:Evaluation [10/100]\n",
      "INFO:tensorflow:Evaluation [20/100]\n",
      "INFO:tensorflow:Evaluation [30/100]\n",
      "INFO:tensorflow:Evaluation [40/100]\n",
      "INFO:tensorflow:Evaluation [50/100]\n",
      "INFO:tensorflow:Evaluation [60/100]\n",
      "INFO:tensorflow:Evaluation [70/100]\n",
      "INFO:tensorflow:Evaluation [80/100]\n",
      "INFO:tensorflow:Evaluation [90/100]\n",
      "INFO:tensorflow:Evaluation [100/100]\n",
      "INFO:tensorflow:Inference Time : 0.74566s\n",
      "INFO:tensorflow:Finished evaluation at 2020-03-30-12:06:49\n",
      "INFO:tensorflow:Saving dict for global step 1875: accuracy = 0.8096875, average_loss = 0.609788, global_step = 1875, loss = 0.609788\n",
      "INFO:tensorflow:Saving 'checkpoint_path' summary for global step 1875: ./tmp3_kqsp_r/model.ckpt-1875\n",
      "INFO:tensorflow:Loss for final step: 0.7531134.\n",
      "{'accuracy': 0.8096875, 'average_loss': 0.609788, 'loss': 0.609788, 'global_step': 1875}\n",
      "Model cache_dir = ./tmpflzayei7\n",
      "INFO:tensorflow:Using default config.\n",
      "INFO:tensorflow:Using config: {'_model_dir': './tmpflzayei7', '_tf_random_seed': None, '_save_summary_steps': 100, '_save_checkpoints_steps': None, '_save_checkpoints_secs': 600, '_session_config': allow_soft_placement: true\n",
      "graph_options {\n",
      "  rewrite_options {\n",
      "    meta_optimizer_iterations: ONE\n",
      "  }\n",
      "}\n",
      ", '_keep_checkpoint_max': 5, '_keep_checkpoint_every_n_hours': 10000, '_log_step_count_steps': 100, '_train_distribute': None, '_device_fn': None, '_protocol': None, '_eval_distribute': None, '_experimental_distribute': None, '_experimental_max_worker_delay_secs': None, '_session_creation_timeout_secs': 7200, '_service': None, '_cluster_spec': ClusterSpec({}), '_task_type': 'worker', '_task_id': 0, '_global_id_in_cluster': 0, '_master': '', '_evaluation_master': '', '_is_chief': True, '_num_ps_replicas': 0, '_num_worker_replicas': 1}\n",
      "INFO:tensorflow:Not using Distribute Coordinator.\n",
      "INFO:tensorflow:Running training and evaluation locally (non-distributed).\n",
      "INFO:tensorflow:Start train and evaluate loop. The evaluate will happen after every checkpoint. Checkpoint frequency is determined based on RunConfig arguments: save_checkpoints_steps None or save_checkpoints_secs 600.\n",
      "INFO:tensorflow:Calling model_fn.\n",
      "INFO:tensorflow:Done calling model_fn.\n",
      "INFO:tensorflow:Create CheckpointSaverHook.\n",
      "INFO:tensorflow:Graph was finalized.\n",
      "INFO:tensorflow:Running local_init_op.\n",
      "INFO:tensorflow:Done running local_init_op.\n",
      "INFO:tensorflow:Saving checkpoints for 0 into ./tmpflzayei7/model.ckpt.\n",
      "INFO:tensorflow:loss = 21.463076, step = 0\n",
      "INFO:tensorflow:global_step/sec: 211.781\n",
      "INFO:tensorflow:loss = 2.4295163, step = 100 (0.475 sec)\n",
      "INFO:tensorflow:global_step/sec: 273.62\n",
      "INFO:tensorflow:loss = 1.5305591, step = 200 (0.365 sec)\n",
      "INFO:tensorflow:global_step/sec: 259.474\n",
      "INFO:tensorflow:loss = 1.325083, step = 300 (0.386 sec)\n",
      "INFO:tensorflow:global_step/sec: 257.36\n",
      "INFO:tensorflow:loss = 1.3717809, step = 400 (0.388 sec)\n",
      "INFO:tensorflow:global_step/sec: 260.586\n",
      "INFO:tensorflow:loss = 1.0330194, step = 500 (0.384 sec)\n",
      "INFO:tensorflow:global_step/sec: 241.793\n",
      "INFO:tensorflow:loss = 0.8839551, step = 600 (0.415 sec)\n",
      "INFO:tensorflow:global_step/sec: 249.664\n",
      "INFO:tensorflow:loss = 1.1199024, step = 700 (0.400 sec)\n",
      "INFO:tensorflow:global_step/sec: 219.777\n",
      "INFO:tensorflow:loss = 0.51361674, step = 800 (0.456 sec)\n",
      "INFO:tensorflow:global_step/sec: 254.122\n",
      "INFO:tensorflow:loss = 0.92875415, step = 900 (0.395 sec)\n",
      "INFO:tensorflow:global_step/sec: 246.984\n",
      "INFO:tensorflow:loss = 0.7281583, step = 1000 (0.405 sec)\n",
      "INFO:tensorflow:global_step/sec: 242.059\n",
      "INFO:tensorflow:loss = 0.71244675, step = 1100 (0.413 sec)\n",
      "INFO:tensorflow:global_step/sec: 231.422\n",
      "INFO:tensorflow:loss = 0.8558688, step = 1200 (0.437 sec)\n",
      "INFO:tensorflow:global_step/sec: 289.583\n",
      "INFO:tensorflow:loss = 0.8085552, step = 1300 (0.338 sec)\n",
      "INFO:tensorflow:global_step/sec: 294.724\n",
      "INFO:tensorflow:loss = 0.6304966, step = 1400 (0.340 sec)\n",
      "INFO:tensorflow:global_step/sec: 291.165\n",
      "INFO:tensorflow:loss = 1.5645286, step = 1500 (0.343 sec)\n",
      "INFO:tensorflow:global_step/sec: 286.653\n",
      "INFO:tensorflow:loss = 0.7444311, step = 1600 (0.349 sec)\n",
      "INFO:tensorflow:global_step/sec: 283.827\n",
      "INFO:tensorflow:loss = 0.4830929, step = 1700 (0.353 sec)\n",
      "INFO:tensorflow:global_step/sec: 272.731\n",
      "INFO:tensorflow:loss = 0.3653436, step = 1800 (0.366 sec)\n",
      "INFO:tensorflow:Saving checkpoints for 1875 into ./tmpflzayei7/model.ckpt.\n",
      "INFO:tensorflow:Calling model_fn.\n",
      "INFO:tensorflow:Done calling model_fn.\n",
      "INFO:tensorflow:Starting evaluation at 2020-03-30T12:06:59Z\n",
      "INFO:tensorflow:Graph was finalized.\n",
      "INFO:tensorflow:Restoring parameters from ./tmpflzayei7/model.ckpt-1875\n",
      "INFO:tensorflow:Running local_init_op.\n",
      "INFO:tensorflow:Done running local_init_op.\n",
      "INFO:tensorflow:Evaluation [10/100]\n",
      "INFO:tensorflow:Evaluation [20/100]\n",
      "INFO:tensorflow:Evaluation [30/100]\n",
      "INFO:tensorflow:Evaluation [40/100]\n",
      "INFO:tensorflow:Evaluation [50/100]\n",
      "INFO:tensorflow:Evaluation [60/100]\n",
      "INFO:tensorflow:Evaluation [70/100]\n",
      "INFO:tensorflow:Evaluation [80/100]\n",
      "INFO:tensorflow:Evaluation [90/100]\n",
      "INFO:tensorflow:Evaluation [100/100]\n",
      "INFO:tensorflow:Inference Time : 0.79336s\n",
      "INFO:tensorflow:Finished evaluation at 2020-03-30-12:07:00\n",
      "INFO:tensorflow:Saving dict for global step 1875: accuracy = 0.8040625, average_loss = 0.6424042, global_step = 1875, loss = 0.6424042\n",
      "INFO:tensorflow:Saving 'checkpoint_path' summary for global step 1875: ./tmpflzayei7/model.ckpt-1875\n",
      "INFO:tensorflow:Loss for final step: 0.6238566.\n",
      "{'accuracy': 0.8040625, 'average_loss': 0.6424042, 'loss': 0.6424042, 'global_step': 1875}\n",
      "Model cache_dir = ./tmpeh_uyk1u\n",
      "INFO:tensorflow:Using default config.\n",
      "INFO:tensorflow:Using config: {'_model_dir': './tmpeh_uyk1u', '_tf_random_seed': None, '_save_summary_steps': 100, '_save_checkpoints_steps': None, '_save_checkpoints_secs': 600, '_session_config': allow_soft_placement: true\n",
      "graph_options {\n",
      "  rewrite_options {\n",
      "    meta_optimizer_iterations: ONE\n",
      "  }\n",
      "}\n",
      ", '_keep_checkpoint_max': 5, '_keep_checkpoint_every_n_hours': 10000, '_log_step_count_steps': 100, '_train_distribute': None, '_device_fn': None, '_protocol': None, '_eval_distribute': None, '_experimental_distribute': None, '_experimental_max_worker_delay_secs': None, '_session_creation_timeout_secs': 7200, '_service': None, '_cluster_spec': ClusterSpec({}), '_task_type': 'worker', '_task_id': 0, '_global_id_in_cluster': 0, '_master': '', '_evaluation_master': '', '_is_chief': True, '_num_ps_replicas': 0, '_num_worker_replicas': 1}\n",
      "INFO:tensorflow:Not using Distribute Coordinator.\n",
      "INFO:tensorflow:Running training and evaluation locally (non-distributed).\n",
      "INFO:tensorflow:Start train and evaluate loop. The evaluate will happen after every checkpoint. Checkpoint frequency is determined based on RunConfig arguments: save_checkpoints_steps None or save_checkpoints_secs 600.\n",
      "INFO:tensorflow:Calling model_fn.\n",
      "INFO:tensorflow:Done calling model_fn.\n",
      "INFO:tensorflow:Create CheckpointSaverHook.\n",
      "INFO:tensorflow:Graph was finalized.\n",
      "INFO:tensorflow:Running local_init_op.\n",
      "INFO:tensorflow:Done running local_init_op.\n",
      "INFO:tensorflow:Saving checkpoints for 0 into ./tmpeh_uyk1u/model.ckpt.\n",
      "INFO:tensorflow:loss = 18.523205, step = 0\n",
      "INFO:tensorflow:global_step/sec: 225.824\n",
      "INFO:tensorflow:loss = 1.8398345, step = 100 (0.444 sec)\n",
      "INFO:tensorflow:global_step/sec: 281.026\n",
      "INFO:tensorflow:loss = 1.8879101, step = 200 (0.356 sec)\n",
      "INFO:tensorflow:global_step/sec: 277.532\n",
      "INFO:tensorflow:loss = 1.6987591, step = 300 (0.360 sec)\n",
      "INFO:tensorflow:global_step/sec: 250.977\n",
      "INFO:tensorflow:loss = 0.9771424, step = 400 (0.400 sec)\n",
      "INFO:tensorflow:global_step/sec: 271.577\n",
      "INFO:tensorflow:loss = 0.65311646, step = 500 (0.367 sec)\n",
      "INFO:tensorflow:global_step/sec: 272.04\n",
      "INFO:tensorflow:loss = 0.7851719, step = 600 (0.368 sec)\n",
      "INFO:tensorflow:global_step/sec: 246.237\n",
      "INFO:tensorflow:loss = 0.9272165, step = 700 (0.406 sec)\n",
      "INFO:tensorflow:global_step/sec: 241.862\n",
      "INFO:tensorflow:loss = 0.6509645, step = 800 (0.413 sec)\n",
      "INFO:tensorflow:global_step/sec: 278.74\n",
      "INFO:tensorflow:loss = 0.9015255, step = 900 (0.359 sec)\n",
      "INFO:tensorflow:global_step/sec: 277.257\n",
      "INFO:tensorflow:loss = 0.62623817, step = 1000 (0.361 sec)\n",
      "INFO:tensorflow:global_step/sec: 265.693\n",
      "INFO:tensorflow:loss = 0.7495966, step = 1100 (0.379 sec)\n",
      "INFO:tensorflow:global_step/sec: 283.783\n",
      "INFO:tensorflow:loss = 0.8095155, step = 1200 (0.350 sec)\n",
      "INFO:tensorflow:global_step/sec: 278.219\n",
      "INFO:tensorflow:loss = 0.5041534, step = 1300 (0.360 sec)\n",
      "INFO:tensorflow:global_step/sec: 265.621\n",
      "INFO:tensorflow:loss = 0.4784255, step = 1400 (0.376 sec)\n",
      "INFO:tensorflow:global_step/sec: 263.028\n",
      "INFO:tensorflow:loss = 1.1026173, step = 1500 (0.380 sec)\n",
      "INFO:tensorflow:global_step/sec: 275.905\n",
      "INFO:tensorflow:loss = 0.47942954, step = 1600 (0.363 sec)\n",
      "INFO:tensorflow:global_step/sec: 264.926\n",
      "INFO:tensorflow:loss = 1.0822245, step = 1700 (0.378 sec)\n",
      "INFO:tensorflow:global_step/sec: 282.82\n",
      "INFO:tensorflow:loss = 0.6350776, step = 1800 (0.353 sec)\n",
      "INFO:tensorflow:Saving checkpoints for 1875 into ./tmpeh_uyk1u/model.ckpt.\n",
      "INFO:tensorflow:Calling model_fn.\n",
      "INFO:tensorflow:Done calling model_fn.\n",
      "INFO:tensorflow:Starting evaluation at 2020-03-30T12:07:10Z\n",
      "INFO:tensorflow:Graph was finalized.\n",
      "INFO:tensorflow:Restoring parameters from ./tmpeh_uyk1u/model.ckpt-1875\n",
      "INFO:tensorflow:Running local_init_op.\n",
      "INFO:tensorflow:Done running local_init_op.\n",
      "INFO:tensorflow:Evaluation [10/100]\n",
      "INFO:tensorflow:Evaluation [20/100]\n",
      "INFO:tensorflow:Evaluation [30/100]\n",
      "INFO:tensorflow:Evaluation [40/100]\n",
      "INFO:tensorflow:Evaluation [50/100]\n",
      "INFO:tensorflow:Evaluation [60/100]\n",
      "INFO:tensorflow:Evaluation [70/100]\n",
      "INFO:tensorflow:Evaluation [80/100]\n",
      "INFO:tensorflow:Evaluation [90/100]\n",
      "INFO:tensorflow:Evaluation [100/100]\n",
      "INFO:tensorflow:Inference Time : 0.81138s\n",
      "INFO:tensorflow:Finished evaluation at 2020-03-30-12:07:11\n",
      "INFO:tensorflow:Saving dict for global step 1875: accuracy = 0.8265625, average_loss = 0.5655775, global_step = 1875, loss = 0.5655775\n",
      "INFO:tensorflow:Saving 'checkpoint_path' summary for global step 1875: ./tmpeh_uyk1u/model.ckpt-1875\n",
      "INFO:tensorflow:Loss for final step: 0.38104853.\n",
      "{'accuracy': 0.8265625, 'average_loss': 0.5655775, 'loss': 0.5655775, 'global_step': 1875}\n",
      "Model cache_dir = ./tmp7hh62z70\n",
      "INFO:tensorflow:Using default config.\n",
      "INFO:tensorflow:Using config: {'_model_dir': './tmp7hh62z70', '_tf_random_seed': None, '_save_summary_steps': 100, '_save_checkpoints_steps': None, '_save_checkpoints_secs': 600, '_session_config': allow_soft_placement: true\n",
      "graph_options {\n",
      "  rewrite_options {\n",
      "    meta_optimizer_iterations: ONE\n",
      "  }\n",
      "}\n",
      ", '_keep_checkpoint_max': 5, '_keep_checkpoint_every_n_hours': 10000, '_log_step_count_steps': 100, '_train_distribute': None, '_device_fn': None, '_protocol': None, '_eval_distribute': None, '_experimental_distribute': None, '_experimental_max_worker_delay_secs': None, '_session_creation_timeout_secs': 7200, '_service': None, '_cluster_spec': ClusterSpec({}), '_task_type': 'worker', '_task_id': 0, '_global_id_in_cluster': 0, '_master': '', '_evaluation_master': '', '_is_chief': True, '_num_ps_replicas': 0, '_num_worker_replicas': 1}\n",
      "INFO:tensorflow:Not using Distribute Coordinator.\n",
      "INFO:tensorflow:Running training and evaluation locally (non-distributed).\n",
      "INFO:tensorflow:Start train and evaluate loop. The evaluate will happen after every checkpoint. Checkpoint frequency is determined based on RunConfig arguments: save_checkpoints_steps None or save_checkpoints_secs 600.\n",
      "INFO:tensorflow:Calling model_fn.\n",
      "INFO:tensorflow:Done calling model_fn.\n",
      "INFO:tensorflow:Create CheckpointSaverHook.\n",
      "INFO:tensorflow:Graph was finalized.\n",
      "INFO:tensorflow:Running local_init_op.\n",
      "INFO:tensorflow:Done running local_init_op.\n",
      "INFO:tensorflow:Saving checkpoints for 0 into ./tmp7hh62z70/model.ckpt.\n",
      "INFO:tensorflow:loss = 8.668592, step = 0\n",
      "INFO:tensorflow:global_step/sec: 238.909\n",
      "INFO:tensorflow:loss = 1.8311237, step = 100 (0.420 sec)\n",
      "INFO:tensorflow:global_step/sec: 286.79\n",
      "INFO:tensorflow:loss = 1.6454495, step = 200 (0.359 sec)\n",
      "INFO:tensorflow:global_step/sec: 275.716\n",
      "INFO:tensorflow:loss = 1.4454719, step = 300 (0.353 sec)\n",
      "INFO:tensorflow:global_step/sec: 267.167\n",
      "INFO:tensorflow:loss = 0.9739618, step = 400 (0.374 sec)\n",
      "INFO:tensorflow:global_step/sec: 273.987\n",
      "INFO:tensorflow:loss = 1.5298328, step = 500 (0.365 sec)\n",
      "INFO:tensorflow:global_step/sec: 262.369\n",
      "INFO:tensorflow:loss = 1.133781, step = 600 (0.381 sec)\n",
      "INFO:tensorflow:global_step/sec: 277.42\n",
      "INFO:tensorflow:loss = 1.0062671, step = 700 (0.361 sec)\n",
      "INFO:tensorflow:global_step/sec: 280.04\n",
      "INFO:tensorflow:loss = 0.9970144, step = 800 (0.357 sec)\n",
      "INFO:tensorflow:global_step/sec: 293.101\n",
      "INFO:tensorflow:loss = 0.6129728, step = 900 (0.341 sec)\n",
      "INFO:tensorflow:global_step/sec: 284.031\n",
      "INFO:tensorflow:loss = 1.2344258, step = 1000 (0.364 sec)\n",
      "INFO:tensorflow:global_step/sec: 283.469\n",
      "INFO:tensorflow:loss = 1.1903698, step = 1100 (0.341 sec)\n",
      "INFO:tensorflow:global_step/sec: 277.602\n",
      "INFO:tensorflow:loss = 0.612347, step = 1200 (0.360 sec)\n",
      "INFO:tensorflow:global_step/sec: 246.417\n",
      "INFO:tensorflow:loss = 1.0215755, step = 1300 (0.406 sec)\n",
      "INFO:tensorflow:global_step/sec: 272.944\n",
      "INFO:tensorflow:loss = 0.53597546, step = 1400 (0.367 sec)\n",
      "INFO:tensorflow:global_step/sec: 297.127\n",
      "INFO:tensorflow:loss = 0.5733861, step = 1500 (0.336 sec)\n",
      "INFO:tensorflow:global_step/sec: 265.567\n",
      "INFO:tensorflow:loss = 0.48849055, step = 1600 (0.377 sec)\n",
      "INFO:tensorflow:global_step/sec: 289.827\n",
      "INFO:tensorflow:loss = 0.6227441, step = 1700 (0.345 sec)\n",
      "INFO:tensorflow:global_step/sec: 281.052\n",
      "INFO:tensorflow:loss = 0.41924173, step = 1800 (0.356 sec)\n",
      "INFO:tensorflow:Saving checkpoints for 1875 into ./tmp7hh62z70/model.ckpt.\n",
      "INFO:tensorflow:Calling model_fn.\n",
      "INFO:tensorflow:Done calling model_fn.\n",
      "INFO:tensorflow:Starting evaluation at 2020-03-30T12:07:21Z\n",
      "INFO:tensorflow:Graph was finalized.\n",
      "INFO:tensorflow:Restoring parameters from ./tmp7hh62z70/model.ckpt-1875\n",
      "INFO:tensorflow:Running local_init_op.\n",
      "INFO:tensorflow:Done running local_init_op.\n",
      "INFO:tensorflow:Evaluation [10/100]\n",
      "INFO:tensorflow:Evaluation [20/100]\n",
      "INFO:tensorflow:Evaluation [30/100]\n",
      "INFO:tensorflow:Evaluation [40/100]\n",
      "INFO:tensorflow:Evaluation [50/100]\n",
      "INFO:tensorflow:Evaluation [60/100]\n",
      "INFO:tensorflow:Evaluation [70/100]\n",
      "INFO:tensorflow:Evaluation [80/100]\n",
      "INFO:tensorflow:Evaluation [90/100]\n",
      "INFO:tensorflow:Evaluation [100/100]\n",
      "INFO:tensorflow:Inference Time : 0.81192s\n",
      "INFO:tensorflow:Finished evaluation at 2020-03-30-12:07:22\n",
      "INFO:tensorflow:Saving dict for global step 1875: accuracy = 0.8034375, average_loss = 0.6350915, global_step = 1875, loss = 0.6350915\n",
      "INFO:tensorflow:Saving 'checkpoint_path' summary for global step 1875: ./tmp7hh62z70/model.ckpt-1875\n",
      "INFO:tensorflow:Loss for final step: 0.34929627.\n",
      "{'accuracy': 0.8034375, 'average_loss': 0.6350915, 'loss': 0.6350915, 'global_step': 1875}\n",
      "Model cache_dir = ./tmpr4yr7423\n",
      "INFO:tensorflow:Using default config.\n",
      "INFO:tensorflow:Using config: {'_model_dir': './tmpr4yr7423', '_tf_random_seed': None, '_save_summary_steps': 100, '_save_checkpoints_steps': None, '_save_checkpoints_secs': 600, '_session_config': allow_soft_placement: true\n",
      "graph_options {\n",
      "  rewrite_options {\n",
      "    meta_optimizer_iterations: ONE\n",
      "  }\n",
      "}\n",
      ", '_keep_checkpoint_max': 5, '_keep_checkpoint_every_n_hours': 10000, '_log_step_count_steps': 100, '_train_distribute': None, '_device_fn': None, '_protocol': None, '_eval_distribute': None, '_experimental_distribute': None, '_experimental_max_worker_delay_secs': None, '_session_creation_timeout_secs': 7200, '_service': None, '_cluster_spec': ClusterSpec({}), '_task_type': 'worker', '_task_id': 0, '_global_id_in_cluster': 0, '_master': '', '_evaluation_master': '', '_is_chief': True, '_num_ps_replicas': 0, '_num_worker_replicas': 1}\n",
      "INFO:tensorflow:Not using Distribute Coordinator.\n",
      "INFO:tensorflow:Running training and evaluation locally (non-distributed).\n",
      "INFO:tensorflow:Start train and evaluate loop. The evaluate will happen after every checkpoint. Checkpoint frequency is determined based on RunConfig arguments: save_checkpoints_steps None or save_checkpoints_secs 600.\n",
      "INFO:tensorflow:Calling model_fn.\n",
      "INFO:tensorflow:Done calling model_fn.\n",
      "INFO:tensorflow:Create CheckpointSaverHook.\n",
      "INFO:tensorflow:Graph was finalized.\n",
      "INFO:tensorflow:Running local_init_op.\n",
      "INFO:tensorflow:Done running local_init_op.\n",
      "INFO:tensorflow:Saving checkpoints for 0 into ./tmpr4yr7423/model.ckpt.\n",
      "INFO:tensorflow:loss = 19.32761, step = 0\n",
      "INFO:tensorflow:global_step/sec: 288.197\n",
      "INFO:tensorflow:loss = 1.9603131, step = 100 (0.349 sec)\n",
      "INFO:tensorflow:global_step/sec: 291.813\n",
      "INFO:tensorflow:loss = 1.6219854, step = 200 (0.342 sec)\n",
      "INFO:tensorflow:global_step/sec: 268.709\n",
      "INFO:tensorflow:loss = 1.2419319, step = 300 (0.372 sec)\n",
      "INFO:tensorflow:global_step/sec: 252.312\n",
      "INFO:tensorflow:loss = 1.3785326, step = 400 (0.396 sec)\n",
      "INFO:tensorflow:global_step/sec: 255.895\n",
      "INFO:tensorflow:loss = 1.1513903, step = 500 (0.390 sec)\n",
      "INFO:tensorflow:global_step/sec: 280.306\n",
      "INFO:tensorflow:loss = 0.8892438, step = 600 (0.357 sec)\n",
      "INFO:tensorflow:global_step/sec: 270.013\n",
      "INFO:tensorflow:loss = 1.0703281, step = 700 (0.370 sec)\n",
      "INFO:tensorflow:global_step/sec: 277.299\n",
      "INFO:tensorflow:loss = 1.00436, step = 800 (0.361 sec)\n",
      "INFO:tensorflow:global_step/sec: 288.083\n",
      "INFO:tensorflow:loss = 0.7018802, step = 900 (0.348 sec)\n",
      "INFO:tensorflow:global_step/sec: 272.809\n",
      "INFO:tensorflow:loss = 0.93243545, step = 1000 (0.365 sec)\n",
      "INFO:tensorflow:global_step/sec: 258.741\n",
      "INFO:tensorflow:loss = 0.8159412, step = 1100 (0.386 sec)\n",
      "INFO:tensorflow:global_step/sec: 278.218\n",
      "INFO:tensorflow:loss = 0.6547009, step = 1200 (0.360 sec)\n",
      "INFO:tensorflow:global_step/sec: 270.613\n",
      "INFO:tensorflow:loss = 0.9852523, step = 1300 (0.369 sec)\n",
      "INFO:tensorflow:global_step/sec: 295.3\n",
      "INFO:tensorflow:loss = 0.64144164, step = 1400 (0.340 sec)\n",
      "INFO:tensorflow:global_step/sec: 278.856\n",
      "INFO:tensorflow:loss = 0.6689111, step = 1500 (0.358 sec)\n",
      "INFO:tensorflow:global_step/sec: 260.581\n",
      "INFO:tensorflow:loss = 0.48076499, step = 1600 (0.385 sec)\n",
      "INFO:tensorflow:global_step/sec: 268.595\n",
      "INFO:tensorflow:loss = 0.88223237, step = 1700 (0.371 sec)\n",
      "INFO:tensorflow:global_step/sec: 284.535\n",
      "INFO:tensorflow:loss = 0.728627, step = 1800 (0.352 sec)\n",
      "INFO:tensorflow:Saving checkpoints for 1875 into ./tmpr4yr7423/model.ckpt.\n",
      "INFO:tensorflow:Calling model_fn.\n",
      "INFO:tensorflow:Done calling model_fn.\n",
      "INFO:tensorflow:Starting evaluation at 2020-03-30T12:07:32Z\n",
      "INFO:tensorflow:Graph was finalized.\n",
      "INFO:tensorflow:Restoring parameters from ./tmpr4yr7423/model.ckpt-1875\n",
      "INFO:tensorflow:Running local_init_op.\n",
      "INFO:tensorflow:Done running local_init_op.\n",
      "INFO:tensorflow:Evaluation [10/100]\n",
      "INFO:tensorflow:Evaluation [20/100]\n",
      "INFO:tensorflow:Evaluation [30/100]\n",
      "INFO:tensorflow:Evaluation [40/100]\n",
      "INFO:tensorflow:Evaluation [50/100]\n",
      "INFO:tensorflow:Evaluation [60/100]\n",
      "INFO:tensorflow:Evaluation [70/100]\n",
      "INFO:tensorflow:Evaluation [80/100]\n",
      "INFO:tensorflow:Evaluation [90/100]\n",
      "INFO:tensorflow:Evaluation [100/100]\n",
      "INFO:tensorflow:Inference Time : 0.89173s\n",
      "INFO:tensorflow:Finished evaluation at 2020-03-30-12:07:33\n",
      "INFO:tensorflow:Saving dict for global step 1875: accuracy = 0.8034375, average_loss = 0.64860845, global_step = 1875, loss = 0.64860845\n",
      "INFO:tensorflow:Saving 'checkpoint_path' summary for global step 1875: ./tmpr4yr7423/model.ckpt-1875\n",
      "INFO:tensorflow:Loss for final step: 0.65430677.\n",
      "{'accuracy': 0.8034375, 'average_loss': 0.64860845, 'loss': 0.64860845, 'global_step': 1875}\n",
      "Model cache_dir = ./tmpcxqyx6ug\n",
      "INFO:tensorflow:Using default config.\n",
      "INFO:tensorflow:Using config: {'_model_dir': './tmpcxqyx6ug', '_tf_random_seed': None, '_save_summary_steps': 100, '_save_checkpoints_steps': None, '_save_checkpoints_secs': 600, '_session_config': allow_soft_placement: true\n",
      "graph_options {\n",
      "  rewrite_options {\n",
      "    meta_optimizer_iterations: ONE\n",
      "  }\n",
      "}\n",
      ", '_keep_checkpoint_max': 5, '_keep_checkpoint_every_n_hours': 10000, '_log_step_count_steps': 100, '_train_distribute': None, '_device_fn': None, '_protocol': None, '_eval_distribute': None, '_experimental_distribute': None, '_experimental_max_worker_delay_secs': None, '_session_creation_timeout_secs': 7200, '_service': None, '_cluster_spec': ClusterSpec({}), '_task_type': 'worker', '_task_id': 0, '_global_id_in_cluster': 0, '_master': '', '_evaluation_master': '', '_is_chief': True, '_num_ps_replicas': 0, '_num_worker_replicas': 1}\n",
      "INFO:tensorflow:Not using Distribute Coordinator.\n",
      "INFO:tensorflow:Running training and evaluation locally (non-distributed).\n",
      "INFO:tensorflow:Start train and evaluate loop. The evaluate will happen after every checkpoint. Checkpoint frequency is determined based on RunConfig arguments: save_checkpoints_steps None or save_checkpoints_secs 600.\n",
      "INFO:tensorflow:Calling model_fn.\n",
      "INFO:tensorflow:Done calling model_fn.\n",
      "INFO:tensorflow:Create CheckpointSaverHook.\n",
      "INFO:tensorflow:Graph was finalized.\n",
      "INFO:tensorflow:Running local_init_op.\n",
      "INFO:tensorflow:Done running local_init_op.\n",
      "INFO:tensorflow:Saving checkpoints for 0 into ./tmpcxqyx6ug/model.ckpt.\n",
      "INFO:tensorflow:loss = 27.430513, step = 0\n",
      "INFO:tensorflow:global_step/sec: 252.698\n",
      "INFO:tensorflow:loss = 2.117665, step = 100 (0.397 sec)\n",
      "INFO:tensorflow:global_step/sec: 271.823\n",
      "INFO:tensorflow:loss = 2.2693295, step = 200 (0.367 sec)\n",
      "INFO:tensorflow:global_step/sec: 277.494\n",
      "INFO:tensorflow:loss = 1.5652347, step = 300 (0.360 sec)\n",
      "INFO:tensorflow:global_step/sec: 274.359\n",
      "INFO:tensorflow:loss = 0.9743476, step = 400 (0.364 sec)\n",
      "INFO:tensorflow:global_step/sec: 295.045\n",
      "INFO:tensorflow:loss = 1.154304, step = 500 (0.339 sec)\n",
      "INFO:tensorflow:global_step/sec: 285.39\n",
      "INFO:tensorflow:loss = 1.3891242, step = 600 (0.350 sec)\n",
      "INFO:tensorflow:global_step/sec: 262.643\n",
      "INFO:tensorflow:loss = 1.1211969, step = 700 (0.381 sec)\n",
      "INFO:tensorflow:global_step/sec: 268.909\n",
      "INFO:tensorflow:loss = 1.0815148, step = 800 (0.372 sec)\n",
      "INFO:tensorflow:global_step/sec: 279.255\n",
      "INFO:tensorflow:loss = 0.25452048, step = 900 (0.358 sec)\n",
      "INFO:tensorflow:global_step/sec: 299.631\n",
      "INFO:tensorflow:loss = 1.2517191, step = 1000 (0.334 sec)\n",
      "INFO:tensorflow:global_step/sec: 264.279\n",
      "INFO:tensorflow:loss = 1.2257504, step = 1100 (0.378 sec)\n",
      "INFO:tensorflow:global_step/sec: 298.791\n",
      "INFO:tensorflow:loss = 0.6144067, step = 1200 (0.335 sec)\n",
      "INFO:tensorflow:global_step/sec: 265.847\n",
      "INFO:tensorflow:loss = 0.7342724, step = 1300 (0.376 sec)\n",
      "INFO:tensorflow:global_step/sec: 262.908\n",
      "INFO:tensorflow:loss = 0.7503884, step = 1400 (0.380 sec)\n",
      "INFO:tensorflow:global_step/sec: 296.044\n",
      "INFO:tensorflow:loss = 0.73929703, step = 1500 (0.339 sec)\n",
      "INFO:tensorflow:global_step/sec: 268.9\n",
      "INFO:tensorflow:loss = 0.7842248, step = 1600 (0.370 sec)\n",
      "INFO:tensorflow:global_step/sec: 298.645\n",
      "INFO:tensorflow:loss = 1.1047282, step = 1700 (0.335 sec)\n",
      "INFO:tensorflow:global_step/sec: 284.003\n",
      "INFO:tensorflow:loss = 0.5088898, step = 1800 (0.352 sec)\n",
      "INFO:tensorflow:Saving checkpoints for 1875 into ./tmpcxqyx6ug/model.ckpt.\n",
      "INFO:tensorflow:Calling model_fn.\n",
      "INFO:tensorflow:Done calling model_fn.\n",
      "INFO:tensorflow:Starting evaluation at 2020-03-30T12:07:43Z\n",
      "INFO:tensorflow:Graph was finalized.\n",
      "INFO:tensorflow:Restoring parameters from ./tmpcxqyx6ug/model.ckpt-1875\n",
      "INFO:tensorflow:Running local_init_op.\n",
      "INFO:tensorflow:Done running local_init_op.\n",
      "INFO:tensorflow:Evaluation [10/100]\n",
      "INFO:tensorflow:Evaluation [20/100]\n",
      "INFO:tensorflow:Evaluation [30/100]\n",
      "INFO:tensorflow:Evaluation [40/100]\n",
      "INFO:tensorflow:Evaluation [50/100]\n",
      "INFO:tensorflow:Evaluation [60/100]\n",
      "INFO:tensorflow:Evaluation [70/100]\n",
      "INFO:tensorflow:Evaluation [80/100]\n",
      "INFO:tensorflow:Evaluation [90/100]\n",
      "INFO:tensorflow:Evaluation [100/100]\n",
      "INFO:tensorflow:Inference Time : 0.84105s\n",
      "INFO:tensorflow:Finished evaluation at 2020-03-30-12:07:43\n",
      "INFO:tensorflow:Saving dict for global step 1875: accuracy = 0.781875, average_loss = 0.6939827, global_step = 1875, loss = 0.6939827\n",
      "INFO:tensorflow:Saving 'checkpoint_path' summary for global step 1875: ./tmpcxqyx6ug/model.ckpt-1875\n",
      "INFO:tensorflow:Loss for final step: 0.45436698.\n",
      "{'accuracy': 0.781875, 'average_loss': 0.6939827, 'loss': 0.6939827, 'global_step': 1875}\n",
      "Model cache_dir = ./tmpi5gvz4xh\n",
      "INFO:tensorflow:Using default config.\n",
      "INFO:tensorflow:Using config: {'_model_dir': './tmpi5gvz4xh', '_tf_random_seed': None, '_save_summary_steps': 100, '_save_checkpoints_steps': None, '_save_checkpoints_secs': 600, '_session_config': allow_soft_placement: true\n",
      "graph_options {\n",
      "  rewrite_options {\n",
      "    meta_optimizer_iterations: ONE\n",
      "  }\n",
      "}\n",
      ", '_keep_checkpoint_max': 5, '_keep_checkpoint_every_n_hours': 10000, '_log_step_count_steps': 100, '_train_distribute': None, '_device_fn': None, '_protocol': None, '_eval_distribute': None, '_experimental_distribute': None, '_experimental_max_worker_delay_secs': None, '_session_creation_timeout_secs': 7200, '_service': None, '_cluster_spec': ClusterSpec({}), '_task_type': 'worker', '_task_id': 0, '_global_id_in_cluster': 0, '_master': '', '_evaluation_master': '', '_is_chief': True, '_num_ps_replicas': 0, '_num_worker_replicas': 1}\n",
      "INFO:tensorflow:Not using Distribute Coordinator.\n",
      "INFO:tensorflow:Running training and evaluation locally (non-distributed).\n",
      "INFO:tensorflow:Start train and evaluate loop. The evaluate will happen after every checkpoint. Checkpoint frequency is determined based on RunConfig arguments: save_checkpoints_steps None or save_checkpoints_secs 600.\n",
      "INFO:tensorflow:Calling model_fn.\n",
      "INFO:tensorflow:Done calling model_fn.\n",
      "INFO:tensorflow:Create CheckpointSaverHook.\n",
      "INFO:tensorflow:Graph was finalized.\n",
      "INFO:tensorflow:Running local_init_op.\n",
      "INFO:tensorflow:Done running local_init_op.\n",
      "INFO:tensorflow:Saving checkpoints for 0 into ./tmpi5gvz4xh/model.ckpt.\n",
      "INFO:tensorflow:loss = 16.334877, step = 0\n",
      "INFO:tensorflow:global_step/sec: 241.715\n",
      "INFO:tensorflow:loss = 2.062033, step = 100 (0.416 sec)\n",
      "INFO:tensorflow:global_step/sec: 264.948\n",
      "INFO:tensorflow:loss = 1.8444806, step = 200 (0.376 sec)\n",
      "INFO:tensorflow:global_step/sec: 267.202\n",
      "INFO:tensorflow:loss = 1.0210683, step = 300 (0.374 sec)\n",
      "INFO:tensorflow:global_step/sec: 264.557\n",
      "INFO:tensorflow:loss = 1.3960114, step = 400 (0.378 sec)\n",
      "INFO:tensorflow:global_step/sec: 259.55\n",
      "INFO:tensorflow:loss = 0.8954909, step = 500 (0.386 sec)\n",
      "INFO:tensorflow:global_step/sec: 263.736\n",
      "INFO:tensorflow:loss = 1.1567445, step = 600 (0.378 sec)\n",
      "INFO:tensorflow:global_step/sec: 282.486\n",
      "INFO:tensorflow:loss = 0.97746927, step = 700 (0.355 sec)\n",
      "INFO:tensorflow:global_step/sec: 275.333\n",
      "INFO:tensorflow:loss = 0.8550035, step = 800 (0.362 sec)\n",
      "INFO:tensorflow:global_step/sec: 283.587\n",
      "INFO:tensorflow:loss = 0.86113095, step = 900 (0.353 sec)\n",
      "INFO:tensorflow:global_step/sec: 278.419\n",
      "INFO:tensorflow:loss = 0.74132794, step = 1000 (0.361 sec)\n",
      "INFO:tensorflow:global_step/sec: 241.907\n",
      "INFO:tensorflow:loss = 0.9743855, step = 1100 (0.413 sec)\n",
      "INFO:tensorflow:global_step/sec: 254.795\n",
      "INFO:tensorflow:loss = 0.57980776, step = 1200 (0.393 sec)\n",
      "INFO:tensorflow:global_step/sec: 256.85\n",
      "INFO:tensorflow:loss = 0.6849179, step = 1300 (0.388 sec)\n",
      "INFO:tensorflow:global_step/sec: 263.157\n",
      "INFO:tensorflow:loss = 0.5451388, step = 1400 (0.380 sec)\n",
      "INFO:tensorflow:global_step/sec: 276.903\n",
      "INFO:tensorflow:loss = 0.8646878, step = 1500 (0.361 sec)\n",
      "INFO:tensorflow:global_step/sec: 283.301\n",
      "INFO:tensorflow:loss = 0.63275784, step = 1600 (0.353 sec)\n",
      "INFO:tensorflow:global_step/sec: 238.05\n",
      "INFO:tensorflow:loss = 0.7546348, step = 1700 (0.425 sec)\n",
      "INFO:tensorflow:global_step/sec: 269.799\n",
      "INFO:tensorflow:loss = 0.62536263, step = 1800 (0.366 sec)\n",
      "INFO:tensorflow:Saving checkpoints for 1875 into ./tmpi5gvz4xh/model.ckpt.\n",
      "INFO:tensorflow:Calling model_fn.\n",
      "INFO:tensorflow:Done calling model_fn.\n",
      "INFO:tensorflow:Starting evaluation at 2020-03-30T12:07:53Z\n",
      "INFO:tensorflow:Graph was finalized.\n",
      "INFO:tensorflow:Restoring parameters from ./tmpi5gvz4xh/model.ckpt-1875\n",
      "INFO:tensorflow:Running local_init_op.\n",
      "INFO:tensorflow:Done running local_init_op.\n",
      "INFO:tensorflow:Evaluation [10/100]\n",
      "INFO:tensorflow:Evaluation [20/100]\n",
      "INFO:tensorflow:Evaluation [30/100]\n",
      "INFO:tensorflow:Evaluation [40/100]\n",
      "INFO:tensorflow:Evaluation [50/100]\n",
      "INFO:tensorflow:Evaluation [60/100]\n",
      "INFO:tensorflow:Evaluation [70/100]\n",
      "INFO:tensorflow:Evaluation [80/100]\n",
      "INFO:tensorflow:Evaluation [90/100]\n",
      "INFO:tensorflow:Evaluation [100/100]\n",
      "INFO:tensorflow:Inference Time : 0.81500s\n",
      "INFO:tensorflow:Finished evaluation at 2020-03-30-12:07:54\n",
      "INFO:tensorflow:Saving dict for global step 1875: accuracy = 0.8121875, average_loss = 0.61961424, global_step = 1875, loss = 0.61961424\n",
      "INFO:tensorflow:Saving 'checkpoint_path' summary for global step 1875: ./tmpi5gvz4xh/model.ckpt-1875\n",
      "INFO:tensorflow:Loss for final step: 0.71437037.\n",
      "{'accuracy': 0.8121875, 'average_loss': 0.61961424, 'loss': 0.61961424, 'global_step': 1875}\n",
      "Model cache_dir = ./tmpdpcs7_x2\n",
      "INFO:tensorflow:Using default config.\n",
      "INFO:tensorflow:Using config: {'_model_dir': './tmpdpcs7_x2', '_tf_random_seed': None, '_save_summary_steps': 100, '_save_checkpoints_steps': None, '_save_checkpoints_secs': 600, '_session_config': allow_soft_placement: true\n",
      "graph_options {\n",
      "  rewrite_options {\n",
      "    meta_optimizer_iterations: ONE\n",
      "  }\n",
      "}\n",
      ", '_keep_checkpoint_max': 5, '_keep_checkpoint_every_n_hours': 10000, '_log_step_count_steps': 100, '_train_distribute': None, '_device_fn': None, '_protocol': None, '_eval_distribute': None, '_experimental_distribute': None, '_experimental_max_worker_delay_secs': None, '_session_creation_timeout_secs': 7200, '_service': None, '_cluster_spec': ClusterSpec({}), '_task_type': 'worker', '_task_id': 0, '_global_id_in_cluster': 0, '_master': '', '_evaluation_master': '', '_is_chief': True, '_num_ps_replicas': 0, '_num_worker_replicas': 1}\n",
      "INFO:tensorflow:Not using Distribute Coordinator.\n",
      "INFO:tensorflow:Running training and evaluation locally (non-distributed).\n",
      "INFO:tensorflow:Start train and evaluate loop. The evaluate will happen after every checkpoint. Checkpoint frequency is determined based on RunConfig arguments: save_checkpoints_steps None or save_checkpoints_secs 600.\n",
      "INFO:tensorflow:Calling model_fn.\n",
      "INFO:tensorflow:Done calling model_fn.\n",
      "INFO:tensorflow:Create CheckpointSaverHook.\n",
      "INFO:tensorflow:Graph was finalized.\n",
      "INFO:tensorflow:Running local_init_op.\n",
      "INFO:tensorflow:Done running local_init_op.\n",
      "INFO:tensorflow:Saving checkpoints for 0 into ./tmpdpcs7_x2/model.ckpt.\n",
      "INFO:tensorflow:loss = 8.960054, step = 0\n",
      "INFO:tensorflow:global_step/sec: 230.809\n",
      "INFO:tensorflow:loss = 2.2931592, step = 100 (0.436 sec)\n",
      "INFO:tensorflow:global_step/sec: 276.625\n",
      "INFO:tensorflow:loss = 1.2434819, step = 200 (0.360 sec)\n",
      "INFO:tensorflow:global_step/sec: 259.542\n",
      "INFO:tensorflow:loss = 1.0671625, step = 300 (0.385 sec)\n",
      "INFO:tensorflow:global_step/sec: 294\n",
      "INFO:tensorflow:loss = 1.052212, step = 400 (0.340 sec)\n",
      "INFO:tensorflow:global_step/sec: 273.325\n",
      "INFO:tensorflow:loss = 0.6407523, step = 500 (0.366 sec)\n",
      "INFO:tensorflow:global_step/sec: 300.135\n",
      "INFO:tensorflow:loss = 0.69493055, step = 600 (0.335 sec)\n",
      "INFO:tensorflow:global_step/sec: 268.367\n",
      "INFO:tensorflow:loss = 1.0470244, step = 700 (0.371 sec)\n",
      "INFO:tensorflow:global_step/sec: 258.277\n",
      "INFO:tensorflow:loss = 0.8453077, step = 800 (0.387 sec)\n",
      "INFO:tensorflow:global_step/sec: 269.12\n",
      "INFO:tensorflow:loss = 1.3204867, step = 900 (0.371 sec)\n",
      "INFO:tensorflow:global_step/sec: 272.557\n",
      "INFO:tensorflow:loss = 0.6853173, step = 1000 (0.367 sec)\n",
      "INFO:tensorflow:global_step/sec: 267.806\n",
      "INFO:tensorflow:loss = 0.49177316, step = 1100 (0.374 sec)\n",
      "INFO:tensorflow:global_step/sec: 282.134\n",
      "INFO:tensorflow:loss = 0.9900336, step = 1200 (0.354 sec)\n",
      "INFO:tensorflow:global_step/sec: 279.108\n",
      "INFO:tensorflow:loss = 0.3466227, step = 1300 (0.360 sec)\n",
      "INFO:tensorflow:global_step/sec: 286.442\n",
      "INFO:tensorflow:loss = 0.6786059, step = 1400 (0.348 sec)\n",
      "INFO:tensorflow:global_step/sec: 250.114\n",
      "INFO:tensorflow:loss = 0.61657274, step = 1500 (0.400 sec)\n",
      "INFO:tensorflow:global_step/sec: 288.756\n",
      "INFO:tensorflow:loss = 0.63179016, step = 1600 (0.346 sec)\n",
      "INFO:tensorflow:global_step/sec: 257.916\n",
      "INFO:tensorflow:loss = 0.5016578, step = 1700 (0.388 sec)\n",
      "INFO:tensorflow:global_step/sec: 282.758\n",
      "INFO:tensorflow:loss = 0.65358454, step = 1800 (0.355 sec)\n",
      "INFO:tensorflow:Saving checkpoints for 1875 into ./tmpdpcs7_x2/model.ckpt.\n",
      "INFO:tensorflow:Calling model_fn.\n",
      "INFO:tensorflow:Done calling model_fn.\n",
      "INFO:tensorflow:Starting evaluation at 2020-03-30T12:08:05Z\n",
      "INFO:tensorflow:Graph was finalized.\n",
      "INFO:tensorflow:Restoring parameters from ./tmpdpcs7_x2/model.ckpt-1875\n",
      "INFO:tensorflow:Running local_init_op.\n",
      "INFO:tensorflow:Done running local_init_op.\n",
      "INFO:tensorflow:Evaluation [10/100]\n",
      "INFO:tensorflow:Evaluation [20/100]\n",
      "INFO:tensorflow:Evaluation [30/100]\n",
      "INFO:tensorflow:Evaluation [40/100]\n",
      "INFO:tensorflow:Evaluation [50/100]\n",
      "INFO:tensorflow:Evaluation [60/100]\n",
      "INFO:tensorflow:Evaluation [70/100]\n",
      "INFO:tensorflow:Evaluation [80/100]\n",
      "INFO:tensorflow:Evaluation [90/100]\n",
      "INFO:tensorflow:Evaluation [100/100]\n",
      "INFO:tensorflow:Inference Time : 0.83796s\n",
      "INFO:tensorflow:Finished evaluation at 2020-03-30-12:08:05\n",
      "INFO:tensorflow:Saving dict for global step 1875: accuracy = 0.821875, average_loss = 0.59515417, global_step = 1875, loss = 0.59515417\n",
      "INFO:tensorflow:Saving 'checkpoint_path' summary for global step 1875: ./tmpdpcs7_x2/model.ckpt-1875\n",
      "INFO:tensorflow:Loss for final step: 0.657548.\n",
      "{'accuracy': 0.821875, 'average_loss': 0.59515417, 'loss': 0.59515417, 'global_step': 1875}\n",
      "Model cache_dir = ./tmpztakpde4\n",
      "INFO:tensorflow:Using default config.\n",
      "INFO:tensorflow:Using config: {'_model_dir': './tmpztakpde4', '_tf_random_seed': None, '_save_summary_steps': 100, '_save_checkpoints_steps': None, '_save_checkpoints_secs': 600, '_session_config': allow_soft_placement: true\n",
      "graph_options {\n",
      "  rewrite_options {\n",
      "    meta_optimizer_iterations: ONE\n",
      "  }\n",
      "}\n",
      ", '_keep_checkpoint_max': 5, '_keep_checkpoint_every_n_hours': 10000, '_log_step_count_steps': 100, '_train_distribute': None, '_device_fn': None, '_protocol': None, '_eval_distribute': None, '_experimental_distribute': None, '_experimental_max_worker_delay_secs': None, '_session_creation_timeout_secs': 7200, '_service': None, '_cluster_spec': ClusterSpec({}), '_task_type': 'worker', '_task_id': 0, '_global_id_in_cluster': 0, '_master': '', '_evaluation_master': '', '_is_chief': True, '_num_ps_replicas': 0, '_num_worker_replicas': 1}\n",
      "INFO:tensorflow:Not using Distribute Coordinator.\n",
      "INFO:tensorflow:Running training and evaluation locally (non-distributed).\n",
      "INFO:tensorflow:Start train and evaluate loop. The evaluate will happen after every checkpoint. Checkpoint frequency is determined based on RunConfig arguments: save_checkpoints_steps None or save_checkpoints_secs 600.\n",
      "INFO:tensorflow:Calling model_fn.\n",
      "INFO:tensorflow:Done calling model_fn.\n",
      "INFO:tensorflow:Create CheckpointSaverHook.\n",
      "INFO:tensorflow:Graph was finalized.\n",
      "INFO:tensorflow:Running local_init_op.\n",
      "INFO:tensorflow:Done running local_init_op.\n",
      "INFO:tensorflow:Saving checkpoints for 0 into ./tmpztakpde4/model.ckpt.\n",
      "INFO:tensorflow:loss = 22.013756, step = 0\n",
      "INFO:tensorflow:global_step/sec: 242.711\n",
      "INFO:tensorflow:loss = 1.6540923, step = 100 (0.413 sec)\n",
      "INFO:tensorflow:global_step/sec: 275.685\n",
      "INFO:tensorflow:loss = 1.5396106, step = 200 (0.363 sec)\n",
      "INFO:tensorflow:global_step/sec: 282.244\n",
      "INFO:tensorflow:loss = 1.1144401, step = 300 (0.355 sec)\n",
      "INFO:tensorflow:global_step/sec: 263.377\n",
      "INFO:tensorflow:loss = 1.1375618, step = 400 (0.379 sec)\n",
      "INFO:tensorflow:global_step/sec: 273.451\n",
      "INFO:tensorflow:loss = 2.238741, step = 500 (0.365 sec)\n",
      "INFO:tensorflow:global_step/sec: 258.928\n",
      "INFO:tensorflow:loss = 0.83575124, step = 600 (0.387 sec)\n",
      "INFO:tensorflow:global_step/sec: 275.989\n",
      "INFO:tensorflow:loss = 0.975924, step = 700 (0.361 sec)\n",
      "INFO:tensorflow:global_step/sec: 277.921\n",
      "INFO:tensorflow:loss = 0.7168466, step = 800 (0.360 sec)\n",
      "INFO:tensorflow:global_step/sec: 284.419\n",
      "INFO:tensorflow:loss = 0.6851443, step = 900 (0.351 sec)\n",
      "INFO:tensorflow:global_step/sec: 255.179\n",
      "INFO:tensorflow:loss = 0.7164159, step = 1000 (0.392 sec)\n",
      "INFO:tensorflow:global_step/sec: 257.384\n",
      "INFO:tensorflow:loss = 0.5561325, step = 1100 (0.401 sec)\n",
      "INFO:tensorflow:global_step/sec: 268.748\n",
      "INFO:tensorflow:loss = 0.5321815, step = 1200 (0.359 sec)\n",
      "INFO:tensorflow:global_step/sec: 273.758\n",
      "INFO:tensorflow:loss = 0.60895467, step = 1300 (0.365 sec)\n",
      "INFO:tensorflow:global_step/sec: 270.807\n",
      "INFO:tensorflow:loss = 0.9376741, step = 1400 (0.370 sec)\n",
      "INFO:tensorflow:global_step/sec: 287.747\n",
      "INFO:tensorflow:loss = 0.4362317, step = 1500 (0.348 sec)\n",
      "INFO:tensorflow:global_step/sec: 277.814\n",
      "INFO:tensorflow:loss = 0.61348915, step = 1600 (0.361 sec)\n",
      "INFO:tensorflow:global_step/sec: 264.392\n",
      "INFO:tensorflow:loss = 0.6030792, step = 1700 (0.377 sec)\n",
      "INFO:tensorflow:global_step/sec: 279.274\n",
      "INFO:tensorflow:loss = 0.78808016, step = 1800 (0.358 sec)\n",
      "INFO:tensorflow:Saving checkpoints for 1875 into ./tmpztakpde4/model.ckpt.\n",
      "INFO:tensorflow:Calling model_fn.\n",
      "INFO:tensorflow:Done calling model_fn.\n",
      "INFO:tensorflow:Starting evaluation at 2020-03-30T12:08:16Z\n",
      "INFO:tensorflow:Graph was finalized.\n",
      "INFO:tensorflow:Restoring parameters from ./tmpztakpde4/model.ckpt-1875\n",
      "INFO:tensorflow:Running local_init_op.\n",
      "INFO:tensorflow:Done running local_init_op.\n",
      "INFO:tensorflow:Evaluation [10/100]\n",
      "INFO:tensorflow:Evaluation [20/100]\n",
      "INFO:tensorflow:Evaluation [30/100]\n",
      "INFO:tensorflow:Evaluation [40/100]\n",
      "INFO:tensorflow:Evaluation [50/100]\n",
      "INFO:tensorflow:Evaluation [60/100]\n",
      "INFO:tensorflow:Evaluation [70/100]\n",
      "INFO:tensorflow:Evaluation [80/100]\n",
      "INFO:tensorflow:Evaluation [90/100]\n",
      "INFO:tensorflow:Evaluation [100/100]\n",
      "INFO:tensorflow:Inference Time : 0.80816s\n",
      "INFO:tensorflow:Finished evaluation at 2020-03-30-12:08:16\n",
      "INFO:tensorflow:Saving dict for global step 1875: accuracy = 0.80875, average_loss = 0.62262845, global_step = 1875, loss = 0.62262845\n",
      "INFO:tensorflow:Saving 'checkpoint_path' summary for global step 1875: ./tmpztakpde4/model.ckpt-1875\n",
      "INFO:tensorflow:Loss for final step: 0.9717908.\n",
      "{'accuracy': 0.80875, 'average_loss': 0.62262845, 'loss': 0.62262845, 'global_step': 1875}\n",
      "Model cache_dir = ./tmp2qu5t3ec\n",
      "INFO:tensorflow:Using default config.\n",
      "INFO:tensorflow:Using config: {'_model_dir': './tmp2qu5t3ec', '_tf_random_seed': None, '_save_summary_steps': 100, '_save_checkpoints_steps': None, '_save_checkpoints_secs': 600, '_session_config': allow_soft_placement: true\n",
      "graph_options {\n",
      "  rewrite_options {\n",
      "    meta_optimizer_iterations: ONE\n",
      "  }\n",
      "}\n",
      ", '_keep_checkpoint_max': 5, '_keep_checkpoint_every_n_hours': 10000, '_log_step_count_steps': 100, '_train_distribute': None, '_device_fn': None, '_protocol': None, '_eval_distribute': None, '_experimental_distribute': None, '_experimental_max_worker_delay_secs': None, '_session_creation_timeout_secs': 7200, '_service': None, '_cluster_spec': ClusterSpec({}), '_task_type': 'worker', '_task_id': 0, '_global_id_in_cluster': 0, '_master': '', '_evaluation_master': '', '_is_chief': True, '_num_ps_replicas': 0, '_num_worker_replicas': 1}\n",
      "INFO:tensorflow:Not using Distribute Coordinator.\n",
      "INFO:tensorflow:Running training and evaluation locally (non-distributed).\n",
      "INFO:tensorflow:Start train and evaluate loop. The evaluate will happen after every checkpoint. Checkpoint frequency is determined based on RunConfig arguments: save_checkpoints_steps None or save_checkpoints_secs 600.\n",
      "INFO:tensorflow:Calling model_fn.\n",
      "INFO:tensorflow:Done calling model_fn.\n",
      "INFO:tensorflow:Create CheckpointSaverHook.\n",
      "INFO:tensorflow:Graph was finalized.\n",
      "INFO:tensorflow:Running local_init_op.\n",
      "INFO:tensorflow:Done running local_init_op.\n",
      "INFO:tensorflow:Saving checkpoints for 0 into ./tmp2qu5t3ec/model.ckpt.\n",
      "INFO:tensorflow:loss = 14.145317, step = 0\n",
      "INFO:tensorflow:global_step/sec: 269.113\n",
      "INFO:tensorflow:loss = 1.8585114, step = 100 (0.373 sec)\n",
      "INFO:tensorflow:global_step/sec: 276.779\n",
      "INFO:tensorflow:loss = 1.4869862, step = 200 (0.362 sec)\n",
      "INFO:tensorflow:global_step/sec: 235.719\n",
      "INFO:tensorflow:loss = 1.2406769, step = 300 (0.424 sec)\n",
      "INFO:tensorflow:global_step/sec: 264.549\n",
      "INFO:tensorflow:loss = 1.3160068, step = 400 (0.377 sec)\n",
      "INFO:tensorflow:global_step/sec: 255.297\n",
      "INFO:tensorflow:loss = 1.5377798, step = 500 (0.392 sec)\n",
      "INFO:tensorflow:global_step/sec: 255.117\n",
      "INFO:tensorflow:loss = 1.1897376, step = 600 (0.392 sec)\n",
      "INFO:tensorflow:global_step/sec: 255.504\n",
      "INFO:tensorflow:loss = 1.0188508, step = 700 (0.393 sec)\n",
      "INFO:tensorflow:global_step/sec: 271.43\n",
      "INFO:tensorflow:loss = 1.0645489, step = 800 (0.367 sec)\n",
      "INFO:tensorflow:global_step/sec: 274.518\n",
      "INFO:tensorflow:loss = 0.7448913, step = 900 (0.364 sec)\n",
      "INFO:tensorflow:global_step/sec: 251.391\n",
      "INFO:tensorflow:loss = 0.6056913, step = 1000 (0.399 sec)\n",
      "INFO:tensorflow:global_step/sec: 294.603\n",
      "INFO:tensorflow:loss = 0.61438787, step = 1100 (0.337 sec)\n",
      "INFO:tensorflow:global_step/sec: 277.398\n",
      "INFO:tensorflow:loss = 0.51228, step = 1200 (0.361 sec)\n",
      "INFO:tensorflow:global_step/sec: 275.034\n",
      "INFO:tensorflow:loss = 0.8902726, step = 1300 (0.364 sec)\n",
      "INFO:tensorflow:global_step/sec: 280.391\n",
      "INFO:tensorflow:loss = 0.65481246, step = 1400 (0.357 sec)\n",
      "INFO:tensorflow:global_step/sec: 277.738\n",
      "INFO:tensorflow:loss = 1.2284647, step = 1500 (0.362 sec)\n",
      "INFO:tensorflow:global_step/sec: 282.329\n",
      "INFO:tensorflow:loss = 0.6648408, step = 1600 (0.353 sec)\n",
      "INFO:tensorflow:global_step/sec: 258.428\n",
      "INFO:tensorflow:loss = 0.57088464, step = 1700 (0.388 sec)\n",
      "INFO:tensorflow:global_step/sec: 271.919\n",
      "INFO:tensorflow:loss = 0.46310955, step = 1800 (0.368 sec)\n",
      "INFO:tensorflow:Saving checkpoints for 1875 into ./tmp2qu5t3ec/model.ckpt.\n",
      "INFO:tensorflow:Calling model_fn.\n",
      "INFO:tensorflow:Done calling model_fn.\n",
      "INFO:tensorflow:Starting evaluation at 2020-03-30T12:08:27Z\n",
      "INFO:tensorflow:Graph was finalized.\n",
      "INFO:tensorflow:Restoring parameters from ./tmp2qu5t3ec/model.ckpt-1875\n",
      "INFO:tensorflow:Running local_init_op.\n",
      "INFO:tensorflow:Done running local_init_op.\n",
      "INFO:tensorflow:Evaluation [10/100]\n",
      "INFO:tensorflow:Evaluation [20/100]\n",
      "INFO:tensorflow:Evaluation [30/100]\n",
      "INFO:tensorflow:Evaluation [40/100]\n",
      "INFO:tensorflow:Evaluation [50/100]\n",
      "INFO:tensorflow:Evaluation [60/100]\n",
      "INFO:tensorflow:Evaluation [70/100]\n",
      "INFO:tensorflow:Evaluation [80/100]\n",
      "INFO:tensorflow:Evaluation [90/100]\n",
      "INFO:tensorflow:Evaluation [100/100]\n",
      "INFO:tensorflow:Inference Time : 1.04401s\n",
      "INFO:tensorflow:Finished evaluation at 2020-03-30-12:08:28\n",
      "INFO:tensorflow:Saving dict for global step 1875: accuracy = 0.800625, average_loss = 0.6286239, global_step = 1875, loss = 0.6286239\n",
      "INFO:tensorflow:Saving 'checkpoint_path' summary for global step 1875: ./tmp2qu5t3ec/model.ckpt-1875\n",
      "INFO:tensorflow:Loss for final step: 0.4727316.\n",
      "{'accuracy': 0.800625, 'average_loss': 0.6286239, 'loss': 0.6286239, 'global_step': 1875}\n",
      "Model cache_dir = ./tmpaegfqmc3\n",
      "INFO:tensorflow:Using default config.\n",
      "INFO:tensorflow:Using config: {'_model_dir': './tmpaegfqmc3', '_tf_random_seed': None, '_save_summary_steps': 100, '_save_checkpoints_steps': None, '_save_checkpoints_secs': 600, '_session_config': allow_soft_placement: true\n",
      "graph_options {\n",
      "  rewrite_options {\n",
      "    meta_optimizer_iterations: ONE\n",
      "  }\n",
      "}\n",
      ", '_keep_checkpoint_max': 5, '_keep_checkpoint_every_n_hours': 10000, '_log_step_count_steps': 100, '_train_distribute': None, '_device_fn': None, '_protocol': None, '_eval_distribute': None, '_experimental_distribute': None, '_experimental_max_worker_delay_secs': None, '_session_creation_timeout_secs': 7200, '_service': None, '_cluster_spec': ClusterSpec({}), '_task_type': 'worker', '_task_id': 0, '_global_id_in_cluster': 0, '_master': '', '_evaluation_master': '', '_is_chief': True, '_num_ps_replicas': 0, '_num_worker_replicas': 1}\n",
      "INFO:tensorflow:Not using Distribute Coordinator.\n",
      "INFO:tensorflow:Running training and evaluation locally (non-distributed).\n",
      "INFO:tensorflow:Start train and evaluate loop. The evaluate will happen after every checkpoint. Checkpoint frequency is determined based on RunConfig arguments: save_checkpoints_steps None or save_checkpoints_secs 600.\n",
      "INFO:tensorflow:Calling model_fn.\n",
      "INFO:tensorflow:Done calling model_fn.\n",
      "INFO:tensorflow:Create CheckpointSaverHook.\n",
      "INFO:tensorflow:Graph was finalized.\n",
      "INFO:tensorflow:Running local_init_op.\n",
      "INFO:tensorflow:Done running local_init_op.\n",
      "INFO:tensorflow:Saving checkpoints for 0 into ./tmpaegfqmc3/model.ckpt.\n",
      "INFO:tensorflow:loss = 18.916023, step = 0\n",
      "INFO:tensorflow:global_step/sec: 283.766\n",
      "INFO:tensorflow:loss = 2.013104, step = 100 (0.353 sec)\n",
      "INFO:tensorflow:global_step/sec: 261.135\n",
      "INFO:tensorflow:loss = 1.2433708, step = 200 (0.383 sec)\n",
      "INFO:tensorflow:global_step/sec: 265.93\n",
      "INFO:tensorflow:loss = 0.7781216, step = 300 (0.377 sec)\n",
      "INFO:tensorflow:global_step/sec: 278.348\n",
      "INFO:tensorflow:loss = 0.9971336, step = 400 (0.359 sec)\n",
      "INFO:tensorflow:global_step/sec: 280.659\n",
      "INFO:tensorflow:loss = 1.2317047, step = 500 (0.355 sec)\n",
      "INFO:tensorflow:global_step/sec: 277.291\n",
      "INFO:tensorflow:loss = 1.2721534, step = 600 (0.362 sec)\n",
      "INFO:tensorflow:global_step/sec: 248.85\n",
      "INFO:tensorflow:loss = 0.7399587, step = 700 (0.401 sec)\n",
      "INFO:tensorflow:global_step/sec: 271.164\n",
      "INFO:tensorflow:loss = 1.0332788, step = 800 (0.370 sec)\n",
      "INFO:tensorflow:global_step/sec: 275.427\n",
      "INFO:tensorflow:loss = 0.9710443, step = 900 (0.362 sec)\n",
      "INFO:tensorflow:global_step/sec: 269.542\n",
      "INFO:tensorflow:loss = 0.4918296, step = 1000 (0.371 sec)\n",
      "INFO:tensorflow:global_step/sec: 267.662\n",
      "INFO:tensorflow:loss = 0.5796073, step = 1100 (0.373 sec)\n",
      "INFO:tensorflow:global_step/sec: 288.853\n",
      "INFO:tensorflow:loss = 0.75695467, step = 1200 (0.357 sec)\n",
      "INFO:tensorflow:global_step/sec: 276.658\n",
      "INFO:tensorflow:loss = 0.7023765, step = 1300 (0.351 sec)\n",
      "INFO:tensorflow:global_step/sec: 264.021\n",
      "INFO:tensorflow:loss = 0.36977008, step = 1400 (0.380 sec)\n",
      "INFO:tensorflow:global_step/sec: 257.172\n",
      "INFO:tensorflow:loss = 0.3485758, step = 1500 (0.388 sec)\n",
      "INFO:tensorflow:global_step/sec: 266.583\n",
      "INFO:tensorflow:loss = 0.82585466, step = 1600 (0.375 sec)\n",
      "INFO:tensorflow:global_step/sec: 273.641\n",
      "INFO:tensorflow:loss = 0.8947864, step = 1700 (0.366 sec)\n",
      "INFO:tensorflow:global_step/sec: 269.798\n",
      "INFO:tensorflow:loss = 0.7678496, step = 1800 (0.370 sec)\n",
      "INFO:tensorflow:Saving checkpoints for 1875 into ./tmpaegfqmc3/model.ckpt.\n",
      "INFO:tensorflow:Calling model_fn.\n",
      "INFO:tensorflow:Done calling model_fn.\n",
      "INFO:tensorflow:Starting evaluation at 2020-03-30T12:08:38Z\n",
      "INFO:tensorflow:Graph was finalized.\n",
      "INFO:tensorflow:Restoring parameters from ./tmpaegfqmc3/model.ckpt-1875\n",
      "INFO:tensorflow:Running local_init_op.\n",
      "INFO:tensorflow:Done running local_init_op.\n",
      "INFO:tensorflow:Evaluation [10/100]\n",
      "INFO:tensorflow:Evaluation [20/100]\n",
      "INFO:tensorflow:Evaluation [30/100]\n",
      "INFO:tensorflow:Evaluation [40/100]\n",
      "INFO:tensorflow:Evaluation [50/100]\n",
      "INFO:tensorflow:Evaluation [60/100]\n",
      "INFO:tensorflow:Evaluation [70/100]\n",
      "INFO:tensorflow:Evaluation [80/100]\n",
      "INFO:tensorflow:Evaluation [90/100]\n",
      "INFO:tensorflow:Evaluation [100/100]\n",
      "INFO:tensorflow:Inference Time : 0.84083s\n",
      "INFO:tensorflow:Finished evaluation at 2020-03-30-12:08:39\n",
      "INFO:tensorflow:Saving dict for global step 1875: accuracy = 0.8228125, average_loss = 0.5880917, global_step = 1875, loss = 0.5880917\n",
      "INFO:tensorflow:Saving 'checkpoint_path' summary for global step 1875: ./tmpaegfqmc3/model.ckpt-1875\n",
      "INFO:tensorflow:Loss for final step: 0.5505756.\n",
      "{'accuracy': 0.8228125, 'average_loss': 0.5880917, 'loss': 0.5880917, 'global_step': 1875}\n"
     ]
    }
   ],
   "source": [
    "res = gp_minimize(\n",
    "    objective,\n",
    "    dimensions=hyperparameter_specs,\n",
    "    n_calls=50,\n",
    "    random_state=42,\n",
    "    n_jobs=4,\n",
    ")"
   ]
  },
  {
   "cell_type": "code",
   "execution_count": 78,
   "metadata": {},
   "outputs": [
    {
     "data": {
      "text/plain": [
       "array([[<matplotlib.axes._subplots.AxesSubplot object at 0x7f8f6a3abb50>,\n",
       "        <matplotlib.axes._subplots.AxesSubplot object at 0x7f8f82789e90>,\n",
       "        <matplotlib.axes._subplots.AxesSubplot object at 0x7f8f4ff6fb90>],\n",
       "       [<matplotlib.axes._subplots.AxesSubplot object at 0x7f8f5b42a510>,\n",
       "        <matplotlib.axes._subplots.AxesSubplot object at 0x7f8f5ba8ebd0>,\n",
       "        <matplotlib.axes._subplots.AxesSubplot object at 0x7f8f6a52fad0>],\n",
       "       [<matplotlib.axes._subplots.AxesSubplot object at 0x7f8f83109b10>,\n",
       "        <matplotlib.axes._subplots.AxesSubplot object at 0x7f8f5a06f050>,\n",
       "        <matplotlib.axes._subplots.AxesSubplot object at 0x7f8fc8187b90>]],\n",
       "      dtype=object)"
      ]
     },
     "execution_count": 78,
     "metadata": {},
     "output_type": "execute_result"
    },
    {
     "data": {
      "image/png": "[encoded data removed]",
      "text/plain": [
       "<Figure size 432x288 with 1 Axes>"
      ]
     },
     "metadata": {
      "needs_background": "light"
     },
     "output_type": "display_data"
    },
    {
     "data": {
      "image/png": "[encoded data removed]",
      "text/plain": [
       "<Figure size 432x432 with 9 Axes>"
      ]
     },
     "metadata": {
      "needs_background": "light"
     },
     "output_type": "display_data"
    },
    {
     "data": {
      "image/png": "[encoded data removed]",
      "text/plain": [
       "<Figure size 432x432 with 9 Axes>"
      ]
     },
     "metadata": {
      "needs_background": "light"
     },
     "output_type": "display_data"
    }
   ],
   "source": [
    "plot_convergence(res)\n",
    "plot_evaluations(res)\n",
    "plot_objective(res)"
   ]
  },
  {
   "cell_type": "markdown",
   "metadata": {},
   "source": [
    "Rerun this model again for fun...\n"
   ]
  },
  {
   "cell_type": "code",
   "execution_count": 188,
   "metadata": {},
   "outputs": [
    {
     "name": "stdout",
     "output_type": "stream",
     "text": [
      "Model cache_dir = ./tmpjmnc2nd9\n",
      "INFO:tensorflow:Using default config.\n",
      "INFO:tensorflow:Using config: {'_model_dir': './tmpjmnc2nd9', '_tf_random_seed': None, '_save_summary_steps': 100, '_save_checkpoints_steps': None, '_save_checkpoints_secs': 600, '_session_config': allow_soft_placement: true\n",
      "graph_options {\n",
      "  rewrite_options {\n",
      "    meta_optimizer_iterations: ONE\n",
      "  }\n",
      "}\n",
      ", '_keep_checkpoint_max': 5, '_keep_checkpoint_every_n_hours': 10000, '_log_step_count_steps': 100, '_train_distribute': None, '_device_fn': None, '_protocol': None, '_eval_distribute': None, '_experimental_distribute': None, '_experimental_max_worker_delay_secs': None, '_session_creation_timeout_secs': 7200, '_service': None, '_cluster_spec': ClusterSpec({}), '_task_type': 'worker', '_task_id': 0, '_global_id_in_cluster': 0, '_master': '', '_evaluation_master': '', '_is_chief': True, '_num_ps_replicas': 0, '_num_worker_replicas': 1}\n",
      "INFO:tensorflow:Not using Distribute Coordinator.\n",
      "INFO:tensorflow:Running training and evaluation locally (non-distributed).\n",
      "INFO:tensorflow:Start train and evaluate loop. The evaluate will happen after every checkpoint. Checkpoint frequency is determined based on RunConfig arguments: save_checkpoints_steps None or save_checkpoints_secs 600.\n",
      "INFO:tensorflow:Calling model_fn.\n",
      "INFO:tensorflow:Done calling model_fn.\n",
      "INFO:tensorflow:Create CheckpointSaverHook.\n",
      "INFO:tensorflow:Graph was finalized.\n",
      "INFO:tensorflow:Running local_init_op.\n",
      "INFO:tensorflow:Done running local_init_op.\n",
      "INFO:tensorflow:Saving checkpoints for 0 into ./tmpjmnc2nd9/model.ckpt.\n",
      "INFO:tensorflow:loss = 38.2408, step = 0\n",
      "INFO:tensorflow:global_step/sec: 222.061\n",
      "INFO:tensorflow:loss = 2.1058474, step = 100 (0.453 sec)\n",
      "INFO:tensorflow:global_step/sec: 264.477\n",
      "INFO:tensorflow:loss = 1.6062396, step = 200 (0.376 sec)\n",
      "INFO:tensorflow:global_step/sec: 224.316\n",
      "INFO:tensorflow:loss = 1.3168889, step = 300 (0.446 sec)\n",
      "INFO:tensorflow:global_step/sec: 225.35\n",
      "INFO:tensorflow:loss = 1.3836129, step = 400 (0.444 sec)\n",
      "INFO:tensorflow:global_step/sec: 258.104\n",
      "INFO:tensorflow:loss = 0.8098005, step = 500 (0.389 sec)\n",
      "INFO:tensorflow:global_step/sec: 245.635\n",
      "INFO:tensorflow:loss = 0.7529596, step = 600 (0.405 sec)\n",
      "INFO:tensorflow:global_step/sec: 250.278\n",
      "INFO:tensorflow:loss = 0.7728766, step = 700 (0.400 sec)\n",
      "INFO:tensorflow:global_step/sec: 216.414\n",
      "INFO:tensorflow:loss = 1.2919078, step = 800 (0.462 sec)\n",
      "INFO:tensorflow:global_step/sec: 216.765\n",
      "INFO:tensorflow:loss = 0.8319959, step = 900 (0.461 sec)\n",
      "INFO:tensorflow:global_step/sec: 299.024\n",
      "INFO:tensorflow:loss = 0.9648336, step = 1000 (0.335 sec)\n",
      "INFO:tensorflow:global_step/sec: 303.164\n",
      "INFO:tensorflow:loss = 0.612375, step = 1100 (0.330 sec)\n",
      "INFO:tensorflow:global_step/sec: 302.788\n",
      "INFO:tensorflow:loss = 0.7922932, step = 1200 (0.331 sec)\n",
      "INFO:tensorflow:global_step/sec: 202.461\n",
      "INFO:tensorflow:loss = 0.8619369, step = 1300 (0.493 sec)\n",
      "INFO:tensorflow:global_step/sec: 216.662\n",
      "INFO:tensorflow:loss = 0.7712331, step = 1400 (0.463 sec)\n",
      "INFO:tensorflow:global_step/sec: 220.527\n",
      "INFO:tensorflow:loss = 1.2127776, step = 1500 (0.452 sec)\n",
      "INFO:tensorflow:global_step/sec: 221.534\n",
      "INFO:tensorflow:loss = 1.2258735, step = 1600 (0.451 sec)\n",
      "INFO:tensorflow:global_step/sec: 220.389\n",
      "INFO:tensorflow:loss = 0.61432576, step = 1700 (0.455 sec)\n",
      "INFO:tensorflow:global_step/sec: 297.746\n",
      "INFO:tensorflow:loss = 0.5553064, step = 1800 (0.335 sec)\n",
      "INFO:tensorflow:Saving checkpoints for 1875 into ./tmpjmnc2nd9/model.ckpt.\n",
      "INFO:tensorflow:Calling model_fn.\n",
      "INFO:tensorflow:Done calling model_fn.\n",
      "INFO:tensorflow:Starting evaluation at 2020-03-31T11:51:13Z\n",
      "INFO:tensorflow:Graph was finalized.\n",
      "INFO:tensorflow:Restoring parameters from ./tmpjmnc2nd9/model.ckpt-1875\n",
      "INFO:tensorflow:Running local_init_op.\n",
      "INFO:tensorflow:Done running local_init_op.\n",
      "INFO:tensorflow:Evaluation [10/100]\n",
      "INFO:tensorflow:Evaluation [20/100]\n",
      "INFO:tensorflow:Evaluation [30/100]\n",
      "INFO:tensorflow:Evaluation [40/100]\n",
      "INFO:tensorflow:Evaluation [50/100]\n",
      "INFO:tensorflow:Evaluation [60/100]\n",
      "INFO:tensorflow:Evaluation [70/100]\n",
      "INFO:tensorflow:Evaluation [80/100]\n",
      "INFO:tensorflow:Evaluation [90/100]\n",
      "INFO:tensorflow:Evaluation [100/100]\n",
      "INFO:tensorflow:Inference Time : 0.95258s\n",
      "INFO:tensorflow:Finished evaluation at 2020-03-31-11:51:14\n",
      "INFO:tensorflow:Saving dict for global step 1875: accuracy = 0.7875, average_loss = 0.68737257, global_step = 1875, loss = 0.68737257\n",
      "INFO:tensorflow:Saving 'checkpoint_path' summary for global step 1875: ./tmpjmnc2nd9/model.ckpt-1875\n",
      "INFO:tensorflow:Loss for final step: 0.4579016.\n",
      "{'accuracy': 0.7875, 'average_loss': 0.68737257, 'loss': 0.68737257, 'global_step': 1875}\n"
     ]
    },
    {
     "data": {
      "text/plain": [
       "0.68737257"
      ]
     },
     "execution_count": 188,
     "metadata": {},
     "output_type": "execute_result"
    }
   ],
   "source": [
    "objective(res.x)"
   ]
  },
  {
   "cell_type": "markdown",
   "metadata": {},
   "source": [
    "# Save the model for later serving"
   ]
  },
  {
   "cell_type": "markdown",
   "metadata": {},
   "source": [
    "Used this guide: https://www.tensorflow.org/guide/saved_model\n",
    "\n",
    "Guide mentions that \"tf.estimator.export.build_raw_serving_input_receiver_fn allows you to create input functions which take raw tensors rather than tf.train.Examples.\"\n",
    "\n",
    "Seems like we set up the saved model to accept a more raw form of inputs.  But that means when we call the models, we also need to form inputs in that raw way..."
   ]
  },
  {
   "cell_type": "code",
   "execution_count": 92,
   "metadata": {},
   "outputs": [],
   "source": [
    "@use_named_args(hyperparameter_specs)\n",
    "def train_final(return_model=True, **hp_config):\n",
    "    \"\"\"Train with a durable tmpdir so the model can be exported later\"\"\"\n",
    "    \n",
    "    tmpdir = tempfile.mkdtemp(dir=\"./\")\n",
    "    model = create_model(hp_config['n_layers'], hp_config['dropout'], cache_dir=tmpdir)\n",
    "\n",
    "    train_spec = tf.estimator.TrainSpec(input_fn=lambda: input_fn(\"train\"), max_steps=hp_config['max_steps'])\n",
    "    eval_spec = tf.estimator.EvalSpec(input_fn=lambda: input_fn(\"test\"))\n",
    "    res = tf.estimator.train_and_evaluate(model, train_spec, eval_spec)\n",
    "    \n",
    "    print(res[0])\n",
    "    if return_model:\n",
    "        return res[0]['loss'], model\n",
    "    else:\n",
    "        return res[0]['loss']"
   ]
  },
  {
   "cell_type": "code",
   "execution_count": 93,
   "metadata": {
    "collapsed": true,
    "jupyter": {
     "outputs_hidden": true
    }
   },
   "outputs": [
    {
     "name": "stdout",
     "output_type": "stream",
     "text": [
      "Model cache_dir = ./tmpt2wgakrw\n",
      "INFO:tensorflow:Using default config.\n",
      "INFO:tensorflow:Using config: {'_model_dir': './tmpt2wgakrw', '_tf_random_seed': None, '_save_summary_steps': 100, '_save_checkpoints_steps': None, '_save_checkpoints_secs': 600, '_session_config': allow_soft_placement: true\n",
      "graph_options {\n",
      "  rewrite_options {\n",
      "    meta_optimizer_iterations: ONE\n",
      "  }\n",
      "}\n",
      ", '_keep_checkpoint_max': 5, '_keep_checkpoint_every_n_hours': 10000, '_log_step_count_steps': 100, '_train_distribute': None, '_device_fn': None, '_protocol': None, '_eval_distribute': None, '_experimental_distribute': None, '_experimental_max_worker_delay_secs': None, '_session_creation_timeout_secs': 7200, '_service': None, '_cluster_spec': ClusterSpec({}), '_task_type': 'worker', '_task_id': 0, '_global_id_in_cluster': 0, '_master': '', '_evaluation_master': '', '_is_chief': True, '_num_ps_replicas': 0, '_num_worker_replicas': 1}\n",
      "INFO:tensorflow:Not using Distribute Coordinator.\n",
      "INFO:tensorflow:Running training and evaluation locally (non-distributed).\n",
      "INFO:tensorflow:Start train and evaluate loop. The evaluate will happen after every checkpoint. Checkpoint frequency is determined based on RunConfig arguments: save_checkpoints_steps None or save_checkpoints_secs 600.\n",
      "INFO:tensorflow:Calling model_fn.\n",
      "INFO:tensorflow:Done calling model_fn.\n",
      "INFO:tensorflow:Create CheckpointSaverHook.\n",
      "INFO:tensorflow:Graph was finalized.\n",
      "INFO:tensorflow:Running local_init_op.\n",
      "INFO:tensorflow:Done running local_init_op.\n",
      "INFO:tensorflow:Saving checkpoints for 0 into ./tmpt2wgakrw/model.ckpt.\n",
      "INFO:tensorflow:loss = 21.705696, step = 0\n",
      "INFO:tensorflow:global_step/sec: 230.98\n",
      "INFO:tensorflow:loss = 2.4774716, step = 100 (0.434 sec)\n",
      "INFO:tensorflow:global_step/sec: 297.026\n",
      "INFO:tensorflow:loss = 1.5724161, step = 200 (0.337 sec)\n",
      "INFO:tensorflow:global_step/sec: 250.092\n",
      "INFO:tensorflow:loss = 1.6724159, step = 300 (0.400 sec)\n",
      "INFO:tensorflow:global_step/sec: 294.878\n",
      "INFO:tensorflow:loss = 1.6472464, step = 400 (0.348 sec)\n",
      "INFO:tensorflow:global_step/sec: 280.881\n",
      "INFO:tensorflow:loss = 1.126993, step = 500 (0.347 sec)\n",
      "INFO:tensorflow:global_step/sec: 304.507\n",
      "INFO:tensorflow:loss = 1.0608121, step = 600 (0.328 sec)\n",
      "INFO:tensorflow:global_step/sec: 298.636\n",
      "INFO:tensorflow:loss = 0.86932194, step = 700 (0.335 sec)\n",
      "INFO:tensorflow:global_step/sec: 286.462\n",
      "INFO:tensorflow:loss = 0.7609247, step = 800 (0.349 sec)\n",
      "INFO:tensorflow:global_step/sec: 285.005\n",
      "INFO:tensorflow:loss = 0.8648553, step = 900 (0.352 sec)\n",
      "INFO:tensorflow:global_step/sec: 289.471\n",
      "INFO:tensorflow:loss = 1.0823047, step = 1000 (0.344 sec)\n",
      "INFO:tensorflow:global_step/sec: 277.675\n",
      "INFO:tensorflow:loss = 0.8346044, step = 1100 (0.360 sec)\n",
      "INFO:tensorflow:global_step/sec: 279.33\n",
      "INFO:tensorflow:loss = 0.9107386, step = 1200 (0.359 sec)\n",
      "INFO:tensorflow:global_step/sec: 278.944\n",
      "INFO:tensorflow:loss = 0.9127557, step = 1300 (0.357 sec)\n",
      "INFO:tensorflow:global_step/sec: 287.028\n",
      "INFO:tensorflow:loss = 0.75553894, step = 1400 (0.348 sec)\n",
      "INFO:tensorflow:global_step/sec: 292.656\n",
      "INFO:tensorflow:loss = 0.81777114, step = 1500 (0.342 sec)\n",
      "INFO:tensorflow:global_step/sec: 263.46\n",
      "INFO:tensorflow:loss = 0.63360775, step = 1600 (0.387 sec)\n",
      "INFO:tensorflow:global_step/sec: 280.304\n",
      "INFO:tensorflow:loss = 0.96925515, step = 1700 (0.349 sec)\n",
      "INFO:tensorflow:global_step/sec: 293.147\n",
      "INFO:tensorflow:loss = 1.4616798, step = 1800 (0.341 sec)\n",
      "INFO:tensorflow:Saving checkpoints for 1875 into ./tmpt2wgakrw/model.ckpt.\n",
      "INFO:tensorflow:Calling model_fn.\n",
      "INFO:tensorflow:Done calling model_fn.\n",
      "INFO:tensorflow:Starting evaluation at 2020-03-30T13:43:34Z\n",
      "INFO:tensorflow:Graph was finalized.\n",
      "INFO:tensorflow:Restoring parameters from ./tmpt2wgakrw/model.ckpt-1875\n",
      "INFO:tensorflow:Running local_init_op.\n",
      "INFO:tensorflow:Done running local_init_op.\n",
      "INFO:tensorflow:Evaluation [10/100]\n",
      "INFO:tensorflow:Evaluation [20/100]\n",
      "INFO:tensorflow:Evaluation [30/100]\n",
      "INFO:tensorflow:Evaluation [40/100]\n",
      "INFO:tensorflow:Evaluation [50/100]\n",
      "INFO:tensorflow:Evaluation [60/100]\n",
      "INFO:tensorflow:Evaluation [70/100]\n",
      "INFO:tensorflow:Evaluation [80/100]\n",
      "INFO:tensorflow:Evaluation [90/100]\n",
      "INFO:tensorflow:Evaluation [100/100]\n",
      "INFO:tensorflow:Inference Time : 0.92856s\n",
      "INFO:tensorflow:Finished evaluation at 2020-03-30-13:43:34\n",
      "INFO:tensorflow:Saving dict for global step 1875: accuracy = 0.77625, average_loss = 0.7063184, global_step = 1875, loss = 0.7063184\n",
      "INFO:tensorflow:Saving 'checkpoint_path' summary for global step 1875: ./tmpt2wgakrw/model.ckpt-1875\n",
      "INFO:tensorflow:Loss for final step: 0.86667645.\n",
      "{'accuracy': 0.77625, 'average_loss': 0.7063184, 'loss': 0.7063184, 'global_step': 1875}\n"
     ]
    }
   ],
   "source": [
    "loss, model = train_final(res.x)"
   ]
  },
  {
   "cell_type": "markdown",
   "metadata": {},
   "source": [
    "As per [here](https://www.tensorflow.org/guide/saved_model)\n",
    "\n",
    "Notes about serving.  \n",
    "\n",
    "We make an `example_spec` with `tf.feature_column.make_parse_example_spec`, where an `example_spec` is a dict of name:FixedLenFeature entries that define how input should look.  Then we make a `serving_input_receiver_fn` using `tf.estimator.export.build_parsing_serving_input_receiver_fn`.  This resulting `serving_input_receiver_fn` is a function that takes a serialized `tf.Example` (eg: `example.SerializeToString()`, or maybe `tf.constant(\\[example.SerializeToString()\\])`?) as input and converts it as per the `example_spec`.  \n",
    "\n",
    "To make use of all this with an imported saved model (`imported = tf.saved_model.load(path)`) we would invoke it with `imported.signatures['predict'](examples=mySerializedExample)` \n",
    "\n",
    "So I need to figure out how to describe a 28x28 image as a serialized tf.Example."
   ]
  },
  {
   "cell_type": "code",
   "execution_count": 149,
   "metadata": {},
   "outputs": [
    {
     "name": "stdout",
     "output_type": "stream",
     "text": [
      "INFO:tensorflow:Calling model_fn.\n",
      "INFO:tensorflow:Done calling model_fn.\n",
      "INFO:tensorflow:Signatures INCLUDED in export for Classify: ['serving_default', 'classification']\n",
      "INFO:tensorflow:Signatures INCLUDED in export for Regress: None\n",
      "INFO:tensorflow:Signatures INCLUDED in export for Predict: ['predict']\n",
      "INFO:tensorflow:Signatures INCLUDED in export for Train: None\n",
      "INFO:tensorflow:Signatures INCLUDED in export for Eval: None\n",
      "INFO:tensorflow:Restoring parameters from ./tmpt2wgakrw/model.ckpt-1875\n",
      "INFO:tensorflow:Assets added to graph.\n",
      "INFO:tensorflow:No assets to write.\n",
      "INFO:tensorflow:SavedModel written to: ./saved_model/temp-b'1585591410'/saved_model.pb\n"
     ]
    },
    {
     "data": {
      "text/plain": [
       "b'./saved_model/1585591410'"
      ]
     },
     "execution_count": 149,
     "metadata": {},
     "output_type": "execute_result"
    }
   ],
   "source": [
    "# Slightly different method discussed here:\n",
    "# https://medium.com/@yuu.ishikawa/serving-pre-modeled-and-custom-tensorflow-estimator-with-tensorflow-serving-12833b4be421\n",
    "export_path = \"./saved_model\"\n",
    "As per [here](https://www.tensorflow.org/guide/saved_model)\n",
    "\n",
    "Notes about serving.  \n",
    "\n",
    "We make an `example_spec` with `tf.feature_column.make_parse_example_spec`, where an `example_spec` is a dict of name:FixedLenFeature entries that define how input should look.  Then we make a `serving_input_receiver_fn` using `tf.estimator.export.build_parsing_serving_input_receiver_fn`.  This resulting `serving_input_receiver_fn` is a function that takes a serialized `tf.Example` (eg: `example.SerializeToString()`, or maybe `tf.constant(\\[example.SerializeToString()\\])`?) as input and converts it as per the `example_spec`.  \n",
    "\n",
    "To make use of all this with an imported saved model (`imported = tf.saved_model.load(path)`) we would invoke it with `imported.signatures['predict'](examples=mySerializedExample)` \n",
    "\n",
    "So I need to figure out how to describe a 28x28 image as a serialized tf.Example.input_receiver_fn = tf.estimator.export.build_parsing_serving_input_receiver_fn(\n",
    "    tf.feature_column.make_parse_example_spec(feature_columns)\n",
    ")\n",
    "model.export_saved_model(\n",
    "    export_path, \n",
    "    serving_input_receiver_fn,\n",
    ")"
   ]
  },
  {
   "cell_type": "markdown",
   "metadata": {},
   "source": [
    "And to reuse the model..."
   ]
  },
  {
   "cell_type": "code",
   "execution_count": 151,
   "metadata": {},
   "outputs": [],
   "source": [
    "imported = tf.saved_model.load(export_path + \"/1585591410\")\n",
    "DEFAULT_FUNCTION_KEY = \"serving_default\"\n",
    "inference_func = imported.signatures[DEFAULT_FUNCTION_KEY]"
   ]
  },
  {
   "cell_type": "code",
   "execution_count": 189,
   "metadata": {},
   "outputs": [
    {
     "data": {
      "text/plain": [
       "['serving_default', 'predict', 'classification']"
      ]
     },
     "execution_count": 189,
     "metadata": {},
     "output_type": "execute_result"
    }
   ],
   "source": [
    "list(imported.signatures.keys())"
   ]
  },
  {
   "cell_type": "code",
   "execution_count": 178,
   "metadata": {},
   "outputs": [],
   "source": [
    "# Get just the image feature (tensor) from ds\n",
    "ds_image_only = ds.map(lambda image, label: image['image'])"
   ]
  },
  {
   "cell_type": "code",
   "execution_count": 190,
   "metadata": {},
   "outputs": [
    {
     "data": {
      "text/plain": [
       "<DatasetV1Adapter shapes: (None, 28, 28, 1), types: tf.uint8>"
      ]
     },
     "execution_count": 190,
     "metadata": {},
     "output_type": "execute_result"
    }
   ],
   "source": [
    "ds_image_only"
   ]
  },
  {
   "cell_type": "markdown",
   "metadata": {},
   "source": [
    "**This next step does not work as I'm passing a 28x28x1 tensor of an image whereas the inference_func expects something else**.  From some reading I think it expects a string-serialized version of a tf.Example of the input tensor, or maybe of the input tensor as a string?  It wasn't clear.  Not sure why but the structured_input_signature feels wrong..."
   ]
  },
  {
   "cell_type": "code",
   "execution_count": 195,
   "metadata": {},
   "outputs": [
    {
     "name": "stdout",
     "output_type": "stream",
     "text": [
      "None\n"
     ]
    }
   ],
   "source": [
    "print(inference_func.structured_input_signature)"
   ]
  },
  {
   "cell_type": "code",
   "execution_count": 187,
   "metadata": {},
   "outputs": [
    {
     "ename": "InvalidArgumentError",
     "evalue": "cannot compute __inference_pruned_663899 as input #0(zero-based) was expected to be a string tensor but is a uint8 tensor [Op:__inference_pruned_663899]",
     "output_type": "error",
     "traceback": [
      "\u001b[0;31m---------------------------------------------------------------------------\u001b[0m",
      "\u001b[0;31mInvalidArgumentError\u001b[0m                      Traceback (most recent call last)",
      "\u001b[0;32m<ipython-input-187-00b5b9eec88a>\u001b[0m in \u001b[0;36m<module>\u001b[0;34m\u001b[0m\n\u001b[1;32m      1\u001b[0m \u001b[0;32mfor\u001b[0m \u001b[0mbatch\u001b[0m \u001b[0;32min\u001b[0m \u001b[0mds_image_only\u001b[0m\u001b[0;34m.\u001b[0m\u001b[0mtake\u001b[0m\u001b[0;34m(\u001b[0m\u001b[0;36m1\u001b[0m\u001b[0;34m)\u001b[0m\u001b[0;34m:\u001b[0m\u001b[0;34m\u001b[0m\u001b[0;34m\u001b[0m\u001b[0m\n\u001b[0;32m----> 2\u001b[0;31m     \u001b[0minference_func\u001b[0m\u001b[0;34m(\u001b[0m\u001b[0mbatch\u001b[0m\u001b[0;34m)\u001b[0m\u001b[0;34m\u001b[0m\u001b[0;34m\u001b[0m\u001b[0m\n\u001b[0m",
      "\u001b[0;32m~/code_not_git/tf_estimators/venv/lib/python3.7/site-packages/tensorflow_core/python/eager/function.py\u001b[0m in \u001b[0;36m__call__\u001b[0;34m(self, *args, **kwargs)\u001b[0m\n\u001b[1;32m   1549\u001b[0m       \u001b[0mTypeError\u001b[0m\u001b[0;34m:\u001b[0m \u001b[0mFor\u001b[0m \u001b[0minvalid\u001b[0m \u001b[0mpositional\u001b[0m\u001b[0;34m/\u001b[0m\u001b[0mkeyword\u001b[0m \u001b[0margument\u001b[0m \u001b[0mcombinations\u001b[0m\u001b[0;34m.\u001b[0m\u001b[0;34m\u001b[0m\u001b[0;34m\u001b[0m\u001b[0m\n\u001b[1;32m   1550\u001b[0m     \"\"\"\n\u001b[0;32m-> 1551\u001b[0;31m     \u001b[0;32mreturn\u001b[0m \u001b[0mself\u001b[0m\u001b[0;34m.\u001b[0m\u001b[0m_call_impl\u001b[0m\u001b[0;34m(\u001b[0m\u001b[0margs\u001b[0m\u001b[0;34m,\u001b[0m \u001b[0mkwargs\u001b[0m\u001b[0;34m)\u001b[0m\u001b[0;34m\u001b[0m\u001b[0;34m\u001b[0m\u001b[0m\n\u001b[0m\u001b[1;32m   1552\u001b[0m \u001b[0;34m\u001b[0m\u001b[0m\n\u001b[1;32m   1553\u001b[0m   \u001b[0;32mdef\u001b[0m \u001b[0m_call_impl\u001b[0m\u001b[0;34m(\u001b[0m\u001b[0mself\u001b[0m\u001b[0;34m,\u001b[0m \u001b[0margs\u001b[0m\u001b[0;34m,\u001b[0m \u001b[0mkwargs\u001b[0m\u001b[0;34m,\u001b[0m \u001b[0mcancellation_manager\u001b[0m\u001b[0;34m=\u001b[0m\u001b[0;32mNone\u001b[0m\u001b[0;34m)\u001b[0m\u001b[0;34m:\u001b[0m\u001b[0;34m\u001b[0m\u001b[0;34m\u001b[0m\u001b[0m\n",
      "\u001b[0;32m~/code_not_git/tf_estimators/venv/lib/python3.7/site-packages/tensorflow_core/python/eager/function.py\u001b[0m in \u001b[0;36m_call_impl\u001b[0;34m(self, args, kwargs, cancellation_manager)\u001b[0m\n\u001b[1;32m   1589\u001b[0m       raise TypeError(\"Keyword arguments {} unknown. Expected {}.\".format(\n\u001b[1;32m   1590\u001b[0m           list(kwargs.keys()), list(self._arg_keywords)))\n\u001b[0;32m-> 1591\u001b[0;31m     \u001b[0;32mreturn\u001b[0m \u001b[0mself\u001b[0m\u001b[0;34m.\u001b[0m\u001b[0m_call_flat\u001b[0m\u001b[0;34m(\u001b[0m\u001b[0margs\u001b[0m\u001b[0;34m,\u001b[0m \u001b[0mself\u001b[0m\u001b[0;34m.\u001b[0m\u001b[0mcaptured_inputs\u001b[0m\u001b[0;34m,\u001b[0m \u001b[0mcancellation_manager\u001b[0m\u001b[0;34m)\u001b[0m\u001b[0;34m\u001b[0m\u001b[0;34m\u001b[0m\u001b[0m\n\u001b[0m\u001b[1;32m   1592\u001b[0m \u001b[0;34m\u001b[0m\u001b[0m\n\u001b[1;32m   1593\u001b[0m   \u001b[0;32mdef\u001b[0m \u001b[0m_filtered_call\u001b[0m\u001b[0;34m(\u001b[0m\u001b[0mself\u001b[0m\u001b[0;34m,\u001b[0m \u001b[0margs\u001b[0m\u001b[0;34m,\u001b[0m \u001b[0mkwargs\u001b[0m\u001b[0;34m)\u001b[0m\u001b[0;34m:\u001b[0m\u001b[0;34m\u001b[0m\u001b[0;34m\u001b[0m\u001b[0m\n",
      "\u001b[0;32m~/code_not_git/tf_estimators/venv/lib/python3.7/site-packages/tensorflow_core/python/eager/function.py\u001b[0m in \u001b[0;36m_call_flat\u001b[0;34m(self, args, captured_inputs, cancellation_manager)\u001b[0m\n\u001b[1;32m   1690\u001b[0m       \u001b[0;31m# No tape is watching; skip to running the function.\u001b[0m\u001b[0;34m\u001b[0m\u001b[0;34m\u001b[0m\u001b[0;34m\u001b[0m\u001b[0m\n\u001b[1;32m   1691\u001b[0m       return self._build_call_outputs(self._inference_function.call(\n\u001b[0;32m-> 1692\u001b[0;31m           ctx, args, cancellation_manager=cancellation_manager))\n\u001b[0m\u001b[1;32m   1693\u001b[0m     forward_backward = self._select_forward_and_backward_functions(\n\u001b[1;32m   1694\u001b[0m         \u001b[0margs\u001b[0m\u001b[0;34m,\u001b[0m\u001b[0;34m\u001b[0m\u001b[0;34m\u001b[0m\u001b[0m\n",
      "\u001b[0;32m~/code_not_git/tf_estimators/venv/lib/python3.7/site-packages/tensorflow_core/python/eager/function.py\u001b[0m in \u001b[0;36mcall\u001b[0;34m(self, ctx, args, cancellation_manager)\u001b[0m\n\u001b[1;32m    543\u001b[0m               \u001b[0minputs\u001b[0m\u001b[0;34m=\u001b[0m\u001b[0margs\u001b[0m\u001b[0;34m,\u001b[0m\u001b[0;34m\u001b[0m\u001b[0;34m\u001b[0m\u001b[0m\n\u001b[1;32m    544\u001b[0m               \u001b[0mattrs\u001b[0m\u001b[0;34m=\u001b[0m\u001b[0;34m(\u001b[0m\u001b[0;34m\"executor_type\"\u001b[0m\u001b[0;34m,\u001b[0m \u001b[0mexecutor_type\u001b[0m\u001b[0;34m,\u001b[0m \u001b[0;34m\"config_proto\"\u001b[0m\u001b[0;34m,\u001b[0m \u001b[0mconfig\u001b[0m\u001b[0;34m)\u001b[0m\u001b[0;34m,\u001b[0m\u001b[0;34m\u001b[0m\u001b[0;34m\u001b[0m\u001b[0m\n\u001b[0;32m--> 545\u001b[0;31m               ctx=ctx)\n\u001b[0m\u001b[1;32m    546\u001b[0m         \u001b[0;32melse\u001b[0m\u001b[0;34m:\u001b[0m\u001b[0;34m\u001b[0m\u001b[0;34m\u001b[0m\u001b[0m\n\u001b[1;32m    547\u001b[0m           outputs = execute.execute_with_cancellation(\n",
      "\u001b[0;32m~/code_not_git/tf_estimators/venv/lib/python3.7/site-packages/tensorflow_core/python/eager/execute.py\u001b[0m in \u001b[0;36mquick_execute\u001b[0;34m(op_name, num_outputs, inputs, attrs, ctx, name)\u001b[0m\n\u001b[1;32m     65\u001b[0m     \u001b[0;32melse\u001b[0m\u001b[0;34m:\u001b[0m\u001b[0;34m\u001b[0m\u001b[0;34m\u001b[0m\u001b[0m\n\u001b[1;32m     66\u001b[0m       \u001b[0mmessage\u001b[0m \u001b[0;34m=\u001b[0m \u001b[0me\u001b[0m\u001b[0;34m.\u001b[0m\u001b[0mmessage\u001b[0m\u001b[0;34m\u001b[0m\u001b[0;34m\u001b[0m\u001b[0m\n\u001b[0;32m---> 67\u001b[0;31m     \u001b[0msix\u001b[0m\u001b[0;34m.\u001b[0m\u001b[0mraise_from\u001b[0m\u001b[0;34m(\u001b[0m\u001b[0mcore\u001b[0m\u001b[0;34m.\u001b[0m\u001b[0m_status_to_exception\u001b[0m\u001b[0;34m(\u001b[0m\u001b[0me\u001b[0m\u001b[0;34m.\u001b[0m\u001b[0mcode\u001b[0m\u001b[0;34m,\u001b[0m \u001b[0mmessage\u001b[0m\u001b[0;34m)\u001b[0m\u001b[0;34m,\u001b[0m \u001b[0;32mNone\u001b[0m\u001b[0;34m)\u001b[0m\u001b[0;34m\u001b[0m\u001b[0;34m\u001b[0m\u001b[0m\n\u001b[0m\u001b[1;32m     68\u001b[0m   \u001b[0;32mexcept\u001b[0m \u001b[0mTypeError\u001b[0m \u001b[0;32mas\u001b[0m \u001b[0me\u001b[0m\u001b[0;34m:\u001b[0m\u001b[0;34m\u001b[0m\u001b[0;34m\u001b[0m\u001b[0m\n\u001b[1;32m     69\u001b[0m     keras_symbolic_tensors = [\n",
      "\u001b[0;32m~/code_not_git/tf_estimators/venv/lib/python3.7/site-packages/six.py\u001b[0m in \u001b[0;36mraise_from\u001b[0;34m(value, from_value)\u001b[0m\n",
      "\u001b[0;31mInvalidArgumentError\u001b[0m: cannot compute __inference_pruned_663899 as input #0(zero-based) was expected to be a string tensor but is a uint8 tensor [Op:__inference_pruned_663899]"
     ]
    }
   ],
   "source": [
    "# Does not work\n",
    "for batch in ds_image_only.take(1):\n",
    "    inference_func(batch)"
   ]
  },
  {
   "cell_type": "markdown",
   "metadata": {},
   "source": [
    "Started playing with tf.train.Example to figure out how to do above, but got caught with the dimensions of the image input.  I think we need a byte string representing the numpy (so something like numpy.tostring then to tf bytestring)?"
   ]
  },
  {
   "cell_type": "code",
   "execution_count": 98,
   "metadata": {},
   "outputs": [],
   "source": [
    "example = tf.train.Example()"
   ]
  },
  {
   "cell_type": "code",
   "execution_count": 143,
   "metadata": {},
   "outputs": [
    {
     "ename": "TypeError",
     "evalue": "[[[0], [0], [0], [0], [0], [0], [0], [0], [0], [0], [0], [0], [0], [0], [0], [0], [0], [0], [0], [0] has type list, but expected one of: int, long, float",
     "output_type": "error",
     "traceback": [
      "\u001b[0;31m---------------------------------------------------------------------------\u001b[0m",
      "\u001b[0;31mTypeError\u001b[0m                                 Traceback (most recent call last)",
      "\u001b[0;32m<ipython-input-143-157eb33e2edf>\u001b[0m in \u001b[0;36m<module>\u001b[0;34m\u001b[0m\n\u001b[0;32m----> 1\u001b[0;31m \u001b[0mexample\u001b[0m\u001b[0;34m.\u001b[0m\u001b[0mfeatures\u001b[0m\u001b[0;34m.\u001b[0m\u001b[0mfeature\u001b[0m\u001b[0;34m[\u001b[0m\u001b[0;34m'image'\u001b[0m\u001b[0;34m]\u001b[0m\u001b[0;34m.\u001b[0m\u001b[0mfloat_list\u001b[0m\u001b[0;34m.\u001b[0m\u001b[0mvalue\u001b[0m\u001b[0;34m.\u001b[0m\u001b[0mextend\u001b[0m\u001b[0;34m(\u001b[0m\u001b[0;34m[\u001b[0m\u001b[0mthis_image\u001b[0m\u001b[0;34m.\u001b[0m\u001b[0mtolist\u001b[0m\u001b[0;34m(\u001b[0m\u001b[0;34m)\u001b[0m\u001b[0;34m]\u001b[0m\u001b[0;34m)\u001b[0m\u001b[0;34m\u001b[0m\u001b[0;34m\u001b[0m\u001b[0m\n\u001b[0m\u001b[1;32m      2\u001b[0m imported.signatures[\"predict\"](\n\u001b[1;32m      3\u001b[0m     \u001b[0mexamples\u001b[0m\u001b[0;34m=\u001b[0m\u001b[0mtf\u001b[0m\u001b[0;34m.\u001b[0m\u001b[0mconstant\u001b[0m\u001b[0;34m(\u001b[0m\u001b[0;34m[\u001b[0m\u001b[0mexample\u001b[0m\u001b[0;34m.\u001b[0m\u001b[0mSerializeToString\u001b[0m\u001b[0;34m(\u001b[0m\u001b[0;34m)\u001b[0m\u001b[0;34m]\u001b[0m\u001b[0;34m)\u001b[0m\u001b[0;34m,\u001b[0m\u001b[0;34m\u001b[0m\u001b[0;34m\u001b[0m\u001b[0m\n\u001b[1;32m      4\u001b[0m )\n",
      "\u001b[0;31mTypeError\u001b[0m: [[[0], [0], [0], [0], [0], [0], [0], [0], [0], [0], [0], [0], [0], [0], [0], [0], [0], [0], [0], [0] has type list, but expected one of: int, long, float"
     ]
    }
   ],
   "source": [
    "example.features.feature['image'].float_list.value.extend([this_image.tolist()])\n",
    "imported.signatures[\"predict\"](\n",
    "    examples=tf.constant([example.SerializeToString()]),\n",
    ")"
   ]
  },
  {
   "cell_type": "code",
   "execution_count": 146,
   "metadata": {},
   "outputs": [
    {
     "ename": "TypeError",
     "evalue": "[[0], [0], [0], [0], [0], [0], [0], [0], [0], [0], [0], [0], [0], [0], [0], [0], [0], [0], [0], [0], has type list, but expected one of: int, long, float",
     "output_type": "error",
     "traceback": [
      "\u001b[0;31m---------------------------------------------------------------------------\u001b[0m",
      "\u001b[0;31mTypeError\u001b[0m                                 Traceback (most recent call last)",
      "\u001b[0;32m<ipython-input-146-c4daaff659b1>\u001b[0m in \u001b[0;36m<module>\u001b[0;34m\u001b[0m\n\u001b[0;32m----> 1\u001b[0;31m \u001b[0mexample\u001b[0m\u001b[0;34m.\u001b[0m\u001b[0mfeatures\u001b[0m\u001b[0;34m.\u001b[0m\u001b[0mfeature\u001b[0m\u001b[0;34m[\u001b[0m\u001b[0;34m'image'\u001b[0m\u001b[0;34m]\u001b[0m\u001b[0;34m.\u001b[0m\u001b[0mfloat_list\u001b[0m\u001b[0;34m.\u001b[0m\u001b[0mvalue\u001b[0m\u001b[0;34m.\u001b[0m\u001b[0mextend\u001b[0m\u001b[0;34m(\u001b[0m\u001b[0mthis_image\u001b[0m\u001b[0;34m.\u001b[0m\u001b[0mtolist\u001b[0m\u001b[0;34m(\u001b[0m\u001b[0;34m)\u001b[0m\u001b[0;34m)\u001b[0m\u001b[0;34m\u001b[0m\u001b[0;34m\u001b[0m\u001b[0m\n\u001b[0m",
      "\u001b[0;31mTypeError\u001b[0m: [[0], [0], [0], [0], [0], [0], [0], [0], [0], [0], [0], [0], [0], [0], [0], [0], [0], [0], [0], [0], has type list, but expected one of: int, long, float"
     ]
    }
   ],
   "source": [
    "example.features.feature['image'].float_list.value.extend(this_image.tolist())"
   ]
  },
  {
   "cell_type": "markdown",
   "metadata": {},
   "source": [
    "# TO READ"
   ]
  },
  {
   "cell_type": "code",
   "execution_count": null,
   "metadata": {},
   "outputs": [],
   "source": [
    "# https://medium.com/@yuu.ishikawa/serving-pre-modeled-and-custom-tensorflow-estimator-with-tensorflow-serving-12833b4be421\n",
    "# Mentions there's helper functions to make input_fn from other data.  In this case, train_data and y are numpy arrays\n",
    "# I think thought it is deprecated and is now here? https://www.tensorflow.org/api_docs/python/tf/compat/v1/estimator/inputs/numpy_input_fn\n",
    "# Train the model\n",
    "    train_input_fn = tf.estimator.inputs.numpy_input_fn(\n",
    "        x={INPUT_FEATURE: train_data},\n",
    "        y=train_labels,\n",
    "        batch_size=100,\n",
    "        num_epochs=None,\n",
    "        shuffle=True)\n",
    "    classifier.train(input_fn=train_input_fn, steps=FLAGS.steps)\n"
   ]
  },
  {
   "cell_type": "markdown",
   "metadata": {},
   "source": [
    "# Further notes:"
   ]
  }
 ],
 "metadata": {
  "kernelspec": {
   "display_name": "tf_estimators",
   "language": "python",
   "name": "tf_estimators"
  },
  "language_info": {
   "codemirror_mode": {
    "name": "ipython",
    "version": 3
   },
   "file_extension": ".py",
   "mimetype": "text/x-python",
   "name": "python",
   "nbconvert_exporter": "python",
   "pygments_lexer": "ipython3",
   "version": "3.7.4"
  }
 },
 "nbformat": 4,
 "nbformat_minor": 4
}
